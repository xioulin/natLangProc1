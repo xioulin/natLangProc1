{
 "cells": [
  {
   "cell_type": "code",
   "execution_count": 1,
   "metadata": {
    "collapsed": true,
    "ExecuteTime": {
     "start_time": "2024-01-23T18:32:06.319606Z",
     "end_time": "2024-01-23T18:32:06.327357Z"
    }
   },
   "outputs": [],
   "source": [
    "import re"
   ]
  },
  {
   "cell_type": "code",
   "execution_count": 2,
   "outputs": [],
   "source": [
    "line1= \"Once upon a midnight query, while I pondered weak and weary\"\n"
   ],
   "metadata": {
    "collapsed": false,
    "ExecuteTime": {
     "start_time": "2024-01-23T18:33:13.296925Z",
     "end_time": "2024-01-23T18:33:13.306632Z"
    }
   }
  },
  {
   "cell_type": "code",
   "execution_count": 94,
   "outputs": [],
   "source": [
    "the_raven=\" Once upon a midnight dreary, while I pondered, weak and weary,Over many a quaint and curious volume of forgotten lore—While I nodded, nearly napping, suddenly there came a tapping, As of some one gently rapping, rapping at my chamber door.“Tis some visitor” I muttered, “tapping at my chamber door Only this and nothing more” \""
   ],
   "metadata": {
    "collapsed": false,
    "ExecuteTime": {
     "start_time": "2024-01-23T19:04:02.759636Z",
     "end_time": "2024-01-23T19:04:02.763775Z"
    }
   }
  },
  {
   "cell_type": "markdown",
   "source": [
    "regular expression to find all text between double quote lines"
   ],
   "metadata": {
    "collapsed": false
   }
  },
  {
   "cell_type": "code",
   "execution_count": 30,
   "outputs": [],
   "source": [
    "matchOpening= re.search(r'([A-Z]|[a-z]|\\s)*,',line1)"
   ],
   "metadata": {
    "collapsed": false,
    "ExecuteTime": {
     "start_time": "2024-01-23T18:43:00.408223Z",
     "end_time": "2024-01-23T18:43:00.420045Z"
    }
   }
  },
  {
   "cell_type": "code",
   "execution_count": 107,
   "outputs": [],
   "source": [
    "matchQuote= re.search(r'“([A-Z]|[a-z]|\\s)*”',the_raven)"
   ],
   "metadata": {
    "collapsed": false,
    "ExecuteTime": {
     "start_time": "2024-01-23T19:08:59.855051Z",
     "end_time": "2024-01-23T19:08:59.877505Z"
    }
   }
  },
  {
   "cell_type": "code",
   "execution_count": 52,
   "outputs": [],
   "source": [
    "matchQuoteMark= re.findall(r'“',the_raven)"
   ],
   "metadata": {
    "collapsed": false,
    "ExecuteTime": {
     "start_time": "2024-01-23T18:53:23.268836Z",
     "end_time": "2024-01-23T18:53:23.276172Z"
    }
   }
  },
  {
   "cell_type": "code",
   "execution_count": 108,
   "outputs": [
    {
     "data": {
      "text/plain": "<re.Match object; span=(240, 326), match='“Tis some visitor” I muttered, “tapping at my cha>"
     },
     "execution_count": 108,
     "metadata": {},
     "output_type": "execute_result"
    }
   ],
   "source": [
    "matchQuote"
   ],
   "metadata": {
    "collapsed": false,
    "ExecuteTime": {
     "start_time": "2024-01-23T19:09:01.202296Z",
     "end_time": "2024-01-23T19:09:01.223052Z"
    }
   }
  },
  {
   "cell_type": "code",
   "execution_count": 104,
   "outputs": [],
   "source": [
    "matchQuote1= re.search('“.*”',the_raven)"
   ],
   "metadata": {
    "collapsed": false,
    "ExecuteTime": {
     "start_time": "2024-01-23T19:08:00.689384Z",
     "end_time": "2024-01-23T19:08:00.703958Z"
    }
   }
  },
  {
   "cell_type": "code",
   "execution_count": 105,
   "outputs": [
    {
     "data": {
      "text/plain": "'“Tis some visitor” I muttered, “tapping at my chamber door Only this and nothing more”'"
     },
     "execution_count": 105,
     "metadata": {},
     "output_type": "execute_result"
    }
   ],
   "source": [
    "matchQuote1.group()"
   ],
   "metadata": {
    "collapsed": false,
    "ExecuteTime": {
     "start_time": "2024-01-23T19:08:01.542229Z",
     "end_time": "2024-01-23T19:08:01.565586Z"
    }
   }
  }
 ],
 "metadata": {
  "kernelspec": {
   "display_name": "Python 3",
   "language": "python",
   "name": "python3"
  },
  "language_info": {
   "codemirror_mode": {
    "name": "ipython",
    "version": 2
   },
   "file_extension": ".py",
   "mimetype": "text/x-python",
   "name": "python",
   "nbconvert_exporter": "python",
   "pygments_lexer": "ipython2",
   "version": "2.7.6"
  }
 },
 "nbformat": 4,
 "nbformat_minor": 0
}
