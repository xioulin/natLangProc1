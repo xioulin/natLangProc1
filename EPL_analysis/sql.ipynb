{
 "cells": [
  {
   "cell_type": "code",
   "id": "initial_id",
   "metadata": {
    "collapsed": true,
    "ExecuteTime": {
     "end_time": "2024-12-24T07:09:29.280239Z",
     "start_time": "2024-12-24T07:09:27.374629Z"
    }
   },
   "source": [
    "import sqlite3\n",
    "database='database.sqlite'\n",
    "import pandas as pd"
   ],
   "outputs": [],
   "execution_count": 3
  },
  {
   "metadata": {
    "ExecuteTime": {
     "end_time": "2024-12-24T07:09:04.845049Z",
     "start_time": "2024-12-24T07:09:04.842034Z"
    }
   },
   "cell_type": "code",
   "source": "conn = sqlite3.connect(database)",
   "id": "5538c69fb2635184",
   "outputs": [],
   "execution_count": 2
  },
  {
   "metadata": {
    "ExecuteTime": {
     "end_time": "2024-12-24T07:10:57.712050Z",
     "start_time": "2024-12-24T07:10:57.669865Z"
    }
   },
   "cell_type": "code",
   "source": [
    "tables = pd.read_sql(\"\"\"SELECT *\n",
    "                        FROM sqlite_master\n",
    "                        WHERE type='table';\"\"\", conn)"
   ],
   "id": "69136f5325bf8f76",
   "outputs": [],
   "execution_count": 6
  },
  {
   "metadata": {
    "ExecuteTime": {
     "end_time": "2024-12-24T07:11:04.086228Z",
     "start_time": "2024-12-24T07:11:04.072088Z"
    }
   },
   "cell_type": "code",
   "source": "tables",
   "id": "4ec266770f43daf4",
   "outputs": [
    {
     "data": {
      "text/plain": [
       "    type               name           tbl_name  rootpage  \\\n",
       "0  table    sqlite_sequence    sqlite_sequence         4   \n",
       "1  table  Player_Attributes  Player_Attributes        11   \n",
       "2  table             Player             Player        14   \n",
       "3  table              Match              Match        18   \n",
       "4  table             League             League        24   \n",
       "5  table            Country            Country        26   \n",
       "6  table               Team               Team        29   \n",
       "7  table    Team_Attributes    Team_Attributes         2   \n",
       "\n",
       "                                                 sql  \n",
       "0             CREATE TABLE sqlite_sequence(name,seq)  \n",
       "1  CREATE TABLE \"Player_Attributes\" (\\n\\t`id`\\tIN...  \n",
       "2  CREATE TABLE `Player` (\\n\\t`id`\\tINTEGER PRIMA...  \n",
       "3  CREATE TABLE `Match` (\\n\\t`id`\\tINTEGER PRIMAR...  \n",
       "4  CREATE TABLE `League` (\\n\\t`id`\\tINTEGER PRIMA...  \n",
       "5  CREATE TABLE `Country` (\\n\\t`id`\\tINTEGER PRIM...  \n",
       "6  CREATE TABLE \"Team\" (\\n\\t`id`\\tINTEGER PRIMARY...  \n",
       "7  CREATE TABLE `Team_Attributes` (\\n\\t`id`\\tINTE...  "
      ],
      "text/html": [
       "<div>\n",
       "<style scoped>\n",
       "    .dataframe tbody tr th:only-of-type {\n",
       "        vertical-align: middle;\n",
       "    }\n",
       "\n",
       "    .dataframe tbody tr th {\n",
       "        vertical-align: top;\n",
       "    }\n",
       "\n",
       "    .dataframe thead th {\n",
       "        text-align: right;\n",
       "    }\n",
       "</style>\n",
       "<table border=\"1\" class=\"dataframe\">\n",
       "  <thead>\n",
       "    <tr style=\"text-align: right;\">\n",
       "      <th></th>\n",
       "      <th>type</th>\n",
       "      <th>name</th>\n",
       "      <th>tbl_name</th>\n",
       "      <th>rootpage</th>\n",
       "      <th>sql</th>\n",
       "    </tr>\n",
       "  </thead>\n",
       "  <tbody>\n",
       "    <tr>\n",
       "      <th>0</th>\n",
       "      <td>table</td>\n",
       "      <td>sqlite_sequence</td>\n",
       "      <td>sqlite_sequence</td>\n",
       "      <td>4</td>\n",
       "      <td>CREATE TABLE sqlite_sequence(name,seq)</td>\n",
       "    </tr>\n",
       "    <tr>\n",
       "      <th>1</th>\n",
       "      <td>table</td>\n",
       "      <td>Player_Attributes</td>\n",
       "      <td>Player_Attributes</td>\n",
       "      <td>11</td>\n",
       "      <td>CREATE TABLE \"Player_Attributes\" (\\n\\t`id`\\tIN...</td>\n",
       "    </tr>\n",
       "    <tr>\n",
       "      <th>2</th>\n",
       "      <td>table</td>\n",
       "      <td>Player</td>\n",
       "      <td>Player</td>\n",
       "      <td>14</td>\n",
       "      <td>CREATE TABLE `Player` (\\n\\t`id`\\tINTEGER PRIMA...</td>\n",
       "    </tr>\n",
       "    <tr>\n",
       "      <th>3</th>\n",
       "      <td>table</td>\n",
       "      <td>Match</td>\n",
       "      <td>Match</td>\n",
       "      <td>18</td>\n",
       "      <td>CREATE TABLE `Match` (\\n\\t`id`\\tINTEGER PRIMAR...</td>\n",
       "    </tr>\n",
       "    <tr>\n",
       "      <th>4</th>\n",
       "      <td>table</td>\n",
       "      <td>League</td>\n",
       "      <td>League</td>\n",
       "      <td>24</td>\n",
       "      <td>CREATE TABLE `League` (\\n\\t`id`\\tINTEGER PRIMA...</td>\n",
       "    </tr>\n",
       "    <tr>\n",
       "      <th>5</th>\n",
       "      <td>table</td>\n",
       "      <td>Country</td>\n",
       "      <td>Country</td>\n",
       "      <td>26</td>\n",
       "      <td>CREATE TABLE `Country` (\\n\\t`id`\\tINTEGER PRIM...</td>\n",
       "    </tr>\n",
       "    <tr>\n",
       "      <th>6</th>\n",
       "      <td>table</td>\n",
       "      <td>Team</td>\n",
       "      <td>Team</td>\n",
       "      <td>29</td>\n",
       "      <td>CREATE TABLE \"Team\" (\\n\\t`id`\\tINTEGER PRIMARY...</td>\n",
       "    </tr>\n",
       "    <tr>\n",
       "      <th>7</th>\n",
       "      <td>table</td>\n",
       "      <td>Team_Attributes</td>\n",
       "      <td>Team_Attributes</td>\n",
       "      <td>2</td>\n",
       "      <td>CREATE TABLE `Team_Attributes` (\\n\\t`id`\\tINTE...</td>\n",
       "    </tr>\n",
       "  </tbody>\n",
       "</table>\n",
       "</div>"
      ]
     },
     "execution_count": 7,
     "metadata": {},
     "output_type": "execute_result"
    }
   ],
   "execution_count": 7
  },
  {
   "metadata": {
    "ExecuteTime": {
     "end_time": "2024-12-24T07:12:15.310070Z",
     "start_time": "2024-12-24T07:12:15.305972Z"
    }
   },
   "cell_type": "code",
   "source": "countries= pd.read_sql(\"\"\"SELECT * FROM COUNTRY\"\"\",conn)",
   "id": "e9d9e0e405c5bd14",
   "outputs": [],
   "execution_count": 9
  },
  {
   "metadata": {
    "ExecuteTime": {
     "end_time": "2024-12-24T07:12:24.622844Z",
     "start_time": "2024-12-24T07:12:24.616810Z"
    }
   },
   "cell_type": "code",
   "source": "countries",
   "id": "53488b10cbad26ea",
   "outputs": [
    {
     "data": {
      "text/plain": [
       "       id         name\n",
       "0       1      Belgium\n",
       "1    1729      England\n",
       "2    4769       France\n",
       "3    7809      Germany\n",
       "4   10257        Italy\n",
       "5   13274  Netherlands\n",
       "6   15722       Poland\n",
       "7   17642     Portugal\n",
       "8   19694     Scotland\n",
       "9   21518        Spain\n",
       "10  24558  Switzerland"
      ],
      "text/html": [
       "<div>\n",
       "<style scoped>\n",
       "    .dataframe tbody tr th:only-of-type {\n",
       "        vertical-align: middle;\n",
       "    }\n",
       "\n",
       "    .dataframe tbody tr th {\n",
       "        vertical-align: top;\n",
       "    }\n",
       "\n",
       "    .dataframe thead th {\n",
       "        text-align: right;\n",
       "    }\n",
       "</style>\n",
       "<table border=\"1\" class=\"dataframe\">\n",
       "  <thead>\n",
       "    <tr style=\"text-align: right;\">\n",
       "      <th></th>\n",
       "      <th>id</th>\n",
       "      <th>name</th>\n",
       "    </tr>\n",
       "  </thead>\n",
       "  <tbody>\n",
       "    <tr>\n",
       "      <th>0</th>\n",
       "      <td>1</td>\n",
       "      <td>Belgium</td>\n",
       "    </tr>\n",
       "    <tr>\n",
       "      <th>1</th>\n",
       "      <td>1729</td>\n",
       "      <td>England</td>\n",
       "    </tr>\n",
       "    <tr>\n",
       "      <th>2</th>\n",
       "      <td>4769</td>\n",
       "      <td>France</td>\n",
       "    </tr>\n",
       "    <tr>\n",
       "      <th>3</th>\n",
       "      <td>7809</td>\n",
       "      <td>Germany</td>\n",
       "    </tr>\n",
       "    <tr>\n",
       "      <th>4</th>\n",
       "      <td>10257</td>\n",
       "      <td>Italy</td>\n",
       "    </tr>\n",
       "    <tr>\n",
       "      <th>5</th>\n",
       "      <td>13274</td>\n",
       "      <td>Netherlands</td>\n",
       "    </tr>\n",
       "    <tr>\n",
       "      <th>6</th>\n",
       "      <td>15722</td>\n",
       "      <td>Poland</td>\n",
       "    </tr>\n",
       "    <tr>\n",
       "      <th>7</th>\n",
       "      <td>17642</td>\n",
       "      <td>Portugal</td>\n",
       "    </tr>\n",
       "    <tr>\n",
       "      <th>8</th>\n",
       "      <td>19694</td>\n",
       "      <td>Scotland</td>\n",
       "    </tr>\n",
       "    <tr>\n",
       "      <th>9</th>\n",
       "      <td>21518</td>\n",
       "      <td>Spain</td>\n",
       "    </tr>\n",
       "    <tr>\n",
       "      <th>10</th>\n",
       "      <td>24558</td>\n",
       "      <td>Switzerland</td>\n",
       "    </tr>\n",
       "  </tbody>\n",
       "</table>\n",
       "</div>"
      ]
     },
     "execution_count": 10,
     "metadata": {},
     "output_type": "execute_result"
    }
   ],
   "execution_count": 10
  }
 ],
 "metadata": {
  "kernelspec": {
   "display_name": "Python 3",
   "language": "python",
   "name": "python3"
  },
  "language_info": {
   "codemirror_mode": {
    "name": "ipython",
    "version": 2
   },
   "file_extension": ".py",
   "mimetype": "text/x-python",
   "name": "python",
   "nbconvert_exporter": "python",
   "pygments_lexer": "ipython2",
   "version": "2.7.6"
  }
 },
 "nbformat": 4,
 "nbformat_minor": 5
}
