{
 "cells": [
  {
   "cell_type": "code",
   "id": "initial_id",
   "metadata": {
    "collapsed": true,
    "ExecuteTime": {
     "end_time": "2024-12-23T23:05:17.610774Z",
     "start_time": "2024-12-23T23:05:17.606847Z"
    }
   },
   "source": [
    "import pandas as pd\n",
    "import os"
   ],
   "outputs": [],
   "execution_count": 3
  },
  {
   "metadata": {
    "ExecuteTime": {
     "end_time": "2024-12-23T23:05:42.213431Z",
     "start_time": "2024-12-23T23:05:42.209473Z"
    }
   },
   "cell_type": "code",
   "source": "dir_list=os.listdir('epl_seasons')",
   "id": "e681ba47db356f1",
   "outputs": [],
   "execution_count": 4
  },
  {
   "metadata": {
    "ExecuteTime": {
     "end_time": "2024-12-23T23:22:37.664968Z",
     "start_time": "2024-12-23T23:22:36.884830Z"
    }
   },
   "cell_type": "code",
   "source": [
    "for i in dir_list[7:]:\n",
    "    df=pd.read_csv('epl_seasons/'+i)\n",
    "    idx= df.columns.get_loc('AR')\n",
    "    df=df.iloc[:, :idx+1]\n",
    "    df.to_csv('epl_seasons/'+i,index=False)"
   ],
   "id": "c5bcfba4fdfe2e1b",
   "outputs": [],
   "execution_count": 32
  },
  {
   "metadata": {
    "ExecuteTime": {
     "end_time": "2024-12-23T23:07:17.717766Z",
     "start_time": "2024-12-23T23:07:17.714185Z"
    }
   },
   "cell_type": "code",
   "source": [
    "millenium=dir_list[7]\n",
    "df=pd.read_csv('epl_seasons/'+millenium)\n",
    "index=df.columns.get_loc('ABP')\n",
    "df=df.iloc[:, :index+1]"
   ],
   "id": "da224afd40578cc1",
   "outputs": [],
   "execution_count": 8
  },
  {
   "metadata": {
    "ExecuteTime": {
     "end_time": "2024-12-23T23:15:04.506663Z",
     "start_time": "2024-12-23T23:15:04.489867Z"
    }
   },
   "cell_type": "code",
   "source": "df.to_csv('epl_seasons/'+millenium,index=False)",
   "id": "b42293ef924a4156",
   "outputs": [],
   "execution_count": 27
  },
  {
   "metadata": {
    "ExecuteTime": {
     "end_time": "2024-12-23T23:32:24.411760Z",
     "start_time": "2024-12-23T23:32:24.405733Z"
    }
   },
   "cell_type": "code",
   "source": "s21_22=dir_list[-4]",
   "id": "8d178ad0acdacb9c",
   "outputs": [],
   "execution_count": 35
  },
  {
   "metadata": {
    "ExecuteTime": {
     "end_time": "2024-12-23T23:32:34.049596Z",
     "start_time": "2024-12-23T23:32:34.034445Z"
    }
   },
   "cell_type": "code",
   "source": "df=pd.read_csv('epl_seasons/'+s21_22)",
   "id": "6f78710bb7f2900a",
   "outputs": [],
   "execution_count": 36
  },
  {
   "metadata": {
    "ExecuteTime": {
     "end_time": "2024-12-23T23:33:22.229339Z",
     "start_time": "2024-12-23T23:33:22.211961Z"
    }
   },
   "cell_type": "code",
   "source": "df.HR.isnull().sum()",
   "id": "4ce19dae61511e9",
   "outputs": [
    {
     "data": {
      "text/plain": [
       "np.int64(0)"
      ]
     },
     "execution_count": 39,
     "metadata": {},
     "output_type": "execute_result"
    }
   ],
   "execution_count": 39
  }
 ],
 "metadata": {
  "kernelspec": {
   "display_name": "Python 3",
   "language": "python",
   "name": "python3"
  },
  "language_info": {
   "codemirror_mode": {
    "name": "ipython",
    "version": 2
   },
   "file_extension": ".py",
   "mimetype": "text/x-python",
   "name": "python",
   "nbconvert_exporter": "python",
   "pygments_lexer": "ipython2",
   "version": "2.7.6"
  }
 },
 "nbformat": 4,
 "nbformat_minor": 5
}
