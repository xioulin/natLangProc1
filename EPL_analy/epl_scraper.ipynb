{
 "cells": [
  {
   "cell_type": "code",
   "id": "initial_id",
   "metadata": {
    "collapsed": true,
    "ExecuteTime": {
     "end_time": "2024-12-23T02:57:27.434509Z",
     "start_time": "2024-12-23T02:57:24.117925Z"
    }
   },
   "source": [
    "import os\n",
    "import csv\n",
    "from tokenize import String\n",
    "\n",
    "import requests\n",
    "from bs4 import BeautifulSoup\n",
    "import re\n",
    "import pandas as pd\n",
    "from io import StringIO"
   ],
   "outputs": [],
   "execution_count": 1
  },
  {
   "metadata": {
    "ExecuteTime": {
     "end_time": "2024-12-23T02:57:32.064635Z",
     "start_time": "2024-12-23T02:57:31.125892Z"
    }
   },
   "cell_type": "code",
   "source": [
    "url='https://football-data.co.uk/englandm.php'\n",
    "req=requests.get(url)\n",
    "website=req.text\n",
    "soup=BeautifulSoup(website,'html.parser')"
   ],
   "id": "e9fac74712509f54",
   "outputs": [],
   "execution_count": 2
  },
  {
   "metadata": {
    "ExecuteTime": {
     "end_time": "2024-12-23T02:57:33.440026Z",
     "start_time": "2024-12-23T02:57:33.419989Z"
    }
   },
   "cell_type": "code",
   "source": "csvs= re.findall(r\"href=\\\".*?.csv\",str(soup))",
   "id": "fa07ac630c9c5680",
   "outputs": [],
   "execution_count": 3
  },
  {
   "metadata": {
    "ExecuteTime": {
     "end_time": "2024-12-23T02:57:36.111226Z",
     "start_time": "2024-12-23T02:57:36.102397Z"
    }
   },
   "cell_type": "code",
   "source": "re.search(r'\\\".*?csv',csvs[0]).group()[1:]",
   "id": "be73134aff114437",
   "outputs": [
    {
     "data": {
      "text/plain": [
       "'mmz4281/2425/E0.csv'"
      ]
     },
     "execution_count": 4,
     "metadata": {},
     "output_type": "execute_result"
    }
   ],
   "execution_count": 4
  },
  {
   "metadata": {
    "ExecuteTime": {
     "end_time": "2024-12-23T02:57:41.302695Z",
     "start_time": "2024-12-23T02:57:41.298678Z"
    }
   },
   "cell_type": "code",
   "source": [
    "csv_list=[]\n",
    "for i in csvs:\n",
    "    csv=re.search(r'm.*?0.csv',i)\n",
    "    try:\n",
    "        csv_list.append(csv.group())\n",
    "    except AttributeError:\n",
    "        pass"
   ],
   "id": "feb83e943864d233",
   "outputs": [],
   "execution_count": 5
  },
  {
   "metadata": {
    "ExecuteTime": {
     "end_time": "2024-12-23T02:57:43.231445Z",
     "start_time": "2024-12-23T02:57:43.228731Z"
    }
   },
   "cell_type": "code",
   "source": "csv_url='https://football-data.co.uk/'",
   "id": "cf646372adfe6ce9",
   "outputs": [],
   "execution_count": 6
  },
  {
   "metadata": {
    "ExecuteTime": {
     "end_time": "2024-12-19T22:48:47.247274Z",
     "start_time": "2024-12-19T22:48:45.936377Z"
    }
   },
   "cell_type": "code",
   "source": [
    "url='https://www1.ncdc.noaa.gov/pub/data/cdo/samples/PRECIP_HLY_sample_csv.csv'\n",
    "req=requests.get(url)\n",
    "url_content=req.content\n",
    "csv_file=open('epl_seasons/download.csv','wb')\n",
    "csv_file.write(url_content)\n",
    "csv_file.close()"
   ],
   "id": "b85522fb8b76fa65",
   "outputs": [],
   "execution_count": 214
  },
  {
   "metadata": {
    "ExecuteTime": {
     "end_time": "2024-12-23T02:57:49.036827Z",
     "start_time": "2024-12-23T02:57:49.032826Z"
    }
   },
   "cell_type": "code",
   "source": "epl_url='https://football-data.co.uk/'",
   "id": "14eff3d1cbb10213",
   "outputs": [],
   "execution_count": 7
  },
  {
   "metadata": {
    "ExecuteTime": {
     "end_time": "2024-12-23T02:59:40.707656Z",
     "start_time": "2024-12-23T02:59:40.704205Z"
    }
   },
   "cell_type": "code",
   "source": "s23_24=csv_list[1]",
   "id": "a72bfb2ddfebeec8",
   "outputs": [],
   "execution_count": 11
  },
  {
   "metadata": {
    "ExecuteTime": {
     "end_time": "2024-12-23T03:02:01.154792Z",
     "start_time": "2024-12-23T03:02:01.151254Z"
    }
   },
   "cell_type": "code",
   "source": [
    "seas=re.search(r'/.*?/',s23_24).group()[1:-1]\n",
    "seas=seas[:2]+'-'+seas[2:]"
   ],
   "id": "b982b18fe30a7382",
   "outputs": [],
   "execution_count": 20
  },
  {
   "metadata": {
    "ExecuteTime": {
     "end_time": "2024-12-23T03:03:28.423446Z",
     "start_time": "2024-12-23T03:03:28.418938Z"
    }
   },
   "cell_type": "code",
   "source": [
    "for i in range(len(csv_list)):\n",
    "    seas=re.search(r'/.*?/',csv_list[i]).group()[1:-1]\n",
    "    seas=seas[:2]+'-'+seas[2:]\n",
    "    if int(seas[0]) != 9:\n",
    "        seas='20'+seas\n",
    "    else:\n",
    "        seas='19'+seas\n",
    "    print(seas)"
   ],
   "id": "dc542a3c43bbf5ca",
   "outputs": [
    {
     "name": "stdout",
     "output_type": "stream",
     "text": [
      "2024-25\n",
      "2023-24\n",
      "2022-23\n",
      "2021-22\n",
      "2020-21\n",
      "2019-20\n",
      "2018-19\n",
      "2017-18\n",
      "2016-17\n",
      "2015-16\n",
      "2014-15\n",
      "2013-14\n",
      "2012-13\n",
      "2011-12\n",
      "2010-11\n",
      "2009-10\n",
      "2008-09\n",
      "2007-08\n",
      "2006-07\n",
      "2005-06\n",
      "2004-05\n",
      "2003-04\n",
      "2002-03\n",
      "2001-02\n",
      "2000-01\n",
      "1999-00\n",
      "1998-99\n",
      "1997-98\n",
      "1996-97\n",
      "1995-96\n",
      "1994-95\n",
      "1993-94\n"
     ]
    }
   ],
   "execution_count": 22
  },
  {
   "metadata": {
    "ExecuteTime": {
     "end_time": "2024-12-23T03:13:09.006659Z",
     "start_time": "2024-12-23T03:13:09.002816Z"
    }
   },
   "cell_type": "code",
   "source": "os.mkdir('epl_seasons')",
   "id": "b472a117ce0f6a42",
   "outputs": [],
   "execution_count": 36
  },
  {
   "metadata": {
    "ExecuteTime": {
     "end_time": "2024-12-23T03:13:42.214372Z",
     "start_time": "2024-12-23T03:13:14.672581Z"
    }
   },
   "cell_type": "code",
   "source": [
    "for i in csv_list:\n",
    "    url= epl_url+i\n",
    "    req=requests.get(url)\n",
    "    url_content=req.content\n",
    "    seas=re.search(r'/.*?/',i).group()[1:-1]\n",
    "    seas=seas[:2]+'-'+seas[2:]\n",
    "    if int(seas[0]) != 9:\n",
    "        seas='20'+seas\n",
    "    elif int(seas[1]) == 9:\n",
    "        seas='19'+seas\n",
    "    file_csv= open('epl_seasons/s_'+seas+'.csv','wb')\n",
    "    file_csv.write(url_content)\n",
    "    file_csv.close()\n",
    "    # try:\n",
    "    #     data_str=bytes_thing.decode('utf-8')\n",
    "    #     df=pd.read_csv(StringIO(data_str), encoding='utf-8')\n",
    "    # except:\n",
    "    #     data_str=bytes_thing.decode('latin-1')\n",
    "    #     df=pd.read_csv(StringIO(data_str))\n",
    "    # seas=re.search(r'/.*?/',i).group()[1:-1]\n",
    "    # seas=seas[:2]+'-'+seas[2:]\n",
    "    # df.to_csv('epl_seasons1/'+seas+'.csv',index=False)\n",
    "    "
   ],
   "id": "ff12d15f38d8aaa5",
   "outputs": [],
   "execution_count": 37
  }
 ],
 "metadata": {
  "kernelspec": {
   "display_name": "Python 3",
   "language": "python",
   "name": "python3"
  },
  "language_info": {
   "codemirror_mode": {
    "name": "ipython",
    "version": 2
   },
   "file_extension": ".py",
   "mimetype": "text/x-python",
   "name": "python",
   "nbconvert_exporter": "python",
   "pygments_lexer": "ipython2",
   "version": "2.7.6"
  }
 },
 "nbformat": 4,
 "nbformat_minor": 5
}
