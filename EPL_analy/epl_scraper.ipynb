{
 "cells": [
  {
   "cell_type": "code",
   "id": "initial_id",
   "metadata": {
    "collapsed": true,
    "ExecuteTime": {
     "end_time": "2024-12-19T22:50:42.171095Z",
     "start_time": "2024-12-19T22:50:40.621202Z"
    }
   },
   "source": [
    "import os\n",
    "import csv\n",
    "from tokenize import String\n",
    "\n",
    "import requests\n",
    "from bs4 import BeautifulSoup\n",
    "import re\n",
    "import pandas as pd\n",
    "from io import StringIO"
   ],
   "outputs": [],
   "execution_count": 1
  },
  {
   "metadata": {
    "ExecuteTime": {
     "end_time": "2024-12-19T22:50:50.291313Z",
     "start_time": "2024-12-19T22:50:50.287987Z"
    }
   },
   "cell_type": "code",
   "source": [
    "url='https://football-data.co.uk/englandm.php'\n",
    "req=requests.get(url)\n",
    "website=req.text\n",
    "soup=BeautifulSoup(website,'html.parser')"
   ],
   "id": "e9fac74712509f54",
   "outputs": [],
   "execution_count": 2
  },
  {
   "metadata": {
    "ExecuteTime": {
     "end_time": "2024-12-19T22:51:27.027745Z",
     "start_time": "2024-12-19T22:51:27.005846Z"
    }
   },
   "cell_type": "code",
   "source": "csvs= re.findall(r\"href=\\\".*?.csv\",str(soup))",
   "id": "fa07ac630c9c5680",
   "outputs": [
    {
     "data": {
      "text/plain": [
       "['href=\"mmz4281/2425/E0.csv',\n",
       " 'href=\"mmz4281/2425/E1.csv',\n",
       " 'href=\"mmz4281/2425/E2.csv']"
      ]
     },
     "execution_count": 7,
     "metadata": {},
     "output_type": "execute_result"
    }
   ],
   "execution_count": 7
  },
  {
   "metadata": {
    "ExecuteTime": {
     "end_time": "2024-12-19T22:51:34.973601Z",
     "start_time": "2024-12-19T22:51:34.968681Z"
    }
   },
   "cell_type": "code",
   "source": "re.search(r'\\\".*?csv',csvs[0]).group()[1:]",
   "id": "be73134aff114437",
   "outputs": [
    {
     "data": {
      "text/plain": [
       "'mmz4281/2425/E0.csv'"
      ]
     },
     "execution_count": 8,
     "metadata": {},
     "output_type": "execute_result"
    }
   ],
   "execution_count": 8
  },
  {
   "metadata": {
    "ExecuteTime": {
     "end_time": "2024-12-19T23:00:11.569643Z",
     "start_time": "2024-12-19T23:00:11.566246Z"
    }
   },
   "cell_type": "code",
   "source": [
    "csv_list=[]\n",
    "for i in csvs:\n",
    "    csv=re.search(r'm.*?0.csv',i)\n",
    "    try:\n",
    "        csv_list.append(csv.group())\n",
    "    except AttributeError:\n",
    "        pass"
   ],
   "id": "feb83e943864d233",
   "outputs": [],
   "execution_count": 32
  },
  {
   "metadata": {
    "ExecuteTime": {
     "end_time": "2024-12-19T23:00:36.067445Z",
     "start_time": "2024-12-19T23:00:36.065112Z"
    }
   },
   "cell_type": "code",
   "source": "csv_url='https://football-data.co.uk/'",
   "id": "cf646372adfe6ce9",
   "outputs": [],
   "execution_count": 34
  },
  {
   "metadata": {
    "ExecuteTime": {
     "end_time": "2024-12-19T22:48:47.247274Z",
     "start_time": "2024-12-19T22:48:45.936377Z"
    }
   },
   "cell_type": "code",
   "source": [
    "url='https://www1.ncdc.noaa.gov/pub/data/cdo/samples/PRECIP_HLY_sample_csv.csv'\n",
    "req=requests.get(url)\n",
    "url_content=req.content\n",
    "csv_file=open('epl_seasons/download.csv','wb')\n",
    "csv_file.write(url_content)\n",
    "csv_file.close()"
   ],
   "id": "b85522fb8b76fa65",
   "outputs": [],
   "execution_count": 214
  },
  {
   "metadata": {
    "ExecuteTime": {
     "end_time": "2024-12-19T23:02:01.380298Z",
     "start_time": "2024-12-19T23:02:01.376703Z"
    }
   },
   "cell_type": "code",
   "source": "epl_url='https://football-data.co.uk/'",
   "id": "14eff3d1cbb10213",
   "outputs": [],
   "execution_count": 35
  },
  {
   "metadata": {
    "ExecuteTime": {
     "end_time": "2024-12-20T00:15:54.426536Z",
     "start_time": "2024-12-20T00:15:27.616520Z"
    }
   },
   "cell_type": "code",
   "source": [
    "if not os.path.exists('EPL_analy/epl_seasons1'):\n",
    "    os.mkdir('EPL_analy/epl_seasons1')\n",
    "for i in csv_list:\n",
    "    url= epl_url+i\n",
    "    req=requests.get(url)\n",
    "    url_content=req.content\n",
    "    seas=re.search(r'/.*?/',i).group()[1:-1]\n",
    "    seas=seas[:2]+'-'+seas[2:]\n",
    "    file_csv= open('epl_seasons1/season_'+seas+'.csv','wb')\n",
    "    file_csv.write(url_content)\n",
    "    file_csv.close()\n",
    "    # try:\n",
    "    #     data_str=bytes_thing.decode('utf-8')\n",
    "    #     df=pd.read_csv(StringIO(data_str), encoding='utf-8')\n",
    "    # except:\n",
    "    #     data_str=bytes_thing.decode('latin-1')\n",
    "    #     df=pd.read_csv(StringIO(data_str))\n",
    "    # seas=re.search(r'/.*?/',i).group()[1:-1]\n",
    "    # seas=seas[:2]+'-'+seas[2:]\n",
    "    # df.to_csv('epl_seasons1/'+seas+'.csv',index=False)\n",
    "    "
   ],
   "id": "ff12d15f38d8aaa5",
   "outputs": [],
   "execution_count": 41
  }
 ],
 "metadata": {
  "kernelspec": {
   "display_name": "Python 3",
   "language": "python",
   "name": "python3"
  },
  "language_info": {
   "codemirror_mode": {
    "name": "ipython",
    "version": 2
   },
   "file_extension": ".py",
   "mimetype": "text/x-python",
   "name": "python",
   "nbconvert_exporter": "python",
   "pygments_lexer": "ipython2",
   "version": "2.7.6"
  }
 },
 "nbformat": 4,
 "nbformat_minor": 5
}
