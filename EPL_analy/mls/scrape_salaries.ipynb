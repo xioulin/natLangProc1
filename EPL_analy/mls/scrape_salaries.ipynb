{
 "cells": [
  {
   "cell_type": "code",
   "id": "initial_id",
   "metadata": {
    "collapsed": true,
    "ExecuteTime": {
     "end_time": "2025-01-03T03:18:09.108753Z",
     "start_time": "2025-01-03T03:18:09.105578Z"
    }
   },
   "source": [
    "import pdfplumber\n",
    "import pandas as pd\n",
    "import numpy as np\n",
    "from pandas.io.pytables import dropna_doc"
   ],
   "outputs": [],
   "execution_count": 154
  },
  {
   "metadata": {
    "ExecuteTime": {
     "end_time": "2025-01-03T03:13:02.634667Z",
     "start_time": "2025-01-03T03:12:58.252246Z"
    }
   },
   "cell_type": "code",
   "source": [
    "with pdfplumber.open('sal_24.pdf')as f:\n",
    "    tables=[]\n",
    "    for i in f.pages:\n",
    "        tables.extend(i.extract_tables())"
   ],
   "id": "241519d2208c5c4f",
   "outputs": [],
   "execution_count": 135
  },
  {
   "metadata": {
    "ExecuteTime": {
     "end_time": "2025-01-03T03:13:08.717294Z",
     "start_time": "2025-01-03T03:13:08.714128Z"
    }
   },
   "cell_type": "code",
   "source": "first= tables[0]",
   "id": "92ccd996a3eaed47",
   "outputs": [],
   "execution_count": 136
  },
  {
   "metadata": {
    "ExecuteTime": {
     "end_time": "2025-01-03T03:06:12.049186Z",
     "start_time": "2025-01-03T03:06:12.045763Z"
    }
   },
   "cell_type": "code",
   "source": "second= tables[1][1:]",
   "id": "a11a4c50b32ebc44",
   "outputs": [],
   "execution_count": 109
  },
  {
   "metadata": {
    "ExecuteTime": {
     "end_time": "2025-01-03T03:13:10.779010Z",
     "start_time": "2025-01-03T03:13:10.776038Z"
    }
   },
   "cell_type": "code",
   "source": [
    "for i in tables[1:]:\n",
    "    first+=i[1:]"
   ],
   "id": "91468955f6a83b3b",
   "outputs": [],
   "execution_count": 137
  },
  {
   "metadata": {
    "ExecuteTime": {
     "end_time": "2025-01-03T03:37:54.721181Z",
     "start_time": "2025-01-03T03:37:54.716593Z"
    }
   },
   "cell_type": "code",
   "source": "df=pd.DataFrame(first)",
   "id": "1499d94da90c0094",
   "outputs": [],
   "execution_count": 188
  },
  {
   "metadata": {
    "ExecuteTime": {
     "end_time": "2025-01-03T03:37:56.793005Z",
     "start_time": "2025-01-03T03:37:56.788773Z"
    }
   },
   "cell_type": "code",
   "source": [
    "df.columns=df.iloc[0]\n",
    "df=df[1:]"
   ],
   "id": "3ec691e419ec2a3b",
   "outputs": [],
   "execution_count": 189
  },
  {
   "metadata": {
    "ExecuteTime": {
     "end_time": "2025-01-03T03:38:00.071289Z",
     "start_time": "2025-01-03T03:38:00.065049Z"
    }
   },
   "cell_type": "code",
   "source": "df.replace('',None,inplace=True)",
   "id": "dee5c0a5e0489e87",
   "outputs": [],
   "execution_count": 190
  },
  {
   "metadata": {
    "ExecuteTime": {
     "end_time": "2025-01-03T03:38:38.193821Z",
     "start_time": "2025-01-03T03:38:38.126502Z"
    }
   },
   "cell_type": "code",
   "source": "df.dropna(how='all',inplace=True)",
   "id": "2639c8936416166e",
   "outputs": [],
   "execution_count": 191
  },
  {
   "metadata": {
    "ExecuteTime": {
     "end_time": "2025-01-03T03:39:56.729129Z",
     "start_time": "2025-01-03T03:39:56.708433Z"
    }
   },
   "cell_type": "code",
   "source": "df.dropna(how='all',axis=1,inplace=True)",
   "id": "49a9e3f5cb3933ad",
   "outputs": [],
   "execution_count": 193
  },
  {
   "metadata": {
    "ExecuteTime": {
     "end_time": "2025-01-03T03:41:09.536958Z",
     "start_time": "2025-01-03T03:41:09.354843Z"
    }
   },
   "cell_type": "code",
   "source": "df.to_csv(\"sal_24.csv\",index=False)",
   "id": "e51a012babc02a36",
   "outputs": [],
   "execution_count": 195
  }
 ],
 "metadata": {
  "kernelspec": {
   "display_name": "Python 3",
   "language": "python",
   "name": "python3"
  },
  "language_info": {
   "codemirror_mode": {
    "name": "ipython",
    "version": 2
   },
   "file_extension": ".py",
   "mimetype": "text/x-python",
   "name": "python",
   "nbconvert_exporter": "python",
   "pygments_lexer": "ipython2",
   "version": "2.7.6"
  }
 },
 "nbformat": 4,
 "nbformat_minor": 5
}
