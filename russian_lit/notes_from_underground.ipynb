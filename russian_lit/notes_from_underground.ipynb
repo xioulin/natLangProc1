{
 "cells": [
  {
   "cell_type": "code",
   "execution_count": 17,
   "metadata": {
    "collapsed": true,
    "ExecuteTime": {
     "end_time": "2024-06-02T23:00:37.148866Z",
     "start_time": "2024-06-02T23:00:37.130614Z"
    }
   },
   "outputs": [],
   "source": [
    "import ssl\n",
    "try:\n",
    "    _create_unverified_https_context = ssl._create_unverified_context\n",
    "except AttributeError:\n",
    "    pass\n",
    "else:\n",
    "    ssl._create_default_https_context = _create_unverified_https_context"
   ]
  },
  {
   "cell_type": "code",
   "execution_count": 42,
   "outputs": [],
   "source": [
    "from urllib import request\n",
    "import re\n",
    "url='https://www.gutenberg.org/files/600/600-h/600-h.htm'"
   ],
   "metadata": {
    "collapsed": false,
    "ExecuteTime": {
     "end_time": "2024-06-02T23:09:04.766100Z",
     "start_time": "2024-06-02T23:09:04.725802Z"
    }
   }
  },
  {
   "cell_type": "code",
   "execution_count": 27,
   "outputs": [],
   "source": [
    "resp= request.urlopen(url)\n",
    "raw=resp.read().decode('utf8')"
   ],
   "metadata": {
    "collapsed": false,
    "ExecuteTime": {
     "end_time": "2024-06-02T23:02:03.231546Z",
     "start_time": "2024-06-02T23:02:02.803346Z"
    }
   }
  },
  {
   "cell_type": "code",
   "execution_count": 32,
   "outputs": [
    {
     "data": {
      "text/plain": "6074"
     },
     "execution_count": 32,
     "metadata": {},
     "output_type": "execute_result"
    }
   ],
   "source": [
    "raw.index('I am a spiteful')"
   ],
   "metadata": {
    "collapsed": false,
    "ExecuteTime": {
     "end_time": "2024-06-02T23:03:50.246300Z",
     "start_time": "2024-06-02T23:03:50.195484Z"
    }
   }
  },
  {
   "cell_type": "code",
   "execution_count": 34,
   "outputs": [],
   "source": [
    "raw=raw[6000:]"
   ],
   "metadata": {
    "collapsed": false,
    "ExecuteTime": {
     "end_time": "2024-06-02T23:04:20.076915Z",
     "start_time": "2024-06-02T23:04:20.010899Z"
    }
   }
  },
  {
   "cell_type": "code",
   "execution_count": 38,
   "outputs": [
    {
     "data": {
      "text/plain": "259196"
     },
     "execution_count": 38,
     "metadata": {},
     "output_type": "execute_result"
    }
   ],
   "source": [
    "raw.index('Updated editions will replace')"
   ],
   "metadata": {
    "collapsed": false,
    "ExecuteTime": {
     "end_time": "2024-06-02T23:05:21.035272Z",
     "start_time": "2024-06-02T23:05:21.009529Z"
    }
   }
  },
  {
   "cell_type": "code",
   "execution_count": 40,
   "outputs": [],
   "source": [
    "raw=raw[:259100]"
   ],
   "metadata": {
    "collapsed": false,
    "ExecuteTime": {
     "end_time": "2024-06-02T23:06:07.017201Z",
     "start_time": "2024-06-02T23:06:06.975114Z"
    }
   }
  },
  {
   "cell_type": "code",
   "execution_count": 41,
   "outputs": [],
   "source": [
    "raw= raw.replace('\\r','')\n",
    "raw=raw.replace('\\n','')"
   ],
   "metadata": {
    "collapsed": false,
    "ExecuteTime": {
     "end_time": "2024-06-02T23:08:37.454528Z",
     "start_time": "2024-06-02T23:08:37.430836Z"
    }
   }
  },
  {
   "cell_type": "code",
   "execution_count": 43,
   "outputs": [],
   "source": [
    "clean= re.compile('<.*?>')"
   ],
   "metadata": {
    "collapsed": false,
    "ExecuteTime": {
     "end_time": "2024-06-02T23:09:11.300040Z",
     "start_time": "2024-06-02T23:09:11.162533Z"
    }
   }
  },
  {
   "cell_type": "code",
   "execution_count": 44,
   "outputs": [],
   "source": [
    "raw=re.sub(clean,'',raw)"
   ],
   "metadata": {
    "collapsed": false,
    "ExecuteTime": {
     "end_time": "2024-06-02T23:09:36.049248Z",
     "start_time": "2024-06-02T23:09:36.012897Z"
    }
   }
  },
  {
   "cell_type": "code",
   "execution_count": 48,
   "outputs": [
    {
     "data": {
      "text/plain": "'\"chapter\">II am a sick man.... I am a spiteful man. I am an unattractive man. I believe myliver is diseased. However, I know nothing at all about my disease, and do notknow for certain what ails me. I don&rsquo;t consult a doctor for it, and neverhave, though I have a respect for medicine and doctors. Besides, I am extremelysuperstitious, sufficiently so to respect medicine, anyway (I am well-educatedenough not to be superstitious, but I am superstitious). No, I refuse toconsult a doctor from spite. That you probably will not understand. Well, Iunderstand it, though. Of course, I can&rsquo;t explain who it is preciselythat I am mortifying in this case by my spite: I am perfectly well aware that Icannot &ldquo;pay out&rdquo; the doctors by not consulting them; I know betterthan anyone that by all this I am only injuring myself and no one else. Butstill, if I don&rsquo;t consult a doctor it is from spite. My liver is bad,well&mdash;let it get worse!I have been going on like that for a long time&mdash;twenty years. Now I amforty. I used to be in the government service, but am no longer. I was aspiteful official. I was rude and took pleasure in being so. I did not takebribes, you see, so I was bound to find a recompense in that, at least. (A poorjest, but I will not scratch it out. I wrote it thinking it would sound verywitty; but now that I have seen myself that I only wanted to show off in adespicable way, I will not scratch it out on purpose!)When petitioners used to come for information to the table at which I sat, Iused to grind my teeth at them, and felt intense enjoyment when I succeeded inmaking anybody unhappy. I almost did succeed. For the most part they were alltimid people&mdash;of course, they were petitioners. But of the uppish onesthere was one officer in particular I could not endure. He simply would not behumble, and clanked his sword in a disgusting way. I carried on a feud with himfor eighteen months over that sword. At last I got the better of him. He leftoff clanking it. That happened in my youth, though.But do you know, gentlemen, what was the chief point about my spite? Why, thewhole point, the real sting of it lay in the fact that continually, even in themoment of the acutest spleen, I was inwardly conscious with shame that I wasnot only not a spiteful but not even an embittered man, that I was simplyscaring sparrows at random and amusing myself by it. I might foam at the mouth,but bring me a doll to play with, give me a cup of tea with'"
     },
     "execution_count": 48,
     "metadata": {},
     "output_type": "execute_result"
    }
   ],
   "source": [
    "raw[:2500]"
   ],
   "metadata": {
    "collapsed": false,
    "ExecuteTime": {
     "end_time": "2024-06-02T23:14:14.756160Z",
     "start_time": "2024-06-02T23:14:14.720081Z"
    }
   }
  },
  {
   "cell_type": "code",
   "execution_count": 49,
   "outputs": [],
   "source": [
    "raw=raw.replace('&mdash','')"
   ],
   "metadata": {
    "collapsed": false,
    "ExecuteTime": {
     "end_time": "2024-06-02T23:15:17.040352Z",
     "start_time": "2024-06-02T23:15:17.026588Z"
    }
   }
  },
  {
   "cell_type": "code",
   "execution_count": 50,
   "outputs": [
    {
     "data": {
      "text/plain": "'\"chapter\">II am a sick man.... I am a spiteful man. I am an unattractive man. I believe myliver is diseased. However, I know nothing at all about my disease, and do notknow for certain what ails me. I don&rsquo;t consult a doctor for it, and neverhave, though I have a respect for medicine and doctors. Besides, I am extremelysuperstitious, sufficiently so to respect medicine, anyway (I am well-educatedenough not to be superstitious, but I am superstitious). No, I refuse toconsult a doctor from spite. That you probably will not understand. Well, Iunderstand it, though. Of course, I can&rsquo;t explain who it is preciselythat I am mortifying in this case by my spite: I am perfectly well aware that Icannot &ldquo;pay out&rdquo; the doctors by not consulting them; I know betterthan anyone that by all this I am only injuring myself and no one else. Butstill, if I don&rsquo;t consult a doctor it is from spite. My liver is bad,well;let it get worse!I have been going on like that for a long time;twenty years. Now I amforty. I used to be in the government service, but am no longer. I was aspiteful official. I was rude and took pleasure in being so. I did not takebribes, you see, so I was bound to find a recompense in that, at least. (A poorjest, but I will not scratch it out. I wrote it thinking it would sound verywitty; but now that I have seen myself that I only wanted to show off in adespicable way, I will not scratch it out on purpose!)When petitioners used to come for information to the table at which I sat, Iused to grind my teeth at them, and felt intense enjoyment when I succeeded inmaking anybody unhappy. I almost did succeed. For the most part they were alltimid people;of course, they were petitioners. But of the uppish onesthere was one officer in particular I could not endure. He simply would not behumble, and clanked his sword in a disgusting way. I carried on a feud with himfor eighteen months over that sword. At last I got the better of him. He leftoff clanking it. That happened in my youth, though.But do you know, gentlemen, what was the chief point about my spite? Why, thewhole point, the real sting of it lay in the fact that continually, even in themoment of the acutest spleen, I was inwardly conscious with shame that I wasnot only not a spiteful but not even an embittered man, that I was simplyscaring sparrows at random and amusing myself by it. I might foam at the mouth,but bring me a doll to play with, give me a cup of tea with sugar in it, andm'"
     },
     "execution_count": 50,
     "metadata": {},
     "output_type": "execute_result"
    }
   ],
   "source": [
    "raw[:2500]"
   ],
   "metadata": {
    "collapsed": false,
    "ExecuteTime": {
     "end_time": "2024-06-02T23:15:23.264019Z",
     "start_time": "2024-06-02T23:15:23.121479Z"
    }
   }
  },
  {
   "cell_type": "code",
   "execution_count": 52,
   "outputs": [
    {
     "data": {
      "text/plain": "<function TextIOWrapper.close()>"
     },
     "execution_count": 52,
     "metadata": {},
     "output_type": "execute_result"
    }
   ],
   "source": [
    "notes= open('notes_from_underground.txt','w'\n",
    ")\n",
    "notes.write(raw)\n",
    "notes.close"
   ],
   "metadata": {
    "collapsed": false,
    "ExecuteTime": {
     "end_time": "2024-06-02T23:19:09.400665Z",
     "start_time": "2024-06-02T23:19:09.373131Z"
    }
   }
  }
 ],
 "metadata": {
  "kernelspec": {
   "display_name": "Python 3",
   "language": "python",
   "name": "python3"
  },
  "language_info": {
   "codemirror_mode": {
    "name": "ipython",
    "version": 2
   },
   "file_extension": ".py",
   "mimetype": "text/x-python",
   "name": "python",
   "nbconvert_exporter": "python",
   "pygments_lexer": "ipython2",
   "version": "2.7.6"
  }
 },
 "nbformat": 4,
 "nbformat_minor": 0
}
