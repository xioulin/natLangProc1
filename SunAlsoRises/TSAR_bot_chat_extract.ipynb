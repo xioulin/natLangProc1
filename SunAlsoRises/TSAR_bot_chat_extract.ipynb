{
 "cells": [
  {
   "cell_type": "code",
   "execution_count": 9,
   "outputs": [],
   "source": [
    "import pandas as pd"
   ],
   "metadata": {
    "collapsed": false,
    "ExecuteTime": {
     "start_time": "2024-01-23T17:38:48.529303Z",
     "end_time": "2024-01-23T17:39:01.507804Z"
    }
   }
  },
  {
   "cell_type": "code",
   "execution_count": 1,
   "metadata": {
    "collapsed": true,
    "ExecuteTime": {
     "start_time": "2024-01-23T17:36:17.376163Z",
     "end_time": "2024-01-23T17:36:17.393504Z"
    }
   },
   "outputs": [],
   "source": [
    "# hemingwayFile = open(r'/Users/pkc/PycharmProjects/natLangProc1/SunAlsoRises/SunAlsoRises.txt','r')\n",
    "# with hemingwayFile as f:\n",
    "#     wholeBook= f.read()\n",
    "# hemingwayFile.close()"
   ]
  },
  {
   "cell_type": "code",
   "execution_count": 2,
   "outputs": [],
   "source": [
    "# fromEpigraph=wholeBook[725:]"
   ],
   "metadata": {
    "collapsed": false,
    "ExecuteTime": {
     "start_time": "2024-01-23T17:36:37.629784Z",
     "end_time": "2024-01-23T17:36:37.642959Z"
    }
   }
  },
  {
   "cell_type": "code",
   "execution_count": 6,
   "outputs": [
    {
     "data": {
      "text/plain": "814"
     },
     "execution_count": 6,
     "metadata": {},
     "output_type": "execute_result"
    }
   ],
   "source": [
    "# fromEpigraph.index('Robert Cohn was once')"
   ],
   "metadata": {
    "collapsed": false,
    "ExecuteTime": {
     "start_time": "2024-01-23T17:37:38.115149Z",
     "end_time": "2024-01-23T17:37:38.130448Z"
    }
   }
  },
  {
   "cell_type": "code",
   "execution_count": 8,
   "outputs": [],
   "source": [
    "# fromFirstSent=fromEpigraph[814:]"
   ],
   "metadata": {
    "collapsed": false,
    "ExecuteTime": {
     "start_time": "2024-01-23T17:38:21.238591Z",
     "end_time": "2024-01-23T17:38:21.250068Z"
    }
   }
  },
  {
   "cell_type": "code",
   "execution_count": 10,
   "outputs": [
    {
     "data": {
      "text/plain": "7309"
     },
     "execution_count": 10,
     "metadata": {},
     "output_type": "execute_result"
    }
   ],
   "source": [
    "# fromFirstSent.index('CHAPTER')"
   ],
   "metadata": {
    "collapsed": false,
    "ExecuteTime": {
     "start_time": "2024-01-23T17:42:05.045287Z",
     "end_time": "2024-01-23T17:42:05.119979Z"
    }
   }
  },
  {
   "cell_type": "code",
   "execution_count": 12,
   "outputs": [],
   "source": [
    "# chapter1= fromFirstSent[:7309]"
   ],
   "metadata": {
    "collapsed": false,
    "ExecuteTime": {
     "start_time": "2024-01-23T17:47:09.649804Z",
     "end_time": "2024-01-23T17:47:09.653602Z"
    }
   }
  },
  {
   "cell_type": "code",
   "execution_count": 17,
   "outputs": [
    {
     "data": {
      "text/plain": "'Robert Cohn was once middleweight boxing champion of Princeton. Do not\\nthink that I am very much impressed by that as a boxing title, but it\\nmeant a lot to Cohn. He cared nothing for boxing, in fact he disliked\\nit, but he learned it painfully and thoroughly to counteract the feeling\\nof inferiority and shyness he had felt on being treated as a Jew at\\nPrinceton. There was a certain inner comfort in knowing he could knock\\ndown anybody who was snooty to him, although, being very shy and a\\nthoroughly nice boy, he never fought except in the gym. He was Spider\\nKelly’s star pupil. Spider Kelly taught all his young gentlemen to box\\nlike featherweights, no matter whether they weighed one hundred and five\\nor two hundred and five pounds. But it seemed to fit Cohn. He was really\\nvery fast. He was so good that Spider promptly overmatched him and got\\nhis nose permanently flattened. This increased Cohn’s distaste for\\nboxing, but it gave him a certain satisfaction of some strange sort, and\\nit certainly improved his nose. In his last year at Princeton he read\\ntoo much and took to wearing spectacles. I never met any one of his\\nclass who remembered him. They did not even remember that he was\\nmiddleweight boxing champion.\\n\\nI mistrust all frank and simple people, especially when their stories\\nhold together, and I always had a suspicion that perhaps Robert Cohn had\\nnever been middleweight boxing champion, and that perhaps a horse had\\nstepped on his face, or that maybe his mother had been frightened or\\nseen something, or that he had, maybe, bumped into something as a young\\nchild, but I finally had somebody verify the story from Spider Kelly.\\nSpider Kelly not only remembered Cohn. He had often wondered what had\\nbecome of him.\\n\\nRobert Cohn was a member, through his father, of one of the richest\\nJewish families in New York, and through his mother of one of the\\noldest. At the military school where he prepped for Princeton, and\\nplayed a very good end on the football team, no one had made him\\nrace-conscious. No one had ever made him feel he was a Jew, and hence\\nany different from anybody else, until he went to Princeton. He was a\\nnice boy, a friendly boy, and very shy, and it made him bitter. He took\\nit out in boxing, and he came out of Princeton with painful\\nself-consciousness and the flattened nose, and was married by the first\\ngirl who was nice to him. He was married five years, had three children,\\nlost most of the fifty thousand dollars his father left him, the balance\\nof the estate having gone to his mother, hardened into a rather\\nunattractive mould under domestic unhappiness with a rich wife; and just\\nwhen he had made up his mind to leave his wife she left him and went off\\nwith a miniature-painter. As he had been thinking for months about\\nleaving his wife and had not done it because it would be too cruel to\\ndeprive her of himself, her departure was a very healthful shock.\\n\\nThe divorce was arranged and Robert Cohn went out to the Coast. In\\nCalifornia he fell among literary people and, as he still had a little\\nof the fifty thousand left, in a short time he was backing a review of\\nthe Arts. The review commenced publication in Carmel, California, and\\nfinished in Provincetown, Massachusetts. By that time Cohn, who had been\\nregarded purely as an angel, and whose name had appeared on the\\neditorial page merely as a member of the advisory board, had become the\\nsole editor. It was his money and he discovered he liked the authority\\nof editing. He was sorry when the magazine became too expensive and he\\nhad to give it up.\\n\\nBy that time, though, he had other things to worry about. He had been\\ntaken in hand by a lady who hoped to rise with the magazine. She was\\nvery forceful, and Cohn never had a chance of not being taken in hand.\\nAlso he was sure that he loved her. When this lady saw that the magazine\\nwas not going to rise, she became a little disgusted with Cohn and\\ndecided that she might as well get what there was to get while there was\\nstill something available, so she urged that they go to Europe, where\\nCohn could write. They came to Europe, where the lady had been educated,\\nand stayed three years. During these three years, the first spent in\\ntravel, the last two in Paris, Robert Cohn had two friends, Braddocks\\nand myself. Braddocks was his literary friend. I was his tennis friend.\\n\\nThe lady who had him, her name was Frances, found toward the end of the\\nsecond year that her looks were going, and her attitude toward Robert\\nchanged from one of careless possession and exploitation to the absolute\\ndetermination that he should marry her. During this time Robert’s mother\\nhad settled an allowance on him, about three hundred dollars a month.\\nDuring two years and a half I do not believe that Robert Cohn looked at\\nanother woman. He was fairly happy, except that, like many people living\\nin Europe, he would rather have been in America, and he had discovered\\nwriting. He wrote a novel, and it was not really such a bad novel as the\\ncritics later called it, although it was a very poor novel. He read many\\nbooks, played bridge, played tennis, and boxed at a local gymnasium.\\n\\nI first became aware of his lady’s attitude toward him one night after\\nthe three of us had dined together. We had dined at l’Avenue’s and\\nafterward went to the Café de Versailles for coffee. We had several\\n_fines_ after the coffee, and I said I must be going. Cohn had been\\ntalking about the two of us going off somewhere on a weekend trip. He\\nwanted to get out of town and get in a good walk. I suggested we fly to\\nStrasbourg and walk up to Saint Odile, or somewhere or other in Alsace.\\n“I know a girl in Strasbourg who can show us the town,” I said.\\n\\nSomebody kicked me under the table. I thought it was accidental and went\\non: “She’s been there two years and knows everything there is to know\\nabout the town. She’s a swell girl.”\\n\\nI was kicked again under the table and, looking, saw Frances, Robert’s\\nlady, her chin lifting and her face hardening.\\n\\n“Hell,” I said, “why go to Strasbourg? We could go up to Bruges, or to\\nthe Ardennes.”\\n\\nCohn looked relieved. I was not kicked again. I said good-night and went\\nout. Cohn said he wanted to buy a paper and would walk to the corner\\nwith me. “For God’s sake,” he said, “why did you say that about that\\ngirl in Strasbourg for? Didn’t you see Frances?”\\n\\n“No, why should I? If I know an American girl that lives in Strasbourg\\nwhat the hell is it to Frances?”\\n\\n“It doesn’t make any difference. Any girl. I couldn’t go, that would be\\nall.”\\n\\n“Don’t be silly.”\\n\\n“You don’t know Frances. Any girl at all. Didn’t you see the way she\\nlooked?”\\n\\n“Oh, well,” I said, “let’s go to Senlis.”\\n\\n“Don’t get sore.”\\n\\n“I’m not sore. Senlis is a good place and we can stay at the Grand Cerf\\nand take a hike in the woods and come home.”\\n\\n“Good, that will be fine.”\\n\\n“Well, I’ll see you to-morrow at the courts,” I said.\\n\\n“Good-night, Jake,” he said, and started back to the café.\\n\\n“You forgot to get your paper,” I said.\\n\\n“That’s so.” He walked with me up to the kiosque at the corner. “You are\\nnot sore, are you, Jake?” He turned with the paper in his hand.\\n\\n“No, why should I be?”\\n\\n“See you at tennis,” he said. I watched him walk back to the café\\nholding his paper. I rather liked him and evidently she led him quite a\\nlife.\\n\\n\\n\\n\\n                                '"
     },
     "execution_count": 17,
     "metadata": {},
     "output_type": "execute_result"
    }
   ],
   "source": [
    "# chapter1"
   ],
   "metadata": {
    "collapsed": false,
    "ExecuteTime": {
     "start_time": "2024-01-23T17:51:27.748397Z",
     "end_time": "2024-01-23T17:51:27.814134Z"
    }
   }
  },
  {
   "cell_type": "code",
   "execution_count": 15,
   "outputs": [],
   "source": [
    "#ch1file= open('chapter1.txt','w')"
   ],
   "metadata": {
    "collapsed": false,
    "ExecuteTime": {
     "start_time": "2024-01-23T17:49:58.363349Z",
     "end_time": "2024-01-23T17:49:58.377212Z"
    }
   }
  },
  {
   "cell_type": "code",
   "execution_count": 18,
   "outputs": [
    {
     "data": {
      "text/plain": "7309"
     },
     "execution_count": 18,
     "metadata": {},
     "output_type": "execute_result"
    }
   ],
   "source": [
    "#ch1file.write(chapter1)"
   ],
   "metadata": {
    "collapsed": false,
    "ExecuteTime": {
     "start_time": "2024-01-23T17:53:06.072529Z",
     "end_time": "2024-01-23T17:53:06.107284Z"
    }
   }
  },
  {
   "cell_type": "code",
   "execution_count": null,
   "outputs": [],
   "source": [
    "from nltk.tokenize import"
   ],
   "metadata": {
    "collapsed": false
   }
  }
 ],
 "metadata": {
  "kernelspec": {
   "display_name": "Python 3",
   "language": "python",
   "name": "python3"
  },
  "language_info": {
   "codemirror_mode": {
    "name": "ipython",
    "version": 2
   },
   "file_extension": ".py",
   "mimetype": "text/x-python",
   "name": "python",
   "nbconvert_exporter": "python",
   "pygments_lexer": "ipython2",
   "version": "2.7.6"
  }
 },
 "nbformat": 4,
 "nbformat_minor": 0
}
