{
 "cells": [
  {
   "cell_type": "code",
   "execution_count": 1,
   "outputs": [],
   "source": [
    "import pandas as pd\n",
    "import re\n",
    "from nltk import word_tokenize"
   ],
   "metadata": {
    "collapsed": false,
    "ExecuteTime": {
     "start_time": "2024-01-25T17:31:49.372262Z",
     "end_time": "2024-01-25T17:31:59.202693Z"
    }
   }
  },
  {
   "cell_type": "code",
   "execution_count": 2,
   "metadata": {
    "collapsed": true,
    "ExecuteTime": {
     "start_time": "2024-01-25T17:31:59.177470Z",
     "end_time": "2024-01-25T17:31:59.272020Z"
    }
   },
   "outputs": [],
   "source": [
    "hemingwayFile = open(r'/Users/pkc/PycharmProjects/natLangProc1/SunAlsoRises/SunAlsoRises.txt','r')\n",
    "with hemingwayFile as f:\n",
    "    wholeBook= f.read()\n",
    "hemingwayFile.close()"
   ]
  },
  {
   "cell_type": "code",
   "execution_count": 3,
   "outputs": [],
   "source": [
    "fromEpigraph=wholeBook[725:]\n",
    "fromFirstSent=fromEpigraph[814:]\n",
    "chapter1= fromFirstSent[:7309]"
   ],
   "metadata": {
    "collapsed": false,
    "ExecuteTime": {
     "start_time": "2024-01-25T17:31:59.234715Z",
     "end_time": "2024-01-25T17:31:59.338548Z"
    }
   }
  },
  {
   "cell_type": "code",
   "execution_count": 4,
   "outputs": [
    {
     "data": {
      "text/plain": "'Robert Cohn was once middleweight boxing champion '"
     },
     "execution_count": 4,
     "metadata": {},
     "output_type": "execute_result"
    }
   ],
   "source": [
    "chapter1[:50]"
   ],
   "metadata": {
    "collapsed": false,
    "ExecuteTime": {
     "start_time": "2024-01-25T17:32:12.105334Z",
     "end_time": "2024-01-25T17:32:12.173644Z"
    }
   }
  },
  {
   "cell_type": "code",
   "execution_count": 8,
   "outputs": [],
   "source": [
    "ch_1_dialogue= chapter1[5597:]"
   ],
   "metadata": {
    "collapsed": false,
    "ExecuteTime": {
     "start_time": "2024-01-24T18:47:48.463977Z",
     "end_time": "2024-01-24T18:47:48.485079Z"
    }
   }
  },
  {
   "cell_type": "code",
   "execution_count": 21,
   "outputs": [
    {
     "data": {
      "text/plain": "'in Alsace.\\n“I know a girl in Strasbourg who can show us the town,” I said.\\n\\nSomebody kicked me under the table. I thought it was accidental and went\\non: “She’s been there two years and knows everything there is to know\\nabout the town. She’s a swell girl.”\\n\\nI was kicked again under the table and, looking, saw Frances, Robert’s\\nlady, her chin lifting and her face hardening.\\n\\n“Hell,” I said, “why go to Strasbourg? We could go up to Bruges, or to\\nthe Ardennes.”\\n\\nCohn looked relieved. I was not kicked again. I said good-night and went\\nout. Cohn said he wanted to buy a paper and would walk to the corner\\nwith me. “For God’s sake,” he said, “why did you say that about that\\ngirl in Strasbourg for? Didn’t you see Frances?”\\n\\n“No, why should I? If I know an American girl that lives in Strasbourg\\nwhat the hell is it to Frances?”\\n\\n“It doesn’t make any difference. Any girl. I couldn’t go, that would be\\nall.”\\n\\n“Don’t be silly.”\\n\\n“You don’t know Frances. Any girl at all. Didn’t you see the way she\\nlooked?”\\n\\n“Oh, well,” I said, “let’s go to Senlis.”\\n\\n“Don’t get sore.”\\n\\n“I’m not sore. Senlis is a good place and we can stay at the Grand Cerf\\nand take a hike in the woods and come home.”\\n\\n“Good, that will be fine.”\\n\\n“Well, I’ll see you to-morrow at the courts,” I said.\\n\\n“Good-night, Jake,” he said, and started back to the café.\\n\\n“You forgot to get your paper,” I said.\\n\\n“That’s so.” He walked with me up to the kiosque at the corner. “You are\\nnot sore, are you, Jake?” He turned with the paper in his hand.\\n\\n“No, why should I be?”\\n\\n“See you at tennis,” he said. I watched him walk back to the café\\nholding his paper. I rather liked him and evidently she led him quite a\\nlife.\\n\\n\\n\\n\\n                                '"
     },
     "execution_count": 21,
     "metadata": {},
     "output_type": "execute_result"
    }
   ],
   "source": [
    "ch_1_dialogue"
   ],
   "metadata": {
    "collapsed": false,
    "ExecuteTime": {
     "start_time": "2024-01-24T18:52:05.882058Z",
     "end_time": "2024-01-24T18:52:05.902740Z"
    }
   }
  },
  {
   "cell_type": "markdown",
   "source": [],
   "metadata": {
    "collapsed": false
   }
  },
  {
   "cell_type": "code",
   "execution_count": 5,
   "outputs": [],
   "source": [
    "whole_book_clean = fromFirstSent.replace('\\n',\"\")"
   ],
   "metadata": {
    "collapsed": false,
    "ExecuteTime": {
     "start_time": "2024-01-25T17:32:56.939841Z",
     "end_time": "2024-01-25T17:32:56.972957Z"
    }
   }
  },
  {
   "cell_type": "code",
   "execution_count": 12,
   "outputs": [
    {
     "data": {
      "text/plain": "'tennis, and boxed at a local gymnasium.I first became aware of his lady’s attitude toward him one night afterthe three of us had dined together. We had dined at l’Avenue’s andafterward went to the Café de Versailles for coffee. We had several_fines_ after the coffee, and I said I must be going. Cohn had beentalking about the two of us going off somewhere on a weekend trip. Hewanted to get out of town and get in a good walk. I suggested we fly toStrasbourg and walk up to Saint Odile, or somewhere or other in Alsace.“I know a girl in Strasbourg who can show us the town,” I said.Somebody kicked me under the table. I thought it was accidental and wenton: “She’s been there two years and knows everything there is to knowabout the town. She’s a swell girl.”I was kicked again under the table and, looking, saw Frances, Robert’slady, her chin lifting and her face hardening.“Hell,” I said, “why go to Strasbourg? We could go up to Bruges, or tothe Ardennes.”Cohn looked relieved. I was not kicked again. I said good-night and wentout. Cohn said he wanted to buy a paper and would walk to the cornerwith me. “For God’s sake,” he said, “why did you say that about thatgirl in Strasbourg for? Didn’t you see Frances?”“No, why should I? If I know an American girl that lives in Strasbourgwhat the hell is it to Frances?”“It doesn’t make any difference. Any girl. I couldn’t go, that would beall.”“Don’t be silly.”“You don’t know Frances. Any girl at all. Didn’t you see the way shelooked?”“Oh, well,” I'"
     },
     "execution_count": 12,
     "metadata": {},
     "output_type": "execute_result"
    }
   ],
   "source": [
    "whole_book_clean[5000:6500]"
   ],
   "metadata": {
    "collapsed": false,
    "ExecuteTime": {
     "start_time": "2024-01-25T17:34:29.467471Z",
     "end_time": "2024-01-25T17:34:29.508867Z"
    }
   }
  },
  {
   "cell_type": "code",
   "execution_count": 13,
   "outputs": [],
   "source": [
    "quotes_whole_book=re.findall(r'“.+?”',whole_book_clean)"
   ],
   "metadata": {
    "collapsed": false,
    "ExecuteTime": {
     "start_time": "2024-01-25T17:35:45.097420Z",
     "end_time": "2024-01-25T17:35:45.133499Z"
    }
   }
  },
  {
   "cell_type": "code",
   "execution_count": 14,
   "outputs": [
    {
     "data": {
      "text/plain": "['“I know a girl in Strasbourg who can show us the town,”',\n '“She’s been there two years and knows everything there is to knowabout the town. She’s a swell girl.”',\n '“Hell,”',\n '“why go to Strasbourg? We could go up to Bruges, or tothe Ardennes.”',\n '“For God’s sake,”',\n '“why did you say that about thatgirl in Strasbourg for? Didn’t you see Frances?”',\n '“No, why should I? If I know an American girl that lives in Strasbourgwhat the hell is it to Frances?”',\n '“It doesn’t make any difference. Any girl. I couldn’t go, that would beall.”',\n '“Don’t be silly.”',\n '“You don’t know Frances. Any girl at all. Didn’t you see the way shelooked?”',\n '“Oh, well,”',\n '“let’s go to Senlis.”',\n '“Don’t get sore.”',\n '“I’m not sore. Senlis is a good place and we can stay at the Grand Cerfand take a hike in the woods and come home.”',\n '“Good, that will be fine.”',\n '“Well, I’ll see you to-morrow at the courts,”',\n '“Good-night, Jake,”',\n '“You forgot to get your paper,”',\n '“That’s so.”',\n '“You arenot sore, are you, Jake?”',\n '“No, why should I be?”',\n '“See you at tennis,”',\n '“ThePurple Land.”',\n '“The Purple Land”',\n '“The Purple Land”']"
     },
     "execution_count": 14,
     "metadata": {},
     "output_type": "execute_result"
    }
   ],
   "source": [
    "quotes_whole_book[:25]"
   ],
   "metadata": {
    "collapsed": false,
    "ExecuteTime": {
     "start_time": "2024-01-25T17:35:57.291867Z",
     "end_time": "2024-01-25T17:35:57.334069Z"
    }
   }
  },
  {
   "cell_type": "code",
   "execution_count": 15,
   "outputs": [],
   "source": [
    "df_quotes = pd.DataFrame(quotes_whole_book)"
   ],
   "metadata": {
    "collapsed": false,
    "ExecuteTime": {
     "start_time": "2024-01-25T17:36:17.536345Z",
     "end_time": "2024-01-25T17:36:17.559222Z"
    }
   }
  },
  {
   "cell_type": "code",
   "execution_count": 16,
   "outputs": [],
   "source": [
    "df_quotes['quotes']=df_quotes.iloc[:,0]"
   ],
   "metadata": {
    "collapsed": false,
    "ExecuteTime": {
     "start_time": "2024-01-25T17:36:19.597260Z",
     "end_time": "2024-01-25T17:36:19.611160Z"
    }
   }
  },
  {
   "cell_type": "code",
   "execution_count": 17,
   "outputs": [
    {
     "data": {
      "text/plain": "0       “I know a girl in Strasbourg who can show us t...\n1       “She’s been there two years and knows everythi...\n2                                                 “Hell,”\n3       “why go to Strasbourg? We could go up to Bruge...\n4                                       “For God’s sake,”\n                              ...                        \n3309                                  “I’ll finish this,”\n3310                                          “Oh, Jake,”\n3311    “we could have had such a damned good timetoge...\n3312                                               “Yes,”\n3313                       “Isn’t it pretty to think so?”\nName: 0, Length: 3314, dtype: object"
     },
     "execution_count": 17,
     "metadata": {},
     "output_type": "execute_result"
    }
   ],
   "source": [
    "df_quotes.pop(0)"
   ],
   "metadata": {
    "collapsed": false,
    "ExecuteTime": {
     "start_time": "2024-01-25T17:36:21.603340Z",
     "end_time": "2024-01-25T17:36:21.658618Z"
    }
   }
  },
  {
   "cell_type": "code",
   "execution_count": 18,
   "outputs": [
    {
     "data": {
      "text/plain": "                                                 quotes\n0     “I know a girl in Strasbourg who can show us t...\n1     “She’s been there two years and knows everythi...\n2                                               “Hell,”\n3     “why go to Strasbourg? We could go up to Bruge...\n4                                     “For God’s sake,”\n...                                                 ...\n3309                                “I’ll finish this,”\n3310                                        “Oh, Jake,”\n3311  “we could have had such a damned good timetoge...\n3312                                             “Yes,”\n3313                     “Isn’t it pretty to think so?”\n\n[3314 rows x 1 columns]",
      "text/html": "<div>\n<style scoped>\n    .dataframe tbody tr th:only-of-type {\n        vertical-align: middle;\n    }\n\n    .dataframe tbody tr th {\n        vertical-align: top;\n    }\n\n    .dataframe thead th {\n        text-align: right;\n    }\n</style>\n<table border=\"1\" class=\"dataframe\">\n  <thead>\n    <tr style=\"text-align: right;\">\n      <th></th>\n      <th>quotes</th>\n    </tr>\n  </thead>\n  <tbody>\n    <tr>\n      <th>0</th>\n      <td>“I know a girl in Strasbourg who can show us t...</td>\n    </tr>\n    <tr>\n      <th>1</th>\n      <td>“She’s been there two years and knows everythi...</td>\n    </tr>\n    <tr>\n      <th>2</th>\n      <td>“Hell,”</td>\n    </tr>\n    <tr>\n      <th>3</th>\n      <td>“why go to Strasbourg? We could go up to Bruge...</td>\n    </tr>\n    <tr>\n      <th>4</th>\n      <td>“For God’s sake,”</td>\n    </tr>\n    <tr>\n      <th>...</th>\n      <td>...</td>\n    </tr>\n    <tr>\n      <th>3309</th>\n      <td>“I’ll finish this,”</td>\n    </tr>\n    <tr>\n      <th>3310</th>\n      <td>“Oh, Jake,”</td>\n    </tr>\n    <tr>\n      <th>3311</th>\n      <td>“we could have had such a damned good timetoge...</td>\n    </tr>\n    <tr>\n      <th>3312</th>\n      <td>“Yes,”</td>\n    </tr>\n    <tr>\n      <th>3313</th>\n      <td>“Isn’t it pretty to think so?”</td>\n    </tr>\n  </tbody>\n</table>\n<p>3314 rows × 1 columns</p>\n</div>"
     },
     "execution_count": 18,
     "metadata": {},
     "output_type": "execute_result"
    }
   ],
   "source": [
    "df_quotes"
   ],
   "metadata": {
    "collapsed": false,
    "ExecuteTime": {
     "start_time": "2024-01-25T17:36:25.421330Z",
     "end_time": "2024-01-25T17:36:25.437810Z"
    }
   }
  },
  {
   "cell_type": "code",
   "execution_count": 163,
   "outputs": [],
   "source": [
    "df_quotes.to_pickle('df_quotes.pickle')"
   ],
   "metadata": {
    "collapsed": false,
    "ExecuteTime": {
     "start_time": "2024-01-24T19:55:10.368998Z",
     "end_time": "2024-01-24T19:55:10.379978Z"
    }
   }
  },
  {
   "cell_type": "code",
   "execution_count": 170,
   "outputs": [],
   "source": [
    "quoteslist=df_quotes.quotes.tolist()"
   ],
   "metadata": {
    "collapsed": false,
    "ExecuteTime": {
     "start_time": "2024-01-24T20:08:30.195182Z",
     "end_time": "2024-01-24T20:08:30.211524Z"
    }
   }
  },
  {
   "cell_type": "code",
   "execution_count": 171,
   "outputs": [
    {
     "data": {
      "text/plain": "['“I know a girl in Strasbourg who can show us the town,”',\n '“She’s been there two years and knows everything there is to knowabout the town. She’s a swell girl.”',\n '“Hell,”',\n '“why go to Strasbourg? We could go up to Bruges, or tothe Ardennes.”',\n '“For God’s sake,”',\n '“why did you say that about thatgirl in Strasbourg for? Didn’t you see Frances?”',\n '“No, why should I? If I know an American girl that lives in Strasbourgwhat the hell is it to Frances?”',\n '“It doesn’t make any difference. Any girl. I couldn’t go, that would beall.”',\n '“Don’t be silly.”',\n '“You don’t know Frances. Any girl at all. Didn’t you see the way shelooked?”',\n '“Oh, well,”',\n '“let’s go to Senlis.”',\n '“Don’t get sore.”',\n '“I’m not sore. Senlis is a good place and we can stay at the Grand Cerfand take a hike in the woods and come home.”',\n '“Good, that will be fine.”',\n '“Well, I’ll see you to-morrow at the courts,”',\n '“Good-night, Jake,”',\n '“You forgot to get your paper,”',\n '“That’s so.”',\n '“You arenot sore, are you, Jake?”',\n '“No, why should I be?”',\n '“See you at tennis,”',\n '“ThePurple Land.”',\n '“The Purple Land”',\n '“The Purple Land”',\n '“Hello, Robert,”',\n '“Did you come in to cheer me up?”',\n '“Would you like to go to South America, Jake?”',\n '“No.”',\n '“Why not?”',\n '“I don’t know. I never wanted to go. Too expensive. You can see all theSouth Americans you want in Paris anyway.”',\n '“They’re not the real South Americans.”',\n '“They look awfully real to me.”',\n '“Do you know any dirt?”',\n '“No.”',\n '“None of your exalted connections getting divorces?”',\n '“No; listen, Jake. If I handled both our expenses, would you go to SouthAmerica with me?”',\n '“Why me?”',\n '“You can talk Spanish. And it would be more fun with two of us.”',\n '“No,”',\n '“I like this town and I go to Spain in the summer-time.”',\n '“All my life I’ve wanted to go on a trip like that,”',\n '“I’ll be too old before I can ever do it.”',\n '“Don’t be a fool,”',\n '“You can go anywhere you want. You’ve gotplenty of money.”',\n '“I know. But I can’t get started.”',\n '“Cheer up,”',\n '“All countries look just like the moving pictures.”',\n '“I can’t stand it to think my life is going so fast and I’m not reallyliving it.”',\n '“Nobody ever lives their life all the way up except bull-fighters.”',\n '“I’m not interested in bull-fighters. That’s an abnormal life. I want togo back in the country in South America. We could have a great trip.”',\n '“Did you ever think about going to British East Africa to shoot?”',\n '“No, I wouldn’t like that.”',\n '“I’d go there with you.”',\n '“No; that doesn’t interest me.”',\n '“That’s because you never read a book about it. Go on and read a bookall full of love affairs with the beautiful shiny black princesses.”',\n '“I want to go to South America.”',\n '“Come on down-stairs and have a drink.”',\n '“Aren’t you working?”',\n '“No,”',\n '“Well, I’ve got to get back and get offsome cables,”',\n '“This is a good place,”',\n '“There’s a lot of liquor,”',\n '“Listen, Jake,”',\n '“Don’t you ever get thefeeling that all your life is going by and you’re not taking advantageof it? Do you realize you’ve lived nearly half the time you have to livealready?”',\n '“Yes, every once in a while.”',\n '“Do you know that in about thirty-five years more we’ll be dead?”',\n '“What the hell, Robert,”',\n '“What the hell.”',\n '“I’m serious.”',\n '“It’s one thing I don’t worry about,”',\n '“You ought to.”',\n '“I’ve had plenty to worry about one time or other. I’m throughworrying.”',\n '“Well, I want to go to South America.”',\n '“Listen, Robert, going to another country doesn’t make any difference.I’ve tried all that. You can’t get away from yourself by moving from oneplace to another. There’s nothing to that.”',\n '“But you’ve never been to South America.”',\n '“South America hell! If you went there the way you feel now it would beexactly the same. This is a good town. Why don’t you start living yourlife in Paris?”',\n '“I’m sick of Paris, and I’m sick of the Quarter.”',\n '“Stay away from the Quarter. Cruise around by yourself and see whathappens to you.”',\n '“Nothing happens to me. I walked alone all one night and nothinghappened except a bicycle cop stopped me and asked to see my papers.”',\n '“Wasn’t the town nice at night?”',\n '“I don’t care for Paris.”',\n '“Well,”',\n '“I’ve got to go up-stairs and get off some cables.”',\n '“Do you really have to go?”',\n '“Yes, I’ve got to get these cables off.”',\n '“Do you mind if I come up and sit around the office?”',\n '“No, come on up.”',\n '“I can’t do it,”',\n '“I can’t do it. Nothing will make me do it.”',\n '“Robert,”',\n '“Did I talk out loud just then?”',\n '“Something. But it wasn’t clear.”',\n '“God, what a rotten dream!”',\n '“Did the typewriter put you to sleep?”',\n '“Guess so. I didn’t sleep all last night.”',\n '“What was the matter?”',\n '“Talking,”',\n '“Well, what will you drink?”',\n '“Pernod.”',\n '“That’s not good for little girls.”',\n '“Little girl yourself. Dites garçon, un pernod.”',\n '“A pernod for me, too.”',\n '“What’s the matter?”',\n '“Going on a party?”',\n '“Sure. Aren’t you?”',\n '“I don’t know. You never know in this town.”',\n '“Don’t you like Paris?”',\n '“No.”',\n '“Why don’t you go somewhere else?”',\n '“Isn’t anywhere else.”',\n '“You’re happy, all right.”',\n '“Happy, hell!”',\n '“Well,”',\n '“are you going to buy me a dinner?”',\n '“What are all the clocks for?”',\n '“They show the hour all over America.”',\n '“Don’t kid me.”',\n '“Never mind.”',\n '“What’s the matter? You sick?”',\n '“Yes.”',\n '“Everybody’s sick. I’m sick, too.”',\n '“You oughtn’t to drink pernod if you’re sick.”',\n '“You neither.”',\n '“It doesn’t make any difference with me. It doesn’t make any differencewith a woman.”',\n '“What are you called?”',\n '“Georgette. How are you called?”',\n '“Jacob.”',\n '“That’s a Flemish name.”',\n '“American too.”',\n '“You’re not Flamand?”',\n '“No, American.”',\n '“Good, I detest Flamands.”',\n '“This is no great thing of a restaurant.”',\n '“No,”',\n '“Maybe you would rather go to Foyot’s. Why don’t you keepthe cab and go on?”',\n '“It isn’t bad here,”',\n '“It isn’t chic, but the food is allright.”',\n '“Better than you eat in Liège.”',\n '“Brussels, you mean.”',\n '“You’re not a badtype,”',\n '“It’s a shame you’re sick. We get on well. What’s thematter with you, anyway?”',\n '“I got hurt in the war,”',\n '“Oh, that dirty war.”',\n '“Barnes! I say, Barnes! Jacob Barnes!”',\n '“It’s a friend calling me,”',\n '“You’re coming to the dance, aren’t you?”',\n '“What dance?”',\n '“Why, the dancings. Don’t you know we’ve revived them?”',\n '“You must come, Jake. We’re all going,”',\n '“Of course, he’s coming,”',\n '“Come in and have coffee withus, Barnes.”',\n '“Right.”',\n '“And bring your friend,”',\n '“Thanks, we’ll be in,”',\n '“Who are your friends?”',\n '“Writers and artists.”',\n '“There are lots of those on this side of the river.”',\n '“Too many.”',\n '“I think so. Still, some of them make money.”',\n '“Oh, yes.”',\n '“Come on,”',\n '“We’re going tohave coffee with the others.”',\n '“Good,”',\n '“I wish to present my fiancée, Mademoiselle Georgette Leblanc,”',\n '“Are you related to Georgette Leblanc, the singer?”',\n '“Connais pas,”',\n '“But you have the same name,”',\n '“No,”',\n '“Not at all. My name is Hobin.”',\n '“But Mr. Barnes introduced you as Mademoiselle Georgette Leblanc. Surelyhe did,”',\n '“He’s a fool,”',\n '“Oh, it was a joke, then,”',\n '“Yes,”',\n '“To laugh at.”',\n '“Did you hear that, Henry?”',\n '“Mr. Barnes introduced his fiancée as Mademoiselle Leblanc,and her name is actually Hobin.”',\n '“Of course, darling. Mademoiselle Hobin, I’ve known her for a very longtime.”',\n '“Oh, Mademoiselle Hobin,”',\n '“Have you been in Paris long? Do you like ithere? You love Paris, do you not?”',\n '“Who’s she?”',\n '“Do I have to talk to her?”',\n '“No, I don’t like Paris. It’s expensive and dirty.”',\n '“Really? I find it so extraordinarily clean. One of the cleanest citiesin all Europe.”',\n '“I find it dirty.”',\n '“How strange! But perhaps you have not been here very long.”',\n '“I’ve been here long enough.”',\n '“But it does have nice people in it. One must grant that.”',\n '“You have nice friends.”',\n '“I wish people would come earlier,”',\n '“My God,”',\n '“What a box to sweat in!”',\n '“It’s hot.”',\n '“Hot, my God!”',\n '“Take off your hat.”',\n '“That’s a good idea.”',\n '“I do declare. There is an actualharlot. I’m going to dance with her, Lett. You watch me.”',\n '“Don’t you be rash.”',\n '“Don’t you worry, dear.”',\n '“Thanks so much,”',\n '“I’ve just had one.”',\n '“Have another.”',\n '“Thanks, I will then.”',\n '“You’re from Kansas City, they tell me,”',\n '“Yes.”',\n '“Do you find Paris amusing?”',\n '“Yes.”',\n '“Really?”',\n '“For God’s sake,”',\n '“yes. Don’t you?”',\n '“Oh, how charmingly you get angry,”',\n '“I wish I had thatfaculty.”',\n '“Don’t be cross with Robert,”',\n '“He’s still only achild, you know.”',\n '“I wasn’t cross,”',\n '“I just thought perhaps I was going to throwup.”',\n '“Your fiancée is having a great success,”',\n '“Isn’t she?”',\n '“Rather,”',\n '“Come on, Jake,”',\n '“have a drink.”',\n '“What’s the matter with you? You seem all worked up oversomething?”',\n '“Nothing. This whole show makes me sick is all.”',\n '“Hello, you chaps.”',\n '“Hello, Brett,”',\n '“Why aren’t you tight?”',\n '“Never going to get tight any more. I say, give a chap a brandy andsoda.”',\n '“It’s a fine crowd you’re with, Brett,”',\n '“Aren’t they lovely? And you, my dear. Where did you get it?”',\n '“At the Napolitain.”',\n '“And have you had a lovely evening?”',\n '“Oh, priceless,”',\n '“It’s wrong of you, Jake. It’s an insult to all of us.Look at Frances there, and Jo.”',\n '“It’s in restraint of trade,”',\n '“You’re wonderfully sober,”',\n '“Yes. Aren’t I? And when one’s with the crowd I’m with, one can drink insuch safety, too.”',\n '“Will you dance this with me,Lady Brett?”',\n '“I’ve promised to dance this with Jacob,”',\n '“You’ve a hell of a biblical name, Jake.”',\n '“How about the next?”',\n '“We’re going,”',\n '“We’ve a date up at Montmartre.”',\n '“You’ve made a new one there,”',\n '“Don’t talk about it. Poor chap. I never knew it till just now.”',\n '“Oh, well,”',\n '“I suppose you like to add them up.”',\n '“Don’t talk like a fool.”',\n '“You do.”',\n '“Oh, well. What if I do?”',\n '“Nothing,”',\n '“What possessed you to bring her?”',\n '“I don’t know, I just brought her.”',\n '“You’re getting damned romantic.”',\n '“No, bored.”',\n '“Now?”',\n '“No, not now.”',\n '“Let’s get out of here. She’s well taken care of.”',\n '“Do you want to?”',\n '“Would I ask you if I didn’t want to?”',\n '“If the girl I came with asks for me, will you give her this?”',\n '“If she goes out with one of those gentlemen, will you save this forme?”',\n '“C’est entendu, Monsieur,”',\n '“You go now? So early?”',\n '“Yes,”',\n '“Good night, Cohn,”',\n '“You’re going to lose your fifty francs,”',\n '“Oh, yes.”',\n '“No taxis.”',\n '“We could walk up to the Pantheon and get one.”',\n '“Come on and we’ll get a drink in the pub next door and send for one.”',\n '“You wouldn’t walk across the street.”',\n '“Not if I could help it.”',\n '“Well,”',\n '“we’re out away from them.”',\n '“Where should Itell him?”',\n '“Oh, tell him to drive around.”',\n '“Oh, darling, I’ve been so miserable,”',\n '“Don’t touch me,”',\n '“Please don’t touch me.”',\n '“What’s the matter?”',\n '“I can’t stand it.”',\n '“Oh, Brett.”',\n '“You mustn’t. You must know. I can’t stand it, that’s all. Oh, darling,please understand!”',\n '“Don’t you love me?”',\n '“Love you? I simply turn all to jelly when you touch me.”',\n '“Isn’t there anything we can do about it?”',\n '“And there’s not a damn thing we could do,”',\n '“I don’t know,”',\n '“I don’t want to go through that hell again.”',\n '“We’d better keep away from each other.”',\n '“But, darling, I have to see you. It isn’t all that you know.”',\n '“No, but it always gets to be.”',\n '“That’s my fault. Don’t we pay for all the things we do, though?”',\n '“When I think of the hell I’ve put chaps through. I’m paying for it allnow.”',\n '“Don’t talk like a fool,”',\n '“Besides, what happened to me issupposed to be funny. I never think about it.”',\n '“Oh, no. I’ll lay you don’t.”',\n '“Well, let’s shut up about it.”',\n '“I laughed about it too, myself, once.”',\n '“Afriend of my brother’s came home that way from Mons. It seemed like ahell of a joke. Chaps never know anything, do they?”',\n '“No,”',\n '“Nobody ever knows anything.”',\n '“It’s funny,”',\n '“It’s very funny. And it’s a lot of fun, too, tobe in love.”',\n '“Do you think so?”',\n '“I don’t mean fun that way. In a way it’s an enjoyable feeling.”',\n '“No,”',\n '“I think it’s hell on earth.”',\n '“It’s good to see each other.”',\n '“No. I don’t think it is.”',\n '“Don’t you want to?”',\n '“I have to.”',\n '“Where do you want to go?”',\n '“Oh, go to the Select.”',\n '“Café Select,”',\n '“Boulevard Montparnasse.”',\n '“Wouldyou mind very much if I asked you to do something?”',\n '“Don’t be silly.”',\n '“Kiss me just once more before we get there.”',\n '“Isay, do I look too much of a mess?”',\n '“Hello, you chaps,”',\n '“I’m going to have a drink.”',\n '“Oh, Brett! Brett!”',\n '“I gotsomething fine to tell you.”',\n '“Hello, Zizi,”',\n '“I want you to meet a friend,”',\n '“Count Mippipopolous, meet my friend Lady Ashley.”',\n '“How do you do?”',\n '“Well, does your Ladyship have a good time here in Paris?”',\n '“Rather,”',\n '“Paris is a fine town all right,”',\n '“But I guess you havepretty big doings yourself over in London.”',\n '“Oh, yes,”',\n '“Enormous.”',\n '“Barnes,”',\n '“have a drink.That girl of yours got in a frightful row.”',\n '“What about?”',\n '“Something the patronne’s daughter said. A corking row. She was rathersplendid, you know. Showed her yellow card and demanded the patronne’sdaughter’s too. I say it was a row.”',\n '“What finally happened?”',\n '“Oh, some one took her home. Not a bad-looking girl. Wonderful commandof the idiom. Do stay and have a drink.”',\n '“No,”',\n '“I must shove off. Seen Cohn?”',\n '“He went home with Frances,”',\n '“Poor chap, he looks awfully down,”',\n '“I dare say he is,”',\n '“I have to shove off,”',\n '“Good night.”',\n '“Will you take a glass of wine with us, sir?”',\n '“No. Thanks awfully. I have to go.”',\n '“Really going?”',\n '“Yes,”',\n '“I’ve got a rotten headache.”',\n '“I’ll see you to-morrow?”',\n '“Come in at the office.”',\n '“Hardly.”',\n '“Well, where will I see you?”',\n '“Anywhere around five o’clock.”',\n '“Make it the other side of town then.”',\n '“Good. I’ll be at the Crillon at five.”',\n '“Try and be there,”',\n '“Don’t worry,”',\n '“I’ve never let you down, have I?”',\n '“Heard from Mike?”',\n '“Letter to-day.”',\n '“Good night, sir,”',\n '“You, aforeigner, an Englishman”',\n '“have givenmore than your life.”',\n '“Che mala fortuna! Che mala fortuna!”',\n '“Is that you, Monsieur Barnes?”',\n '“Yes. It’s me.”',\n '“There’s a species of woman here who’s waked the whole street up. Whatkind of a dirty business at this time of night! She says she must seeyou. I’ve told her you’re asleep.”',\n '“Will you send her up, please?”',\n '“Silly thing todo,”',\n '“Make an awful row. I say, you weren’t asleep, were you?”',\n '“What did you think I was doing?”',\n '“Don’t know. What time is it?”',\n '“Had no idea what hour itwas,”',\n '“I say, can a chap sit down? Don’t be cross, darling.Just left the count. He brought me here.”',\n '“What’s he like?”',\n '“Just a little,”',\n '“Don’t try and make me drunk. The count?Oh, rather. He’s quite one of us.”',\n '“Is he a count?”',\n '“Here’s how. I rather think so, you know. Deserves to be, anyhow. Knowshell’s own amount about people. Don’t know where he got it all. Owns achain of sweetshops in the States.”',\n '“Think he called it a chain. Something like that. Linked them all up.Told me a little about it. Damned interesting. He’s one of us, though.Oh, quite. No doubt. One can always tell.”',\n '“How do I buck on about all this? You don’t mind, do you? He’s puttingup for Zizi, you know.”',\n '“Is Zizi really a duke, too?”',\n '“I shouldn’t wonder. Greek, you know. Rotten painter. I rather liked thecount.”',\n '“Where did you go with him?”',\n '“Oh, everywhere. He just brought me here now. Offered me ten thousanddollars to go to Biarritz with him. How much is that in pounds?”',\n '“Around two thousand.”',\n '“Lot of money. I told him I couldn’t do it. He was awfully nice aboutit. Told him I knew too many people in Biarritz.”',\n '“I say, you are slow on the up-take,”',\n '“That’s better. Very funny,”',\n '“Then he wanted me to go toCannes with him. Told him I knew too many people in Cannes. Monte Carlo.Told him I knew too many people in Monte Carlo. Told him I knew too manypeople everywhere. Quite true, too. So I asked him to bring me here.”',\n '“Don’t looklike that,”',\n '“Told him I was in love with you. True, too. Don’tlook like that. He was damn nice about it. Wants to drive us out todinner to-morrow night. Like to go?”',\n '“Why not?”',\n '“I’d better go now.”',\n '“Why?”',\n '“Just wanted to see you. Damned silly idea. Want to get dressed and comedown? He’s got the car just up the street.”',\n '“The count?”',\n '“Himself. And a chauffeur in livery. Going to drive me around and havebreakfast in the Bois. Hampers. Got it all at Zelli’s. Dozen bottles ofMumms. Tempt you?”',\n '“I have to work in the morning,”',\n '“I’m too far behind you now tocatch up and be any fun.”',\n '“Don’t be an ass.”',\n '“Can’t do it.”',\n '“Right. Send him a tender message?”',\n '“Anything. Absolutely.”',\n '“Good night, darling.”',\n '“Don’t be sentimental.”',\n '“You make me ill.”',\n '“I’d better go,”',\n '“Good night, darling.”',\n '“You don’t have to go.”',\n '“Yes.”',\n '“What do you do nights, Jake?”',\n '“I never see you around.”',\n '“Oh, I’m over in the Quarter.”',\n '“I’m coming over some night. The Dingo. That’s the great place, isn’tit?”',\n '“Yes. That, or this new dive, The Select.”',\n '“I’ve meant to get over,”',\n '“You know how it is, though, with awife and kids.”',\n '“Playing any tennis?”',\n '“Well, no,”',\n '“I can’t say I’ve played any this year. I’vetried to get away, but Sundays it’s always rained, and the courts are sodamned crowded.”',\n '“The Englishmen all have Saturday off,”',\n '“Lucky beggars,”',\n '“Well, I’ll tell you. Some day I’m not goingto be working for an agency. Then I’ll have plenty of time to get out inthe country.”',\n '“That’s the thing to do. Live out in the country and have a little car.”',\n '“I’ve been thinking some about getting a car next year.”',\n '“Here’s my street,”',\n '“Come in and have a drink.”',\n '“Thanks, old man,”',\n '“I’ve got to filethat line he got off this morning.”',\n '“You’re crazy, Jake,”',\n '“This is on me.”',\n '“It’s all on the office, anyway.”',\n '“Nope. I want to get it.”',\n '“See you at the lunch onWednesday.”',\n '“You bet.”',\n '“Hello, Jake,”',\n '“Going out to lunch?”',\n '“Yes. Let me see if there is anything new.”',\n '“Where will we eat?”',\n '“Anywhere.”',\n '“Where do you want to eat?”',\n '“How about Wetzel’s? They’ve got good hors d’œuvres.”',\n '“Have any fun last night?”',\n '“No. I don’t think so.”',\n '“How’s the writing going?”',\n '“Rotten. I can’t get this second book going.”',\n '“That happens to everybody.”',\n '“Oh, I’m sure of that. It gets me worried, though.”',\n '“Thought any more about going to South America?”',\n '“I mean that.”',\n '“Well, why don’t you start off?”',\n '“Frances.”',\n '“Well,”',\n '“take her with you.”',\n '“She wouldn’t like it. That isn’t the sort of thing she likes. She likesa lot of people around.”',\n '“Tell her to go to hell.”',\n '“I can’t. I’ve got certain obligations to her.”',\n '“What do you know about Lady Brett Ashley, Jake?”',\n '“Her name’s Lady Ashley. Brett’s her own name. She’s a nice girl,”',\n '“She’s getting a divorce and she’s going to marry Mike Campbell.He’s over in Scotland now. Why?”',\n '“She’s a remarkably attractive woman.”',\n '“Isn’t she?”',\n '“There’s a certain quality about her, a certain fineness. She seems tobe absolutely fine and straight.”',\n '“She’s very nice.”',\n '“I don’t know how to describe the quality,”',\n '“I suppose it’sbreeding.”',\n '“You sound as though you liked her pretty well.”',\n '“I do. I shouldn’t wonder if I were in love with her.”',\n '“She’s a drunk,”',\n '“She’s in love with Mike Campbell, and she’sgoing to marry him. He’s going to be rich as hell some day.”',\n '“I don’t believe she’ll ever marry him.”',\n '“Why not?”',\n '“I don’t know. I just don’t believe it. Have you known her a long time?”',\n '“Yes,”',\n '“She was a V. A. D. in a hospital I was in during thewar.”',\n '“She must have been just a kid then.”',\n '“She’s thirty-four now.”',\n '“When did she marry Ashley?”',\n '“During the war. Her own true love had just kicked off with thedysentery.”',\n '“You talk sort of bitter.”',\n '“Sorry. I didn’t mean to. I was just trying to give you the facts.”',\n '“I don’t believe she would marry anybody she didn’t love.”',\n '“Well,”',\n '“She’s done it twice.”',\n '“I don’t believe it.”',\n '“Well,”',\n '“don’t ask me a lot of fool questions if you don’t likethe answers.”',\n '“I didn’t ask you that.”',\n '“You asked me what I knew about Brett Ashley.”',\n '“I didn’t ask you to insult her.”',\n '“Oh, go to hell.”',\n '“Sit down,”',\n '“Don’t be a fool.”',\n '“You’ve got to take that back.”',\n '“Oh, cut out the prep-school stuff.”',\n '“Take it back.”',\n '“Sure. Anything. I never heard of Brett Ashley. How’s that?“No. Not that. About me going to hell.”',\n '“Oh, don’t go to hell,”',\n '“Stick around. We’re just startinglunch.”',\n '“You say such damnedinsulting things, Jake.”',\n '“I’m sorry. I’ve got a nasty tongue. I never mean it when I say nastythings.”',\n '“I know it,”',\n '“You’re really about the best friend I have,Jake.”',\n '“Forget what I said,”',\n '“I’msorry.”',\n '“It’s all right. It’s fine. I was just sore for a minute.”',\n '“Good. Let’s get something else to eat.”',\n '“Sit down,”',\n '“I’ve been looking for you.”',\n '“What’s the matter?”',\n '“Nothing. Just looking for you.”',\n '“Been out to the races?”',\n '“No. Not since Sunday.”',\n '“What do you hear from the States?”',\n '“Nothing. Absolutely nothing.”',\n '“What’s the matter?”',\n '“I don’t know. I’m through with them. I’m absolutely through with them.”',\n '“Do you want to know something, Jake?”',\n '“Yes.”',\n '“I haven’t had anything to eat for five days.”',\n '“What’s the matter?”',\n '“No money. Money hasn’t come,”',\n '“I tell you it’s strange,Jake. When I’m like this I just want to be alone. I want to stay in myown room. I’m like a cat.”',\n '“Would a hundred help you any, Harvey?”',\n '“Yes.”',\n '“Come on. Let’s go and eat.”',\n '“There’s no hurry. Have a drink.”',\n '“Better eat.”',\n '“No. When I get like this I don’t care whether I eat or not.”',\n '“Do you know Mencken, Harvey?”',\n '“Yes. Why?”',\n '“What’s he like?”',\n '“He’s all right. He says some pretty funny things. Last time I haddinner with him we talked about Hoffenheimer. ‘The trouble is,’ he said,‘he’s a garter snapper.’ That’s not bad.”',\n '“That’s not bad.”',\n '“He’s through now,”',\n '“He’s written about all the thingshe knows, and now he’s on all the things he doesn’t know.”',\n '“I guess he’s all right,”',\n '“I just can’t read him.”',\n '“Oh, nobody reads him now,”',\n '“except the people that used toread the Alexander Hamilton Institute.”',\n '“Well,”',\n '“That was a good thing, too.”',\n '“Sure,”',\n '“Have another port?”',\n '“All right,”',\n '“There comes Cohn,”',\n '“That moron,”',\n '“Hello, you bums,”',\n '“Hello, Robert,”',\n '“I was just telling Jake here that you’rea moron.”',\n '“What do you mean?”',\n '“Tell us right off. Don’t think. What would you rather do if you coulddo anything you wanted?”',\n '“Don’t think. Bring it right out.”',\n '“I don’t know,”',\n '“What’s it all about, anyway?”',\n '“I mean what would you rather do. What comes into your head first. Nomatter how silly it is.”',\n '“I don’t know,”',\n '“I think I’d rather play football again withwhat I know about handling myself, now.”',\n '“I misjudged you,”',\n '“You’re not a moron. You’re only a caseof arrested development.”',\n '“You’re awfully funny, Harvey,”',\n '“Some day somebody will pushyour face in.”',\n '“You think so. They won’t, though. Because itwouldn’t make any difference to me. I’m not a fighter.”',\n '“It would make a difference to you if anybody did it.”',\n '“No, it wouldn’t. That’s where you make your big mistake. Because you’renot intelligent.”',\n '“Cut it out about me.”',\n '“Sure,”',\n '“It doesn’t make any difference to me. You don’tmean anything to me.”',\n '“Come on, Harvey,”',\n '“Have another porto.”',\n '“No,”',\n '“I’m going up the street and eat. See you later, Jake.”',\n '“He always gets me sore,”',\n '“I can’t stand him.”',\n '“I like him,”',\n '“I’m fond of him. You don’t want to get sore athim.”',\n '“I know it,”',\n '“He just gets on my nerves.”',\n '“Write this afternoon?”',\n '“No. I couldn’t get it going. It’s harder to do than my first book. I’mhaving a hard time handling it.”',\n '“Come on up to the Lilas,”',\n '“I have a date.”',\n '“What time?”',\n '“Frances is coming here at seven-fifteen.”',\n '“There she is.”',\n '“Hello,”',\n '“I’m so glad you’re here, Jake. I’ve been wanting totalk to you.”',\n '“Hello, Frances,”',\n '“Why, hello, Robert. Are you here?”',\n '“I’vehad the darndest time. This one”',\n '“didn’t comehome for lunch.”',\n '“I wasn’t supposed to.”',\n '“Oh, I know. But you didn’t say anything about it to the cook. Then Ihad a date myself, and Paula wasn’t at her office. I went to the Ritzand waited for her, and she never came, and of course I didn’t haveenough money to lunch at the Ritz——”',\n '“What did you do?”',\n '“Oh, went out, of course.”',\n '“I always keep my appointments. No one keeps theirs, nowadays. Iought to know better. How are you, Jake, anyway?”',\n '“Fine.”',\n '“That was a fine girl you had at the dance, and then went off with thatBrett one.”',\n '“Don’t you like her?”',\n '“I think she’s perfectly charming. Don’t you?”',\n '“Look, Jake. I want to talk with you. Would you come over with me to theDome? You’ll stay here, won’t you, Robert? Come on, Jake.”',\n '“What’s the matter, Frances?”',\n '“Oh, nothing,”',\n '“except that he wants to leave me.”',\n '“How do you mean?”',\n '“Oh, he told every one that we were going to be married, and I told mymother and every one, and now he doesn’t want to do it.”',\n '“What’s the matter?”',\n '“He’s decided he hasn’t lived enough. I knew it would happen when hewent to New York.”',\n '“I wouldn’t marry him if he doesn’t want to. Of course I wouldn’t. Iwouldn’t marry him now for anything. But it does seem to me to be alittle late now, after we’ve waited three years, and I’ve just gotten mydivorce.”',\n '“We were going to celebrate so, and instead we’ve just had scenes. It’sso childish. We have dreadful scenes, and he cries and begs me to bereasonable, but he says he just can’t do it.”',\n '“It’s rotten luck.”',\n '“I should say it is rotten luck. I’ve wasted two years and a half on himnow. And I don’t know now if any man will ever want to marry me. Twoyears ago I could have married anybody I wanted, down at Cannes. All theold ones that wanted to marry somebody chic and settle down were crazyabout me. Now I don’t think I could get anybody.”',\n '“Sure, you could marry anybody.”',\n '“No, I don’t believe it. And I’m fond of him, too. And I’d like to havechildren. I always thought we’d have children.”',\n '“I never liked children much, but Idon’t want to think I’ll never have them. I always thought I’d have themand then like them.”',\n '“He’s got children.”',\n '“Oh, yes. He’s got children, and he’s got money, and he’s got a richmother, and he’s written a book, and nobody will publish my stuff;nobody at all. It isn’t bad, either. And I haven’t got any money at all.I could have had alimony, but I got the divorce the quickest way.”',\n '“It isn’t right. It’s my own fault and it’s not, too. I ought to haveknown better. And when I tell him he just cries and says he can’t marry.Why can’t he marry? I’d be a good wife. I’m easy to get along with. Ileave him alone. It doesn’t do any good.”',\n '“It’s a rotten shame.”',\n '“Yes, it is a rotten shame. But there’s no use talking about it, isthere? Come on, let’s go back to the café.”',\n '“And of course there isn’t anything I can do.”',\n '“No. Just don’t let him know I talked to you. I know what he wants.”',\n '“Hewants to go back to New York alone, and be there when his book comes outso when a lot of little chickens like it. That’s what he wants.”',\n '“Maybe they won’t like it. I don’t think he’s that way. Really.”',\n '“You don’t know him like I do, Jake. That’s what he wants to do. I knowit. I know it. That’s why he doesn’t want to marry. He wants to have abig triumph this fall all by himself.”',\n '“Want to go back to the café?”',\n '“Yes. Come on.”',\n '“Well, what are you smiling at?”',\n '“Feel pretty happy?”',\n '“I was smiling at you and Jake with your secrets.”',\n '“Oh, what I’ve told Jake isn’t any secret. Everybody will know it soonenough. I only wanted to give Jake a decent version.”',\n '“What was it? About your going to England?”',\n '“Yes, about my going to England. Oh, Jake! I forgot to tell you. I’mgoing to England.”',\n '“Isn’t that fine!”',\n '“Yes, that’s the way it’s done in the very best families. Robert’ssending me. He’s going to give me two hundred pounds and then I’m goingto visit friends. Won’t it be lovely? The friends don’t know about it,yet.”',\n '“You were only going to give me a hundred pounds, weren’t you, Robert?But I made him give me two hundred. He’s really very generous. Aren’tyou, Robert?”',\n '“How can you say such things, Frances?”',\n '“Listen to him. I’m going to England. I’m going to visit friends. Evervisit friends that didn’t want you? Oh, they’ll have to take me, allright. ‘How do you do, my dear? Such a long time since we’ve seen you.And how is your dear mother?’ Yes, how is my dear mother? She put allher money into French war bonds. Yes, she did. Probably the only personin the world that did. ‘And what about Robert?’ or else very carefultalking around Robert. ‘You must be most careful not to mention him, mydear. Poor Frances has had a most unfortunate experience.’ Won’t it befun, Robert? Don’t you think it will be fun, Jake?”',\n '“And where are you going to be, Robert? It’s my own fault, all right.Perfectly my own fault. When I made you get rid of your little secretaryon the magazine I ought to have known you’d get rid of me the same way.Jake doesn’t know about that. Should I tell him?”',\n '“Shut up, Frances, for God’s sake.”',\n '“Yes, I’ll tell him. Robert had a little secretary on the magazine. Justthe sweetest little thing in the world, and he thought she waswonderful, and then I came along and he thought I was pretty wonderful,too. So I made him get rid of her, and he had brought her toProvincetown from Carmel when he moved the magazine, and he didn’t evenpay her fare back to the coast. All to please me. He thought I waspretty fine, then. Didn’t you, Robert?“You mustn’t misunderstand, Jake, it was absolutely platonic with thesecretary. Not even platonic. Nothing at all, really. It was just thatshe was so nice. And he did that just to please me. Well, I suppose thatwe that live by the sword shall perish by the sword. Isn’t thatliterary, though? You want to remember that for your next book, Robert.“You know Robert is going to get material for a new book. Aren’t you,Robert? That’s why he’s leaving me. He’s decided I don’t film well. Yousee, he was so busy all the time that we were living together, writingon this book, that he doesn’t remember anything about us. So now he’sgoing out and get some new material. Well, I hope he gets somethingfrightfully interesting.“Listen, Robert, dear. Let me tell you something. You won’t mind, willyou? Don’t have scenes with your young ladies. Try not to. Because youcan’t have scenes without crying, and then you pity yourself so much youcan’t remember what the other person’s said. You’ll never be able toremember any conversations that way. Just try and be calm. I know it’sawfully hard. But remember, it’s for literature. We all ought to makesacrifices for literature. Look at me. I’m going to England without aprotest. All for literature. We must all help young writers. Don’t youthink so, Jake? But you’re not a young writer. Are you, Robert? You’rethirty-four. Still, I suppose that is young for a great writer. Look atHardy. Look at Anatole France. He just died a little while ago. Robertdoesn’t think he’s any good, though. Some of his French friends toldhim. He doesn’t read French very well himself. He wasn’t a good writerlike you are, was he, Robert? Do you think he ever had to go and lookfor material? What do you suppose he said to his mistresses when hewouldn’t marry them? I wonder if he cried, too? Oh, I’ve just thought ofsomething.”',\n '“I know the realreason why Robert won’t marry me, Jake. It’s just come to me. They’vesent it to me in a vision in the Café Select. Isn’t it mystic? Some daythey’ll put a tablet up. Like at Lourdes. Do you want to hear, Robert?I’ll tell you. It’s so simple. I wonder why I never thought about it.Why, you see, Robert’s always wanted to have a mistress, and if hedoesn’t marry me, why, then he’s had one. She was his mistress for overtwo years. See how it is? And if he marries me, like he’s alwayspromised he would, that would be the end of all the romance. Don’t youthink that’s bright of me to figure that out? It’s true, too. Look athim and see if it’s not. Where are you going, Jake?”',\n '“I’ve got to go in and see Harvey Stone a minute.”',\n '“Isn’t it so, Robert?”',\n '“Here is the post. And there was a lady here to see you.”',\n '“Did she leave a card?”',\n '“No. She was with a gentleman. It was the one who was here last night.In the end I find she is very nice.”',\n '“Was she with a friend of mine?”',\n '“I don’t know. He was never here before. He was very large. Very, verylarge. She was very nice. Very, very nice. Last night she was, perhaps,a little—”',\n '“I’ll speak perfectly frankly, Monsieur Barnes. Last night I found hernot so gentille. Last night I formed another idea of her. But listen towhat I tell you. She is très, très gentille. She is of very good family.It is a thing you can see.”',\n '“They did not leave any word?”',\n '“Yes. They said they would be back in an hour.”',\n '“Send them up when they come.”',\n '“Yes, Monsieur Barnes. And that lady, that lady there is some one. Aneccentric, perhaps, but quelqu’une, quelqu’une!”',\n '“Hello, darling,”',\n '“Aren’t you going to let us in?”',\n '“Come on. I was just bathing.”',\n '“Aren’t you the fortunate man. Bathing.”',\n '“Only a shower. Sit down, Count Mippipopolous. What will you drink?”',\n '“I don’t know whether you like flowers, sir,”',\n '“but Itook the liberty of just bringing these roses.”',\n '“Here, give them to me.”',\n '“Get me some water in this,Jake.”',\n '“I say. We have had a day.”',\n '“You don’t remember anything about a date with me at the Crillon?”',\n '“No. Did we have one? I must have been blind.”',\n '“You were quite drunk, my dear,”',\n '“Wasn’t I, though? And the count’s been a brick, absolutely.”',\n '“You’ve got hell’s own drag with the concierge now.”',\n '“I ought to have. Gave her two hundred francs.”',\n '“Don’t be a damned fool.”',\n '“His,”',\n '“I thought we ought to give her a little something for last night. Itwas very late.”',\n '“He’s wonderful,”',\n '“He remembers everything that’s happened.”',\n '“So do you, my dear.”',\n '“Fancy,”',\n '“Who’d want to? I say, Jake, _do_ we get a drink?”',\n '“You get it while I go in and dress. You know where it is.”',\n '“Rather.”',\n '“What’s the matter, darling? Do you feel rocky?”',\n '“Oh, Brett, I love you so much.”',\n '“Darling,”',\n '“Do you want me to send him away?”',\n '“No. He’s nice.”',\n '“I’ll send him away.”',\n '“No, don’t.”',\n '“Yes, I’ll send him away.”',\n '“You can’t just like that.”',\n '“Can’t I, though? You stay here. He’s mad about me, I tell you.”',\n '“Poor old darling.”',\n '“What did you say to him?”',\n '“Sent him for champagne. He loves to go for champagne.”',\n '“Do you feel better, darling? Is the head any better?”',\n '“It’s better.”',\n '“Lie quiet. He’s gone to the other side of town.”',\n '“Couldn’t we live together, Brett? Couldn’t we just live together?”',\n '“I don’t think so. I’d just _tromper_ you with everybody. You couldn’tstand it.”',\n '“I stand it now.”',\n '“That would be different. It’s my fault, Jake. It’s the way I’m made.”',\n '“Couldn’t we go off in the country for a while?”',\n '“It wouldn’t be any good. I’ll go if you like. But I couldn’t livequietly in the country. Not with my own true love.”',\n '“I know.”',\n '“Isn’t it rotten? There isn’t any use my telling you I love you.”',\n '“You know I love you.”',\n '“Let’s not talk. Talking’s all bilge. I’m going away from you, and thenMichael’s coming back.”',\n '“Why are you going away?”',\n '“Better for you. Better for me.”',\n '“When are you going?”',\n '“Soon as I can.”',\n '“Where?”',\n '“San Sebastian.”',\n '“Can’t we go together?”',\n '“No. That would be a hell of an idea after we’d just talked it out.”',\n '“We never agreed.”',\n '“Oh, you know as well as I do. Don’t be obstinate, darling.”',\n '“Oh, sure,”',\n '“I know you’re right. I’m just low, and when I’m lowI talk like a fool.”',\n '“Don’t look like that, darling.”',\n '“How do you want me to look?”',\n '“Oh, don’t be a fool. I’m going away to-morrow.”',\n '“To-morrow?”',\n '“Yes. Didn’t I say so? I am.”',\n '“Let’s have a drink, then. The count will be back.”',\n '“Yes. He should be back. You know he’s extraordinary about buyingchampagne. It means any amount to him.”',\n '“Where should I have him put it, sir?”',\n '“In the kitchen,”',\n '“Put it in there, Henry,”',\n '“Now go down and get theice.”',\n '“Ithink you’ll find that’s very good wine,”',\n '“I know we don’t getmuch of a chance to judge good wine in the States now, but I got thisfrom a friend of mine that’s in the business.”',\n '“Oh, you always have some one in the trade,”',\n '“This fellow raises the grapes. He’s got thousands of acres of them.”',\n '“What’s his name?”',\n '“Veuve Cliquot?”',\n '“No,”',\n '“Mumms. He’s a baron.”',\n '“Isn’t it wonderful,”',\n '“We all have titles. Why haven’t you atitle, Jake?”',\n '“I assure you, sir,”',\n '“It never does aman any good. Most of the time it costs you money.”',\n '“Oh, I don’t know. It’s damned useful sometimes,”',\n '“I’ve never known it to do me any good.”',\n '“You haven’t used it properly. I’ve had hell’s own amount of credit onmine.”',\n '“Do sit down, count,”',\n '“Let me take that stick.”',\n '“I say, Jake, I don’t want to ruin your rugs. Can’t you givea chap an ash-tray?”',\n '“Put two bottles in it, Henry,”',\n '“Anything else, sir?”',\n '“No. Wait down in the car.”',\n '“We’ll want toride out to the Bois for dinner?”',\n '“If you like,”',\n '“I couldn’t eat a thing.”',\n '“I always like a good meal,”',\n '“Should I bring the wine in, sir?”',\n '“Yes. Bring it in, Henry,”',\n '“Like to try a real American cigar?”',\n '“Thanks,”',\n '“I’ll finish the cigarette.”',\n '“I like a cigar to really draw,”',\n '“Half the cigars yousmoke don’t draw.”',\n '“Andwhen you’re divorced, Lady Ashley, then you won’t have a title.”',\n '“No. What a pity.”',\n '“No,”',\n '“You don’t need a title. You got class all overyou.”',\n '“Thanks. Awfully decent of you.”',\n '“I’m not joking you,”',\n '“You got the mostclass of anybody I ever seen. You got it. That’s all.”',\n '“Nice of you,”',\n '“Mummy would be pleased. Couldn’t you writeit out, and I’ll send it in a letter to her.”',\n '“I’d tell her, too,”',\n '“I’m not joking you. I never jokepeople. Joke people and you make enemies. That’s what I always say.”',\n '“You’re right,”',\n '“You’re terribly right. I always joke peopleand I haven’t a friend in the world. Except Jake here.”',\n '“You don’t joke him.”',\n '“That’s it.”',\n '“Do you, now?”',\n '“Do you joke him?”',\n '“No,”',\n '“I wouldn’t joke him.”',\n '“See,”',\n '“You don’t joke him.”',\n '“This is a hell of a dull talk,”',\n '“How about some of thatchampagne?”',\n '“Itisn’t cold, yet. You’re always drinking, my dear. Why don’t you justtalk?”',\n '“I’ve talked too ruddy much. I’ve talked myself all out to Jake.”',\n '“I should like to hear you really talk, my dear. When you talk to me younever finish your sentences at all.”',\n '“Leave ’em for you to finish. Let any one finish them as they like.”',\n '“It is a very interesting system,”',\n '“Still I would like to hear you talk some time.”',\n '“Isn’t he a fool?”',\n '“Now,”',\n '“I think this is cool.”',\n '“I like todrink champagne from magnums. The wine is better but it would have beentoo hard to cool.”',\n '“I say. You might open it,”',\n '“Yes, my dear. Now I’ll open it.”',\n '“I say that is wine,”',\n '“We ought to toastsomething. ‘Here’s to royalty.’”',\n '“This wine is too good for toast-drinking, my dear. You don’t want tomix emotions up with a wine like that. You lose the taste.”',\n '“You ought to write a book on wines, count,”',\n '“Mr. Barnes,”',\n '“all I want out of wines is to enjoythem.”',\n '“Let’s enjoy a little more of this,”',\n '“There, my dear. Now you enjoy that slowly,and then you can get drunk.”',\n '“Drunk? Drunk?”',\n '“My dear, you are charming when you are drunk.”',\n '“Listen to the man.”',\n '“Mr. Barnes,”',\n '“She is the only lady Ihave ever known who was as charming when she was drunk as when she wassober.”',\n '“You haven’t been around much, have you?”',\n '“Yes, my dear. I have been around very much. I have been around a verygreat deal.”',\n '“Drink your wine,”',\n '“We’ve all been around. I dare say Jakehere has seen as much as you have.”',\n '“My dear, I am sure Mr. Barnes has seen a lot. Don’t think I don’t thinkso, sir. I have seen a lot, too.”',\n '“Of course you have, my dear,”',\n '“I was only ragging.”',\n '“I have been in seven wars and four revolutions,”',\n '“Soldiering?”',\n '“Sometimes, my dear. And I have got arrow wounds. Have you ever seenarrow wounds?”',\n '“Let’s have a look at them.”',\n '“You see them?”',\n '“Seeon the back where they come out.”',\n '“I say. Those are something.”',\n '“Clean through.”',\n '“Where did you get those?”',\n '“In Abyssinia. When I was twenty-one years old.”',\n '“What were you doing?”',\n '“Were you in the army?”',\n '“I was on a business trip, my dear.”',\n '“I told you he was one of us. Didn’t I?”',\n '“I loveyou, count. You’re a darling.”',\n '“You make me very happy, my dear. But it isn’t true.”',\n '“Don’t be an ass.”',\n '“You see, Mr. Barnes, it is because I have lived very much that now Ican enjoy everything so well. Don’t you find it like that?”',\n '“Yes. Absolutely.”',\n '“I know,”',\n '“That is the secret. You must get to know thevalues.”',\n '“Doesn’t anything ever happen to your values?”',\n '“No. Not any more.”',\n '“Never fall in love?”',\n '“Always,”',\n '“I am always in love.”',\n '“What does that do to your values?”',\n '“That, too, has got a place in my values.”',\n '“You haven’t any values. You’re dead, that’s all.”',\n '“No, my dear. You’re not right. I’m not dead at all.”',\n '“Where would you like to go?”',\n '“We might go up on the hill,”',\n '“Haven’t we had a splendidparty?”',\n '“You are very nice people,”',\n '“Whydon’t you get married, you two?”',\n '“We want to lead our own lives,”',\n '“We have our careers,”',\n '“Come on. Let’s get out of this.”',\n '“Have another brandy,”',\n '“Get it on the hill.”',\n '“No. Have it here where it is quiet.”',\n '“You and your quiet,”',\n '“What is it men feel about quiet?”',\n '“We like it,”',\n '“Like you like noise, my dear.”',\n '“All right,”',\n '“Let’s have one.”',\n '“Sommelier!”',\n '“Yes, sir.”',\n '“What is the oldest brandy you have?”',\n '“Eighteen eleven, sir.”',\n '“Bring us a bottle.”',\n '“I say. Don’t be ostentatious. Call him off, Jake.”',\n '“Listen, my dear. I get more value for my money in old brandy than inany other antiquities.”',\n '“Got many antiquities?”',\n '“I got a houseful.”',\n '“Hahre you?”',\n '“Great.”',\n '“Thaats good.”',\n '“He’s a great friend of mine,”',\n '“Damn good drummer.”',\n '“Let’s go over.”',\n '“You are a rotten dancer, Jake. Michael’s the best dancer I know.”',\n '“He’s splendid.”',\n '“He’s got his points.”',\n '“I like him,”',\n '“I’m damned fond of him.”',\n '“I’m going to marry him,”',\n '“Funny. I haven’t thought abouthim for a week.”',\n '“Don’t you write him?”',\n '“Not I. Never write letters.”',\n '“I’ll bet he writes to you.”',\n '“Rather. Damned good letters, too.”',\n '“When are you going to get married?”',\n '“How do I know? As soon as we can get the divorce. Michael’s trying toget his mother to put up for it.”',\n '“Could I help you?”',\n '“Don’t be an ass. Michael’s people have loads of money.”',\n '“Very nice,”',\n '“You looked very, very nice.”',\n '“Don’t you dance, count?”',\n '“No. I’m too old.”',\n '“Oh, come off it,”',\n '“My dear, I would do it if I would enjoy it. I enjoy to watch youdance.”',\n '“Splendid,”',\n '“I’ll dance again for you some time. I say. Whatabout your little friend, Zizi?”',\n '“Let me tell you. I support that boy, but I don’t want to have himaround.”',\n '“He is rather hard.”',\n '“You know I think that boy’s got a future. But personally I don’t wanthim around.”',\n '“Jake’s rather the same way.”',\n '“He gives me the willys.”',\n '“Well,”',\n '“About his future you can’tever tell. Anyhow, his father was a great friend of my father.”',\n '“Come on. Let’s dance,”',\n '“Oh, darling,”',\n '“I’m so miserable.”',\n '“You were happy a minute ago.”',\n '“You can’t two time—”',\n '“It’s all gone.”',\n '“What’s the matter?”',\n '“I don’t know. I just feel terribly.”',\n '“. . . . . .”',\n '“Want to go?”',\n '“. . . . . .”',\n '“Let’s go,”',\n '“You don’t mind.”',\n '“. . . . . .”',\n '“All right,”',\n '“Brett wants to go,”',\n '“Does she? That’sfine. You take the car. I’m going to stay here for a while, Mr. Barnes.”',\n '“It was a wonderful time,”',\n '“I wish you would let me get this.”',\n '“Mr. Barnes, don’t be ridiculous,”',\n '“No, don’t come up,”',\n '“Really?”',\n '“No. Please.”',\n '“Good night, Brett,”',\n '“I’m sorry you feel rotten.”',\n '“Good night, Jake. Good night, darling. I won’t see you again.”',\n '“Oh,don’t!”',\n '“Good night, sir,”',\n '“Darling. Very quiet and healthy. Love to all the chaps. BRETT.”',\n '“Jake,Budapest is wonderful.”',\n '“Back on Monday.”',\n '“Well,”',\n '“I hear you had a wonderful trip.”',\n '“Wonderful,”',\n '“Budapest is absolutely wonderful.”',\n '“How about Vienna?”',\n '“Not so good, Jake. Not so good. It seemed better than it was.”',\n '“How do you mean?”',\n '“Tight, Jake. I was tight.”',\n '“That’s strange. Better have a drink.”',\n '“Remarkable thing,”',\n '“Don’t know howit happened. Suddenly it happened.”',\n '“Last long?”',\n '“Four days, Jake. Lasted just four days.”',\n '“Where did you go?”',\n '“Don’t remember. Wrote you a post-card. Remember that perfectly.”',\n '“Do anything else?”',\n '“Not so sure. Possible.”',\n '“Go on. Tell me about it.”',\n '“Can’t remember. Tell you anything I could remember.”',\n '“Go on. Take that drink and remember.”',\n '“Might remember a little,”',\n '“Remember something about aprize-fight. Enormous Vienna prize-fight. Had a nigger in it. Rememberthe nigger perfectly.”',\n '“Go on.”',\n '“Wonderful nigger. Looked like Tiger Flowers, only four times as big.All of a sudden everybody started to throw things. Not me. Nigger’d justknocked local boy down. Nigger put up his glove. Wanted to make aspeech. Awful noble-looking nigger. Started to make a speech. Then localwhite boy hit him. Then he knocked white boy cold. Then everybodycommenced to throw chairs. Nigger went home with us in our car. Couldn’tget his clothes. Wore my coat. Remember the whole thing now. Bigsporting evening.”',\n '“What happened?”',\n '“Loaned the nigger some clothes and went around with him to try and gethis money. Claimed nigger owed them money on account of wrecking hall.Wonder who translated? Was it me?”',\n '“Probably it wasn’t you.”',\n '“You’re right. Wasn’t me at all. Was another fellow. Think we called himthe local Harvard man. Remember him now. Studying music.”',\n '“How’d you come out?”',\n '“Not so good, Jake. Injustice everywhere. Promoter claimed niggerpromised let local boy stay. Claimed nigger violated contract. Can’tknock out Vienna boy in Vienna. ‘My God, Mister Gorton,’ said nigger, ‘Ididn’t do nothing in there for forty minutes but try and let him stay.That white boy musta ruptured himself swinging at me. I never did hithim.’”',\n '“Did you get any money?”',\n '“No money, Jake. All we could get was nigger’s clothes. Somebody tookhis watch, too. Splendid nigger. Big mistake to have come to Vienna. Notso good, Jake. Not so good.”',\n '“What became of the nigger?”',\n '“Went back to Cologne. Lives there. Married. Got a family. Going towrite me a letter and send me the money I loaned him. Wonderful nigger.Hope I gave him the right address.”',\n '“You probably did.”',\n '“Well, anyway, let’s eat,”',\n '“Unless you want me to tell yousome more travel stories.”',\n '“Go on.”',\n '“Let’s eat.”',\n '“Where will we go?”',\n '“Want to eat on the island?”',\n '“Sure.”',\n '“I know who they are.”',\n '“Gentlemen who inventedpharmacy. Don’t try and fool me on Paris.”',\n '“Here’s a taxidermist’s,”',\n '“Want to buy anything? Nice stuffeddog?”',\n '“Come on,”',\n '“You’re pie-eyed.”',\n '“Pretty nice stuffed dogs,”',\n '“Certainly brighten up yourflat.”',\n '“Come on.”',\n '“Just one stuffed dog. I can take ’em or leave ’em alone. But listen,Jake. Just one stuffed dog.”',\n '“Come on.”',\n '“Mean everything in the world to you after you bought it. Simpleexchange of values. You give them money. They give you a stuffed dog.”',\n '“We’ll get one on the way back.”',\n '“All right. Have it your own way. Road to hell paved with unboughtstuffed dogs. Not my fault.”',\n ...]"
     },
     "execution_count": 171,
     "metadata": {},
     "output_type": "execute_result"
    }
   ],
   "source": [
    "quoteslist"
   ],
   "metadata": {
    "collapsed": false,
    "ExecuteTime": {
     "start_time": "2024-01-24T20:08:35.012225Z",
     "end_time": "2024-01-24T20:08:35.064598Z"
    }
   }
  }
 ],
 "metadata": {
  "kernelspec": {
   "display_name": "Python 3",
   "language": "python",
   "name": "python3"
  },
  "language_info": {
   "codemirror_mode": {
    "name": "ipython",
    "version": 2
   },
   "file_extension": ".py",
   "mimetype": "text/x-python",
   "name": "python",
   "nbconvert_exporter": "python",
   "pygments_lexer": "ipython2",
   "version": "2.7.6"
  }
 },
 "nbformat": 4,
 "nbformat_minor": 0
}
