{
 "cells": [
  {
   "cell_type": "code",
   "execution_count": 36,
   "outputs": [],
   "source": [
    "import pandas as pd\n",
    "import re"
   ],
   "metadata": {
    "collapsed": false,
    "ExecuteTime": {
     "start_time": "2024-01-23T18:23:10.282587Z",
     "end_time": "2024-01-23T18:23:10.309587Z"
    }
   }
  },
  {
   "cell_type": "code",
   "execution_count": 23,
   "metadata": {
    "collapsed": true,
    "ExecuteTime": {
     "start_time": "2024-01-23T18:14:22.089631Z",
     "end_time": "2024-01-23T18:14:22.107328Z"
    }
   },
   "outputs": [],
   "source": [
    "\n",
    "hemingwayFile = open(r'/Users/pkc/PycharmProjects/natLangProc1/SunAlsoRises/SunAlsoRises.txt','r')\n",
    "with hemingwayFile as f:\n",
    "    wholeBook= f.read()\n",
    "hemingwayFile.close()"
   ]
  },
  {
   "cell_type": "code",
   "execution_count": 24,
   "outputs": [],
   "source": [
    "fromEpigraph=wholeBook[725:]\n",
    "fromFirstSent=fromEpigraph[814:]\n",
    "chapter1= fromFirstSent[:7309]"
   ],
   "metadata": {
    "collapsed": false,
    "ExecuteTime": {
     "start_time": "2024-01-23T18:14:23.289442Z",
     "end_time": "2024-01-23T18:14:23.297205Z"
    }
   }
  },
  {
   "cell_type": "code",
   "execution_count": 26,
   "outputs": [
    {
     "data": {
      "text/plain": "5597"
     },
     "execution_count": 26,
     "metadata": {},
     "output_type": "execute_result"
    }
   ],
   "source": [
    "chapter1.index('in Alsace')"
   ],
   "metadata": {
    "collapsed": false,
    "ExecuteTime": {
     "start_time": "2024-01-23T18:14:46.248827Z",
     "end_time": "2024-01-23T18:14:46.261509Z"
    }
   }
  },
  {
   "cell_type": "code",
   "execution_count": 28,
   "outputs": [],
   "source": [
    "ch_1_dialogue= chapter1[5597:]"
   ],
   "metadata": {
    "collapsed": false,
    "ExecuteTime": {
     "start_time": "2024-01-23T18:15:33.866822Z",
     "end_time": "2024-01-23T18:15:33.883328Z"
    }
   }
  },
  {
   "cell_type": "code",
   "execution_count": 37,
   "outputs": [
    {
     "data": {
      "text/plain": "'in Alsace.\\n“I know a girl in Strasbourg who can show us the town,” I said.\\n\\nSomebody kicked me under the table. I thought it was accidental and went\\non: “She’s been there two years and knows everything there is to know\\nabout the town. She’s a swell girl.”\\n\\nI was kicked again under the table and, looking, saw Frances, Robert’s\\nlady, her chin lifting and her face hardening.\\n\\n“Hell,” I said, “why go to Strasbourg? We could go up to Bruges, or to\\nthe Ardennes.”\\n\\nCohn looked relieved. I was not kicked again. I said good-night and went\\nout. Cohn said he wanted to buy a paper and would walk to the corner\\nwith me. “For God’s sake,” he said, “why did you say that about that\\ngirl in Strasbourg for? Didn’t you see Frances?”\\n\\n“No, why should I? If I know an American girl that lives in Strasbourg\\nwhat the hell is it to Frances?”\\n\\n“It doesn’t make any difference. Any girl. I couldn’t go, that would be\\nall.”\\n\\n“Don’t be silly.”\\n\\n“You don’t know Frances. Any girl at all. Didn’t you see the way she\\nlooked?”\\n\\n“Oh, well,” I said, “let’s go to Senlis.”\\n\\n“Don’t get sore.”\\n\\n“I’m not sore. Senlis is a good place and we can stay at the Grand Cerf\\nand take a hike in the woods and come home.”\\n\\n“Good, that will be fine.”\\n\\n“Well, I’ll see you to-morrow at the courts,” I said.\\n\\n“Good-night, Jake,” he said, and started back to the café.\\n\\n“You forgot to get your paper,” I said.\\n\\n“That’s so.” He walked with me up to the kiosque at the corner. “You are\\nnot sore, are you, Jake?” He turned with the paper in his hand.\\n\\n“No, why should I be?”\\n\\n“See you at tennis,” he said. I watched him walk back to the café\\nholding his paper. I rather liked him and evidently she led him quite a\\nlife.\\n\\n\\n\\n\\n                                '"
     },
     "execution_count": 37,
     "metadata": {},
     "output_type": "execute_result"
    }
   ],
   "source": [
    "ch_1_dialogue"
   ],
   "metadata": {
    "collapsed": false,
    "ExecuteTime": {
     "start_time": "2024-01-23T19:10:04.051599Z",
     "end_time": "2024-01-23T19:10:04.065481Z"
    }
   }
  },
  {
   "cell_type": "code",
   "execution_count": 50,
   "outputs": [],
   "source": [
    "ch_1= ch_1_dialogue.split('\\n')"
   ],
   "metadata": {
    "collapsed": false,
    "ExecuteTime": {
     "start_time": "2024-01-23T19:17:05.210775Z",
     "end_time": "2024-01-23T19:17:05.221081Z"
    }
   }
  },
  {
   "cell_type": "code",
   "execution_count": 51,
   "outputs": [
    {
     "data": {
      "text/plain": "['in Alsace.',\n '“I know a girl in Strasbourg who can show us the town,” I said.',\n '',\n 'Somebody kicked me under the table. I thought it was accidental and went',\n 'on: “She’s been there two years and knows everything there is to know',\n 'about the town. She’s a swell girl.”',\n '',\n 'I was kicked again under the table and, looking, saw Frances, Robert’s',\n 'lady, her chin lifting and her face hardening.',\n '',\n '“Hell,” I said, “why go to Strasbourg? We could go up to Bruges, or to',\n 'the Ardennes.”',\n '',\n 'Cohn looked relieved. I was not kicked again. I said good-night and went',\n 'out. Cohn said he wanted to buy a paper and would walk to the corner',\n 'with me. “For God’s sake,” he said, “why did you say that about that',\n 'girl in Strasbourg for? Didn’t you see Frances?”',\n '',\n '“No, why should I? If I know an American girl that lives in Strasbourg',\n 'what the hell is it to Frances?”',\n '',\n '“It doesn’t make any difference. Any girl. I couldn’t go, that would be',\n 'all.”',\n '',\n '“Don’t be silly.”',\n '',\n '“You don’t know Frances. Any girl at all. Didn’t you see the way she',\n 'looked?”',\n '',\n '“Oh, well,” I said, “let’s go to Senlis.”',\n '',\n '“Don’t get sore.”',\n '',\n '“I’m not sore. Senlis is a good place and we can stay at the Grand Cerf',\n 'and take a hike in the woods and come home.”',\n '',\n '“Good, that will be fine.”',\n '',\n '“Well, I’ll see you to-morrow at the courts,” I said.',\n '',\n '“Good-night, Jake,” he said, and started back to the café.',\n '',\n '“You forgot to get your paper,” I said.',\n '',\n '“That’s so.” He walked with me up to the kiosque at the corner. “You are',\n 'not sore, are you, Jake?” He turned with the paper in his hand.',\n '',\n '“No, why should I be?”',\n '',\n '“See you at tennis,” he said. I watched him walk back to the café',\n 'holding his paper. I rather liked him and evidently she led him quite a',\n 'life.',\n '',\n '',\n '',\n '',\n '                                ']"
     },
     "execution_count": 51,
     "metadata": {},
     "output_type": "execute_result"
    }
   ],
   "source": [
    "ch_1"
   ],
   "metadata": {
    "collapsed": false,
    "ExecuteTime": {
     "start_time": "2024-01-23T19:17:13.865197Z",
     "end_time": "2024-01-23T19:17:13.900541Z"
    }
   }
  },
  {
   "cell_type": "code",
   "execution_count": 46,
   "outputs": [],
   "source": [
    "matchQuote= re.search(r'“(.|\\n)*”',ch_1_dialogue)"
   ],
   "metadata": {
    "collapsed": false,
    "ExecuteTime": {
     "start_time": "2024-01-23T19:15:40.321264Z",
     "end_time": "2024-01-23T19:15:40.339146Z"
    }
   }
  },
  {
   "cell_type": "code",
   "execution_count": null,
   "outputs": [],
   "source": [],
   "metadata": {
    "collapsed": false
   }
  },
  {
   "cell_type": "code",
   "execution_count": 48,
   "outputs": [
    {
     "data": {
      "text/plain": "'“I know a girl in Strasbourg who can show us the town,” I said.\\n\\nSomebody kicked me under the table. I thought it was accidental and went\\non: “She’s been there two years and knows everything there is to know\\nabout the town. She’s a swell girl.”\\n\\nI was kicked again under the table and, looking, saw Frances, Robert’s\\nlady, her chin lifting and her face hardening.\\n\\n“Hell,” I said, “why go to Strasbourg? We could go up to Bruges, or to\\nthe Ardennes.”\\n\\nCohn looked relieved. I was not kicked again. I said good-night and went\\nout. Cohn said he wanted to buy a paper and would walk to the corner\\nwith me. “For God’s sake,” he said, “why did you say that about that\\ngirl in Strasbourg for? Didn’t you see Frances?”\\n\\n“No, why should I? If I know an American girl that lives in Strasbourg\\nwhat the hell is it to Frances?”\\n\\n“It doesn’t make any difference. Any girl. I couldn’t go, that would be\\nall.”\\n\\n“Don’t be silly.”\\n\\n“You don’t know Frances. Any girl at all. Didn’t you see the way she\\nlooked?”\\n\\n“Oh, well,” I said, “let’s go to Senlis.”\\n\\n“Don’t get sore.”\\n\\n“I’m not sore. Senlis is a good place and we can stay at the Grand Cerf\\nand take a hike in the woods and come home.”\\n\\n“Good, that will be fine.”\\n\\n“Well, I’ll see you to-morrow at the courts,” I said.\\n\\n“Good-night, Jake,” he said, and started back to the café.\\n\\n“You forgot to get your paper,” I said.\\n\\n“That’s so.” He walked with me up to the kiosque at the corner. “You are\\nnot sore, are you, Jake?” He turned with the paper in his hand.\\n\\n“No, why should I be?”\\n\\n“See you at tennis,”'"
     },
     "execution_count": 48,
     "metadata": {},
     "output_type": "execute_result"
    }
   ],
   "source": [],
   "metadata": {
    "collapsed": false,
    "ExecuteTime": {
     "start_time": "2024-01-23T19:15:54.128883Z",
     "end_time": "2024-01-23T19:15:54.142360Z"
    }
   }
  }
 ],
 "metadata": {
  "kernelspec": {
   "display_name": "Python 3",
   "language": "python",
   "name": "python3"
  },
  "language_info": {
   "codemirror_mode": {
    "name": "ipython",
    "version": 2
   },
   "file_extension": ".py",
   "mimetype": "text/x-python",
   "name": "python",
   "nbconvert_exporter": "python",
   "pygments_lexer": "ipython2",
   "version": "2.7.6"
  }
 },
 "nbformat": 4,
 "nbformat_minor": 0
}
