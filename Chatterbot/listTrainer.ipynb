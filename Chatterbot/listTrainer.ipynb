{
 "cells": [
  {
   "cell_type": "code",
   "execution_count": 10,
   "metadata": {
    "collapsed": true,
    "ExecuteTime": {
     "start_time": "2024-01-12T14:11:15.543480Z",
     "end_time": "2024-01-12T14:11:15.656284Z"
    }
   },
   "outputs": [],
   "source": [
    "from chatterbot import ChatBot\n",
    "from chatterbot.trainers import ListTrainer"
   ]
  },
  {
   "cell_type": "code",
   "execution_count": 11,
   "outputs": [],
   "source": [
    "chatbot= ChatBot('ELijahBot')"
   ],
   "metadata": {
    "collapsed": false,
    "ExecuteTime": {
     "start_time": "2024-01-12T14:11:15.566885Z",
     "end_time": "2024-01-12T14:11:17.428385Z"
    }
   }
  },
  {
   "cell_type": "code",
   "execution_count": 12,
   "outputs": [],
   "source": [
    "conversation= [\n",
    "    'Shipmates, have ye shipped in that ship?',\n",
    "    'Have ye shipped in her?',\n",
    "    'ye haven\\'t seen Old Thunder yet, have ye?',\n",
    "    'morning to ye, shipmates, morning',\n",
    "    'the ineffable heavens bless thee'\n",
    "]\n"
   ],
   "metadata": {
    "collapsed": false,
    "ExecuteTime": {
     "start_time": "2024-01-12T14:11:17.431280Z",
     "end_time": "2024-01-12T14:11:17.447076Z"
    }
   }
  },
  {
   "cell_type": "code",
   "execution_count": 13,
   "outputs": [
    {
     "name": "stdout",
     "output_type": "stream",
     "text": [
      "List Trainer: [####################] 100%\r\n"
     ]
    }
   ],
   "source": [
    "trainer= ListTrainer(chatbot)\n",
    "trainer.train(conversation)"
   ],
   "metadata": {
    "collapsed": false,
    "ExecuteTime": {
     "start_time": "2024-01-12T14:11:17.446242Z",
     "end_time": "2024-01-12T14:11:17.683214Z"
    }
   }
  },
  {
   "cell_type": "code",
   "execution_count": 14,
   "outputs": [],
   "source": [
    "response= chatbot.get_response('hullo')"
   ],
   "metadata": {
    "collapsed": false,
    "ExecuteTime": {
     "start_time": "2024-01-12T14:11:17.599745Z",
     "end_time": "2024-01-12T14:11:17.920517Z"
    }
   }
  },
  {
   "cell_type": "code",
   "execution_count": 15,
   "outputs": [],
   "source": [
    "response2= chatbot.get_response('farethewell')"
   ],
   "metadata": {
    "collapsed": false,
    "ExecuteTime": {
     "start_time": "2024-01-12T14:11:17.849487Z",
     "end_time": "2024-01-12T14:11:18.049850Z"
    }
   }
  },
  {
   "cell_type": "code",
   "execution_count": 16,
   "outputs": [
    {
     "name": "stdout",
     "output_type": "stream",
     "text": [
      "work for free. we don't need money.\n"
     ]
    }
   ],
   "source": [
    "print(response)"
   ],
   "metadata": {
    "collapsed": false,
    "ExecuteTime": {
     "start_time": "2024-01-12T14:11:18.004701Z",
     "end_time": "2024-01-12T14:11:18.078245Z"
    }
   }
  },
  {
   "cell_type": "code",
   "execution_count": 17,
   "outputs": [
    {
     "name": "stdout",
     "output_type": "stream",
     "text": [
      "i certainly am. i shouldn't try so hard.\n"
     ]
    }
   ],
   "source": [
    "print(response2)"
   ],
   "metadata": {
    "collapsed": false,
    "ExecuteTime": {
     "start_time": "2024-01-12T14:11:18.016487Z",
     "end_time": "2024-01-12T14:11:18.079182Z"
    }
   }
  }
 ],
 "metadata": {
  "kernelspec": {
   "display_name": "Python 3",
   "language": "python",
   "name": "python3"
  },
  "language_info": {
   "codemirror_mode": {
    "name": "ipython",
    "version": 2
   },
   "file_extension": ".py",
   "mimetype": "text/x-python",
   "name": "python",
   "nbconvert_exporter": "python",
   "pygments_lexer": "ipython2",
   "version": "2.7.6"
  }
 },
 "nbformat": 4,
 "nbformat_minor": 0
}
