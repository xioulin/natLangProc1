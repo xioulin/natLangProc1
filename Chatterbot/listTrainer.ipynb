{
 "cells": [
  {
   "cell_type": "code",
   "execution_count": 2,
   "metadata": {
    "collapsed": true,
    "ExecuteTime": {
     "start_time": "2024-01-16T17:35:44.976944Z",
     "end_time": "2024-01-16T17:35:45.014465Z"
    }
   },
   "outputs": [],
   "source": [
    "from chatterbot import ChatBot\n",
    "from chatterbot.trainers import ListTrainer"
   ]
  },
  {
   "cell_type": "code",
   "execution_count": 3,
   "outputs": [],
   "source": [
    "chatbot= ChatBot('ELijahBot')"
   ],
   "metadata": {
    "collapsed": false,
    "ExecuteTime": {
     "start_time": "2024-01-16T17:35:44.992761Z",
     "end_time": "2024-01-16T17:35:50.511479Z"
    }
   }
  },
  {
   "cell_type": "code",
   "execution_count": 4,
   "outputs": [],
   "source": [
    "conversation= [\n",
    "    'Shipmates, have ye shipped in that ship?',\n",
    "    'Have ye shipped in her?',\n",
    "    'ye haven\\'t seen Old Thunder yet, have ye?',\n",
    "    'morning to ye, shipmates, morning',\n",
    "    'the ineffable heavens bless thee'\n",
    "]\n"
   ],
   "metadata": {
    "collapsed": false,
    "ExecuteTime": {
     "start_time": "2024-01-16T17:35:50.519852Z",
     "end_time": "2024-01-16T17:35:50.717043Z"
    }
   }
  },
  {
   "cell_type": "code",
   "execution_count": 5,
   "outputs": [
    {
     "name": "stdout",
     "output_type": "stream",
     "text": [
      "List Trainer: [####################] 100%\r\n"
     ]
    }
   ],
   "source": [
    "trainer= ListTrainer(chatbot)\n",
    "trainer.train(conversation)"
   ],
   "metadata": {
    "collapsed": false,
    "ExecuteTime": {
     "start_time": "2024-01-16T17:35:50.565292Z",
     "end_time": "2024-01-16T17:35:50.815504Z"
    }
   }
  },
  {
   "cell_type": "code",
   "execution_count": 6,
   "outputs": [],
   "source": [
    "response= chatbot.get_response('hullo')"
   ],
   "metadata": {
    "collapsed": false,
    "ExecuteTime": {
     "start_time": "2024-01-16T17:35:50.819743Z",
     "end_time": "2024-01-16T17:35:51.068102Z"
    }
   }
  },
  {
   "cell_type": "code",
   "execution_count": 7,
   "outputs": [],
   "source": [
    "response2= chatbot.get_response('farethewell')"
   ],
   "metadata": {
    "collapsed": false,
    "ExecuteTime": {
     "start_time": "2024-01-16T17:35:51.074855Z",
     "end_time": "2024-01-16T17:35:51.340093Z"
    }
   }
  },
  {
   "cell_type": "code",
   "execution_count": 8,
   "outputs": [
    {
     "name": "stdout",
     "output_type": "stream",
     "text": [
      "Yes.\n"
     ]
    }
   ],
   "source": [
    "print(response)"
   ],
   "metadata": {
    "collapsed": false,
    "ExecuteTime": {
     "start_time": "2024-01-16T17:35:51.344424Z",
     "end_time": "2024-01-16T17:35:51.355040Z"
    }
   }
  },
  {
   "cell_type": "code",
   "execution_count": 9,
   "outputs": [
    {
     "name": "stdout",
     "output_type": "stream",
     "text": [
      "I wouldn't say \"never.\" \"Sometimes.\"\n"
     ]
    }
   ],
   "source": [
    "print(response2)"
   ],
   "metadata": {
    "collapsed": false,
    "ExecuteTime": {
     "start_time": "2024-01-16T17:35:51.355686Z",
     "end_time": "2024-01-16T17:35:51.399028Z"
    }
   }
  }
 ],
 "metadata": {
  "kernelspec": {
   "display_name": "Python 3",
   "language": "python",
   "name": "python3"
  },
  "language_info": {
   "codemirror_mode": {
    "name": "ipython",
    "version": 2
   },
   "file_extension": ".py",
   "mimetype": "text/x-python",
   "name": "python",
   "nbconvert_exporter": "python",
   "pygments_lexer": "ipython2",
   "version": "2.7.6"
  }
 },
 "nbformat": 4,
 "nbformat_minor": 0
}
