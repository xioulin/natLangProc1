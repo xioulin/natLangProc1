{
 "cells": [
  {
   "cell_type": "code",
   "execution_count": 16,
   "outputs": [],
   "source": [
    "from chatterbot import ChatBot\n",
    "import pandas as pd\n",
    "from chatterbot.trainers import ListTrainer"
   ],
   "metadata": {
    "collapsed": false,
    "ExecuteTime": {
     "end_time": "2024-01-29T23:29:22.517850Z",
     "start_time": "2024-01-29T23:29:22.466663Z"
    }
   }
  },
  {
   "cell_type": "code",
   "execution_count": 64,
   "outputs": [],
   "source": [
    "df_quotes = pd.read_pickle('/Users/pkc/PycharmProjects/natLangProc1/TSAR/df_quotes.pickle')"
   ],
   "metadata": {
    "collapsed": false,
    "ExecuteTime": {
     "end_time": "2024-01-30T00:30:20.040374Z",
     "start_time": "2024-01-30T00:30:20.011355Z"
    }
   }
  },
  {
   "cell_type": "code",
   "execution_count": 65,
   "outputs": [],
   "source": [
    "quotes_to_list = df_quotes.quotes.tolist()"
   ],
   "metadata": {
    "collapsed": false,
    "ExecuteTime": {
     "end_time": "2024-01-30T00:30:20.965569Z",
     "start_time": "2024-01-30T00:30:20.943691Z"
    }
   }
  },
  {
   "cell_type": "code",
   "execution_count": 66,
   "outputs": [],
   "source": [
    "remove_quotes= [i.replace('“','') for i in quotes_to_list]"
   ],
   "metadata": {
    "collapsed": false,
    "ExecuteTime": {
     "end_time": "2024-01-30T00:30:22.094807Z",
     "start_time": "2024-01-30T00:30:22.072239Z"
    }
   }
  },
  {
   "cell_type": "code",
   "execution_count": 67,
   "outputs": [],
   "source": [
    "remove_quotes= [i.replace('”','') for i in remove_quotes]"
   ],
   "metadata": {
    "collapsed": false,
    "ExecuteTime": {
     "end_time": "2024-01-30T00:30:22.927210Z",
     "start_time": "2024-01-30T00:30:22.891264Z"
    }
   }
  },
  {
   "cell_type": "code",
   "execution_count": 68,
   "outputs": [
    {
     "data": {
      "text/plain": "['I know a girl in Strasbourg who can show us the town,',\n 'She’s been there two years and knows everything there is to knowabout the town. She’s a swell girl.',\n 'Hell,',\n 'why go to Strasbourg? We could go up to Bruges, or tothe Ardennes.',\n 'For God’s sake,']"
     },
     "execution_count": 68,
     "metadata": {},
     "output_type": "execute_result"
    }
   ],
   "source": [
    "remove_quotes[:5]"
   ],
   "metadata": {
    "collapsed": false,
    "ExecuteTime": {
     "end_time": "2024-01-30T00:30:23.671054Z",
     "start_time": "2024-01-30T00:30:23.635687Z"
    }
   }
  },
  {
   "cell_type": "markdown",
   "source": [],
   "metadata": {
    "collapsed": false
   }
  },
  {
   "cell_type": "code",
   "execution_count": 69,
   "outputs": [],
   "source": [
    "comma_quotes = [i[:-1] if i[-1]==\",\" else i for i in remove_quotes]"
   ],
   "metadata": {
    "collapsed": false,
    "ExecuteTime": {
     "end_time": "2024-01-30T00:31:51.932045Z",
     "start_time": "2024-01-30T00:31:51.919943Z"
    }
   }
  },
  {
   "cell_type": "code",
   "execution_count": 71,
   "outputs": [
    {
     "data": {
      "text/plain": "['I know a girl in Strasbourg who can show us the town',\n 'She’s been there two years and knows everything there is to knowabout the town. She’s a swell girl.',\n 'Hell',\n 'why go to Strasbourg? We could go up to Bruges, or tothe Ardennes.',\n 'For God’s sake']"
     },
     "execution_count": 71,
     "metadata": {},
     "output_type": "execute_result"
    }
   ],
   "source": [
    "comma_quotes[:5]"
   ],
   "metadata": {
    "collapsed": false,
    "ExecuteTime": {
     "end_time": "2024-01-30T00:32:10.219333Z",
     "start_time": "2024-01-30T00:32:10.197516Z"
    }
   }
  },
  {
   "cell_type": "code",
   "execution_count": 73,
   "outputs": [],
   "source": [
    "df_cleaner_TSARchat= pd.DataFrame(comma_quotes)"
   ],
   "metadata": {
    "collapsed": false,
    "ExecuteTime": {
     "end_time": "2024-01-30T00:35:55.982549Z",
     "start_time": "2024-01-30T00:35:55.969210Z"
    }
   }
  },
  {
   "cell_type": "code",
   "execution_count": 75,
   "outputs": [
    {
     "data": {
      "text/plain": "RangeIndex(start=0, stop=1, step=1)"
     },
     "execution_count": 75,
     "metadata": {},
     "output_type": "execute_result"
    }
   ],
   "source": [
    "df_cleaner_TSARchat.columns"
   ],
   "metadata": {
    "collapsed": false,
    "ExecuteTime": {
     "end_time": "2024-01-30T00:36:12.756455Z",
     "start_time": "2024-01-30T00:36:12.732493Z"
    }
   }
  },
  {
   "cell_type": "code",
   "execution_count": 76,
   "outputs": [
    {
     "data": {
      "text/plain": "                                                      0\n0     I know a girl in Strasbourg who can show us th...\n1     She’s been there two years and knows everythin...\n2                                                  Hell\n3     why go to Strasbourg? We could go up to Bruges...\n4                                        For God’s sake\n...                                                 ...\n3309                                   I’ll finish this\n3310                                           Oh, Jake\n3311  we could have had such a damned good timetoget...\n3312                                                Yes\n3313                       Isn’t it pretty to think so?\n\n[3314 rows x 1 columns]",
      "text/html": "<div>\n<style scoped>\n    .dataframe tbody tr th:only-of-type {\n        vertical-align: middle;\n    }\n\n    .dataframe tbody tr th {\n        vertical-align: top;\n    }\n\n    .dataframe thead th {\n        text-align: right;\n    }\n</style>\n<table border=\"1\" class=\"dataframe\">\n  <thead>\n    <tr style=\"text-align: right;\">\n      <th></th>\n      <th>0</th>\n    </tr>\n  </thead>\n  <tbody>\n    <tr>\n      <th>0</th>\n      <td>I know a girl in Strasbourg who can show us th...</td>\n    </tr>\n    <tr>\n      <th>1</th>\n      <td>She’s been there two years and knows everythin...</td>\n    </tr>\n    <tr>\n      <th>2</th>\n      <td>Hell</td>\n    </tr>\n    <tr>\n      <th>3</th>\n      <td>why go to Strasbourg? We could go up to Bruges...</td>\n    </tr>\n    <tr>\n      <th>4</th>\n      <td>For God’s sake</td>\n    </tr>\n    <tr>\n      <th>...</th>\n      <td>...</td>\n    </tr>\n    <tr>\n      <th>3309</th>\n      <td>I’ll finish this</td>\n    </tr>\n    <tr>\n      <th>3310</th>\n      <td>Oh, Jake</td>\n    </tr>\n    <tr>\n      <th>3311</th>\n      <td>we could have had such a damned good timetoget...</td>\n    </tr>\n    <tr>\n      <th>3312</th>\n      <td>Yes</td>\n    </tr>\n    <tr>\n      <th>3313</th>\n      <td>Isn’t it pretty to think so?</td>\n    </tr>\n  </tbody>\n</table>\n<p>3314 rows × 1 columns</p>\n</div>"
     },
     "execution_count": 76,
     "metadata": {},
     "output_type": "execute_result"
    }
   ],
   "source": [
    "df_cleaner_TSARchat"
   ],
   "metadata": {
    "collapsed": false,
    "ExecuteTime": {
     "end_time": "2024-01-30T00:37:33.338159Z",
     "start_time": "2024-01-30T00:37:33.267058Z"
    }
   }
  },
  {
   "cell_type": "code",
   "execution_count": 77,
   "outputs": [
    {
     "data": {
      "text/plain": "                                                 quotes\n0     I know a girl in Strasbourg who can show us th...\n1     She’s been there two years and knows everythin...\n2                                                  Hell\n3     why go to Strasbourg? We could go up to Bruges...\n4                                        For God’s sake\n...                                                 ...\n3309                                   I’ll finish this\n3310                                           Oh, Jake\n3311  we could have had such a damned good timetoget...\n3312                                                Yes\n3313                       Isn’t it pretty to think so?\n\n[3314 rows x 1 columns]",
      "text/html": "<div>\n<style scoped>\n    .dataframe tbody tr th:only-of-type {\n        vertical-align: middle;\n    }\n\n    .dataframe tbody tr th {\n        vertical-align: top;\n    }\n\n    .dataframe thead th {\n        text-align: right;\n    }\n</style>\n<table border=\"1\" class=\"dataframe\">\n  <thead>\n    <tr style=\"text-align: right;\">\n      <th></th>\n      <th>quotes</th>\n    </tr>\n  </thead>\n  <tbody>\n    <tr>\n      <th>0</th>\n      <td>I know a girl in Strasbourg who can show us th...</td>\n    </tr>\n    <tr>\n      <th>1</th>\n      <td>She’s been there two years and knows everythin...</td>\n    </tr>\n    <tr>\n      <th>2</th>\n      <td>Hell</td>\n    </tr>\n    <tr>\n      <th>3</th>\n      <td>why go to Strasbourg? We could go up to Bruges...</td>\n    </tr>\n    <tr>\n      <th>4</th>\n      <td>For God’s sake</td>\n    </tr>\n    <tr>\n      <th>...</th>\n      <td>...</td>\n    </tr>\n    <tr>\n      <th>3309</th>\n      <td>I’ll finish this</td>\n    </tr>\n    <tr>\n      <th>3310</th>\n      <td>Oh, Jake</td>\n    </tr>\n    <tr>\n      <th>3311</th>\n      <td>we could have had such a damned good timetoget...</td>\n    </tr>\n    <tr>\n      <th>3312</th>\n      <td>Yes</td>\n    </tr>\n    <tr>\n      <th>3313</th>\n      <td>Isn’t it pretty to think so?</td>\n    </tr>\n  </tbody>\n</table>\n<p>3314 rows × 1 columns</p>\n</div>"
     },
     "execution_count": 77,
     "metadata": {},
     "output_type": "execute_result"
    }
   ],
   "source": [
    "df_cleaner_TSARchat.rename(columns={0:'quotes'})"
   ],
   "metadata": {
    "collapsed": false,
    "ExecuteTime": {
     "end_time": "2024-01-30T00:37:51.203805Z",
     "start_time": "2024-01-30T00:37:51.110948Z"
    }
   }
  },
  {
   "cell_type": "code",
   "execution_count": 78,
   "outputs": [],
   "source": [
    "df_cleaner_TSARchat.to_pickle('cleaner_chat.pickle')"
   ],
   "metadata": {
    "collapsed": false,
    "ExecuteTime": {
     "end_time": "2024-01-30T00:38:10.985144Z",
     "start_time": "2024-01-30T00:38:10.961513Z"
    }
   }
  },
  {
   "cell_type": "code",
   "execution_count": 19,
   "outputs": [],
   "source": [
    "bot = ChatBot(\n",
    "    'TSAR',\n",
    "    storage_adapter='chatterbot.storage.SQLStorageAdapter',\n",
    "    database_uri= 'sqlite:///TSARchat.db',\n",
    "    logic_adapters=[\n",
    "        'chatterbot.logic.MathematicalEvaluation',\n",
    "        'chatterbot.logic.BestMatch'\n",
    "    ]\n",
    ")"
   ],
   "metadata": {
    "collapsed": false,
    "ExecuteTime": {
     "end_time": "2024-01-29T23:29:29.224662Z",
     "start_time": "2024-01-29T23:29:25.394177Z"
    }
   }
  },
  {
   "cell_type": "code",
   "execution_count": 20,
   "outputs": [],
   "source": [
    "trainer = ListTrainer(bot)"
   ],
   "metadata": {
    "collapsed": false,
    "ExecuteTime": {
     "end_time": "2024-01-29T23:29:29.239635Z",
     "start_time": "2024-01-29T23:29:29.231284Z"
    }
   }
  },
  {
   "cell_type": "code",
   "execution_count": 21,
   "outputs": [
    {
     "name": "stdout",
     "output_type": "stream",
     "text": [
      "List Trainer: [####################] 100%\r\n"
     ]
    }
   ],
   "source": [
    "trainer.train(quotes_to_list)"
   ],
   "metadata": {
    "collapsed": false,
    "ExecuteTime": {
     "end_time": "2024-01-29T23:30:50.482030Z",
     "start_time": "2024-01-29T23:29:46.900329Z"
    }
   }
  },
  {
   "cell_type": "code",
   "execution_count": 23,
   "outputs": [
    {
     "name": "stdout",
     "output_type": "stream",
     "text": [
      "how goes it “I’m so glad you’re here, Jake. I’ve been wanting totalk to you.”\n",
      "end “Where are your friends?”\n"
     ]
    }
   ],
   "source": [
    "while True:\n",
    "    try:\n",
    "        if input() == 'end':\n",
    "            break\n",
    "        bot_input = bot.get_response(input())\n",
    "        print(input(),bot_input)\n",
    "    except(KeyboardInterrupt, EOFError, SystemExit):\n",
    "        break"
   ],
   "metadata": {
    "collapsed": false,
    "ExecuteTime": {
     "end_time": "2024-01-29T23:32:57.440018Z",
     "start_time": "2024-01-29T23:32:24.191917Z"
    }
   }
  },
  {
   "cell_type": "code",
   "execution_count": null,
   "outputs": [],
   "source": [],
   "metadata": {
    "collapsed": false
   }
  }
 ],
 "metadata": {
  "kernelspec": {
   "display_name": "Python 3",
   "language": "python",
   "name": "python3"
  },
  "language_info": {
   "codemirror_mode": {
    "name": "ipython",
    "version": 2
   },
   "file_extension": ".py",
   "mimetype": "text/x-python",
   "name": "python",
   "nbconvert_exporter": "python",
   "pygments_lexer": "ipython2",
   "version": "2.7.6"
  }
 },
 "nbformat": 4,
 "nbformat_minor": 0
}
