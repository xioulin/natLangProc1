{
 "cells": [
  {
   "cell_type": "code",
   "execution_count": 1,
   "outputs": [],
   "source": [
    "from chatterbot import ChatBot"
   ],
   "metadata": {
    "collapsed": false,
    "ExecuteTime": {
     "end_time": "2024-01-27T23:40:57.022781Z",
     "start_time": "2024-01-27T23:40:56.871375Z"
    }
   }
  },
  {
   "cell_type": "code",
   "execution_count": 2,
   "outputs": [],
   "source": [
    "bot = ChatBot(\n",
    "    'TSAR',\n",
    "    storage_adapter='chatterbot.storage.SQLStorageAdapter',\n",
    "    database_uri= 'sqlite:///TSARchat.db',\n",
    "    # logic_adapters=[\n",
    "    #     'chatterbot.logic.MathematicalEvaluation',\n",
    "    #     'chatterbot.logic.TimeLogicAdapter'\n",
    "    # ]\n",
    ")"
   ],
   "metadata": {
    "collapsed": false,
    "ExecuteTime": {
     "end_time": "2024-01-27T23:41:01.427405Z",
     "start_time": "2024-01-27T23:40:57.034374Z"
    }
   }
  },
  {
   "cell_type": "code",
   "execution_count": 3,
   "outputs": [
    {
     "name": "stdout",
     "output_type": "stream",
     "text": [
      "nay\n",
      "hi\n",
      "hi\n"
     ]
    }
   ],
   "source": [
    "while True:\n",
    "    try:\n",
    "        if input() == 'end':\n",
    "            break\n",
    "        bot_input = bot.get_response(input())\n",
    "        print(bot_input)\n",
    "    except(KeyboardInterrupt, EOFError, SystemExit):\n",
    "        break"
   ],
   "metadata": {
    "collapsed": false,
    "ExecuteTime": {
     "end_time": "2024-01-27T23:41:18.485189Z",
     "start_time": "2024-01-27T23:41:01.431460Z"
    }
   }
  }
 ],
 "metadata": {
  "kernelspec": {
   "display_name": "Python 3",
   "language": "python",
   "name": "python3"
  },
  "language_info": {
   "codemirror_mode": {
    "name": "ipython",
    "version": 2
   },
   "file_extension": ".py",
   "mimetype": "text/x-python",
   "name": "python",
   "nbconvert_exporter": "python",
   "pygments_lexer": "ipython2",
   "version": "2.7.6"
  }
 },
 "nbformat": 4,
 "nbformat_minor": 0
}
