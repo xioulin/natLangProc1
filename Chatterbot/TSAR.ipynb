{
 "cells": [
  {
   "cell_type": "code",
   "execution_count": 16,
   "outputs": [],
   "source": [
    "from chatterbot import ChatBot\n",
    "import pandas as pd\n",
    "from chatterbot.trainers import ListTrainer"
   ],
   "metadata": {
    "collapsed": false,
    "ExecuteTime": {
     "end_time": "2024-01-29T23:29:22.517850Z",
     "start_time": "2024-01-29T23:29:22.466663Z"
    }
   }
  },
  {
   "cell_type": "code",
   "execution_count": 17,
   "outputs": [],
   "source": [
    "df_quotes = pd.read_pickle('/Users/pkc/PycharmProjects/natLangProc1/TSAR/df_quotes.pickle')"
   ],
   "metadata": {
    "collapsed": false,
    "ExecuteTime": {
     "end_time": "2024-01-29T23:29:23.559321Z",
     "start_time": "2024-01-29T23:29:23.535210Z"
    }
   }
  },
  {
   "cell_type": "code",
   "execution_count": 18,
   "outputs": [],
   "source": [
    "quotes_to_list = df_quotes.quotes.tolist()"
   ],
   "metadata": {
    "collapsed": false,
    "ExecuteTime": {
     "end_time": "2024-01-29T23:29:24.329980Z",
     "start_time": "2024-01-29T23:29:24.320858Z"
    }
   }
  },
  {
   "cell_type": "code",
   "execution_count": 19,
   "outputs": [],
   "source": [
    "bot = ChatBot(\n",
    "    'TSAR',\n",
    "    storage_adapter='chatterbot.storage.SQLStorageAdapter',\n",
    "    database_uri= 'sqlite:///TSARchat.db',\n",
    "    logic_adapters=[\n",
    "        'chatterbot.logic.MathematicalEvaluation',\n",
    "        'chatterbot.logic.BestMatch'\n",
    "    ]\n",
    ")"
   ],
   "metadata": {
    "collapsed": false,
    "ExecuteTime": {
     "end_time": "2024-01-29T23:29:29.224662Z",
     "start_time": "2024-01-29T23:29:25.394177Z"
    }
   }
  },
  {
   "cell_type": "code",
   "execution_count": 20,
   "outputs": [],
   "source": [
    "trainer = ListTrainer(bot)"
   ],
   "metadata": {
    "collapsed": false,
    "ExecuteTime": {
     "end_time": "2024-01-29T23:29:29.239635Z",
     "start_time": "2024-01-29T23:29:29.231284Z"
    }
   }
  },
  {
   "cell_type": "code",
   "execution_count": 21,
   "outputs": [
    {
     "name": "stdout",
     "output_type": "stream",
     "text": [
      "List Trainer: [####################] 100%\r\n"
     ]
    }
   ],
   "source": [
    "trainer.train(quotes_to_list)"
   ],
   "metadata": {
    "collapsed": false,
    "ExecuteTime": {
     "end_time": "2024-01-29T23:30:50.482030Z",
     "start_time": "2024-01-29T23:29:46.900329Z"
    }
   }
  },
  {
   "cell_type": "code",
   "execution_count": 23,
   "outputs": [
    {
     "name": "stdout",
     "output_type": "stream",
     "text": [
      "how goes it “I’m so glad you’re here, Jake. I’ve been wanting totalk to you.”\n",
      "end “Where are your friends?”\n"
     ]
    }
   ],
   "source": [
    "while True:\n",
    "    try:\n",
    "        if input() == 'end':\n",
    "            break\n",
    "        bot_input = bot.get_response(input())\n",
    "        print(input(),bot_input)\n",
    "    except(KeyboardInterrupt, EOFError, SystemExit):\n",
    "        break"
   ],
   "metadata": {
    "collapsed": false,
    "ExecuteTime": {
     "end_time": "2024-01-29T23:32:57.440018Z",
     "start_time": "2024-01-29T23:32:24.191917Z"
    }
   }
  },
  {
   "cell_type": "code",
   "execution_count": null,
   "outputs": [],
   "source": [],
   "metadata": {
    "collapsed": false
   }
  }
 ],
 "metadata": {
  "kernelspec": {
   "display_name": "Python 3",
   "language": "python",
   "name": "python3"
  },
  "language_info": {
   "codemirror_mode": {
    "name": "ipython",
    "version": 2
   },
   "file_extension": ".py",
   "mimetype": "text/x-python",
   "name": "python",
   "nbconvert_exporter": "python",
   "pygments_lexer": "ipython2",
   "version": "2.7.6"
  }
 },
 "nbformat": 4,
 "nbformat_minor": 0
}
