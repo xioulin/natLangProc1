{
 "cells": [
  {
   "cell_type": "code",
   "execution_count": 14,
   "outputs": [],
   "source": [
    "from chatterbot import ChatBot"
   ],
   "metadata": {
    "collapsed": false,
    "ExecuteTime": {
     "start_time": "2024-01-12T14:20:57.219061Z",
     "end_time": "2024-01-12T14:20:57.242527Z"
    }
   }
  },
  {
   "cell_type": "code",
   "execution_count": 15,
   "outputs": [],
   "source": [
    "bot = ChatBot('Norman')"
   ],
   "metadata": {
    "collapsed": false,
    "ExecuteTime": {
     "start_time": "2024-01-12T14:20:57.259018Z",
     "end_time": "2024-01-12T14:20:58.213722Z"
    }
   }
  },
  {
   "cell_type": "code",
   "execution_count": 16,
   "outputs": [
    {
     "ename": "AttributeError",
     "evalue": "partially initialized module 'nltk' has no attribute 'data' (most likely due to a circular import)",
     "output_type": "error",
     "traceback": [
      "\u001B[0;31m---------------------------------------------------------------------------\u001B[0m",
      "\u001B[0;31mAttributeError\u001B[0m                            Traceback (most recent call last)",
      "Cell \u001B[0;32mIn[16], line 1\u001B[0m\n\u001B[0;32m----> 1\u001B[0m bot \u001B[38;5;241m=\u001B[39m \u001B[43mChatBot\u001B[49m\u001B[43m(\u001B[49m\n\u001B[1;32m      2\u001B[0m \u001B[43m    \u001B[49m\u001B[38;5;124;43m'\u001B[39;49m\u001B[38;5;124;43mNorman\u001B[39;49m\u001B[38;5;124;43m'\u001B[39;49m\u001B[43m,\u001B[49m\n\u001B[1;32m      3\u001B[0m \u001B[43m    \u001B[49m\u001B[43mstorage_adapter\u001B[49m\u001B[38;5;241;43m=\u001B[39;49m\u001B[38;5;124;43m'\u001B[39;49m\u001B[38;5;124;43mchatterbot.storage.SQLStorageAdapter\u001B[39;49m\u001B[38;5;124;43m'\u001B[39;49m\u001B[43m,\u001B[49m\n\u001B[1;32m      4\u001B[0m \u001B[43m    \u001B[49m\u001B[43mdatabase_uri\u001B[49m\u001B[38;5;241;43m=\u001B[39;49m\u001B[43m \u001B[49m\u001B[38;5;124;43m'\u001B[39;49m\u001B[38;5;124;43msqlite:///database.sqlite3\u001B[39;49m\u001B[38;5;124;43m'\u001B[39;49m\u001B[43m,\u001B[49m\n\u001B[1;32m      5\u001B[0m \u001B[43m    \u001B[49m\u001B[43mlogic_adapters\u001B[49m\u001B[38;5;241;43m=\u001B[39;49m\u001B[43m[\u001B[49m\n\u001B[1;32m      6\u001B[0m \u001B[43m        \u001B[49m\u001B[38;5;124;43m'\u001B[39;49m\u001B[38;5;124;43mchatterbot.logic.MathematicalEvaluation\u001B[39;49m\u001B[38;5;124;43m'\u001B[39;49m\u001B[43m,\u001B[49m\n\u001B[1;32m      7\u001B[0m \u001B[43m        \u001B[49m\u001B[38;5;124;43m'\u001B[39;49m\u001B[38;5;124;43mchatterbot.logic.TimeLogicAdapter\u001B[39;49m\u001B[38;5;124;43m'\u001B[39;49m\n\u001B[1;32m      8\u001B[0m \u001B[43m    \u001B[49m\u001B[43m]\u001B[49m\n\u001B[1;32m      9\u001B[0m \u001B[43m)\u001B[49m\n",
      "File \u001B[0;32m~/PycharmProjects/natLangProc1/venv/lib/python3.9/site-packages/chatterbot/chatterbot.py:40\u001B[0m, in \u001B[0;36mChatBot.__init__\u001B[0;34m(self, name, **kwargs)\u001B[0m\n\u001B[1;32m     38\u001B[0m \u001B[38;5;28;01mfor\u001B[39;00m adapter \u001B[38;5;129;01min\u001B[39;00m logic_adapters:\n\u001B[1;32m     39\u001B[0m     utils\u001B[38;5;241m.\u001B[39mvalidate_adapter_class(adapter, LogicAdapter)\n\u001B[0;32m---> 40\u001B[0m     logic_adapter \u001B[38;5;241m=\u001B[39m \u001B[43mutils\u001B[49m\u001B[38;5;241;43m.\u001B[39;49m\u001B[43minitialize_class\u001B[49m\u001B[43m(\u001B[49m\u001B[43madapter\u001B[49m\u001B[43m,\u001B[49m\u001B[43m \u001B[49m\u001B[38;5;28;43mself\u001B[39;49m\u001B[43m,\u001B[49m\u001B[43m \u001B[49m\u001B[38;5;241;43m*\u001B[39;49m\u001B[38;5;241;43m*\u001B[39;49m\u001B[43mkwargs\u001B[49m\u001B[43m)\u001B[49m\n\u001B[1;32m     41\u001B[0m     \u001B[38;5;28mself\u001B[39m\u001B[38;5;241m.\u001B[39mlogic_adapters\u001B[38;5;241m.\u001B[39mappend(logic_adapter)\n\u001B[1;32m     43\u001B[0m preprocessors \u001B[38;5;241m=\u001B[39m kwargs\u001B[38;5;241m.\u001B[39mget(\n\u001B[1;32m     44\u001B[0m     \u001B[38;5;124m'\u001B[39m\u001B[38;5;124mpreprocessors\u001B[39m\u001B[38;5;124m'\u001B[39m, [\n\u001B[1;32m     45\u001B[0m         \u001B[38;5;124m'\u001B[39m\u001B[38;5;124mchatterbot.preprocessors.clean_whitespace\u001B[39m\u001B[38;5;124m'\u001B[39m\n\u001B[1;32m     46\u001B[0m     ]\n\u001B[1;32m     47\u001B[0m )\n",
      "File \u001B[0;32m~/PycharmProjects/natLangProc1/venv/lib/python3.9/site-packages/chatterbot/utils.py:33\u001B[0m, in \u001B[0;36minitialize_class\u001B[0;34m(data, *args, **kwargs)\u001B[0m\n\u001B[1;32m     30\u001B[0m \u001B[38;5;28;01melse\u001B[39;00m:\n\u001B[1;32m     31\u001B[0m     Class \u001B[38;5;241m=\u001B[39m import_module(data)\n\u001B[0;32m---> 33\u001B[0m     \u001B[38;5;28;01mreturn\u001B[39;00m \u001B[43mClass\u001B[49m\u001B[43m(\u001B[49m\u001B[38;5;241;43m*\u001B[39;49m\u001B[43margs\u001B[49m\u001B[43m,\u001B[49m\u001B[43m \u001B[49m\u001B[38;5;241;43m*\u001B[39;49m\u001B[38;5;241;43m*\u001B[39;49m\u001B[43mkwargs\u001B[49m\u001B[43m)\u001B[49m\n",
      "File \u001B[0;32m~/PycharmProjects/natLangProc1/venv/lib/python3.9/site-packages/chatterbot/logic/time_adapter.py:23\u001B[0m, in \u001B[0;36mTimeLogicAdapter.__init__\u001B[0;34m(self, chatbot, **kwargs)\u001B[0m\n\u001B[1;32m     21\u001B[0m \u001B[38;5;28msuper\u001B[39m()\u001B[38;5;241m.\u001B[39m\u001B[38;5;21m__init__\u001B[39m(chatbot, \u001B[38;5;241m*\u001B[39m\u001B[38;5;241m*\u001B[39mkwargs)\n\u001B[1;32m     22\u001B[0m \u001B[38;5;28;01mtry\u001B[39;00m:\n\u001B[0;32m---> 23\u001B[0m     \u001B[38;5;28;01mfrom\u001B[39;00m \u001B[38;5;21;01mnltk\u001B[39;00m \u001B[38;5;28;01mimport\u001B[39;00m NaiveBayesClassifier\n\u001B[1;32m     24\u001B[0m \u001B[38;5;28;01mexcept\u001B[39;00m \u001B[38;5;167;01mImportError\u001B[39;00m:\n\u001B[1;32m     25\u001B[0m     message \u001B[38;5;241m=\u001B[39m (\n\u001B[1;32m     26\u001B[0m         \u001B[38;5;124m'\u001B[39m\u001B[38;5;124mUnable to import \u001B[39m\u001B[38;5;124m\"\u001B[39m\u001B[38;5;124mnltk\u001B[39m\u001B[38;5;124m\"\u001B[39m\u001B[38;5;124m.\u001B[39m\u001B[38;5;130;01m\\n\u001B[39;00m\u001B[38;5;124m'\u001B[39m\n\u001B[1;32m     27\u001B[0m         \u001B[38;5;124m'\u001B[39m\u001B[38;5;124mPlease install \u001B[39m\u001B[38;5;124m\"\u001B[39m\u001B[38;5;124mnltk\u001B[39m\u001B[38;5;124m\"\u001B[39m\u001B[38;5;124m before using the TimeLogicAdapter:\u001B[39m\u001B[38;5;130;01m\\n\u001B[39;00m\u001B[38;5;124m'\u001B[39m\n\u001B[1;32m     28\u001B[0m         \u001B[38;5;124m'\u001B[39m\u001B[38;5;124mpip3 install nltk\u001B[39m\u001B[38;5;124m'\u001B[39m\n\u001B[1;32m     29\u001B[0m     )\n",
      "File \u001B[0;32m~/PycharmProjects/natLangProc1/venv/lib/python3.9/site-packages/nltk/__init__.py:175\u001B[0m\n\u001B[1;32m    172\u001B[0m \u001B[38;5;28;01melse\u001B[39;00m:\n\u001B[1;32m    173\u001B[0m     \u001B[38;5;28;01mfrom\u001B[39;00m \u001B[38;5;21;01mnltk\u001B[39;00m \u001B[38;5;28;01mimport\u001B[39;00m cluster\n\u001B[0;32m--> 175\u001B[0m \u001B[38;5;28;01mfrom\u001B[39;00m \u001B[38;5;21;01mnltk\u001B[39;00m\u001B[38;5;21;01m.\u001B[39;00m\u001B[38;5;21;01mdownloader\u001B[39;00m \u001B[38;5;28;01mimport\u001B[39;00m download, download_shell\n\u001B[1;32m    177\u001B[0m \u001B[38;5;28;01mtry\u001B[39;00m:\n\u001B[1;32m    178\u001B[0m     \u001B[38;5;28;01mimport\u001B[39;00m \u001B[38;5;21;01mtkinter\u001B[39;00m\n",
      "File \u001B[0;32m~/PycharmProjects/natLangProc1/venv/lib/python3.9/site-packages/nltk/downloader.py:2468\u001B[0m\n\u001B[1;32m   2458\u001B[0m             \u001B[38;5;28;01mpass\u001B[39;00m\n\u001B[1;32m   2461\u001B[0m \u001B[38;5;66;03m######################################################################\u001B[39;00m\n\u001B[1;32m   2462\u001B[0m \u001B[38;5;66;03m# Main:\u001B[39;00m\n\u001B[1;32m   2463\u001B[0m \u001B[38;5;66;03m######################################################################\u001B[39;00m\n\u001B[0;32m   (...)\u001B[0m\n\u001B[1;32m   2466\u001B[0m \n\u001B[1;32m   2467\u001B[0m \u001B[38;5;66;03m# Aliases\u001B[39;00m\n\u001B[0;32m-> 2468\u001B[0m _downloader \u001B[38;5;241m=\u001B[39m \u001B[43mDownloader\u001B[49m\u001B[43m(\u001B[49m\u001B[43m)\u001B[49m\n\u001B[1;32m   2469\u001B[0m download \u001B[38;5;241m=\u001B[39m _downloader\u001B[38;5;241m.\u001B[39mdownload\n\u001B[1;32m   2472\u001B[0m \u001B[38;5;28;01mdef\u001B[39;00m \u001B[38;5;21mdownload_shell\u001B[39m():\n",
      "File \u001B[0;32m~/PycharmProjects/natLangProc1/venv/lib/python3.9/site-packages/nltk/downloader.py:514\u001B[0m, in \u001B[0;36mDownloader.__init__\u001B[0;34m(self, server_index_url, download_dir)\u001B[0m\n\u001B[1;32m    512\u001B[0m \u001B[38;5;66;03m# decide where we're going to save things to.\u001B[39;00m\n\u001B[1;32m    513\u001B[0m \u001B[38;5;28;01mif\u001B[39;00m \u001B[38;5;28mself\u001B[39m\u001B[38;5;241m.\u001B[39m_download_dir \u001B[38;5;129;01mis\u001B[39;00m \u001B[38;5;28;01mNone\u001B[39;00m:\n\u001B[0;32m--> 514\u001B[0m     \u001B[38;5;28mself\u001B[39m\u001B[38;5;241m.\u001B[39m_download_dir \u001B[38;5;241m=\u001B[39m \u001B[38;5;28;43mself\u001B[39;49m\u001B[38;5;241;43m.\u001B[39;49m\u001B[43mdefault_download_dir\u001B[49m\u001B[43m(\u001B[49m\u001B[43m)\u001B[49m\n",
      "File \u001B[0;32m~/PycharmProjects/natLangProc1/venv/lib/python3.9/site-packages/nltk/downloader.py:1073\u001B[0m, in \u001B[0;36mDownloader.default_download_dir\u001B[0;34m(self)\u001B[0m\n\u001B[1;32m   1069\u001B[0m     \u001B[38;5;28;01mreturn\u001B[39;00m\n\u001B[1;32m   1071\u001B[0m \u001B[38;5;66;03m# Check if we have sufficient permissions to install in a\u001B[39;00m\n\u001B[1;32m   1072\u001B[0m \u001B[38;5;66;03m# variety of system-wide locations.\u001B[39;00m\n\u001B[0;32m-> 1073\u001B[0m \u001B[38;5;28;01mfor\u001B[39;00m nltkdir \u001B[38;5;129;01min\u001B[39;00m \u001B[43mnltk\u001B[49m\u001B[38;5;241;43m.\u001B[39;49m\u001B[43mdata\u001B[49m\u001B[38;5;241m.\u001B[39mpath:\n\u001B[1;32m   1074\u001B[0m     \u001B[38;5;28;01mif\u001B[39;00m os\u001B[38;5;241m.\u001B[39mpath\u001B[38;5;241m.\u001B[39mexists(nltkdir) \u001B[38;5;129;01mand\u001B[39;00m nltk\u001B[38;5;241m.\u001B[39minternals\u001B[38;5;241m.\u001B[39mis_writable(nltkdir):\n\u001B[1;32m   1075\u001B[0m         \u001B[38;5;28;01mreturn\u001B[39;00m nltkdir\n",
      "\u001B[0;31mAttributeError\u001B[0m: partially initialized module 'nltk' has no attribute 'data' (most likely due to a circular import)"
     ]
    }
   ],
   "source": [
    "bot = ChatBot(\n",
    "    'Norman',\n",
    "    storage_adapter='chatterbot.storage.SQLStorageAdapter',\n",
    "    database_uri= 'sqlite:///database.sqlite3',\n",
    "    logic_adapters=[\n",
    "        'chatterbot.logic.MathematicalEvaluation',\n",
    "        'chatterbot.logic.TimeLogicAdapter'\n",
    "    ]\n",
    ")"
   ],
   "metadata": {
    "collapsed": false,
    "ExecuteTime": {
     "start_time": "2024-01-11T21:35:57.416550Z",
     "end_time": "2024-01-11T21:35:59.427891Z"
    }
   }
  },
  {
   "cell_type": "code",
   "execution_count": 17,
   "outputs": [
    {
     "name": "stdout",
     "output_type": "stream",
     "text": [
      "I like to count in binary.\n",
      "People say things from time to time.\n",
      "I have emotions\n",
      "Robotics is my favorite subject too.\n",
      "Is it cramped in the computer\n",
      "What have I done that isn't nice?\n",
      "What is it that you want to know?\n",
      "I'm a software program, I blame the hardware.\n",
      "me working harder is an oxymoron.\n"
     ]
    },
    {
     "name": "stderr",
     "output_type": "stream",
     "text": [
      "No value for search_text was available on the provided input\n"
     ]
    },
    {
     "name": "stdout",
     "output_type": "stream",
     "text": [
      "What is AI?\n"
     ]
    },
    {
     "name": "stderr",
     "output_type": "stream",
     "text": [
      "No value for search_text was available on the provided input\n"
     ]
    }
   ],
   "source": [
    "while True:\n",
    "    try:\n",
    "        bot_input = bot.get_response(input())\n",
    "        print(bot_input)\n",
    "    except(KeyboardInterrupt, EOFError, SystemExit):\n",
    "        break"
   ],
   "metadata": {
    "collapsed": false,
    "ExecuteTime": {
     "start_time": "2024-01-12T14:21:05.586362Z",
     "end_time": "2024-01-12T14:22:01.896772Z"
    }
   }
  }
 ],
 "metadata": {
  "kernelspec": {
   "display_name": "Python 3",
   "language": "python",
   "name": "python3"
  },
  "language_info": {
   "codemirror_mode": {
    "name": "ipython",
    "version": 2
   },
   "file_extension": ".py",
   "mimetype": "text/x-python",
   "name": "python",
   "nbconvert_exporter": "python",
   "pygments_lexer": "ipython2",
   "version": "2.7.6"
  }
 },
 "nbformat": 4,
 "nbformat_minor": 0
}
