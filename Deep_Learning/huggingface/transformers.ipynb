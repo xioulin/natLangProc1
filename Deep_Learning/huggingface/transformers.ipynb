{
 "cells": [
  {
   "cell_type": "code",
   "id": "initial_id",
   "metadata": {
    "collapsed": true,
    "ExecuteTime": {
     "end_time": "2024-11-10T00:49:44.209313Z",
     "start_time": "2024-11-10T00:49:30.587980Z"
    }
   },
   "source": "from transformers import pipeline",
   "outputs": [
    {
     "name": "stderr",
     "output_type": "stream",
     "text": [
      "C:\\Users\\piotr\\AppData\\Local\\Programs\\Python\\Python312\\Lib\\site-packages\\tqdm\\auto.py:21: TqdmWarning: IProgress not found. Please update jupyter and ipywidgets. See https://ipywidgets.readthedocs.io/en/stable/user_install.html\n",
      "  from .autonotebook import tqdm as notebook_tqdm\n"
     ]
    }
   ],
   "execution_count": 1
  },
  {
   "metadata": {
    "ExecuteTime": {
     "end_time": "2024-11-10T00:49:45.070585Z",
     "start_time": "2024-11-10T00:49:44.229308Z"
    }
   },
   "cell_type": "code",
   "source": "classifier= pipeline('sentiment-analysis')",
   "id": "355cfd3623138849",
   "outputs": [
    {
     "name": "stderr",
     "output_type": "stream",
     "text": [
      "No model was supplied, defaulted to distilbert/distilbert-base-uncased-finetuned-sst-2-english and revision 714eb0f (https://huggingface.co/distilbert/distilbert-base-uncased-finetuned-sst-2-english).\n",
      "Using a pipeline without specifying a model name and revision in production is not recommended.\n"
     ]
    }
   ],
   "execution_count": 2
  },
  {
   "metadata": {
    "ExecuteTime": {
     "end_time": "2024-11-10T00:49:49.198016Z",
     "start_time": "2024-11-10T00:49:45.600563Z"
    }
   },
   "cell_type": "code",
   "source": "classifier(\"i see the want to in your eyes\")",
   "id": "2e04e821107d8164",
   "outputs": [
    {
     "data": {
      "text/plain": [
       "[{'label': 'POSITIVE', 'score': 0.9982025623321533}]"
      ]
     },
     "execution_count": 3,
     "metadata": {},
     "output_type": "execute_result"
    }
   ],
   "execution_count": 3
  },
  {
   "metadata": {
    "ExecuteTime": {
     "end_time": "2024-11-10T00:56:34.080101Z",
     "start_time": "2024-11-10T00:54:40.828749Z"
    }
   },
   "cell_type": "code",
   "source": "generator = pipeline('text-generation')",
   "id": "fcefe949d24375c2",
   "outputs": [
    {
     "name": "stderr",
     "output_type": "stream",
     "text": [
      "No model was supplied, defaulted to openai-community/gpt2 and revision 607a30d (https://huggingface.co/openai-community/gpt2).\n",
      "Using a pipeline without specifying a model name and revision in production is not recommended.\n",
      "C:\\Users\\piotr\\AppData\\Local\\Programs\\Python\\Python312\\Lib\\site-packages\\huggingface_hub\\file_download.py:139: UserWarning: `huggingface_hub` cache-system uses symlinks by default to efficiently store duplicated files but your machine does not support them in C:\\Users\\piotr\\.cache\\huggingface\\hub\\models--openai-community--gpt2. Caching files will still work but in a degraded version that might require more space on your disk. This warning can be disabled by setting the `HF_HUB_DISABLE_SYMLINKS_WARNING` environment variable. For more details, see https://huggingface.co/docs/huggingface_hub/how-to-cache#limitations.\n",
      "To support symlinks on Windows, you either need to activate Developer Mode or to run Python as an administrator. In order to activate developer mode, see this article: https://docs.microsoft.com/en-us/windows/apps/get-started/enable-your-device-for-development\n",
      "  warnings.warn(message)\n"
     ]
    }
   ],
   "execution_count": 4
  },
  {
   "metadata": {
    "ExecuteTime": {
     "end_time": "2024-11-10T00:57:40.562953Z",
     "start_time": "2024-11-10T00:57:39.165013Z"
    }
   },
   "cell_type": "code",
   "source": "generator('How weary, stale, flat, and unprofitable Seem to me all the uses of this world!')",
   "id": "d091a2d7827fc89",
   "outputs": [
    {
     "name": "stderr",
     "output_type": "stream",
     "text": [
      "Setting `pad_token_id` to `eos_token_id`:None for open-end generation.\n"
     ]
    },
    {
     "data": {
      "text/plain": [
       "[{'generated_text': 'How weary, stale, flat, and unprofitable Seem to me all the uses of this world! — How weary, stale, flat, and unprofitable Are we all to live till the last; and if any part of me is'}]"
      ]
     },
     "execution_count": 7,
     "metadata": {},
     "output_type": "execute_result"
    }
   ],
   "execution_count": 7
  },
  {
   "metadata": {
    "ExecuteTime": {
     "end_time": "2024-11-10T01:00:55.394220Z",
     "start_time": "2024-11-10T01:00:55.390457Z"
    }
   },
   "cell_type": "code",
   "source": "from transformers import pipeline",
   "id": "4844986f90362ade",
   "outputs": [],
   "execution_count": 8
  },
  {
   "metadata": {
    "ExecuteTime": {
     "end_time": "2024-11-10T01:05:22.988149Z",
     "start_time": "2024-11-10T01:01:01.833143Z"
    }
   },
   "cell_type": "code",
   "source": "summarizer = pipeline('summarization')",
   "id": "ae5fcdca5415fbb0",
   "outputs": [
    {
     "name": "stderr",
     "output_type": "stream",
     "text": [
      "No model was supplied, defaulted to sshleifer/distilbart-cnn-12-6 and revision a4f8f3e (https://huggingface.co/sshleifer/distilbart-cnn-12-6).\n",
      "Using a pipeline without specifying a model name and revision in production is not recommended.\n",
      "C:\\Users\\piotr\\AppData\\Local\\Programs\\Python\\Python312\\Lib\\site-packages\\huggingface_hub\\file_download.py:139: UserWarning: `huggingface_hub` cache-system uses symlinks by default to efficiently store duplicated files but your machine does not support them in C:\\Users\\piotr\\.cache\\huggingface\\hub\\models--sshleifer--distilbart-cnn-12-6. Caching files will still work but in a degraded version that might require more space on your disk. This warning can be disabled by setting the `HF_HUB_DISABLE_SYMLINKS_WARNING` environment variable. For more details, see https://huggingface.co/docs/huggingface_hub/how-to-cache#limitations.\n",
      "To support symlinks on Windows, you either need to activate Developer Mode or to run Python as an administrator. In order to activate developer mode, see this article: https://docs.microsoft.com/en-us/windows/apps/get-started/enable-your-device-for-development\n",
      "  warnings.warn(message)\n"
     ]
    }
   ],
   "execution_count": 9
  },
  {
   "metadata": {
    "ExecuteTime": {
     "end_time": "2024-11-10T01:05:35.516972Z",
     "start_time": "2024-11-10T01:05:22.996153Z"
    }
   },
   "cell_type": "code",
   "source": [
    "summarizer(\n",
    "    \"\"\"\n",
    "    O, that this too, too solid flesh would melt,\n",
    "\n",
    "Thaw, and resolve itself into a dew!\n",
    "\n",
    "Or that the Everlasting had not fix'd\n",
    "\n",
    "His canon 'gainst self-slaughter! O God! O God!\n",
    "\n",
    "How weary, stale, flat, and unprofitable\n",
    "\n",
    "Seem to me all the uses of this world!\n",
    "\n",
    "Fye on't! O fye! 'tis an unweeded garden,\n",
    "\n",
    "That grows to seed; things rank and gross in nature\n",
    "\n",
    "Possess it merely. That it should come to this!\n",
    "\n",
    "But two months dead!—nay, not so much, not two:\n",
    "\n",
    "So excellent a king; that was, to this,\n",
    "\n",
    "Hyperion to a satyr: so loving to my mother,\n",
    "\n",
    "That he might not beteem the winds of heaven\n",
    "\n",
    "Visit her face too roughly. Heaven and earth!\n",
    "\n",
    "Must I remember? why, she would hang on him,\n",
    "\n",
    "As if increase of appetite had grown\n",
    "\n",
    "By what it fed on: And yet, within a month,—\n",
    "\n",
    "Let me not think on't,—Frailty, thy name is Woman!—\n",
    "\n",
    "A little month; or ere those shoes were old\n",
    "\n",
    "With which she follow'd my poor father's body,\n",
    "\n",
    "Like Niobe, all tears;—she married with my uncle,\n",
    "\n",
    "My father's brother; but no more like my father\n",
    "\n",
    "Than I to Hercules.\n",
    "\n",
    "It is not, nor it cannot come to, good:\n",
    "\n",
    "But break, my heart, for I must hold my tongue!\n",
    "    \n",
    "    \"\"\"\n",
    ")"
   ],
   "id": "86ccb276c965de2c",
   "outputs": [
    {
     "data": {
      "text/plain": [
       "[{'summary_text': ' \"How weary, stale, flat, and unprofitable seem to me all the uses of this world!\" \"O, that this too, too solid flesh would melt, and resolve itself into a dew!\" \"Two months dead!—nay, not so much, not two: so excellent a king; that was, to this, to a satyr: so loving to my mother, so loving, that he might not beteem the winds of heaven.\"'}]"
      ]
     },
     "execution_count": 10,
     "metadata": {},
     "output_type": "execute_result"
    }
   ],
   "execution_count": 10
  },
  {
   "metadata": {
    "ExecuteTime": {
     "end_time": "2024-11-10T01:10:25.863547Z",
     "start_time": "2024-11-10T01:10:12.545041Z"
    }
   },
   "cell_type": "code",
   "source": [
    "summarizer( \n",
    "    \"\"\"\n",
    "    Leo, the influential legal activist who guided Donald Trump toward the selection of three conservative Supreme Court justices during his first term, is pushing back on the recent speculation that Justices Samuel Alito and Clarence Thomas will retire after the president-elect is inaugurated in January. No one other than Justices Thomas and Alito knows when or if they will retire, and talking about them like meat that has reached its expiration date is unwise, uninformed, and, frankly, just crass,” Leonard Leo, co-chairman of the Federalist Society, said in a statement obtained by National Review. “Justices Thomas and Alito have given their lives to our country and our Constitution, and should be treated with more dignity and respect than they are getting from some pundits.Leo’s forceful statement comes after Trump won reelection and Republicans retook the Senate, sparking predictions that Thomas, 76, or Alito, 74, would leave the Supreme Court to make room for the appointment of a younger replacement who would preserve the Court’s 6-3 conservative majority. Following the decisive election results, Trump legal adviser Mike Davis speculated that Alito would be “gleefully packing up his chambers.” He predicted that Alito, not Thomas, would be the first justice to leave under a second Trump term.\n",
    "\n",
    "'I imagine that Justice Alito will want to get the hell out of D.C. as quickly as possible,” said Davis, who runs the Article III Project that advocates for the nominations of conservative judges. “That’s who I would predict.Davis’s comments were cited in an NBC report speculating on the possibility that Trump will end up having the opportunity to appoint a majority of Supreme Court justices. If Trump were to choose two more justices during his second term, he would be the first president to appoint a majority to the Supreme Court since Franklin D. Roosevelt. Davis previously served as the Senate GOP’s chief counsel for nominations to then-Senate Judiciary Committee chairman Chuck Grassley (R., Iowa). Grassley said in September that he would likely return to that role again if Republicans retook the Senate majority, which they did. Now that at least 53 Republicans will control the upper chamber of Congress in the coming term, they will confirm conservative judges in their mission to reshape the judiciary branch. During his last term, Trump worked with Senate Republicans to name 234 federal judges.Leo is reportedly not returning to advise Trump on judicial picks like he did previously, according to the Washington Post. The two have not spoken since 2020 after a heated disagreement at Mar-a-Lago.\"\n",
    "    \"\"\"\n",
    "    )"
   ],
   "id": "3e991148030c552f",
   "outputs": [
    {
     "data": {
      "text/plain": [
       "[{'summary_text': ' Leonard Leo, co-chairman of the Federalist Society, is pushing back on recent speculation that Samuel Alito and Clarence Thomas will retire after the president-elect is inaugurated in January . Trump legal adviser Mike Davis speculated that Alito would be “gleefully packing up his chambers”'}]"
      ]
     },
     "execution_count": 11,
     "metadata": {},
     "output_type": "execute_result"
    }
   ],
   "execution_count": 11
  },
  {
   "metadata": {},
   "cell_type": "code",
   "outputs": [],
   "execution_count": null,
   "source": "",
   "id": "1e91fe41d7261ce8"
  }
 ],
 "metadata": {
  "kernelspec": {
   "display_name": "Python 3",
   "language": "python",
   "name": "python3"
  },
  "language_info": {
   "codemirror_mode": {
    "name": "ipython",
    "version": 2
   },
   "file_extension": ".py",
   "mimetype": "text/x-python",
   "name": "python",
   "nbconvert_exporter": "python",
   "pygments_lexer": "ipython2",
   "version": "2.7.6"
  }
 },
 "nbformat": 4,
 "nbformat_minor": 5
}
