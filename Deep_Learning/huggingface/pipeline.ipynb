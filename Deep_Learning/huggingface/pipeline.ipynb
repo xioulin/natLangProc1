{
 "cells": [
  {
   "cell_type": "code",
   "id": "initial_id",
   "metadata": {
    "collapsed": true,
    "ExecuteTime": {
     "end_time": "2024-11-14T02:44:10.433905Z",
     "start_time": "2024-11-14T02:44:10.430615Z"
    }
   },
   "source": "from transformers import pipeline",
   "outputs": [],
   "execution_count": 3
  },
  {
   "metadata": {
    "ExecuteTime": {
     "end_time": "2024-11-14T02:44:36.823557Z",
     "start_time": "2024-11-14T02:44:35.879763Z"
    }
   },
   "cell_type": "code",
   "source": "classifier = pipeline('sentiment-analysis')",
   "id": "e1061d37e23272e6",
   "outputs": [
    {
     "name": "stderr",
     "output_type": "stream",
     "text": [
      "No model was supplied, defaulted to distilbert/distilbert-base-uncased-finetuned-sst-2-english and revision 714eb0f (https://huggingface.co/distilbert/distilbert-base-uncased-finetuned-sst-2-english).\n",
      "Using a pipeline without specifying a model name and revision in production is not recommended.\n"
     ]
    }
   ],
   "execution_count": 4
  },
  {
   "metadata": {
    "ExecuteTime": {
     "end_time": "2024-11-14T02:53:25.231007Z",
     "start_time": "2024-11-14T02:53:25.226886Z"
    }
   },
   "cell_type": "code",
   "source": [
    "raw_inputs=[\n",
    "        'oh what a beautiful morning, oh what a beautiful day',\n",
    "        'oh nobody knows the trouble i\\'ve seen'\n",
    "    ]"
   ],
   "id": "2bf6f04e10cae307",
   "outputs": [],
   "execution_count": 9
  },
  {
   "metadata": {
    "ExecuteTime": {
     "end_time": "2024-11-14T02:53:33.081688Z",
     "start_time": "2024-11-14T02:53:32.964145Z"
    }
   },
   "cell_type": "code",
   "source": "classifier(raw_inputs)",
   "id": "b83b338f30977795",
   "outputs": [
    {
     "data": {
      "text/plain": [
       "[{'label': 'POSITIVE', 'score': 0.999853253364563},\n",
       " {'label': 'NEGATIVE', 'score': 0.9977450966835022}]"
      ]
     },
     "execution_count": 10,
     "metadata": {},
     "output_type": "execute_result"
    }
   ],
   "execution_count": 10
  },
  {
   "metadata": {},
   "cell_type": "code",
   "source": "from transformers import AutoTokenizer",
   "id": "20e95fac98623f79",
   "outputs": [],
   "execution_count": 6
  },
  {
   "metadata": {
    "ExecuteTime": {
     "end_time": "2024-11-14T02:50:16.953015Z",
     "start_time": "2024-11-14T02:50:16.948641Z"
    }
   },
   "cell_type": "code",
   "source": "checkpoint=\"distilbert-base-uncased-finetuned-sst-2-english\"",
   "id": "4cdfd11a50f7e397",
   "outputs": [],
   "execution_count": 7
  },
  {
   "metadata": {
    "ExecuteTime": {
     "end_time": "2024-11-14T02:50:25.455659Z",
     "start_time": "2024-11-14T02:50:24.069625Z"
    }
   },
   "cell_type": "code",
   "source": "tokenizer = AutoTokenizer.from_pretrained(checkpoint)",
   "id": "d807e4e658a9ed8",
   "outputs": [
    {
     "name": "stderr",
     "output_type": "stream",
     "text": [
      "C:\\Users\\piotr\\AppData\\Local\\Programs\\Python\\Python312\\Lib\\site-packages\\huggingface_hub\\file_download.py:139: UserWarning: `huggingface_hub` cache-system uses symlinks by default to efficiently store duplicated files but your machine does not support them in C:\\Users\\piotr\\.cache\\huggingface\\hub\\models--distilbert-base-uncased-finetuned-sst-2-english. Caching files will still work but in a degraded version that might require more space on your disk. This warning can be disabled by setting the `HF_HUB_DISABLE_SYMLINKS_WARNING` environment variable. For more details, see https://huggingface.co/docs/huggingface_hub/how-to-cache#limitations.\n",
      "To support symlinks on Windows, you either need to activate Developer Mode or to run Python as an administrator. In order to activate developer mode, see this article: https://docs.microsoft.com/en-us/windows/apps/get-started/enable-your-device-for-development\n",
      "  warnings.warn(message)\n"
     ]
    }
   ],
   "execution_count": 8
  },
  {
   "metadata": {
    "ExecuteTime": {
     "end_time": "2024-11-14T02:54:06.099280Z",
     "start_time": "2024-11-14T02:54:06.089734Z"
    }
   },
   "cell_type": "code",
   "source": "inputs = tokenizer(raw_inputs, padding=True, truncation=True, return_tensors=\"pt\")",
   "id": "4e89ae436ad25f42",
   "outputs": [],
   "execution_count": 11
  },
  {
   "metadata": {
    "ExecuteTime": {
     "end_time": "2024-11-14T02:54:13.695091Z",
     "start_time": "2024-11-14T02:54:13.688331Z"
    }
   },
   "cell_type": "code",
   "source": "inputs",
   "id": "3539a77dbe25babf",
   "outputs": [
    {
     "data": {
      "text/plain": [
       "{'input_ids': tensor([[ 101, 2821, 2054, 1037, 3376, 2851, 1010, 2821, 2054, 1037, 3376, 2154,\n",
       "          102],\n",
       "        [ 101, 2821, 6343, 4282, 1996, 4390, 1045, 1005, 2310, 2464,  102,    0,\n",
       "            0]]), 'attention_mask': tensor([[1, 1, 1, 1, 1, 1, 1, 1, 1, 1, 1, 1, 1],\n",
       "        [1, 1, 1, 1, 1, 1, 1, 1, 1, 1, 1, 0, 0]])}"
      ]
     },
     "execution_count": 12,
     "metadata": {},
     "output_type": "execute_result"
    }
   ],
   "execution_count": 12
  },
  {
   "metadata": {
    "ExecuteTime": {
     "end_time": "2024-11-14T02:55:40.494803Z",
     "start_time": "2024-11-14T02:55:40.491142Z"
    }
   },
   "cell_type": "code",
   "source": "from transformers import AutoModel",
   "id": "5170891d1f6b9431",
   "outputs": [],
   "execution_count": 13
  },
  {
   "metadata": {
    "ExecuteTime": {
     "end_time": "2024-11-14T02:56:29.170258Z",
     "start_time": "2024-11-14T02:55:46.767858Z"
    }
   },
   "cell_type": "code",
   "source": "model = AutoModel.from_pretrained(checkpoint)",
   "id": "fc6825b6887455c",
   "outputs": [],
   "execution_count": 14
  },
  {
   "metadata": {
    "ExecuteTime": {
     "end_time": "2024-11-14T03:02:00.046145Z",
     "start_time": "2024-11-14T03:01:59.870925Z"
    }
   },
   "cell_type": "code",
   "source": "outputs = model(**inputs)",
   "id": "8fd73123d1edd76c",
   "outputs": [],
   "execution_count": 15
  },
  {
   "metadata": {
    "ExecuteTime": {
     "end_time": "2024-11-14T03:02:12.162629Z",
     "start_time": "2024-11-14T03:02:12.155595Z"
    }
   },
   "cell_type": "code",
   "source": "outputs.last_hidden_state.shape",
   "id": "a4ecfdd88a700dcd",
   "outputs": [
    {
     "data": {
      "text/plain": [
       "torch.Size([2, 13, 768])"
      ]
     },
     "execution_count": 16,
     "metadata": {},
     "output_type": "execute_result"
    }
   ],
   "execution_count": 16
  },
  {
   "metadata": {
    "ExecuteTime": {
     "end_time": "2024-11-14T03:05:30.005337Z",
     "start_time": "2024-11-14T03:05:30.002468Z"
    }
   },
   "cell_type": "code",
   "source": "from transformers import AutoModelForSequenceClassification",
   "id": "14fe699b00a089f0",
   "outputs": [],
   "execution_count": 17
  },
  {
   "metadata": {
    "ExecuteTime": {
     "end_time": "2024-11-14T03:05:42.018774Z",
     "start_time": "2024-11-14T03:05:41.743685Z"
    }
   },
   "cell_type": "code",
   "source": "model1= AutoModelForSequenceClassification.from_pretrained(checkpoint)",
   "id": "e773ca49b067a09a",
   "outputs": [],
   "execution_count": 18
  },
  {
   "metadata": {
    "ExecuteTime": {
     "end_time": "2024-11-14T03:05:48.789760Z",
     "start_time": "2024-11-14T03:05:48.711128Z"
    }
   },
   "cell_type": "code",
   "source": "outputs1= model1(**inputs)",
   "id": "f1749ee37dd94ea",
   "outputs": [],
   "execution_count": 19
  },
  {
   "metadata": {
    "ExecuteTime": {
     "end_time": "2024-11-14T03:06:12.590666Z",
     "start_time": "2024-11-14T03:06:12.587094Z"
    }
   },
   "cell_type": "code",
   "source": "outputs1.logits.shape",
   "id": "755c7d314427f76b",
   "outputs": [
    {
     "data": {
      "text/plain": [
       "torch.Size([2, 2])"
      ]
     },
     "execution_count": 22,
     "metadata": {},
     "output_type": "execute_result"
    }
   ],
   "execution_count": 22
  },
  {
   "metadata": {
    "ExecuteTime": {
     "end_time": "2024-11-14T03:06:26.446484Z",
     "start_time": "2024-11-14T03:06:26.441238Z"
    }
   },
   "cell_type": "code",
   "source": "outputs1.logits",
   "id": "512c1fab48269eec",
   "outputs": [
    {
     "data": {
      "text/plain": [
       "tensor([[-4.2179,  4.6088],\n",
       "        [ 3.3610, -2.7314]], grad_fn=<AddmmBackward0>)"
      ]
     },
     "execution_count": 23,
     "metadata": {},
     "output_type": "execute_result"
    }
   ],
   "execution_count": 23
  },
  {
   "metadata": {
    "ExecuteTime": {
     "end_time": "2024-11-14T03:06:34.177574Z",
     "start_time": "2024-11-14T03:06:34.174522Z"
    }
   },
   "cell_type": "code",
   "source": "import torch",
   "id": "b0e56230e4d9e908",
   "outputs": [],
   "execution_count": 24
  },
  {
   "metadata": {
    "ExecuteTime": {
     "end_time": "2024-11-14T03:06:52.314271Z",
     "start_time": "2024-11-14T03:06:52.291044Z"
    }
   },
   "cell_type": "code",
   "source": "predictions= torch.nn.functional.softmax(outputs1.logits,dim=1)",
   "id": "d09d447244949730",
   "outputs": [],
   "execution_count": 25
  },
  {
   "metadata": {
    "ExecuteTime": {
     "end_time": "2024-11-14T03:06:56.470146Z",
     "start_time": "2024-11-14T03:06:56.465099Z"
    }
   },
   "cell_type": "code",
   "source": "predictions",
   "id": "22c4273b965e9dc4",
   "outputs": [
    {
     "data": {
      "text/plain": [
       "tensor([[1.4675e-04, 9.9985e-01],\n",
       "        [9.9775e-01, 2.2549e-03]], grad_fn=<SoftmaxBackward0>)"
      ]
     },
     "execution_count": 26,
     "metadata": {},
     "output_type": "execute_result"
    }
   ],
   "execution_count": 26
  },
  {
   "metadata": {
    "ExecuteTime": {
     "end_time": "2024-11-14T03:07:19.344908Z",
     "start_time": "2024-11-14T03:07:19.340884Z"
    }
   },
   "cell_type": "code",
   "source": "model1.config.id2label",
   "id": "ed1ea0827dbf6f35",
   "outputs": [
    {
     "data": {
      "text/plain": [
       "{0: 'NEGATIVE', 1: 'POSITIVE'}"
      ]
     },
     "execution_count": 27,
     "metadata": {},
     "output_type": "execute_result"
    }
   ],
   "execution_count": 27
  },
  {
   "metadata": {
    "ExecuteTime": {
     "end_time": "2024-11-14T03:11:17.876184Z",
     "start_time": "2024-11-14T03:11:17.862779Z"
    }
   },
   "cell_type": "code",
   "source": "from transformers import BertConfig,BertModel",
   "id": "3b3f73334daf351d",
   "outputs": [],
   "execution_count": 28
  },
  {
   "metadata": {
    "ExecuteTime": {
     "end_time": "2024-11-14T03:11:35.093513Z",
     "start_time": "2024-11-14T03:11:35.090058Z"
    }
   },
   "cell_type": "code",
   "source": "config= BertConfig()",
   "id": "f6e5c042d6c936ef",
   "outputs": [],
   "execution_count": 29
  },
  {
   "metadata": {
    "ExecuteTime": {
     "end_time": "2024-11-14T03:11:54.240541Z",
     "start_time": "2024-11-14T03:11:52.833465Z"
    }
   },
   "cell_type": "code",
   "source": "model2=BertModel(config)",
   "id": "1ad4183dd5116be5",
   "outputs": [],
   "execution_count": 31
  },
  {
   "metadata": {
    "ExecuteTime": {
     "end_time": "2024-11-14T03:11:57.897718Z",
     "start_time": "2024-11-14T03:11:57.892916Z"
    }
   },
   "cell_type": "code",
   "source": "config",
   "id": "17d77a72f7e1bf48",
   "outputs": [
    {
     "data": {
      "text/plain": [
       "BertConfig {\n",
       "  \"_attn_implementation_autoset\": true,\n",
       "  \"attention_probs_dropout_prob\": 0.1,\n",
       "  \"classifier_dropout\": null,\n",
       "  \"hidden_act\": \"gelu\",\n",
       "  \"hidden_dropout_prob\": 0.1,\n",
       "  \"hidden_size\": 768,\n",
       "  \"initializer_range\": 0.02,\n",
       "  \"intermediate_size\": 3072,\n",
       "  \"layer_norm_eps\": 1e-12,\n",
       "  \"max_position_embeddings\": 512,\n",
       "  \"model_type\": \"bert\",\n",
       "  \"num_attention_heads\": 12,\n",
       "  \"num_hidden_layers\": 12,\n",
       "  \"pad_token_id\": 0,\n",
       "  \"position_embedding_type\": \"absolute\",\n",
       "  \"transformers_version\": \"4.46.2\",\n",
       "  \"type_vocab_size\": 2,\n",
       "  \"use_cache\": true,\n",
       "  \"vocab_size\": 30522\n",
       "}"
      ]
     },
     "execution_count": 32,
     "metadata": {},
     "output_type": "execute_result"
    }
   ],
   "execution_count": 32
  },
  {
   "metadata": {
    "ExecuteTime": {
     "end_time": "2024-11-14T03:18:42.849114Z",
     "start_time": "2024-11-14T03:17:34.951405Z"
    }
   },
   "cell_type": "code",
   "source": "model=BertModel.from_pretrained('bert-base-cased')",
   "id": "94c6c387b2900a22",
   "outputs": [
    {
     "name": "stderr",
     "output_type": "stream",
     "text": [
      "C:\\Users\\piotr\\AppData\\Local\\Programs\\Python\\Python312\\Lib\\site-packages\\huggingface_hub\\file_download.py:139: UserWarning: `huggingface_hub` cache-system uses symlinks by default to efficiently store duplicated files but your machine does not support them in C:\\Users\\piotr\\.cache\\huggingface\\hub\\models--bert-base-cased. Caching files will still work but in a degraded version that might require more space on your disk. This warning can be disabled by setting the `HF_HUB_DISABLE_SYMLINKS_WARNING` environment variable. For more details, see https://huggingface.co/docs/huggingface_hub/how-to-cache#limitations.\n",
      "To support symlinks on Windows, you either need to activate Developer Mode or to run Python as an administrator. In order to activate developer mode, see this article: https://docs.microsoft.com/en-us/windows/apps/get-started/enable-your-device-for-development\n",
      "  warnings.warn(message)\n"
     ]
    }
   ],
   "execution_count": 33
  }
 ],
 "metadata": {
  "kernelspec": {
   "display_name": "Python 3",
   "language": "python",
   "name": "python3"
  },
  "language_info": {
   "codemirror_mode": {
    "name": "ipython",
    "version": 2
   },
   "file_extension": ".py",
   "mimetype": "text/x-python",
   "name": "python",
   "nbconvert_exporter": "python",
   "pygments_lexer": "ipython2",
   "version": "2.7.6"
  }
 },
 "nbformat": 4,
 "nbformat_minor": 5
}
