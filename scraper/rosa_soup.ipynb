{
 "cells": [
  {
   "cell_type": "code",
   "id": "initial_id",
   "metadata": {
    "collapsed": true,
    "ExecuteTime": {
     "end_time": "2024-10-26T22:55:50.791847Z",
     "start_time": "2024-10-26T22:55:50.788744Z"
    }
   },
   "source": [
    "import requests\n",
    "from bs4 import BeautifulSoup"
   ],
   "outputs": [],
   "execution_count": 6
  },
  {
   "metadata": {
    "ExecuteTime": {
     "end_time": "2024-10-27T00:00:16.955394Z",
     "start_time": "2024-10-27T00:00:16.354558Z"
    }
   },
   "cell_type": "code",
   "source": "root = requests.get('https://www.marxists.org/archive/luxemburg/1898/industrial-poland/index.htm')",
   "id": "a4c0796fd5e7783a",
   "outputs": [],
   "execution_count": 100
  },
  {
   "metadata": {
    "ExecuteTime": {
     "end_time": "2024-10-27T00:00:18.341684Z",
     "start_time": "2024-10-27T00:00:18.336185Z"
    }
   },
   "cell_type": "code",
   "source": "soup_index= BeautifulSoup(root.text, 'html.parser')",
   "id": "6b793e3d14eed9e6",
   "outputs": [],
   "execution_count": 101
  },
  {
   "metadata": {
    "ExecuteTime": {
     "end_time": "2024-10-27T00:00:19.844856Z",
     "start_time": "2024-10-27T00:00:19.833976Z"
    }
   },
   "cell_type": "code",
   "source": "soup_index",
   "id": "c490179aed1658c8",
   "outputs": [
    {
     "data": {
      "text/plain": [
       "<!DOCTYPE html PUBLIC \"-//W3C//DTD XHTML 1.0 Strict//EN\"\n",
       "    \"http://www.w3.org/TR/xhtml1/DTD/xhtml1-strict.dtd\">\n",
       "\n",
       "<html xmlns=\"http://www.w3.org/1999/xhtml\">\n",
       "<head>\n",
       "<meta content=\"width=device-width, initial-scale=1\" name=\"viewport\"/>\n",
       "<meta content=\"HTML Tidy, see www.w3.org\" name=\"generator\"/>\n",
       "<meta content=\"Stone's WebWriter 3.5\" name=\"generator\"/>\n",
       "<meta content=\"text/html; charset=utf-8\" http-equiv=\"content-type\"/>\n",
       "<meta content=\"Rosa Luxemburg\" name=\"author\"/>\n",
       "<meta content=\"Rosa Luxemburg: The Industrial Development of Poland (1898)\" name=\"description\"/>\n",
       "<meta content=\"politics, history, economics\" name=\"classification\"/>\n",
       "<meta content=\"Poland, history, economics, economy, capitalism, Russia\" name=\"keywords\"/>\n",
       "<title>Rosa Luxemburg: The Industrial Development of Poland (1898)</title>\n",
       "<link href=\"../../../../css/works-blue.css\" rel=\"stylesheet\" type=\"text/css\"/>\n",
       "</head>\n",
       "<body>\n",
       "<h2>Rosa Luxemburg</h2>\n",
       "<h1>The Industrial Development of Poland</h1>\n",
       "<h3>(1898)</h3>\n",
       "<hr/>\n",
       "<p class=\"information\"><span class=\"info\">First Published:</span> 1898, under the title <strong>Die Industrielle Entwicklung Polens</strong> in Leipzig.<br/>\n",
       "<span class=\"info\">Source:</span> 1977 by Campaigner Publications, of New York<br/>\n",
       "<span class=\"info\">Translated:</span> (from the German) Tessa DeCarlo [<a href=\"translator.htm\">Translator’s Note</a>] Updated by Tessa DeCarlo in 2004 for the Marxists Internet Archive.<br/>\n",
       "<span class=\"info\">Transcription/Markup:</span> Ted Crawford/Brian Baggins<br/>\n",
       "<span class=\"info\">Copyright:</span> Campaigner Publishers 1977; published <a class=\"absref\" href='https://secure.marxists.org/copyright-permissions/luxemburg/campaigner.txt\"'>with permission</a> from <a href=\"http://www.larouchepub.com\">Campaigner Publishers</a>.</p>\n",
       "<hr/>\n",
       "<p class=\"index\"><a href=\"foreword.htm\">Foreword</a><br/>\n",
       " Part 1: The History and Present State of Polish Industry<br/>\n",
       "<a href=\"ch01.htm\">1.1 The Manufacturing Period, 1820-1850</a><br/>\n",
       "<a href=\"ch02.htm\">1.2 The Transition to Large-Scale Industry, 1850-1870</a><br/>\n",
       "<a href=\"ch03.htm\">1.3 The Period of Large-Scale Industry in Poland</a><br/>\n",
       "<a href=\"ch04.htm\">1.4 Poland’s Main Industrial Districts</a><br/>\n",
       "<a href=\"ch05.htm\">1.5 Poland’s Industrial Market</a><br/>\n",
       " Part 2: Russia’s Economic Policy in Poland<br/>\n",
       "<a href=\"ch06.htm\">2.1 The History of the Struggle Between Lodz and Moscow</a><br/>\n",
       "<a href=\"ch07.htm\">2.2 Conditions of Industrial Production in Poland and in Russia</a><br/>\n",
       "<a href=\"ch08.htm\">2.3 The Economic Ties Between Poland and Russia</a><br/>\n",
       "<a href=\"ch09.htm\">2.4 Russia’s Political Interests in Poland</a><br/>\n",
       "<a href=\"ch10.htm\">2.5 Russia’s Economic Interests in the Orient</a><br/>\n",
       "<a href=\"ch11.htm\">Conclusion</a></p>\n",
       "<hr/>\n",
       "<p class=\"footer\"><a href=\"../../index.htm\">Rosa Luxemburg Internet Archive</a></p>\n",
       "<p class=\"updat\">Last updated on: <!-- WebWriter AutoDato -->28.11.2008<!-- WW -->\n",
       "</p>\n",
       "</body>\n",
       "</html>"
      ]
     },
     "execution_count": 102,
     "metadata": {},
     "output_type": "execute_result"
    }
   ],
   "execution_count": 102
  },
  {
   "metadata": {
    "ExecuteTime": {
     "end_time": "2024-10-27T00:06:06.303327Z",
     "start_time": "2024-10-27T00:06:06.299531Z"
    }
   },
   "cell_type": "code",
   "source": "index= soup_index.find('p', class_='index')",
   "id": "b0b6ef12f2dd3836",
   "outputs": [],
   "execution_count": 114
  },
  {
   "metadata": {
    "ExecuteTime": {
     "end_time": "2024-10-27T00:06:07.082169Z",
     "start_time": "2024-10-27T00:06:07.075790Z"
    }
   },
   "cell_type": "code",
   "source": "index",
   "id": "800ade61c60c985b",
   "outputs": [
    {
     "data": {
      "text/plain": [
       "<p class=\"index\"><a href=\"foreword.htm\">Foreword</a><br/>\n",
       " Part 1: The History and Present State of Polish Industry<br/>\n",
       "<a href=\"ch01.htm\">1.1 The Manufacturing Period, 1820-1850</a><br/>\n",
       "<a href=\"ch02.htm\">1.2 The Transition to Large-Scale Industry, 1850-1870</a><br/>\n",
       "<a href=\"ch03.htm\">1.3 The Period of Large-Scale Industry in Poland</a><br/>\n",
       "<a href=\"ch04.htm\">1.4 Poland’s Main Industrial Districts</a><br/>\n",
       "<a href=\"ch05.htm\">1.5 Poland’s Industrial Market</a><br/>\n",
       " Part 2: Russia’s Economic Policy in Poland<br/>\n",
       "<a href=\"ch06.htm\">2.1 The History of the Struggle Between Lodz and Moscow</a><br/>\n",
       "<a href=\"ch07.htm\">2.2 Conditions of Industrial Production in Poland and in Russia</a><br/>\n",
       "<a href=\"ch08.htm\">2.3 The Economic Ties Between Poland and Russia</a><br/>\n",
       "<a href=\"ch09.htm\">2.4 Russia’s Political Interests in Poland</a><br/>\n",
       "<a href=\"ch10.htm\">2.5 Russia’s Economic Interests in the Orient</a><br/>\n",
       "<a href=\"ch11.htm\">Conclusion</a></p>"
      ]
     },
     "execution_count": 115,
     "metadata": {},
     "output_type": "execute_result"
    }
   ],
   "execution_count": 115
  },
  {
   "metadata": {
    "ExecuteTime": {
     "end_time": "2024-10-27T00:06:35.600929Z",
     "start_time": "2024-10-27T00:06:35.598259Z"
    }
   },
   "cell_type": "code",
   "source": "href_links=index.find_all('a',href=True)",
   "id": "7233fb3455cff838",
   "outputs": [],
   "execution_count": 117
  },
  {
   "metadata": {
    "ExecuteTime": {
     "end_time": "2024-10-27T00:07:09.214504Z",
     "start_time": "2024-10-27T00:07:09.211196Z"
    }
   },
   "cell_type": "code",
   "source": [
    "for i in href_links:\n",
    "    print(i.get('href'))"
   ],
   "id": "c79fc7e0c24870ab",
   "outputs": [
    {
     "name": "stdout",
     "output_type": "stream",
     "text": [
      "foreword.htm\n",
      "ch01.htm\n",
      "ch02.htm\n",
      "ch03.htm\n",
      "ch04.htm\n",
      "ch05.htm\n",
      "ch06.htm\n",
      "ch07.htm\n",
      "ch08.htm\n",
      "ch09.htm\n",
      "ch10.htm\n",
      "ch11.htm\n"
     ]
    }
   ],
   "execution_count": 120
  },
  {
   "metadata": {
    "ExecuteTime": {
     "end_time": "2024-10-26T22:52:23.199189Z",
     "start_time": "2024-10-26T22:52:22.766452Z"
    }
   },
   "cell_type": "code",
   "source": "page = requests.get('https://www.marxists.org/archive/luxemburg/1898/industrial-poland/foreword.htm')",
   "id": "aa838ae3bf289f1d",
   "outputs": [],
   "execution_count": 2
  },
  {
   "metadata": {
    "ExecuteTime": {
     "end_time": "2024-10-26T22:52:39.421499Z",
     "start_time": "2024-10-26T22:52:39.416883Z"
    }
   },
   "cell_type": "code",
   "source": "soup = BeautifulSoup(page.content, 'html.parser')",
   "id": "4a0dbfadb77197af",
   "outputs": [],
   "execution_count": 3
  },
  {
   "metadata": {
    "ExecuteTime": {
     "end_time": "2024-10-26T23:35:07.426272Z",
     "start_time": "2024-10-26T23:35:07.417550Z"
    }
   },
   "cell_type": "code",
   "source": "soup",
   "id": "26006337d1fa4bbe",
   "outputs": [
    {
     "data": {
      "text/plain": [
       "<!DOCTYPE html PUBLIC \"-//W3C//DTD XHTML 1.0 Transitional//EN\"\n",
       "    \"http://www.w3.org/TR/xhtml1/DTD/xhtml1-transitional.dtd\">\n",
       "\n",
       "<html xmlns=\"http://www.w3.org/1999/xhtml\">\n",
       "<head>\n",
       "<meta content=\"width=device-width, initial-scale=1\" name=\"viewport\"/>\n",
       "<meta content=\"HTML Tidy, see www.w3.org\" name=\"generator\"/>\n",
       "<meta content=\"Stone's WebWriter 3.5\" name=\"generator\"/>\n",
       "<meta content=\"text/html; charset=utf-8\" http-equiv=\"content-type\"/>\n",
       "<meta content=\"Rosa Luxemburg\" name=\"author\"/>\n",
       "<meta content=\"Rosa Luxemburg: The Industrial Development of Poland (Foreword)\" name=\"description\"/>\n",
       "<meta content=\"politics, history, economics\" name=\"classification\"/>\n",
       "<meta content=\"Poland, history, economics, economy, capitalism, Russia\" name=\"keywords\"/>\n",
       "<title>Rosa Luxemburg: The Industrial Development of Poland (Foreword)</title>\n",
       "<link href=\"../../../../css/works-blue.css\" rel=\"stylesheet\" type=\"text/css\"/>\n",
       "</head>\n",
       "<body>\n",
       "<h4>Rosa Luxemburg<br/>\n",
       "<big>The Industrial Development of Poland</big></h4>\n",
       "<hr class=\"section\"/>\n",
       "<h1>Foreword</h1>\n",
       "<br/>\n",
       "<p class=\"fst\">Although the subject of the following treatise is a very specialized one, we nonetheless believe that it may be of more than slight interest to the Western European reader, for several reasons. Today economic questions stand in the forefront of the intellectual life of all civilized countries; they have already been recognized as the mainspring of all social being and becoming. The political physiognomy, the historic destiny of a country is a sealed book to us if we do not know about its economic life, with all the resulting social consequences.</p>\n",
       "<p>It was not long ago that Poland’s name echoed throughout the whole civilized world, that its fate stirred every soul and provoked excitement in every heart. Lately one no longer hears very much about Poland – since Poland is a capitalist country. Do we now want to know what became of the old rebel, where historic destiny steered it? – the answer can only be given through investigation of its economic history during the last decades. The so-called Polish question can be observed and discussed from several standpoints, but for those who recognize that the material development of a society is the key to its political development, the Polish question can only be solved on the basis of Poland’s economic life and its tendencies. We have endeavored to collect the existing material for the solution of the problem in the following discussion, and to arrange it as clearly as possible, at the same time permitting ourselves some direct observations of a political nature here and there. So this topic, which at first glance might appear dry and specialized, may be of some interest to the politician as well.</p>\n",
       "<p>But for still other reasons. We live in a time when the powerful Empire of the North plays an ever more important role in European politics. All eyes are turned persistently toward Russia, and the alarming progress of Russian policy in Asia is watched with apprehension. Probably it will soon be a secret to no one that even the most important capitalist countries must sooner or later prepare themselves for a serious <em>economic</em> rivalry with Russia in Asia. Thereforethe economic policy of the Czarist empire surely cannot be a matter of complete indifference to Western Europeans. Poland, however, constitutes one of the most important and most progressive industrial districts of the Russian Empire, in fact one in whose history the economic policy of Russia finds perhaps its clearest expression.</p>\n",
       "<p>The material for our work lay strewn in countless and, in many cases, contradictory statistical works, polemical brochures, newspaper articles, official and unofficial reports; a thorough study of the history of Polish industry as a whole, and in particular of its present position, is to be found in neither the Polish nor the Russian or German literature. Accordingly, we believed that this raw and fragmentary material had to be digested and presented in the most finished possible form, in order to bring the reader to general conclusions as smoothly as possible.</p>\n",
       "<br/>\n",
       "<p class=\"next\"><a href=\"ch01.htm\">Next Chapter</a> &gt;&gt;&gt;</p>\n",
       "<hr/>\n",
       "<p class=\"footer\"><a href=\"index.htm\">The Industrial Development of Poland</a></p>\n",
       "<p class=\"updat\">Last updated on: <!-- WebWriter AutoDato -->28.11.2008<!-- WW -->\n",
       "</p>\n",
       "</body>\n",
       "</html>"
      ]
     },
     "execution_count": 43,
     "metadata": {},
     "output_type": "execute_result"
    }
   ],
   "execution_count": 43
  },
  {
   "metadata": {
    "ExecuteTime": {
     "end_time": "2024-10-27T01:38:58.326120Z",
     "start_time": "2024-10-27T01:38:58.287897Z"
    }
   },
   "cell_type": "code",
   "source": "soup.title.string[-10:]",
   "id": "32e7eb991ce0b6bc",
   "outputs": [
    {
     "data": {
      "text/plain": [
       "'(Foreword)'"
      ]
     },
     "execution_count": 128,
     "metadata": {},
     "output_type": "execute_result"
    }
   ],
   "execution_count": 128
  },
  {
   "metadata": {
    "ExecuteTime": {
     "end_time": "2024-10-26T22:53:56.829120Z",
     "start_time": "2024-10-26T22:53:56.825893Z"
    }
   },
   "cell_type": "code",
   "source": "paragraphs = soup.find_all('p')",
   "id": "687879897cc9898c",
   "outputs": [],
   "execution_count": 4
  },
  {
   "metadata": {
    "ExecuteTime": {
     "end_time": "2024-10-26T22:54:01.375141Z",
     "start_time": "2024-10-26T22:54:01.368799Z"
    }
   },
   "cell_type": "code",
   "source": "paragraphs",
   "id": "3a40ecb43d1b7709",
   "outputs": [
    {
     "data": {
      "text/plain": [
       "[<p class=\"fst\">Although the subject of the following treatise is a very specialized one, we nonetheless believe that it may be of more than slight interest to the Western European reader, for several reasons. Today economic questions stand in the forefront of the intellectual life of all civilized countries; they have already been recognized as the mainspring of all social being and becoming. The political physiognomy, the historic destiny of a country is a sealed book to us if we do not know about its economic life, with all the resulting social consequences.</p>,\n",
       " <p>It was not long ago that Poland’s name echoed throughout the whole civilized world, that its fate stirred every soul and provoked excitement in every heart. Lately one no longer hears very much about Poland – since Poland is a capitalist country. Do we now want to know what became of the old rebel, where historic destiny steered it? – the answer can only be given through investigation of its economic history during the last decades. The so-called Polish question can be observed and discussed from several standpoints, but for those who recognize that the material development of a society is the key to its political development, the Polish question can only be solved on the basis of Poland’s economic life and its tendencies. We have endeavored to collect the existing material for the solution of the problem in the following discussion, and to arrange it as clearly as possible, at the same time permitting ourselves some direct observations of a political nature here and there. So this topic, which at first glance might appear dry and specialized, may be of some interest to the politician as well.</p>,\n",
       " <p>But for still other reasons. We live in a time when the powerful Empire of the North plays an ever more important role in European politics. All eyes are turned persistently toward Russia, and the alarming progress of Russian policy in Asia is watched with apprehension. Probably it will soon be a secret to no one that even the most important capitalist countries must sooner or later prepare themselves for a serious <em>economic</em> rivalry with Russia in Asia. Thereforethe economic policy of the Czarist empire surely cannot be a matter of complete indifference to Western Europeans. Poland, however, constitutes one of the most important and most progressive industrial districts of the Russian Empire, in fact one in whose history the economic policy of Russia finds perhaps its clearest expression.</p>,\n",
       " <p>The material for our work lay strewn in countless and, in many cases, contradictory statistical works, polemical brochures, newspaper articles, official and unofficial reports; a thorough study of the history of Polish industry as a whole, and in particular of its present position, is to be found in neither the Polish nor the Russian or German literature. Accordingly, we believed that this raw and fragmentary material had to be digested and presented in the most finished possible form, in order to bring the reader to general conclusions as smoothly as possible.</p>,\n",
       " <p class=\"next\"><a href=\"ch01.htm\">Next Chapter</a> &gt;&gt;&gt;</p>,\n",
       " <p class=\"footer\"><a href=\"index.htm\">The Industrial Development of Poland</a></p>,\n",
       " <p class=\"updat\">Last updated on: <!-- WebWriter AutoDato -->28.11.2008<!-- WW -->\n",
       " </p>]"
      ]
     },
     "execution_count": 5,
     "metadata": {},
     "output_type": "execute_result"
    }
   ],
   "execution_count": 5
  },
  {
   "metadata": {
    "ExecuteTime": {
     "end_time": "2024-10-26T22:59:21.280146Z",
     "start_time": "2024-10-26T22:59:21.276123Z"
    }
   },
   "cell_type": "code",
   "source": "type(paragraphs)",
   "id": "f4b6173dee4d781f",
   "outputs": [
    {
     "data": {
      "text/plain": [
       "bs4.element.ResultSet"
      ]
     },
     "execution_count": 10,
     "metadata": {},
     "output_type": "execute_result"
    }
   ],
   "execution_count": 10
  },
  {
   "metadata": {
    "ExecuteTime": {
     "end_time": "2024-10-26T23:03:21.191136Z",
     "start_time": "2024-10-26T23:03:21.187782Z"
    }
   },
   "cell_type": "code",
   "source": [
    "listicle=[]\n",
    "for i in paragraphs:\n",
    "    listicle.append(i.get_text())"
   ],
   "id": "44b7f84108f23552",
   "outputs": [],
   "execution_count": 17
  },
  {
   "metadata": {
    "ExecuteTime": {
     "end_time": "2024-10-26T23:14:23.325137Z",
     "start_time": "2024-10-26T23:14:23.309989Z"
    }
   },
   "cell_type": "code",
   "source": "listicle",
   "id": "3475f3b861003d00",
   "outputs": [
    {
     "data": {
      "text/plain": [
       "['Although the subject of the following treatise is a very specialized one, we nonetheless believe that it may be of more than slight interest to the Western European reader, for several reasons. Today economic questions stand in the forefront of the intellectual life of all civilized countries; they have already been recognized as the mainspring of all social being and becoming. The political physiognomy, the historic destiny of a country is a sealed book to us if we do not know about its economic life, with all the resulting social consequences.',\n",
       " 'It was not long ago that Poland’s name echoed throughout the whole civilized world, that its fate stirred every soul and provoked excitement in every heart. Lately one no longer hears very much about Poland – since Poland is a capitalist country. Do we now want to know what became of the old rebel, where historic destiny steered it? – the answer can only be given through investigation of its economic history during the last decades. The so-called Polish question can be observed and discussed from several standpoints, but for those who recognize that the material development of a society is the key to its political development, the Polish question can only be solved on the basis of Poland’s economic life and its tendencies. We have endeavored to collect the existing material for the solution of the problem in the following discussion, and to arrange it as clearly as possible, at the same time permitting ourselves some direct observations of a political nature here and there. So this topic, which at first glance might appear dry and specialized, may be of some interest to the politician as well.',\n",
       " 'But for still other reasons. We live in a time when the powerful Empire of the North plays an ever more important role in European politics. All eyes are turned persistently toward Russia, and the alarming progress of Russian policy in Asia is watched with apprehension. Probably it will soon be a secret to no one that even the most important capitalist countries must sooner or later prepare themselves for a serious economic rivalry with Russia in Asia. Thereforethe economic policy of the Czarist empire surely cannot be a matter of complete indifference to Western Europeans. Poland, however, constitutes one of the most important and most progressive industrial districts of the Russian Empire, in fact one in whose history the economic policy of Russia finds perhaps its clearest expression.',\n",
       " 'The material for our work lay strewn in countless and, in many cases, contradictory statistical works, polemical brochures, newspaper articles, official and unofficial reports; a thorough study of the history of Polish industry as a whole, and in particular of its present position, is to be found in neither the Polish nor the Russian or German literature. Accordingly, we believed that this raw and fragmentary material had to be digested and presented in the most finished possible form, in order to bring the reader to general conclusions as smoothly as possible.',\n",
       " 'Next Chapter >>>',\n",
       " 'The Industrial Development of Poland',\n",
       " 'Last updated on: 28.11.2008\\n']"
      ]
     },
     "execution_count": 27,
     "metadata": {},
     "output_type": "execute_result"
    }
   ],
   "execution_count": 27
  },
  {
   "metadata": {
    "ExecuteTime": {
     "end_time": "2024-10-26T23:17:52.528163Z",
     "start_time": "2024-10-26T23:17:52.524094Z"
    }
   },
   "cell_type": "code",
   "source": "rosa = open('rosa.txt','w')\n",
   "id": "6b3fe4974b71f938",
   "outputs": [],
   "execution_count": 34
  },
  {
   "metadata": {
    "ExecuteTime": {
     "end_time": "2024-10-26T23:17:54.558194Z",
     "start_time": "2024-10-26T23:17:54.553715Z"
    }
   },
   "cell_type": "code",
   "source": [
    "for i in listicle:\n",
    "    rosa.write(i+'\\n')"
   ],
   "id": "2e0a5172f586fcae",
   "outputs": [],
   "execution_count": 35
  },
  {
   "metadata": {
    "ExecuteTime": {
     "end_time": "2024-10-26T23:17:56.925337Z",
     "start_time": "2024-10-26T23:17:56.921871Z"
    }
   },
   "cell_type": "code",
   "source": "rosa.close()",
   "id": "55b6c657efa1ce0",
   "outputs": [],
   "execution_count": 36
  },
  {
   "metadata": {
    "ExecuteTime": {
     "end_time": "2024-10-27T01:44:15.145576Z",
     "start_time": "2024-10-27T01:44:15.140933Z"
    }
   },
   "cell_type": "code",
   "source": "string_title='https://www.marxists.org/archive/luxemburg/1898/industrial-poland/ch01.htm'",
   "id": "c8e8253cbacde333",
   "outputs": [],
   "execution_count": 130
  },
  {
   "metadata": {
    "ExecuteTime": {
     "end_time": "2024-10-27T01:44:21.727130Z",
     "start_time": "2024-10-27T01:44:21.716528Z"
    }
   },
   "cell_type": "code",
   "source": "import re",
   "id": "bb4c752882f1dd70",
   "outputs": [],
   "execution_count": 131
  },
  {
   "metadata": {
    "ExecuteTime": {
     "end_time": "2024-10-27T01:52:58.658415Z",
     "start_time": "2024-10-27T01:52:58.646549Z"
    }
   },
   "cell_type": "code",
   "source": "ending =re.findall(f'[^\\/]+$',string=string_title)",
   "id": "88d36d6dc71cb45e",
   "outputs": [
    {
     "name": "stderr",
     "output_type": "stream",
     "text": [
      "<>:1: SyntaxWarning: invalid escape sequence '\\/'\n",
      "<>:1: SyntaxWarning: invalid escape sequence '\\/'\n",
      "C:\\Users\\piotr\\AppData\\Local\\Temp\\ipykernel_17688\\653346258.py:1: SyntaxWarning: invalid escape sequence '\\/'\n",
      "  ending =re.findall(f'[^\\/]+$',string=string_title)\n"
     ]
    }
   ],
   "execution_count": 147
  },
  {
   "metadata": {},
   "cell_type": "code",
   "source": "ending=ending[0]",
   "id": "446509f367d62d9f",
   "outputs": [],
   "execution_count": 152
  },
  {
   "metadata": {
    "ExecuteTime": {
     "end_time": "2024-10-27T02:01:11.340195Z",
     "start_time": "2024-10-27T02:01:11.334955Z"
    }
   },
   "cell_type": "code",
   "source": "ending",
   "id": "91802a8d22966621",
   "outputs": [
    {
     "data": {
      "text/plain": [
       "'ch01.htm'"
      ]
     },
     "execution_count": 155,
     "metadata": {},
     "output_type": "execute_result"
    }
   ],
   "execution_count": 155
  },
  {
   "metadata": {
    "ExecuteTime": {
     "end_time": "2024-10-27T02:02:40.715824Z",
     "start_time": "2024-10-27T02:02:40.710692Z"
    }
   },
   "cell_type": "code",
   "source": "ending2= re.findall(f'..+[.]',ending)",
   "id": "eec5a27024f2b6a2",
   "outputs": [],
   "execution_count": 165
  },
  {
   "metadata": {
    "ExecuteTime": {
     "end_time": "2024-10-27T02:02:41.362090Z",
     "start_time": "2024-10-27T02:02:41.357889Z"
    }
   },
   "cell_type": "code",
   "source": "ending2",
   "id": "b78950d3fb0a4aa5",
   "outputs": [
    {
     "data": {
      "text/plain": [
       "['ch01.']"
      ]
     },
     "execution_count": 166,
     "metadata": {},
     "output_type": "execute_result"
    }
   ],
   "execution_count": 166
  },
  {
   "metadata": {},
   "cell_type": "code",
   "outputs": [],
   "execution_count": null,
   "source": "",
   "id": "c76e645d850df606"
  }
 ],
 "metadata": {
  "kernelspec": {
   "display_name": "Python 3",
   "language": "python",
   "name": "python3"
  },
  "language_info": {
   "codemirror_mode": {
    "name": "ipython",
    "version": 2
   },
   "file_extension": ".py",
   "mimetype": "text/x-python",
   "name": "python",
   "nbconvert_exporter": "python",
   "pygments_lexer": "ipython2",
   "version": "2.7.6"
  }
 },
 "nbformat": 4,
 "nbformat_minor": 5
}
