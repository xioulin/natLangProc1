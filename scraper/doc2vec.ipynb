{
 "cells": [
  {
   "cell_type": "code",
   "id": "initial_id",
   "metadata": {
    "collapsed": true,
    "ExecuteTime": {
     "end_time": "2024-10-29T20:15:16.822772Z",
     "start_time": "2024-10-29T20:15:16.803713Z"
    }
   },
   "source": [
    "from gensim.models.doc2vec import TaggedDocument,Doc2Vec\n",
    "from nltk import word_tokenize"
   ],
   "outputs": [],
   "execution_count": 5
  },
  {
   "metadata": {
    "ExecuteTime": {
     "end_time": "2024-10-29T20:09:38.115050Z",
     "start_time": "2024-10-29T20:09:38.103969Z"
    }
   },
   "cell_type": "code",
   "source": "import pathlib",
   "id": "70a282538fd98763",
   "outputs": [],
   "execution_count": 2
  },
  {
   "metadata": {
    "ExecuteTime": {
     "end_time": "2024-10-29T20:09:55.787917Z",
     "start_time": "2024-10-29T20:09:55.774693Z"
    }
   },
   "cell_type": "code",
   "source": "dir = pathlib.Path('pol_russ_econ')",
   "id": "730af14f09512044",
   "outputs": [],
   "execution_count": 3
  },
  {
   "metadata": {
    "ExecuteTime": {
     "end_time": "2024-10-29T20:12:53.984100Z",
     "start_time": "2024-10-29T20:12:53.924898Z"
    }
   },
   "cell_type": "code",
   "source": [
    "list_of_docs=[]\n",
    "for i in dir.iterdir():\n",
    "    if i.is_file():\n",
    "        file = open(i,'r')\n",
    "        text=file.read()\n",
    "        file.close()\n",
    "        text=str(text)\n",
    "        list_of_docs.append(text)"
   ],
   "id": "b0cac8e14dc86800",
   "outputs": [],
   "execution_count": 4
  },
  {
   "metadata": {},
   "cell_type": "code",
   "outputs": [],
   "execution_count": null,
   "source": [
    "class DirectoryListDocs():\n",
    "    "
   ],
   "id": "9e1aeda3b10e6fc"
  },
  {
   "metadata": {
    "ExecuteTime": {
     "end_time": "2024-10-29T20:21:28.972520Z",
     "start_time": "2024-10-29T20:21:28.827626Z"
    }
   },
   "cell_type": "code",
   "source": "tagged_data = [TaggedDocument(words= word_tokenize(doc.lower()), tags= [str(i)]) for i, doc in enumerate(list_of_docs)]",
   "id": "57d739ab07a36987",
   "outputs": [],
   "execution_count": 22
  },
  {
   "metadata": {
    "ExecuteTime": {
     "end_time": "2024-10-29T20:21:30.793358Z",
     "start_time": "2024-10-29T20:21:30.780835Z"
    }
   },
   "cell_type": "code",
   "source": "model = Doc2Vec(vector_size=20, min_count=2, epochs=50)",
   "id": "20292588a4a8d303",
   "outputs": [],
   "execution_count": 23
  },
  {
   "metadata": {
    "ExecuteTime": {
     "end_time": "2024-10-29T20:21:32.023267Z",
     "start_time": "2024-10-29T20:21:31.964237Z"
    }
   },
   "cell_type": "code",
   "source": "model.build_vocab(tagged_data)",
   "id": "431fdb04f9550fd",
   "outputs": [],
   "execution_count": 24
  },
  {
   "metadata": {
    "ExecuteTime": {
     "end_time": "2024-10-29T20:21:34.297599Z",
     "start_time": "2024-10-29T20:21:33.317385Z"
    }
   },
   "cell_type": "code",
   "source": "model.train(tagged_data,total_examples=model.corpus_count, epochs=model.epochs)",
   "id": "846039e4c95aeec5",
   "outputs": [],
   "execution_count": 25
  },
  {
   "metadata": {
    "ExecuteTime": {
     "end_time": "2024-10-29T20:22:20.579912Z",
     "start_time": "2024-10-29T20:22:19.333256Z"
    }
   },
   "cell_type": "code",
   "source": "doc_vec= [model.infer_vector(word_tokenize(doc.lower())) for doc in list_of_docs]",
   "id": "9ae3f3434b301fed",
   "outputs": [],
   "execution_count": 26
  },
  {
   "metadata": {
    "ExecuteTime": {
     "end_time": "2024-10-29T20:23:54.219609Z",
     "start_time": "2024-10-29T20:23:54.202496Z"
    }
   },
   "cell_type": "code",
   "source": [
    "for i in range(len(list_of_docs)):\n",
    "    print(doc_vec[i])"
   ],
   "id": "914ad30b450f6cb7",
   "outputs": [
    {
     "name": "stdout",
     "output_type": "stream",
     "text": [
      "[ -5.1748476  -8.81198    -6.888528    4.8644857  14.52004     5.5701604\n",
      "  -8.407097   -7.577643  -14.254614    5.630042    5.903696    8.174868\n",
      " -10.077819    1.626239   -7.321585   -2.457015    7.179774    2.0444791\n",
      "  -7.938281    1.2928463]\n",
      "[ -5.6589656   -4.7826533   -4.3073435    6.8657246    7.5546894\n",
      "  -1.7333456   -2.47609      3.778447    -5.202754    -4.4566917\n",
      "   2.133399     4.8147454  -11.827889    -7.1806993   -3.4436555\n",
      "   1.4144049    1.2658129   -0.68835425  -6.8341584   -0.77757543]\n",
      "[  4.706675  -10.748658   -6.4144263   1.1221161   2.9752204  -1.4387418\n",
      "   0.903983   -2.0130877   7.6744604  -6.0135255   1.062563   -4.0406966\n",
      "  -4.059772   -7.1748543  -2.6098015   9.350218    3.885938    5.6346\n",
      "  -8.393492   -2.7851853]\n",
      "[  2.8654726    4.9967694   -2.0889618   -0.55721635   1.7741939\n",
      "  -3.9552329   -0.9458639   11.630051    -9.664271    -7.3669434\n",
      "  -3.2132335   -2.8073423  -12.595437   -17.80417     -8.322081\n",
      "   2.9083514    3.952303    -6.0335445   -7.839974    -2.0089161 ]\n",
      "[ 7.281838   -2.0880492  -6.575301    6.263928    6.7251167  -7.033334\n",
      "  5.3039904  -2.006609    2.9995399  -2.2671132  -0.8362839   5.164117\n",
      " -7.168471   -3.3639894  -1.0983288   4.258804    8.369895    0.96013075\n",
      "  6.7112103  -5.6005306 ]\n",
      "[ 3.3790293  -6.134785   -4.8649955  -1.470226    0.8508861   5.6024833\n",
      " -7.6324606   9.498916    0.26760238  8.046013    0.32199776  5.378914\n",
      " -3.6985102  -9.495881    2.9358823  -5.1517096  -6.7883935  16.53348\n",
      "  0.65998846  3.3164167 ]\n",
      "[  7.3755317   10.162042    -8.4251585   12.660957    -5.023654\n",
      "   1.6170481   -4.1464405    7.668235     2.7131543    0.12508847\n",
      "  10.942566     2.7952313    7.0475082   -2.1043398   -4.99608\n",
      "  -6.177152     1.2375       9.955065   -10.359367   -14.028671  ]\n",
      "[ 5.395988   -1.2551434  11.435639   -9.768438    3.0455458   3.928244\n",
      "  8.654542    4.3647213  -4.409319   -1.1329927  -6.6370673  12.238933\n",
      "  8.889505   -1.3617158  -9.171818    3.2408495   0.83323157  9.729678\n",
      " -3.0492368  -5.5360284 ]\n",
      "[ 3.1942198   6.732297    2.7016733  -3.2127328   6.732295    0.8865047\n",
      " -4.4971733  -3.1965036  -6.6956453  -0.49320495  2.3367214   9.087541\n",
      "  4.9151335  -5.6418314  12.345023    7.7931533  10.861348    4.8940396\n",
      " -5.781719   -0.29170573]\n",
      "[  5.749266    -3.9358375  -12.404663    -3.130837    -4.9252744\n",
      "   9.678803     0.19890298   6.9248877    6.8689547    9.876078\n",
      "  -4.183439     9.07003      4.309082    -2.3613846    2.653967\n",
      "   7.454008    18.624142    -2.4077535    3.887951     2.5764573 ]\n",
      "[-2.6689782   0.04222167  2.1620874   3.7989962   5.960542    1.3930718\n",
      " -0.8475859   0.84590095 -1.6862719  -2.237492   -2.9569724   7.075525\n",
      "  1.1953928  -3.3344646   5.654872    8.28405     4.4536395   5.3920426\n",
      "  1.0428519  -6.7247405 ]\n",
      "[-0.17525941  0.19040512  1.4818912   1.2459613   3.485375    1.3224955\n",
      " -2.455203   -0.68257034 -1.7576321   0.6592354  -0.8229393   4.070226\n",
      "  4.000062   -5.716148    2.7406757   8.950396    4.3351765   0.42751625\n",
      "  0.43471795 -6.2132483 ]\n"
     ]
    }
   ],
   "execution_count": 29
  },
  {
   "metadata": {
    "ExecuteTime": {
     "end_time": "2024-10-29T20:26:18.259587Z",
     "start_time": "2024-10-29T20:26:18.244455Z"
    }
   },
   "cell_type": "code",
   "source": "print(model.dv.most_similar(doc_vec[0]))",
   "id": "7ccf8e6f9ba12a46",
   "outputs": [
    {
     "name": "stdout",
     "output_type": "stream",
     "text": [
      "[('0', 0.9979413151741028), ('1', 0.6806448101997375), ('8', 0.22700341045856476), ('10', 0.2156115472316742), ('5', 0.18347933888435364), ('4', 0.18010321259498596), ('2', 0.16815809905529022), ('3', 0.1462085098028183), ('11', 0.1332206279039383), ('6', 0.029496613889932632)]\n"
     ]
    }
   ],
   "execution_count": 33
  },
  {
   "metadata": {
    "ExecuteTime": {
     "end_time": "2024-10-29T20:30:22.348911Z",
     "start_time": "2024-10-29T20:30:22.332780Z"
    }
   },
   "cell_type": "code",
   "source": "tagged_data[0]",
   "id": "d579ced4f219763c",
   "outputs": [
    {
     "data": {
      "text/plain": [
       "TaggedDocument(words=['political', 'events', 'moved', 'poland', 'into', 'a', 'completely', 'new', 'situation', 'at', 'the', 'beginning', 'of', 'the', 'nineteenth', 'century', '.', 'the', 'partition', 'brought', 'it', 'out', 'of', 'the', 'peculiar', 'natural-economic', ',', 'feudal-anarchic', 'conditions', 'of', 'the', 'republic', 'of', 'the', 'nobles', 'which', 'we', 'find', 'in', 'the', 'poland', 'of', 'the', 'eighteenth', 'century', ',', 'and', 'placed', 'it', 'under', 'the', 'rule', 'of', 'enlightened', 'absolutism', 'and', 'under', 'the', 'centralized', 'bureaucratic', 'administration', 'of', 'prussia', '.', 'austria', ',', 'and', 'russia', '.', 'the', 'russian', 'section', 'of', 'poland', ',', 'which', 'interests', 'us', 'here', ',', 'admittedly', 'maintained', 'its', 'own', 'corporative', 'constitution', 'while', 'still', 'the', 'duchy', 'of', 'warsaw', 'and', 'later', 'after', 'the', 'vienna', 'congress', '.', 'but', 'it', 'was', 'as', 'different', 'from', 'the', 'old', 'poland', 'as', 'heaven', 'from', 'earth', ',', 'and', 'the', 'whole', 'administrative', ',', 'financial', ',', 'military', ',', 'legal', 'government', 'apparatus', 'was', 'tailored', 'to', 'a', 'modern', 'centralized', 'state', '.', 'the', 'latter', 'found', 'itself', 'in', 'the', 'harshest', 'contradiction', 'with', 'the', 'economic', 'relations', 'on', 'which', 'it', 'had', 'been', 'grafted', '.', 'poland', '’', 's', 'economic', 'life', ',', 'as', 'before', ',', 'was', 'concentrated', 'on', 'land', 'ownership', '.', 'the', 'development', 'of', 'urban', 'handicraft', 'begun', 'in', 'the', 'thirteenth', 'century', 'had', 'crumbled', 'to', 'dust', 'by', 'the', 'seventeenth', 'century', ';', 'the', 'attempt', 'by', 'the', 'magnates', 'to', 'start', 'up', 'manufacturing', 'at', 'the', 'end', 'of', 'the', 'eighteenth', 'century', 'disintegrated', 'likewise', '.', 'the', 'system', 'of', 'land', 'ownership', ',', 'however', ',', 'was', 'utterly', 'unsuited', 'to', 'serve', 'as', 'the', 'basis', 'of', 'a', 'modern', 'state', 'organization', '.', 'its', 'dependence', 'on', 'the', 'world', 'market', ',', 'which', 'dated', 'from', 'the', 'fifteenth', 'century', 'in', 'old', 'poland', ',', 'drove', 'it', 'to', 'an', 'extremely', 'extensive', 'latifundia', 'economy', 'and', 'the', 'utmost', 'exaction', 'of', 'forced', 'labor', ';', 'it', 'became', 'more', 'and', 'more', 'irrationally', 'cultivated', 'and', 'as', 'a', 'result', 'more', 'and', 'more', 'unproductive', '.', 'the', 'wars', 'during', 'poland', '’', 's', 'last', 'epoch', ',', 'then', 'the', 'napoleonic', 'system', 'in', 'the', 'duchy', 'of', 'warsaw', ',', 'the', 'continental', 'blockade', 'and', 'with', 'it', 'the', 'decline', 'of', 'grain', 'exports', ',', 'the', 'drop', 'in', 'grain', 'prices', ',', 'the', 'abolition', 'of', 'serfdom', 'in', '1807', ',', 'all', 'these', 'blows', 'rained', 'down', 'on', 'landed', 'property', 'in', 'the', 'course', 'of', 'approximately', 'ten', 'years', 'and', 'brought', 'it', 'to', 'the', 'brink', 'of', 'ruin', '.', 'since', 'it', 'wasmeanwhile', 'the', 'main', 'source', 'of', 'revenue', 'in', 'the', 'country', ',', 'the', 'relatively', 'high', 'cost', 'of', 'the', 'country', '’', 's', 'new', 'administration', 'had', 'to', 'fall', 'on', 'it', 'full', 'force', '.', 'the', 'ten', 'per', 'cent', 'income', 'tax', 'on', 'landed', 'property', ',', 'already', 'introduced', 'in', 'old', 'poland', 'but', 'only', 'now', 'actually', 'collected', ',', 'was', 'now', 'to', 'be', 'raised', 'to', '24', 'per', 'cent', '.', 'the', 'burden', 'of', 'quartering', 'soldiers', 'and', 'providing', 'supplies', 'for', 'the', 'military', 'in', 'natura', 'fell', 'on', 'the', 'nobility', 'in', 'addition', '.', 'the', 'result', 'was', 'that', 'landed', 'property', 'soon', 'fell', 'into', 'the', 'clutches', 'of', 'usury', '.', 'while', 'old', 'poland', 'possessed', 'no', 'urban', 'capitalist', 'class', 'as', 'a', 'result', 'of', 'the', 'decay', 'of', 'urban', 'production', 'and', 'trade', ',', 'such', 'a', 'class', 'surfaced', 'right', 'after', 'the', 'partition', 'of', 'poland', '.', 'in', 'part', 'it', 'consisted', 'of', 'immigrating', 'officials', 'and', 'usurers', ',', 'in', 'part', 'of', 'polish', 'parvenus', 'who', 'owed', 'their', 'material', 'existence', 'to', 'the', 'country', '’', 's', 'great', 'political', 'and', 'economic', 'crisis', '.', 'this', 'new', 'layer', 'of', 'the', 'population', 'now', 'supplied', 'the', 'needy', 'nobility', 'with', 'capital', '.', 'to', 'a', 'large', 'extent', ',', 'however', ',', 'the', 'beginning', 'of', 'the', 'nobility', '’', 's', 'indebtedness', 'dated', 'from', 'the', 'ten', 'years', 'of', 'prussian', 'rule', '(', '1796-1806', ')', ',', 'during', 'which', 'an', 'organized', 'agricultural', 'credit', 'was', 'widely', 'offered', 'to', 'the', 'polish', 'nobility', 'for', 'the', 'first', 'time', '.', 'for', 'polish', 'landed', 'property', 'this', 'meant', 'a', 'real', 'revolution', '.', 'what', 'was', 'accomplished', 'in', 'western', 'european', 'countries', 'during', 'the', 'middle', 'ages', 'through', 'a', 'slow', 'and', 'persistent', 'process', 'over', 'centuries', '–', 'the', 'disintegration', 'of', 'patrimonial', 'land', 'ownership', 'through', 'usury', '–', 'was', 'now', 'achieved', 'in', 'poland', ',', 'where', 'landed', 'property', 'had', 'kept', 'itself', 'free', 'from', 'usury', 'until', 'the', 'end', 'of', 'the', 'republic', ',', 'in', 'less', 'than', '20', 'years', '.', 'already', 'in', 'the', 'year', '1821', 'it', 'had', 'to', 'be', 'rescued', 'from', 'downfall', 'by', 'the', 'government', 'of', 'the', 'kingdom', 'by', 'means', 'of', 'an', 'exceptional', 'measure', ':', 'the', 'moratorium', '.', 'under', 'such', 'circumstances', ',', 'the', 'deficit', 'became', 'a', 'permanent', 'phenomenon', 'in', 'the', 'kingdom', '’', 's', 'budget', 'right', 'from', 'the', 'beginning', '.', 'the', 'creation', 'of', 'new', 'sources', 'of', 'revenue', 'for', 'the', 'exchequer', 'and', 'of', 'new', 'spheres', 'of', 'economic', 'activity', 'in', 'the', 'country', 'therefore', 'became', 'a', 'condition', 'of', 'existence', 'for', 'the', 'kingdom', 'from', 'the', 'first', 'moment', '.', 'following', 'the', 'example', 'of', 'other', 'countries', 'and', 'driven', 'by', 'immediate', 'needs', ',', 'the', 'government', 'undertook', 'the', 'establishment', 'of', 'urban', 'industry', 'in', 'poland', '.', 'the', 'decade', '1820-1830', 'is', 'the', 'period', 'of', 'the', 'rise', 'of', 'polish', 'industry', ',', 'or', ',', 'more', 'correctly', ',', 'of', 'polish', 'manufacture', '.', 'it', 'was', 'quite', 'similar', 'in', 'character', 'to', 'the', 'earlier', 'rise', 'of', 'polish', 'handicraft', 'by', 'the', 'method', 'of', 'attracting', 'foreign', ',', 'mainly', 'german', 'craftsmen', '.', 'just', 'as', 'in', 'the', 'thirteenth', 'century', 'the', 'polish', 'princes', 'tried', 'to', 'entice', 'foreign', 'workers', 'to', 'poland', 'with', 'a', 'variety', 'of', 'privileges', ',', 'so', 'also', 'the', 'government', 'of', 'congress', 'poland', '.', 'a', 'whole', 'series', 'of', 'czarist', 'ukases', 'relating', 'to', 'this', 'were', 'proclaimed', 'in', 'the', 'years', '1816', 'to', '1824.', 'the', 'government', 'provided', 'houses', 'and', 'made', 'building', 'materials', 'available', 'gratis', ',', 'gave', 'rent', 'exemptions', ',', 'founded', 'the', 'so-called', 'iron', 'fund', 'for', 'the', 'construction', 'of', 'industrial', 'buildings', 'and', 'housing', 'for', 'industry', '.', 'in', '1816', ',', 'immigrating', 'craftsmen', 'were', 'promised', 'freedom', 'from', 'all', 'taxes', 'and', 'public', 'charges', 'for', 'six', 'years', ',', 'their', 'sons', 'were', 'freed', 'from', 'military', 'service', ',', 'and', 'the', 'duty-free', 'import', 'of', 'their', 'property', 'was', 'permitted', '.', 'in', '1820', 'the', 'government', 'granted', 'the', 'immigrants', 'a', 'free', 'supply', 'of', 'building', 'materials', 'from', 'the', 'state', 'forests', 'and', 'constructed', 'its', 'own', 'brickyards', 'in', 'order', 'to', 'supply', 'them', 'with', 'the', 'cheapest', 'possible', 'bricks', '.', 'a', 'law', 'of', 'the', 'year', '1822', 'freed', 'all', 'industrial', 'enterprises', 'from', 'the', 'obligation', 'to', 'quarter', 'soldiers', 'for', 'three', 'to', 'six', 'years', '.', 'in', '1820', 'and', '1823', 'it', 'was', 'decreed', 'that', 'the', 'cities', 'were', 'to', 'hand', 'over', 'locations', 'to', 'these', 'enterprises', 'rent-free', 'for', 'six', 'years', '.', 'the', 'industrial', 'fund', 'established', 'in', '1822', 'for', 'the', 'encouragement', 'of', 'industrial', 'colonization', 'amounted', 'to', '45,000', 'rubles', 'at', 'the', 'beginning', ',', 'already', 'twice', 'as', 'much', 'in', '1823', ',', 'and', 'from', 'then', 'on', '127,500', 'rubles', 'annually', '.', 'such', 'manifold', 'attractions', 'did', 'not', 'fail', 'to', 'have', 'an', 'effect', '.', 'soon', 'german', 'craftsmen', 'trooped', 'into', 'poland', 'and', 'settled', 'down', '.', 'approximately', '10,000', 'german', 'families', 'immigrated', 'in', 'a', 'few', 'years', 'at', 'this', 'time', '.', 'in', 'this', 'way', ',', 'the', 'most', 'important', 'industrial', 'cities', 'of', 'today', 'soon', 'arose', ':', 'lodz', ',', 'zgierz', ',', 'rawa', ',', 'pabianice', ',', 'and', 'others', '.', 'in', 'addition', 'to', 'craftsmen', ',', 'the', 'government', 'of', 'russian', 'poland', 'called', 'in', 'prominent', 'foreign', 'industrialists', 'to', 'direct', 'its', 'enterprises', ':', 'coqueril', 'from', 'belgium', ',', 'fraget', ',', 'girard', ',', 'and', 'others', '.', 'russian', 'poland', '’', 's', 'government', 'did', 'not', 'content', 'itself', 'with', 'the', 'granting', 'of', 'privileges', 'to', 'immigrants', 'and', 'the', 'establishment', 'of', 'german', 'manufacturing', 'towns', ',', 'however', '.', 'unlike', 'the', 'handicrafts', 'of', 'the', 'middle', 'ages', ',', 'manufacturing', 'could', 'not', 'content', 'itself', 'with', 'the', 'narrow', 'circle', 'of', 'consumption', 'and', 'circulation', 'within', 'any', 'one', 'city', ';', 'to', 'start', 'with', ',', 'it', 'required', 'a', 'wholesale', 'market', 'and', ',', 'further', ',', 'commodity', 'circulation', 'embracing', 'the', 'whole', 'country', 'at', 'least', '.', 'together', 'with', 'the', 'foundation', 'of', 'manufacturing', 'colonies', ',', 'the', 'government', 'had', 'to', 'undertake', 'a', 'whole', 'series', 'of', 'administrative', 'and', 'legislative', 'reforms', 'which', 'were', 'to', 'unify', 'the', 'country', 'economically', 'into', 'one', 'complex', 'and', 'create', 'the', 'necessary', 'legal', 'forms', 'for', 'internal', 'commodity', 'traffic', '.', 'the', 'greatest', 'breach', 'in', 'the', 'property', 'relations', 'and', 'especially', 'the', 'landed', 'property', 'relations', 'of', 'old', 'poland', 'had', 'already', 'been', 'forced', 'by', 'the', 'code', 'napoleon', 'introduced', 'in', 'the', 'duchy', 'of', 'warsaw', 'in', '1808.', 'it', 'had', 'grafted', 'the', 'legal', 'forms', 'of', 'a', 'modern', 'bourgeois', 'economy', 'in', 'quite', 'finished', 'form', 'onto', 'the', 'economic', 'conditions', 'of', 'a', 'purely', 'feudal', 'natural', 'economy', '.', 'unable', 'to', 'reorganize', 'the', 'means', 'of', 'production', 'as', 'such', 'in', 'the', 'slightest', ',', 'it', 'had', 'nevertheless', 'severely', 'violated', 'the', 'old', 'property', 'relations', 'and', 'so', 'hurried', 'their', 'disintegration', '.', 'with', 'the', 'abolition', 'of', 'perpetual', 'rent', ',', 'entail', ',', 'etc.', ',', 'landed', 'property', 'was', 'torn', 'out', 'of', 'permanence', 'and', 'catapulted', 'into', 'circulation', '.', 'at', 'the', 'same', 'time', ',', 'the', 'code', 'napoleon', 'supplied', 'commerce', 'and', 'the', 'commercial', 'courts', 'with', 'legal', 'standards', '.', 'in', '1817', ',', 'furthermore', ',', 'chambers', 'of', 'commerce', 'and', 'manufacturing', 'were', 'established', 'and', 'the', 'regulation', 'of', 'trade', 'was', 'brought', 'to', 'a', 'close', ';', 'in', 'the', 'following', 'year', ',', 'deed', 'registries', 'were', 'introduced', ';', 'in', '1825', ',', 'the', 'agricultural', 'credit', 'association', 'was', 'founded', '.', 'in', '1819', ',', 'the', 'building', 'of', 'highways', 'and', 'the', 'regulation', 'of', 'waterways', 'were', 'begun', 'by', 'order', 'of', 'the', 'state', ',', 'and', 'in', '1825', ',', 'the', 'construction', 'of', 'the', 'canal', 'between', 'the', 'niemen', 'and', 'the', 'vistula', '.', 'finally', ',', 'the', 'government', 'also', 'took', 'the', 'lead', '–', 'as', 'in', 'other', 'countries', 'at', 'the', 'beginnings', 'of', 'manufacture', '–', 'with', 'its', 'own', 'industrial', 'enterprises', ',', 'and', 'established', 'model', 'factories', ',', 'model', 'sheep-raising', ',', 'and', 'so', 'on', '.', 'but', 'it', 'gave', 'the', 'strongest', 'foothold', 'to', 'budding', 'manufacturing', 'by', 'establishing', 'the', 'polish', 'bank', ',', 'which', 'was', 'called', 'into', 'existence', 'by', 'the', 'czarist', 'ukase', 'of', '1828', 'and', 'organized', 'after', 'the', 'model', 'of', 'the', 'german', 'seehandlung', 'and', 'the', 'belgian', 'société', 'generale', '.', 'this', 'was', 'an', 'issuing', ',', 'investment', ',', 'deposit', ',', 'mortgage', ',', 'commission', ',', 'and', 'industrial', 'bank', 'all', 'at', 'once', '.', 'initially', 'endowed', 'with', 'a', 'fund', 'amounting', 'to', '3', 'million', 'rubles', ',', 'it', 'also', 'obtained', 'deposits', ',', 'securities', ',', 'ecclesiastical', 'funds', ',', 'fire', 'insurance', ',', 'pensions', ',', 'and', 'other', 'capitals', 'on', 'deposit', ',', 'which', 'by', '1877', 'represented', '282', 'million', 'rubles', 'total', '.', 'the', 'bank', 'offered', 'credit', 'to', 'industry', 'as', 'well', 'as', 'to', 'agriculture', '.', 'in', 'the', 'period', 'of', '50', 'years', 'since', 'its', 'founding', ',', 'it', 'had', 'given', 'commercial', 'and', 'industrial', 'enterprises', 'alone', 'credit', 'to', 'the', 'amount', 'of', '91', 'million', 'rubles', '.', 'the', 'activity', 'of', 'the', 'bank', 'was', 'extremely', 'diverse', '.', 'it', 'not', 'only', 'established', 'factories', 'itself', 'and', 'carried', 'on', 'mining', 'and', 'agriculture', ',', 'but', 'also', 'attended', 'to', 'means', 'of', 'transport', '.', 'the', 'first', 'polish', 'train', 'line', ',', 'warsaw–vienna', ',', 'of', '1845', 'was', 'chiefly', 'the', 'work', 'of', 'the', 'polish', 'bank', '.', 'the', 'activity', 'of', 'the', 'government', 'sketched', 'above', 'was', 'the', 'first', 'important', 'factor', 'in', 'the', 'development', 'of', 'industry', 'in', 'russian', 'poland', '.', 'whatever', 'other', 'circumstances', 'may', 'have', 'additionally', 'influenced', 'its', 'history', ',', 'it', 'unquestionably', 'owes', 'its', 'existence', 'to', 'the', 'initiative', 'and', 'efforts', 'of', 'the', 'government', '.', 'we', 'see', 'of', 'course', '–', 'as', 'was', 'said', '–', 'that', 'in', 'other', 'countries', ',', 'for', 'example', 'france', 'and', 'germany', ',', 'governments', 'stand', 'by', 'the', 'cradle', 'of', 'manufacturing', 'and', 'take', 'hold', 'of', 'its', 'destiny', 'with', 'energetic', 'hands', '.', 'but', 'there', 'the', 'governments', 'offered', 'their', 'help', 'only', 'to', 'a', 'natural', 'development', 'of', 'urban', 'production', ',', 'which', 'moved', 'of', 'itself', 'and', 'by', 'virtue', 'of', 'objective', 'factors', 'such', 'as', 'the', 'accumulation', 'of', 'trading', 'capital', ',', 'the', 'widening', 'of', 'markets', ',', 'and', 'the', 'technological', 'development', 'of', 'handicraft', 'toward', 'transformation', 'into', 'manufacturing', 'production', 'methods', '.', 'in', 'poland', ',', 'manufacture', ',', 'like', 'urban', 'handicraft', 'earlier', ',', 'was', 'a', 'foreign', 'product', 'imported', 'in', 'finished', 'form', ',', 'which', 'could', 'develop', 'neither', 'a', 'technological', 'nor', 'a', 'social', 'connection', 'to', 'poland', '’', 's', 'own', 'economic', 'development', '.', 'here', ',', 'then', ',', 'the', 'activity', 'of', 'the', 'government', 'was', 'the', 'only', 'positive', 'factor', 'in', 'the', 'rise', 'of', 'manufacture', ',', 'and', 'this', 'explains', 'to', 'us', 'the', 'predilection', 'which', 'polish', 'economists', 'and', 'publicists', 'have', 'for', 'reverting', 'to', 'this', 'point', ';', 'thus', 'its', 'significance', 'is', 'on', 'the', 'whole', 'only', 'too', 'often', 'overestimated', '.', 'above', 'all', ',', 'they', 'forget', 'that', 'the', 'autonomous', 'polish', 'government', ',', 'in', 'the', 'activity', 'that', 'they', 'describe', ',', 'acted', 'in', 'the', 'most', 'intimate', 'agreement', 'with', 'russian', 'czarism', ',', 'which', 'was', 'guided', 'by', 'intentions', 'which', 'were', 'in', 'national', 'terms', 'nothing', 'less', 'than', 'friendly', 'toward', 'poland', '.', 'furthermore', ',', 'from', 'the', 'first', ',', 'the', 'assistance', 'of', 'russian', 'poland', '’', 's', 'government', 'fell', 'on', 'the', 'most', 'favorable', 'soil', ':', 'poland', '’', 's', 'tariff', 'relations', '.', 'the', 'vienna', 'congress', 'act', 'resulted', 'in', 'two', 'important', 'measures', 'for', 'poland', 'in', 'this', 'connection', ':', 'first', ',', 'it', 'was', 'united', 'with', 'russia', '.', 'second', ',', 'free', 'trade', 'with', 'the', 'other', 'sections', 'of', 'what', 'was', 'formerly', 'poland', ',', 'or', 'what', 'in', 'fact', 'meant', 'the', 'same', 'thing', ',', 'with', 'germany', 'and', 'austria', ',', 'was', 'secured', '.', 'as', 'far', 'as', 'the', 'union', 'with', 'russia', 'is', 'concerned', ',', 'the', 'trade', 'relations', 'between', 'the', 'two', 'countries', 'were', 'regulated', 'by', 'the', 'tariffs', 'of', '1822', 'and', '1824', 'so', 'that', 'their', 'products', 'were', 'exchanged', 'with', 'each', 'other', 'almost', 'duty-free', '.', 'the', 'meaning', 'of', 'this', 'new', 'regulation', 'for', 'poland', 'only', 'becomes', 'clear', ',', 'however', ',', 'if', 'it', 'is', 'kept', 'in', 'mind', 'that', 'since', 'the', 'year', '1810', ',', 'and', 'especially', 'under', 'the', 'administration', 'of', 'kankrin', ',', 'russia', 'adhered', 'to', 'an', 'extreme', 'prohibitive', 'policy', 'toward', 'europe', ',', 'often', 'bordering', 'on', 'absurdity', ',', 'and', 'was', 'protected', 'on', 'all', 'sides', 'from', 'foreign', 'manufacture', 'by', 'an', 'unbreachable', 'tariff', 'wall', '.', 'through', 'the', 'unification', 'with', 'poland', ',', 'russia', 'was', 'now', 'made', 'accessible', 'to', 'german', 'goods', 'from', 'this', 'side', ',', 'because', 'of', 'the', 'above-mentioned', 'tariff', '.', 'the', 'result', 'of', 'this', 'for', 'poland', 'was', 'that', 'it', 'became', 'the', 'workshop', 'for', 'the', 'processing', 'of', 'half-finished', 'german', 'goods', ',', 'most', 'of', 'which', 'were', 'imported', 'into', 'russian', 'poland', 'duty-free', ',', 'finished', 'in', 'poland', ',', 'and', 'which', 'then', 'found', 'their', 'way', 'into', 'russia', 'as', 'polish', 'products', ',', 'again', 'almost', 'duty-free', '.', 'by', 'such', 'means', 'poland', '’', 's', 'large', 'cloth', 'industry', ',', 'in', 'particular', ',', 'came', 'into', 'full', 'bloom', 'in', 'only', 'a', 'few', 'years', '.', 'first', 'established', 'in', 'the', 'years', '1817', 'to', '1826', ',', 'it', 'had', 'already', ',', 'in', '1829', ',', 'reached', 'the', 'for', 'that', 'time', 'considerable', 'amount', 'of', '5,752,000', 'rubles', '’', 'worth', 'of', 'production', '.', 'that', 'this', 'surprisingly', 'rapid', 'growth', 'was', 'almost', 'entirely', 'thanks', 'to', 'russian', 'consumption', 'is', 'shown', 'by', 'the', 'following', 'table', 'of', 'exports', 'of', 'wool', 'products', 'to', 'russia', ',', 'in', 'thousands', 'of', 'rubles', ':', 'if', 'the', 'value', 'of', 'exported', 'products', 'according', 'to', 'this', 'table', 'exceeds', 'the', 'value', 'of', 'that', 'produced', 'in', 'the', 'country', ',', 'this', 'is', 'because', 'of', 'the', 'fact', 'that', ',', 'along', 'with', 'goods', 'finished', 'in', 'poland', ',', 'german', 'finished', 'products', 'smuggled', 'into', 'poland', 'were', 'massively', 'exported', 'to', 'russia', 'under', 'polish', 'labels', '.', 'but', 'this', 'tariff', 'relationship', 'had', 'still', 'another', 'important', 'side', 'for', 'congress', 'poland', '.', 'it', 'opened', 'to', 'her', 'a', 'free', 'trade', 'route', 'to', 'china', ',', 'where', 'polish', 'cloth', 'was', 'likewise', 'exported', 'in', 'large', 'quantities', '.', 'this', 'export', 'specifically', 'amounted', 'to', '(', 'in', 'thousands', 'of', 'rubles', ')', ':', 'although', 'poland', '’', 's', 'whole', 'export', 'trade', 'in', 'the', 'first', 'decade', 'of', 'its', 'industrial', 'development', 'really', 'extended', 'to', 'only', 'one', 'branch', ',', 'the', 'wool', 'industry', ',', 'yet', 'its', 'importance', 'for', 'the', 'country', 'was', 'great', ',', 'for', 'it', 'also', 'had', 'invigorating', 'repercussions', 'on', 'other', 'branches', 'of', 'production', 'and', 'strongly', 'encouraged', 'the', 'immigration', 'of', 'german', 'craftsmen', '.', 'a', 'historian', 'of', 'the', 'polish', 'textile', 'industry', 'center', ',', 'the', 'city', 'of', 'lodz', ',', 'calls', 'poland', '’', 's', 'cloth', 'trade', 'of', 'that', 'time', 'with', 'russia', 'and', 'china', '“', 'the', 'mainspring', 'of', 'the', 'development', 'of', 'industry.', '”', 'yet', 'in', '1831', 'this', 'trade', 'came', 'to', 'an', 'end', '.', 'the', 'polish', 'uprising', ',', 'which', 'paralyzed', 'the', 'development', 'of', 'manufacture', 'in', 'the', 'country', 'for', 'some', 'time', ',', 'in', 'addition', 'had', 'as', 'a', 'lasting', 'effect', 'that', 'in', 'this', 'year', 'the', 'tariff', 'between', 'poland', 'and', 'russia', 'was', 'significantly', 'increased', '.', 'the', 'competition', 'of', 'polish', 'cloth', 'in', 'russia', 'and', 'china', 'had', 'been', 'a', 'thorn', 'in', 'the', 'side', 'of', 'russian', 'manufacturers', 'for', 'a', 'long', 'time', '.', 'their', 'repeated', 'petitions', 'to', 'increase', 'tariffs', 'at', 'the', 'polish', 'border', 'remained', 'unsuccessful', ',', 'however', ',', 'until', 'the', 'uprising', 'of', '1831', 'and', 'with', 'it', 'the', 'standstill', 'of', 'polish', 'cloth', 'exports', 'to', 'russia', '.', 'this', 'furnished', 'the', 'russian', 'manufacturers', 'with', 'the', 'opportunity', 'to', 'quickly', 'take', 'the', 'deserted', 'field', 'by', 'expanding', 'their', 'own', 'production', 'and', 'so', 'prove', 'to', 'the', 'government', 'with', 'figures', 'how', 'much', 'the', '“', 'fatherland', '’', 's', '”', 'industry', 'had', 'suffered', 'from', 'polish', 'competition', 'until', 'then', '.', 'with', 'the', 'raising', 'of', 'the', 'tariff', 'and', ',', 'at', 'the', 'same', 'time', ',', 'the', 'abolition', 'of', 'free', 'transit', 'to', 'china', ',', 'polish', 'exports', 'sank', 'rapidly', ':', 'in', '1834', ',', 'they', 'amounted', 'to', 'a', 'total', 'of', '2,887,000', 'rubles', ',', 'of', 'that', 'manufactured', 'products', '2,385,000', 'rubles', '.', 'in', '1850', ',', 'they', 'amounted', 'to', 'a', 'total', 'of', '1,274,000', 'rubles', ',', 'of', 'that', 'manufactured', 'products', '755,000', 'rubles', '.', 'for', 'polish', 'wool', 'production', ',', 'this', 'was', 'a', 'hard', 'blow', '.', 'after', 'its', 'value', 'had', 'reached', ',', 'in', '1829', '–', 'as', 'we', 'saw', '–', 'the', 'height', 'of', '5,752,000', 'rubles', ',', 'it', 'sank', 'in', '1832', 'to', '1,917,000', 'and', 'rose', 'only', 'little', 'by', 'little', 'to', '2,564,000', 'rubles', 'in', '1850', ',', 'that', 'is', ',', 'to', 'half', 'of', 'the', 'earlier', 'amount', '.', 'yet', 'the', 'closing', 'of', 'the', 'russian', 'border', 'could', 'have', 'no', 'great', 'significance', 'for', 'the', 'further', 'destiny', 'of', 'polish', 'manufacturing', 'as', 'a', 'whole', '.', 'the', 'conditions', 'for', 'a', 'growing', 'demand', 'for', 'manufactured', 'goods', 'did', 'not', 'then', 'exist', 'in', 'russia', 'itself', ',', 'nor', 'were', 'the', 'means', 'of', 'transport', 'adapted', 'to', 'mass', 'transport', '.', 'the', 'large', 'cloth', 'export', 'trade', 'can', 'be', 'explained', 'in', 'the', 'main', 'only', 'by', 'the', 'needs', 'of', 'the', 'russian', 'army', '.', 'moreover', ',', 'polish', 'manufacturing', 'had', 'still', 'not', 'even', 'had', 'time', 'to', 'provide', 'itself', 'with', 'an', 'internal', 'market', '.', 'so', 'after', 'the', 'closing', 'of', 'the', 'russian', 'customs', 'border', ',', 'it', 'slowly', 'set', 'out', 'to', 'get', 'a', 'foothold', 'within', 'the', 'country', ',', 'with', 'favorable', 'government', 'measures', 'and', 'supported', 'in', 'particular', 'by', 'the', 'polish', 'bank', '.', 'in', 'the', 'next', 'two', 'decades', 'many', 'branches', 'of', 'production', 'developed', 'well', ':', 'in', 'the', '1830s', 'tanning', 'and', 'soap-making', ',', 'in', 'the', '1840s', 'sugar', 'production', ',', 'also', 'mining', 'in', 'the', '1830s', 'and', 'similarly', 'paper', 'manufacturing', '.', 'but', 'the', 'country', '’', 's', 'social', 'situation', 'drew', 'rather', 'narrow', 'bounds', 'for', 'the', 'growth', 'of', 'industry', '.', 'totaling', 'only', 'the', 'tiny', 'number', 'of', '4', 'to', '5', 'million', 'people', ',', 'the', 'population', 'of', 'russian', 'poland', 'moreover', 'lived', 'in', 'large', 'part', 'within', 'a', 'natural', 'economy', '.', 'despite', 'the', 'abolition', 'of', 'serfdom', 'in', '1807', ',', 'forced', 'labor', 'remained', 'the', 'predominant', 'mode', 'of', 'labor', 'in', 'agriculture', 'and', 'as', 'a', 'result', 'the', 'property', 'owners', ',', 'just', 'like', 'the', 'peasants', ',', 'were', 'cut', 'off', 'from', 'commodity', 'and', 'money', 'exchange', 'to', 'a', 'great', 'degree', '.', 'the', 'cities', 'grew', 'only', 'slowly', 'and', ',', 'poor', 'and', 'underpopulated', 'as', 'they', 'were', ',', 'could', 'not', 'provide', 'a', 'strong', 'demand', 'for', 'manufactured', 'goods', 'either', '.', 'this', 'development', 'is', 'thus', 'really', 'a', 'very', 'slow', 'one', '.', 'thirty', 'years', 'after', 'polish', 'manufacture', 'arose', ',', 'after', 'a', 'period', 'in', 'which', 'it', 'had', 'been', 'mainly', 'directed', 'toward', 'its', 'own', 'internal', 'market', ',', 'we', 'see', 'that', 'it', 'is', 'still', 'restricted', 'to', 'quite', 'dwarfish', 'dimensions', '.', 'the', 'most', 'advanced', 'of', 'all', 'industries', ',', 'textiles', ',', 'was', 'still', 'mainly', 'run', 'with', 'manual', 'labor', 'in', 'the', '1850s', ',', 'without', 'steam', 'power', ',', 'and', 'therefore', 'only', 'by', 'skilled', 'master', 'craftsmen', 'and', 'journeymen', 'and', 'without', 'a', 'trace', 'of', 'female', 'labor', '.', 'on', 'the', 'whole', 'the', 'fragmentation', 'of', 'production', 'points', 'to', 'its', 'predominantly', 'craft', 'character', ',', 'for', 'in', 'the', 'year', '1857', 'we', 'still', 'see', '12,542', '“', 'factories', '”', 'in', 'poland', 'with', '56,364', 'workers', 'and', '21,278,592', 'rubles', '’', 'worth', 'of', 'production', ':', 'on', 'the', 'average', ',', 'four', 'to', 'five', 'workers', 'and', '1,700', 'rubles', '’', 'worth', 'of', 'production', 'per', '“', 'factory.', '”', 'corresponding', 'to', 'this', 'situation', ',', 'urban', 'industry', 'also', 'played', 'only', 'a', 'secondary', 'role', 'in', 'poland', '’', 's', 'social', 'life', 'until', 'the', '1850s', 'and', 'even', 'the', '1860s', '.', 'landed', 'property', 'still', 'set', 'the', 'tone', 'in', 'the', 'economy', 'as', 'well', 'as', 'the', 'politics', 'of', 'the', 'country', '.', 'indeed', ',', 'the', 'broad', 'mass', 'of', 'middle', 'landowners', ',', 'those', 'who', 'at', 'the', 'time', 'represented', 'public', 'opinion', ',', 'regarded', 'budding', 'urban', 'industry', 'and', 'with', 'it', 'the', 'capitalist', 'economy', 'as', 'a', 'foreign', 'and', 'poisonous', 'weed', ',', 'as', 'a', '“', 'german', 'swindle', '”', 'that', 'bore', 'the', 'guilt', 'for', 'the', 'desperate', 'condition', 'of', 'landed', 'property', 'and', 'of', 'the', 'whole', 'country', '.', '<', '<', '<', 'last', 'chapter', '|', 'next', 'chapter', '>', '>', '>', 'the', 'industrial', 'development', 'of', 'poland', 'last', 'updated', 'on', ':', '28.11.2008'], tags=['0'])"
      ]
     },
     "execution_count": 38,
     "metadata": {},
     "output_type": "execute_result"
    }
   ],
   "execution_count": 38
  },
  {
   "metadata": {
    "ExecuteTime": {
     "end_time": "2024-10-29T20:31:30.055006Z",
     "start_time": "2024-10-29T20:31:30.035904Z"
    }
   },
   "cell_type": "code",
   "source": "model.dv.most_similar('1')",
   "id": "6478a6020e0e3939",
   "outputs": [
    {
     "data": {
      "text/plain": [
       "[('0', 0.6971694827079773),\n",
       " ('3', 0.6291130185127258),\n",
       " ('2', 0.4486248195171356),\n",
       " ('4', 0.41031497716903687),\n",
       " ('10', 0.32953354716300964),\n",
       " ('11', 0.22964398562908173),\n",
       " ('5', 0.18464156985282898),\n",
       " ('8', 0.16615238785743713),\n",
       " ('6', 0.07629085332155228),\n",
       " ('9', -0.06887637823820114)]"
      ]
     },
     "execution_count": 41,
     "metadata": {},
     "output_type": "execute_result"
    }
   ],
   "execution_count": 41
  },
  {
   "metadata": {
    "ExecuteTime": {
     "end_time": "2024-10-29T20:34:08.803396Z",
     "start_time": "2024-10-29T20:34:08.796985Z"
    }
   },
   "cell_type": "code",
   "source": "model.dv.most_similar('2')",
   "id": "bb5be01034664d4a",
   "outputs": [
    {
     "data": {
      "text/plain": [
       "[('4', 0.516940712928772),\n",
       " ('1', 0.448624849319458),\n",
       " ('3', 0.3407967984676361),\n",
       " ('11', 0.28351888060569763),\n",
       " ('0', 0.20502862334251404),\n",
       " ('10', 0.1842510849237442),\n",
       " ('9', 0.18396855890750885),\n",
       " ('6', 0.12793146073818207),\n",
       " ('5', 0.10763049125671387),\n",
       " ('8', 0.06746862083673477)]"
      ]
     },
     "execution_count": 42,
     "metadata": {},
     "output_type": "execute_result"
    }
   ],
   "execution_count": 42
  },
  {
   "metadata": {
    "ExecuteTime": {
     "end_time": "2024-10-29T20:53:38.260356Z",
     "start_time": "2024-10-29T20:53:38.197624Z"
    }
   },
   "cell_type": "code",
   "source": "from classess import DirectoryListDocs",
   "id": "97e0316d0de3adfc",
   "outputs": [],
   "execution_count": 49
  },
  {
   "metadata": {
    "ExecuteTime": {
     "end_time": "2024-10-29T20:54:41.804128Z",
     "start_time": "2024-10-29T20:54:41.753812Z"
    }
   },
   "cell_type": "code",
   "source": "prez_vecs=DirectoryListDocs(r'C:\\Users\\piotr\\PycharmProjects\\natLangProc1\\Dead_Presidents\\addresses\\inaug')",
   "id": "4898bd59489115e5",
   "outputs": [],
   "execution_count": 52
  },
  {
   "metadata": {
    "ExecuteTime": {
     "end_time": "2024-10-29T20:55:01.656515Z",
     "start_time": "2024-10-29T20:55:01.608659Z"
    }
   },
   "cell_type": "code",
   "source": "prez_vecs",
   "id": "a32d3441280e7b00",
   "outputs": [
    {
     "data": {
      "text/plain": [
       "<classssess.DirectoryListDocs at 0x17513f57fe0>"
      ]
     },
     "execution_count": 53,
     "metadata": {},
     "output_type": "execute_result"
    }
   ],
   "execution_count": 53
  },
  {
   "metadata": {},
   "cell_type": "code",
   "outputs": [],
   "execution_count": null,
   "source": "",
   "id": "2f90776951a9f9a8"
  }
 ],
 "metadata": {
  "kernelspec": {
   "display_name": "Python 3",
   "language": "python",
   "name": "python3"
  },
  "language_info": {
   "codemirror_mode": {
    "name": "ipython",
    "version": 2
   },
   "file_extension": ".py",
   "mimetype": "text/x-python",
   "name": "python",
   "nbconvert_exporter": "python",
   "pygments_lexer": "ipython2",
   "version": "2.7.6"
  }
 },
 "nbformat": 4,
 "nbformat_minor": 5
}
