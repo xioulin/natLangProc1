{
 "cells": [
  {
   "cell_type": "code",
   "execution_count": 109,
   "outputs": [],
   "source": [
    "import ssl\n",
    "try:\n",
    "    _create_unverified_https_context = ssl._create_unverified_context\n",
    "except AttributeError:\n",
    "    pass\n",
    "else:\n",
    "    ssl._create_default_https_context = _create_unverified_https_context"
   ],
   "metadata": {
    "collapsed": false,
    "ExecuteTime": {
     "end_time": "2024-02-20T01:52:24.738832Z",
     "start_time": "2024-02-20T01:52:24.595230Z"
    }
   }
  },
  {
   "cell_type": "code",
   "execution_count": 110,
   "metadata": {
    "collapsed": true,
    "ExecuteTime": {
     "end_time": "2024-02-20T01:52:24.740507Z",
     "start_time": "2024-02-20T01:52:24.623883Z"
    }
   },
   "outputs": [],
   "source": [
    "import pandas as pd\n",
    "import nltk\n",
    "from gutenberg.acquire import load_etext\n",
    "from gutenberg.cleanup import strip_headers\n",
    "from urllib import request\n",
    "import re"
   ]
  },
  {
   "cell_type": "code",
   "execution_count": 111,
   "outputs": [],
   "source": [
    "url= 'https://www.gutenberg.org/files/82/82-h/82-h.htm'"
   ],
   "metadata": {
    "collapsed": false,
    "ExecuteTime": {
     "end_time": "2024-02-20T01:52:24.740915Z",
     "start_time": "2024-02-20T01:52:24.637986Z"
    }
   }
  },
  {
   "cell_type": "code",
   "execution_count": 112,
   "outputs": [],
   "source": [
    "response=request.urlopen(url)"
   ],
   "metadata": {
    "collapsed": false,
    "ExecuteTime": {
     "end_time": "2024-02-20T01:52:24.980368Z",
     "start_time": "2024-02-20T01:52:24.664050Z"
    }
   }
  },
  {
   "cell_type": "code",
   "execution_count": 113,
   "outputs": [],
   "source": [
    "raw= response.read().decode('utf8')"
   ],
   "metadata": {
    "collapsed": false,
    "ExecuteTime": {
     "end_time": "2024-02-20T01:52:25.267322Z",
     "start_time": "2024-02-20T01:52:24.988862Z"
    }
   }
  },
  {
   "cell_type": "code",
   "execution_count": 114,
   "outputs": [
    {
     "data": {
      "text/plain": "4074"
     },
     "execution_count": 114,
     "metadata": {},
     "output_type": "execute_result"
    }
   ],
   "source": [
    "raw.index('INTRODUCTION')"
   ],
   "metadata": {
    "collapsed": false,
    "ExecuteTime": {
     "end_time": "2024-02-20T01:52:25.291761Z",
     "start_time": "2024-02-20T01:52:25.268748Z"
    }
   }
  },
  {
   "cell_type": "code",
   "execution_count": 115,
   "outputs": [],
   "source": [
    "raw=raw[4070:]"
   ],
   "metadata": {
    "collapsed": false,
    "ExecuteTime": {
     "end_time": "2024-02-20T01:52:25.324962Z",
     "start_time": "2024-02-20T01:52:25.298293Z"
    }
   }
  },
  {
   "cell_type": "code",
   "execution_count": 116,
   "outputs": [
    {
     "data": {
      "text/plain": "53309"
     },
     "execution_count": 116,
     "metadata": {},
     "output_type": "execute_result"
    }
   ],
   "source": [
    "raw.index('1817.')"
   ],
   "metadata": {
    "collapsed": false,
    "ExecuteTime": {
     "end_time": "2024-02-20T01:52:25.366941Z",
     "start_time": "2024-02-20T01:52:25.312930Z"
    }
   }
  },
  {
   "cell_type": "code",
   "execution_count": 117,
   "outputs": [],
   "source": [
    "raw=raw[53309:]"
   ],
   "metadata": {
    "collapsed": false,
    "ExecuteTime": {
     "end_time": "2024-02-20T01:52:25.377493Z",
     "start_time": "2024-02-20T01:52:25.328039Z"
    }
   }
  },
  {
   "cell_type": "code",
   "execution_count": 118,
   "outputs": [
    {
     "data": {
      "text/plain": "'1817.\\r\\n</p>\\r\\n\\r\\n</div><!--end chapter-->\\r\\n\\r\\n<div class=\"chapter\">\\r\\n\\r\\n<h2>IVANHOE.</h2>\\r\\n\\r\\n</div><!--end chapter-->\\r\\n\\r\\n<div class=\"chapter\">\\r\\n\\r\\n<h2><a name=\"chap01\"></a>CHAPTER I</h2>\\r\\n\\r\\n<p class=\"poem\">\\r\\nThus communed these; while to their lowly dome,'"
     },
     "execution_count": 118,
     "metadata": {},
     "output_type": "execute_result"
    }
   ],
   "source": [
    "raw[:250]"
   ],
   "metadata": {
    "collapsed": false,
    "ExecuteTime": {
     "end_time": "2024-02-20T01:52:25.427061Z",
     "start_time": "2024-02-20T01:52:25.336188Z"
    }
   }
  },
  {
   "cell_type": "code",
   "execution_count": 119,
   "outputs": [],
   "source": [
    "from bs4 import BeautifulSoup"
   ],
   "metadata": {
    "collapsed": false,
    "ExecuteTime": {
     "end_time": "2024-02-20T01:52:25.438033Z",
     "start_time": "2024-02-20T01:52:25.367243Z"
    }
   }
  },
  {
   "cell_type": "code",
   "execution_count": 120,
   "outputs": [],
   "source": [
    "soup= BeautifulSoup(raw,'html.parser')"
   ],
   "metadata": {
    "collapsed": false,
    "ExecuteTime": {
     "end_time": "2024-02-20T01:52:26.046443Z",
     "start_time": "2024-02-20T01:52:25.391246Z"
    }
   }
  },
  {
   "cell_type": "code",
   "execution_count": 121,
   "outputs": [],
   "source": [
    "raw=raw.replace('\\r',' ')\n",
    "raw=raw.replace('\\n',' ')"
   ],
   "metadata": {
    "collapsed": false,
    "ExecuteTime": {
     "end_time": "2024-02-20T01:52:26.062967Z",
     "start_time": "2024-02-20T01:52:26.055333Z"
    }
   }
  },
  {
   "cell_type": "code",
   "execution_count": 122,
   "outputs": [
    {
     "data": {
      "text/plain": "'1817.  </p>    </div><!--end chapter-->    <div class=\"chapter\">    <h2>IVANHOE.</h2>    </div><!--end chapter-->    <div class=\"chapter\">    <h2><a name=\"chap01\"></a>CHAPTER I</h2>    <p class=\"poem\">  Thus communed these; while to their lowly dome,'"
     },
     "execution_count": 122,
     "metadata": {},
     "output_type": "execute_result"
    }
   ],
   "source": [
    "raw[:250]"
   ],
   "metadata": {
    "collapsed": false,
    "ExecuteTime": {
     "end_time": "2024-02-20T01:52:26.096971Z",
     "start_time": "2024-02-20T01:52:26.075116Z"
    }
   }
  },
  {
   "cell_type": "code",
   "execution_count": 123,
   "outputs": [],
   "source": [
    "clean=re.compile('<.*?>')"
   ],
   "metadata": {
    "collapsed": false,
    "ExecuteTime": {
     "end_time": "2024-02-20T01:52:26.102629Z",
     "start_time": "2024-02-20T01:52:26.089765Z"
    }
   }
  },
  {
   "cell_type": "code",
   "execution_count": 124,
   "outputs": [],
   "source": [
    "raw=re.sub(clean,' ',raw)"
   ],
   "metadata": {
    "collapsed": false,
    "ExecuteTime": {
     "end_time": "2024-02-20T01:52:26.146656Z",
     "start_time": "2024-02-20T01:52:26.128843Z"
    }
   }
  },
  {
   "cell_type": "code",
   "execution_count": 125,
   "outputs": [
    {
     "data": {
      "text/plain": "1115532"
     },
     "execution_count": 125,
     "metadata": {},
     "output_type": "execute_result"
    }
   ],
   "source": [
    "raw.index(raw[-66500:])"
   ],
   "metadata": {
    "collapsed": false,
    "ExecuteTime": {
     "end_time": "2024-02-20T01:52:26.165131Z",
     "start_time": "2024-02-20T01:52:26.148800Z"
    }
   }
  },
  {
   "cell_type": "code",
   "execution_count": 126,
   "outputs": [],
   "source": [
    "raw=raw[:1115532]"
   ],
   "metadata": {
    "collapsed": false,
    "ExecuteTime": {
     "end_time": "2024-02-20T01:52:26.236779Z",
     "start_time": "2024-02-20T01:52:26.173573Z"
    }
   }
  },
  {
   "cell_type": "code",
   "execution_count": 127,
   "outputs": [
    {
     "data": {
      "text/plain": "'e will long dwell in my remembrance. There reigns in it gentleness and  goodness; and if a tinge of the world&rsquo;s pride or vanities may mix with an  expression so lovely, how should we chide that which is of earth for bearing  some colour of its original? Long, long will I remember your features, and  bless God that I leave my noble deliverer united with&mdash;&rdquo;          She stopped short&mdash;her eyes filled with tears. She hastily wiped them, and  answered to the anxious enquiries of Rowena&mdash;&ldquo;I am well,  lady&mdash;well. But my heart swells when I think of Torquilstone and the lists  of Templestowe.&mdash;Farewell. One, the most trifling part of my duty, remains  undischarged. Accept this casket&mdash;startle not at its contents.&rdquo;          Rowena opened the small silver-chased casket, and perceived a carcanet, or neck  lace, with ear-jewels, of diamonds, which were obviously of immense value.          &ldquo;It is impossible,&rdquo; she said, tendering back the casket. &ldquo;I  dare not accept a gift of such consequence.&rdquo;          &ldquo;Yet keep it, lady,&rdquo; returned Rebecca.&mdash;&ldquo;You have power,  rank, command, influence; we have wealth, the source both of our strength and  weakness; the value of these toys, ten times multiplied, would not influence  half so much as your slightest wish. To you, therefore, the gift is of little  value,&mdash;and to me, what I part with is of much less. Let me not think you  deem so wretchedly ill of my nation as your commons believe. Think ye that I  prize these sparkling fragments of stone above my liberty? or that my father  values them in comparison to the honour of his only child? Accept them,  lady&mdash;to me they are valueless. I will never wear jewels more.&rdquo;          &ldquo;You are then unhappy!&rdquo; said Rowena, struck with the manner in  which Rebecca uttered the last words. &ldquo;O, remain with us&mdash;the  counsel of holy men will wean you from your erring law, and I will be a sister  to you.&rdquo;          &ldquo;No, lady,&rdquo; answered Rebecca, the same calm melancholy reigning in  her soft voice and beautiful features&mdash;&ldquo;that&mdash;may not be. I may  not change the faith of my fathers like a garment unsuited to the climate in  which I seek to dwell, and unhappy, lady, I will not be. He, to whom I dedicate  my future life, will be my comforter, if I do His will.&rdquo;          &ldquo;Have you then convents, to one of which you mean to retire?&rdquo; asked  Rowena.          &ldquo;No, lady,&rdquo; said the Jewess; &ldquo;but among our people, since the  time of Abraham downwards, have been women who have devoted their thoughts to  Heaven, and their actions to works of kindness to men, tending the sick,  feeding the hungry, and relieving the distressed. Among these will Rebecca be  numbered. Say this to thy lord, should he chance to enquire after the fate of  her whose life he saved.&rdquo;          There was an involuntary tremour on Rebecca&rsquo;s voice, and a tenderness of  accent, which perhaps betrayed more than she would willingly have expressed.  She hastened to bid Rowena adieu.          &ldquo;Farewell,&rdquo; she said. &ldquo;May He, who made both Jew and  Christian, shower down on you his choicest blessings! The bark that waits us  hence will be under weigh ere we can reach the port.&rdquo;          She glided from the apartment, leaving Rowena surprised as if a vision had  passed before her. The fair Saxon related the singular conference to her  husband, on whose mind it made a deep impression. He lived long and happily  with Rowena, for they were attached to each other by the bonds of early  affection, and they loved each other the more, from the recollection of the  obstacles which had impeded their union. Yet it would be enquiring too  curiously to ask, whether the recollection of Rebecca&rsquo;s beauty and  magnanimity did not recur to his mind more frequently than the fair descendant  of Alfred might altogether have approved.          Ivanhoe distinguished himself in the service of Richard, and was graced with  farther marks of the royal favour. He might have risen still higher, but for  the premature death of the heroic Cœur-de-Lion, before the Castle of Chaluz,  near Limoges. With the life of a generous, but rash and romantic monarch,  perished all the projects which his ambition and his generosity had formed; to  whom may be applied, with a slight alteration, the lines composed by Johnson  for Charles of Sweden&mdash;          His fate was destined to a foreign strand,   A petty fortress and an &ldquo;humble&rdquo; hand;   He left the name at which the world grew pale,   To point a moral, or adorn a TALE.                     NOTE TO CHAPTER I.                  Note A.&mdash;The Ranger or the Forest, that cuts the foreclaws off our  dogs.        A most sensible grievance of those aggrieved times were the Forest Laws. These  oppressive enactments were the produce of the Norman Conquest, for the Saxon  laws of the chase were mild and humane; while those of William,  enthusiastically attached to the exercise and its rights, were to the last  degree tyrannical. The formation of the New Forest, bears evidence to his  passion for hunting, where he reduced many a happy village to the condition of  that one commemorated by my friend, Mr William Stewart Rose:          &ldquo;Amongst the ruins of the church   The midnight raven found a perch,   A melancholy place;   The ruthless Conqueror cast down,   Woe worth the deed, that little town,   To lengthen out his chase.&rdquo;          The disabling dogs, which might be necessary for keeping flocks and herds, from  running at the deer, was called &ldquo;lawing&rdquo;, and was in general use.  The Charter of the Forest designed to lessen those evils, declares that  inquisition, or view, for lawing dogs, shall be made every third year, and  shall be then done by the view and testimony of lawful men, not otherwise; and  they whose dogs shall be then found unlawed, shall give three shillings for  mercy, and for the future no man&rsquo;s ox shall be taken for lawing. Such  lawing also shall be done by the assize commonly used, and which is, that three  claws shall be cut off without the ball of the right foot. See on this subject  the Historical Essay on the Magna Charta of King John, (a most beautiful  volume), by Richard Thomson.                     NOTE TO CHAPTER II.                  Note B.&mdash;Negro Slaves.        The severe accuracy of some critics has objected to the complexion of the  slaves of Brian de Bois-Guilbert, as being totally out of costume and  propriety. I remember the same objection being made to a set of sable  functionaries, whom my friend, Mat Lewis, introduced as the guards and  mischief-doing satellites of the wicked Baron, in his Castle Spectre. Mat  treated the objection with great contempt, and averred in reply, that he made  the slaves black in order to obtain a striking effect of contrast, and that,  could he have derived a similar advantage from making his heroine blue, blue  she should have been.          I do not pretend to plead the immunities of my order so highly as this; but  neither will I allow that the author of a modern antique romance is obliged to  confine himself to the introduction of those manners only which can be proved  to have absolutely existed in the times he is depicting, so that he restrain  himself to such as are plausible and natural, and contain no obvious  anachronism. In this point of view, what can be more natural, than that the  Templars, who, we know, copied closely the luxuries of the Asiatic warriors  with whom they fought, should use the service of the enslaved Africans, whom  the fate of war transferred to new masters? I am sure, if there are no precise  proofs of their having done so, there is nothing, on the other hand, that can  entitle us positively to conclude that they never did. Besides, there is an  instance in romance.          John of Rampayne, an excellent juggler and minstrel, undertook to effect the  escape of one Audulf de Bracy, by presenting himself in disguise at the court  of the king, where he was confined. For this purpose, &ldquo;he stained his  hair and his whole body entirely as black as jet, so that nothing was white but  his teeth,&rdquo; and succeeded in imposing himself on the king, as an  Ethiopian minstrel. He effected, by stratagem, the escape of the prisoner.  Negroes, therefore, must have been known in England in the dark ages.   60                       NOTE TO CHAPTER XVII.                  Note C.&mdash;Minstrelsy.        The realm of France, it is well known, was divided betwixt the Norman and  Teutonic race, who spoke the language in which the word Yes is pronounced as  &ldquo;oui&rdquo;, and the inhabitants of the southern regions, whose speech  bearing some affinity to the Italian, pronounced the same word  &ldquo;oc&rdquo;. The poets of the former race were called  &ldquo;Minstrels&rdquo;, and their poems &ldquo;Lays&rdquo;: those of the  latter were termed &ldquo;Troubadours&rdquo;, and their compositions called  &ldquo;sirventes&rdquo;, and other names. Richard, a professed admirer of the  joyous science in all its branches, could imitate either the minstrel or  troubadour. It is less likely that he should have been able to compose or sing  an English ballad; yet so much do we wish to assimilate Him of the Lion Heart  to the band of warriors whom he led, that the anachronism, if there be one may  readily be forgiven.                     NOTE TO CHAPTER XXI.                  Note D.&mdash;Battle of Stamford.        A great topographical blunder occurred here in former editions. The bloody  battle alluded to in the text, fought and won by King Harold, over his brother  the rebellious Tosti, and an auxiliary force of Danes or Norsemen, was said, in  the text, and a corresponding note, to have taken place at Stamford, in  Leicestershi'"
     },
     "execution_count": 127,
     "metadata": {},
     "output_type": "execute_result"
    }
   ],
   "source": [
    "raw[-10000:]"
   ],
   "metadata": {
    "collapsed": false,
    "ExecuteTime": {
     "end_time": "2024-02-20T01:52:26.249018Z",
     "start_time": "2024-02-20T01:52:26.187483Z"
    }
   }
  },
  {
   "cell_type": "code",
   "execution_count": 128,
   "outputs": [
    {
     "data": {
      "text/plain": "1110284"
     },
     "execution_count": 128,
     "metadata": {},
     "output_type": "execute_result"
    }
   ],
   "source": [
    "raw.index('NOTE TO CHAPTER I.')"
   ],
   "metadata": {
    "collapsed": false,
    "ExecuteTime": {
     "end_time": "2024-02-20T01:52:26.249688Z",
     "start_time": "2024-02-20T01:52:26.205401Z"
    }
   }
  },
  {
   "cell_type": "code",
   "execution_count": 129,
   "outputs": [],
   "source": [
    "raw=raw[:1110284]"
   ],
   "metadata": {
    "collapsed": false,
    "ExecuteTime": {
     "end_time": "2024-02-20T01:52:26.249919Z",
     "start_time": "2024-02-20T01:52:26.223585Z"
    }
   }
  },
  {
   "cell_type": "code",
   "execution_count": 131,
   "outputs": [],
   "source": [
    "ivanhoe_text= open('ivanhoe.txt','w')\n",
    "ivanhoe_text.write(raw)\n",
    "ivanhoe_text.close()"
   ],
   "metadata": {
    "collapsed": false,
    "ExecuteTime": {
     "end_time": "2024-02-20T01:52:32.582169Z",
     "start_time": "2024-02-20T01:52:32.554695Z"
    }
   }
  }
 ],
 "metadata": {
  "kernelspec": {
   "display_name": "Python 3",
   "language": "python",
   "name": "python3"
  },
  "language_info": {
   "codemirror_mode": {
    "name": "ipython",
    "version": 2
   },
   "file_extension": ".py",
   "mimetype": "text/x-python",
   "name": "python",
   "nbconvert_exporter": "python",
   "pygments_lexer": "ipython2",
   "version": "2.7.6"
  }
 },
 "nbformat": 4,
 "nbformat_minor": 0
}
