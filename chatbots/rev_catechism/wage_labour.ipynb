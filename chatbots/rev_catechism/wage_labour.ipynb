{
 "cells": [
  {
   "cell_type": "code",
   "id": "initial_id",
   "metadata": {
    "collapsed": true,
    "ExecuteTime": {
     "end_time": "2024-10-30T21:49:46.149159Z",
     "start_time": "2024-10-30T21:49:34.762638Z"
    }
   },
   "source": "from classess import KeywordExtractor",
   "outputs": [
    {
     "name": "stderr",
     "output_type": "stream",
     "text": [
      "C:\\Users\\piotr\\AppData\\Local\\Programs\\Python\\Python312\\Lib\\site-packages\\sentence_transformers\\cross_encoder\\CrossEncoder.py:13: TqdmExperimentalWarning: Using `tqdm.autonotebook.tqdm` in notebook mode. Use `tqdm.tqdm` instead to force console mode (e.g. in jupyter console)\n",
      "  from tqdm.autonotebook import tqdm, trange\n"
     ]
    }
   ],
   "execution_count": 1
  },
  {
   "metadata": {
    "ExecuteTime": {
     "end_time": "2024-10-30T21:49:49.985014Z",
     "start_time": "2024-10-30T21:49:49.982205Z"
    }
   },
   "cell_type": "code",
   "source": "wage = KeywordExtractor('wage_labour')",
   "id": "1ff4c7835e666455",
   "outputs": [],
   "execution_count": 2
  },
  {
   "metadata": {
    "ExecuteTime": {
     "end_time": "2024-10-30T21:50:04.213094Z",
     "start_time": "2024-10-30T21:49:53.340231Z"
    }
   },
   "cell_type": "code",
   "source": "wage.extract_keywords()",
   "id": "cfdafd1b8d4835c4",
   "outputs": [
    {
     "name": "stdout",
     "output_type": "stream",
     "text": [
      "the keywords for wage_labour\\Wage Labour and Capital. Chapter 8.txt are: \n",
      "('capitalist', 0.4501)\n",
      "('capitalists', 0.4266)\n",
      "('economists', 0.3273)\n",
      "('marx', 0.3059)\n",
      "('profit', 0.2726)\n"
     ]
    }
   ],
   "execution_count": 3
  },
  {
   "metadata": {
    "ExecuteTime": {
     "end_time": "2024-10-30T21:50:40.943235Z",
     "start_time": "2024-10-30T21:50:37.841832Z"
    }
   },
   "cell_type": "code",
   "source": "from nltk import sent_tokenize",
   "id": "8d0fc46482ba76c9",
   "outputs": [],
   "execution_count": 4
  },
  {
   "metadata": {
    "ExecuteTime": {
     "end_time": "2024-10-30T21:53:09.701775Z",
     "start_time": "2024-10-30T21:53:09.695521Z"
    }
   },
   "cell_type": "code",
   "source": "from classess import TextFromFile",
   "id": "3382f01cea9e9433",
   "outputs": [],
   "execution_count": 6
  },
  {
   "metadata": {
    "ExecuteTime": {
     "end_time": "2024-10-30T21:58:53.929894Z",
     "start_time": "2024-10-30T21:58:53.907418Z"
    }
   },
   "cell_type": "code",
   "source": "wage = TextFromFile('wage_labor/Wage_Labour_and_Capital._Chapter_8.txt')",
   "id": "89b843efbbb845df",
   "outputs": [],
   "execution_count": 13
  },
  {
   "metadata": {
    "ExecuteTime": {
     "end_time": "2024-10-30T21:58:56.290357Z",
     "start_time": "2024-10-30T21:58:56.278825Z"
    }
   },
   "cell_type": "code",
   "source": "wage",
   "id": "e861c784878db862",
   "outputs": [
    {
     "data": {
      "text/plain": [
       "'Karl Marx \\nWage Labour and Capital \\n\\xa0 \\nWe thus see that, even if we keep ourselves within the relation of capital\\nand wage-labour, the interests of capitals and the interests of wage-labour are\\ndiametrically opposed to each other. \\nA rapid growth of capital is synonymous with a rapid growth of profits.\\nProfits can grow rapidly only when the price of labour – the relative\\nwages – decrease just as rapidly. Relative wages may fall, although real\\nwages rise simultaneously with nominal wages, with the money value of labour,\\nprovided only that the real wage does not rise in the same proportion as the\\nprofit. If, for instance, in good business years wages rise 5 per cent, while\\nprofits rise 30 per cent, the proportional, the relative wage has not\\nincreased, but decreased. \\nIf, therefore, the income of the worker increased with the rapid growth of\\ncapital, there is at the same time a widening of the social chasm that divides\\nthe worker from the capitalist, and increase in the power of capital over\\nlabour, a greater dependence of labour upon capital. \\nTo say that \"the worker has an interest in the rapid growth of capital\",\\nmeans only this: that the more speedily the worker augments the wealth of the\\ncapitalist, the larger will be the crumbs which fall to him, the greater will\\nbe the number of workers than can be called into existence, the more can the\\nmass of slaves dependent upon capital be increased. \\nWe have thus seen that even the most favorable situation for the working\\nclass, namely, the most rapid growth of capital, however much it may improve\\nthe material life of the worker, does not abolish the antagonism between his\\ninterests and the interests of the capitalist. Profit and wages remain as\\nbefore, in inverse proportion. \\nIf capital grows rapidly, wages may rise, but the profit of capital rises\\ndisproportionately faster. The material position of the worker has improved,\\nbut at the cost of his social position. The social chasm that separates him\\nfrom the capitalist has widened. \\nFinally, to say that \"the most favorable condition for wage-labour is the\\nfastest possible growth of productive capital\", is the same as to say: the\\nquicker the working class multiplies and augments the power inimical to it\\n– the wealth of another which lords over that class – the more\\nfavorable will be the conditions under which it will be permitted to toil anew\\nat the multiplication of bourgeois wealth, at the enlargement of the power of\\ncapital, content thus to forge for itself the golden chains by which the\\nbourgeoisie drags it in its train. \\nGrowth of productive capital and rise of wages, are they really so\\nindissolubly united as the bourgeois economists maintain? We must not believe\\ntheir mere words. We dare not believe them even when they claim that the fatter\\ncapital is the more will its slave be pampered. The bourgeoisie is too much\\nenlightened, it keeps its accounts much too carefully, to share the prejudices\\nof the feudal lord, who makes an ostentatious display of the magnificence of\\nhis retinue. The conditions of existence of the bourgeoisie compel it to attend\\ncarefully to its bookkeeping. We must therefore examine more closely into the\\nfollowing question: \\nIf as a whole, the productive capital of bourgeois society grows, there\\ntakes place a more many-sided accumulation of labour. The individual capitals\\nincrease in number and in magnitude. The multiplications of individual capitals\\nincreases the competition among capitalists. The increasing magnitude of\\nincreasing capitals provides the means of leading more powerful armies of\\nworkers with more gigantic instruments of war upon the industrial battlefield.\\n\\nThe one capitalist can drive the other from the field and carry off his\\ncapital only by selling more cheaply. In order to sell more cheaply without\\nruining himself, he must produce more cheaply – i.e., increase the\\nproductive forces of labour as much as possible. \\nBut the productive forces of labour is increased above all by a greater\\ndivision of labour and by a more general introduction and constant improvement\\nof machinery. The larger the army of workers among whom the labour is\\nsubdivided, the more gigantic the scale upon which machinery is introduced, the\\nmore in proportion does the cost of production decrease, the more fruitful is\\nthe labour. And so there arises among the capitalists a universal rivalry for\\nthe increase of the division of labour and of machinery and for their\\nexploitation upon the greatest possible scale. \\nIf, now, by a greater division of labour, by the application and improvement\\nof new machines, by a more advantageous exploitation of the forces of nature on\\na larger scale, a capitalist has found the means of producing with the same\\namount of labour (whether it be direct or accumulated labour) a larger amount\\nof products of commodities than his competitors – if, for instance, he\\ncan produce a whole yard of linen in the same labour-time in which his\\ncompetitors weave half-a-yard – how will this capitalist act? \\nHe could keep on selling half-a-yard of linen at old market price; but this\\nwould not have the effect of driving his opponents from the field and enlarging\\nhis own market. But his need of a market has increased in the same measure in\\nwhich his productive power has extended. The more powerful and costly means of\\nproduction that he has called into existence enable him, it is true, to sell\\nhis wares more cheaply, but they compel him at the same time to sell more\\nwares, to get control of a very much greater market for his commodities;\\nconsequently, this capitalist will sell his half-yard of linen more cheaply\\nthan his competitors. \\nBut the capitalist will not sell the whole yard so cheaply as his\\ncompetitors sell the half-yard, although the production of the whole yard costs\\nhim no more than does that of the half-yard to the others. Otherwise, he would\\nmake no extra profit, and would get back in exchange only the cost of\\nproduction. He might obtain a greater income from having set in motion a larger\\ncapital, but not from having made a greater profit on his capital than the\\nothers. Moreover, he attains the object he is aiming at if he prices his goods\\nonly a small percentage lower than his competitors. He drives them off the\\nfield, he wrests from them at least part of their market, by underselling them.\\n\\nAnd finally, let us remember that the current price always stands either\\nabove or below the cost of production, according as the sale of a commodity\\ntakes place in the favorable or unfavorable period of the industry. According\\nas the market price of the yard of linen stands above or below its former cost\\nof production, will the percentage vary at which the capitalist who has made\\nuse of the new and more faithful means of production sell above his real cost\\nof production. \\nBut the privilege of our capitalist is not of long duration. Other competing\\ncapitalists introduce the same machines, the same division of labour, and\\nintroduce them upon the same or even upon a greater scale. And finally this\\nintroduction becomes so universal that the price of the linen is lowered not\\nonly below its old, but even below its new cost of production. \\nThe capitalists therefore find themselves, in their mutual relations, in the\\nsame situation in which they were before the introduction of the new means of\\nproduction; and if they are by these means enabled to offer double the product\\nat the old price, they are now forced to furnish double the product for less\\nthan the old price. Having arrived at the new point, the new cost of\\nproduction, the battle for supremacy in the market has to be fought out anew.\\nGiven more division of labour and more machinery, and there results a greater\\nscale upon which division of labour and machinery are exploited. And\\ncompetition again brings the same reaction against this result. \\nEffect of capitalist competition on\\nthe... \\nWage Labour and Capital Index \\n'"
      ]
     },
     "execution_count": 14,
     "metadata": {},
     "output_type": "execute_result"
    }
   ],
   "execution_count": 14
  },
  {
   "metadata": {
    "ExecuteTime": {
     "end_time": "2024-10-30T21:59:37.494002Z",
     "start_time": "2024-10-30T21:59:37.478907Z"
    }
   },
   "cell_type": "code",
   "source": "text = wage.replace('\\n',' ')",
   "id": "20d67f0c40d63b2d",
   "outputs": [],
   "execution_count": 15
  },
  {
   "metadata": {
    "ExecuteTime": {
     "end_time": "2024-10-30T21:59:39.264783Z",
     "start_time": "2024-10-30T21:59:39.255580Z"
    }
   },
   "cell_type": "code",
   "source": "text",
   "id": "f477256473a865a8",
   "outputs": [
    {
     "data": {
      "text/plain": [
       "'Karl Marx  Wage Labour and Capital  \\xa0  We thus see that, even if we keep ourselves within the relation of capital and wage-labour, the interests of capitals and the interests of wage-labour are diametrically opposed to each other.  A rapid growth of capital is synonymous with a rapid growth of profits. Profits can grow rapidly only when the price of labour – the relative wages – decrease just as rapidly. Relative wages may fall, although real wages rise simultaneously with nominal wages, with the money value of labour, provided only that the real wage does not rise in the same proportion as the profit. If, for instance, in good business years wages rise 5 per cent, while profits rise 30 per cent, the proportional, the relative wage has not increased, but decreased.  If, therefore, the income of the worker increased with the rapid growth of capital, there is at the same time a widening of the social chasm that divides the worker from the capitalist, and increase in the power of capital over labour, a greater dependence of labour upon capital.  To say that \"the worker has an interest in the rapid growth of capital\", means only this: that the more speedily the worker augments the wealth of the capitalist, the larger will be the crumbs which fall to him, the greater will be the number of workers than can be called into existence, the more can the mass of slaves dependent upon capital be increased.  We have thus seen that even the most favorable situation for the working class, namely, the most rapid growth of capital, however much it may improve the material life of the worker, does not abolish the antagonism between his interests and the interests of the capitalist. Profit and wages remain as before, in inverse proportion.  If capital grows rapidly, wages may rise, but the profit of capital rises disproportionately faster. The material position of the worker has improved, but at the cost of his social position. The social chasm that separates him from the capitalist has widened.  Finally, to say that \"the most favorable condition for wage-labour is the fastest possible growth of productive capital\", is the same as to say: the quicker the working class multiplies and augments the power inimical to it – the wealth of another which lords over that class – the more favorable will be the conditions under which it will be permitted to toil anew at the multiplication of bourgeois wealth, at the enlargement of the power of capital, content thus to forge for itself the golden chains by which the bourgeoisie drags it in its train.  Growth of productive capital and rise of wages, are they really so indissolubly united as the bourgeois economists maintain? We must not believe their mere words. We dare not believe them even when they claim that the fatter capital is the more will its slave be pampered. The bourgeoisie is too much enlightened, it keeps its accounts much too carefully, to share the prejudices of the feudal lord, who makes an ostentatious display of the magnificence of his retinue. The conditions of existence of the bourgeoisie compel it to attend carefully to its bookkeeping. We must therefore examine more closely into the following question:  If as a whole, the productive capital of bourgeois society grows, there takes place a more many-sided accumulation of labour. The individual capitals increase in number and in magnitude. The multiplications of individual capitals increases the competition among capitalists. The increasing magnitude of increasing capitals provides the means of leading more powerful armies of workers with more gigantic instruments of war upon the industrial battlefield.  The one capitalist can drive the other from the field and carry off his capital only by selling more cheaply. In order to sell more cheaply without ruining himself, he must produce more cheaply – i.e., increase the productive forces of labour as much as possible.  But the productive forces of labour is increased above all by a greater division of labour and by a more general introduction and constant improvement of machinery. The larger the army of workers among whom the labour is subdivided, the more gigantic the scale upon which machinery is introduced, the more in proportion does the cost of production decrease, the more fruitful is the labour. And so there arises among the capitalists a universal rivalry for the increase of the division of labour and of machinery and for their exploitation upon the greatest possible scale.  If, now, by a greater division of labour, by the application and improvement of new machines, by a more advantageous exploitation of the forces of nature on a larger scale, a capitalist has found the means of producing with the same amount of labour (whether it be direct or accumulated labour) a larger amount of products of commodities than his competitors – if, for instance, he can produce a whole yard of linen in the same labour-time in which his competitors weave half-a-yard – how will this capitalist act?  He could keep on selling half-a-yard of linen at old market price; but this would not have the effect of driving his opponents from the field and enlarging his own market. But his need of a market has increased in the same measure in which his productive power has extended. The more powerful and costly means of production that he has called into existence enable him, it is true, to sell his wares more cheaply, but they compel him at the same time to sell more wares, to get control of a very much greater market for his commodities; consequently, this capitalist will sell his half-yard of linen more cheaply than his competitors.  But the capitalist will not sell the whole yard so cheaply as his competitors sell the half-yard, although the production of the whole yard costs him no more than does that of the half-yard to the others. Otherwise, he would make no extra profit, and would get back in exchange only the cost of production. He might obtain a greater income from having set in motion a larger capital, but not from having made a greater profit on his capital than the others. Moreover, he attains the object he is aiming at if he prices his goods only a small percentage lower than his competitors. He drives them off the field, he wrests from them at least part of their market, by underselling them.  And finally, let us remember that the current price always stands either above or below the cost of production, according as the sale of a commodity takes place in the favorable or unfavorable period of the industry. According as the market price of the yard of linen stands above or below its former cost of production, will the percentage vary at which the capitalist who has made use of the new and more faithful means of production sell above his real cost of production.  But the privilege of our capitalist is not of long duration. Other competing capitalists introduce the same machines, the same division of labour, and introduce them upon the same or even upon a greater scale. And finally this introduction becomes so universal that the price of the linen is lowered not only below its old, but even below its new cost of production.  The capitalists therefore find themselves, in their mutual relations, in the same situation in which they were before the introduction of the new means of production; and if they are by these means enabled to offer double the product at the old price, they are now forced to furnish double the product for less than the old price. Having arrived at the new point, the new cost of production, the battle for supremacy in the market has to be fought out anew. Given more division of labour and more machinery, and there results a greater scale upon which division of labour and machinery are exploited. And competition again brings the same reaction against this result.  Effect of capitalist competition on the...  Wage Labour and Capital Index  '"
      ]
     },
     "execution_count": 16,
     "metadata": {},
     "output_type": "execute_result"
    }
   ],
   "execution_count": 16
  },
  {
   "metadata": {
    "ExecuteTime": {
     "end_time": "2024-10-30T21:59:50.631631Z",
     "start_time": "2024-10-30T21:59:50.334803Z"
    }
   },
   "cell_type": "code",
   "source": "sentences = sent_tokenize(text)",
   "id": "93a02d5d8fd8a97f",
   "outputs": [],
   "execution_count": 17
  },
  {
   "metadata": {
    "ExecuteTime": {
     "end_time": "2024-10-30T21:59:58.947758Z",
     "start_time": "2024-10-30T21:59:58.935111Z"
    }
   },
   "cell_type": "code",
   "source": "sentences[0]",
   "id": "23f4ddc892682188",
   "outputs": [
    {
     "data": {
      "text/plain": [
       "'Karl Marx  Wage Labour and Capital  \\xa0  We thus see that, even if we keep ourselves within the relation of capital and wage-labour, the interests of capitals and the interests of wage-labour are diametrically opposed to each other.'"
      ]
     },
     "execution_count": 18,
     "metadata": {},
     "output_type": "execute_result"
    }
   ],
   "execution_count": 18
  },
  {
   "metadata": {
    "ExecuteTime": {
     "end_time": "2024-10-30T22:00:07.069719Z",
     "start_time": "2024-10-30T22:00:07.059800Z"
    }
   },
   "cell_type": "code",
   "source": "sentences[1]",
   "id": "bd7fdfe89cfe9737",
   "outputs": [
    {
     "data": {
      "text/plain": [
       "'A rapid growth of capital is synonymous with a rapid growth of profits.'"
      ]
     },
     "execution_count": 19,
     "metadata": {},
     "output_type": "execute_result"
    }
   ],
   "execution_count": 19
  },
  {
   "metadata": {
    "ExecuteTime": {
     "end_time": "2024-10-30T22:09:15.643155Z",
     "start_time": "2024-10-30T22:09:15.553373Z"
    }
   },
   "cell_type": "code",
   "source": "import random",
   "id": "fa92cadcbad0b809",
   "outputs": [],
   "execution_count": 20
  },
  {
   "metadata": {
    "ExecuteTime": {
     "end_time": "2024-10-30T22:09:32.841308Z",
     "start_time": "2024-10-30T22:09:32.787395Z"
    }
   },
   "cell_type": "code",
   "source": "random.choice(sentences)",
   "id": "56e74cb95cf45357",
   "outputs": [
    {
     "data": {
      "text/plain": [
       "'Growth of productive capital and rise of wages, are they really so indissolubly united as the bourgeois economists maintain?'"
      ]
     },
     "execution_count": 21,
     "metadata": {},
     "output_type": "execute_result"
    }
   ],
   "execution_count": 21
  },
  {
   "metadata": {
    "ExecuteTime": {
     "end_time": "2024-10-30T22:10:16.857296Z",
     "start_time": "2024-10-30T22:10:16.818530Z"
    }
   },
   "cell_type": "code",
   "source": "exit_conditions =\"quit\"",
   "id": "9819ef95d5591fca",
   "outputs": [],
   "execution_count": 23
  },
  {
   "metadata": {
    "ExecuteTime": {
     "end_time": "2024-10-30T22:12:20.673478Z",
     "start_time": "2024-10-30T22:12:12.686528Z"
    }
   },
   "cell_type": "code",
   "source": [
    "while True:\n",
    "    query=input('>')\n",
    "    if query in exit_conditions:\n",
    "        print(\"have a nice day\")\n",
    "        break\n",
    "    else:\n",
    "        print(random.choice(sentences))\n",
    "    "
   ],
   "id": "6f8df54fbd7dfa4f",
   "outputs": [
    {
     "name": "stdout",
     "output_type": "stream",
     "text": [
      "Growth of productive capital and rise of wages, are they really so indissolubly united as the bourgeois economists maintain?\n",
      "Wage Labour and Capital Index\n",
      "have a nice day\n"
     ]
    }
   ],
   "execution_count": 26
  },
  {
   "metadata": {},
   "cell_type": "code",
   "outputs": [],
   "execution_count": null,
   "source": "",
   "id": "309a2312cfcd3473"
  }
 ],
 "metadata": {
  "kernelspec": {
   "display_name": "Python 3",
   "language": "python",
   "name": "python3"
  },
  "language_info": {
   "codemirror_mode": {
    "name": "ipython",
    "version": 2
   },
   "file_extension": ".py",
   "mimetype": "text/x-python",
   "name": "python",
   "nbconvert_exporter": "python",
   "pygments_lexer": "ipython2",
   "version": "2.7.6"
  }
 },
 "nbformat": 4,
 "nbformat_minor": 5
}
