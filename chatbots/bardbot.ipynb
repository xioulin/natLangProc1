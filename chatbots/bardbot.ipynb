{
 "cells": [
  {
   "cell_type": "code",
   "id": "initial_id",
   "metadata": {
    "collapsed": true,
    "ExecuteTime": {
     "end_time": "2024-11-29T01:01:44.545255Z",
     "start_time": "2024-11-29T01:01:44.540339Z"
    }
   },
   "source": [
    "import requests\n",
    "import random\n",
    "import re\n",
    "import pandas as pd\n",
    "from bs4 import BeautifulSoup\n",
    "\n",
    "from chatbots.bardbot import selected_play\n",
    "from classes_bard import *"
   ],
   "outputs": [],
   "execution_count": 2
  },
  {
   "metadata": {
    "ExecuteTime": {
     "end_time": "2024-11-29T01:03:09.340925Z",
     "start_time": "2024-11-29T01:01:53.227864Z"
    }
   },
   "cell_type": "code",
   "source": [
    "url='https://www.gutenberg.org/cache/epub/100/pg100-images.html'\n",
    "req = requests.get(url)\n",
    "collected_works = req.text\n",
    "soup = BeautifulSoup(collected_works, 'html.parser')\n",
    "table = soup.find('table')\n",
    "td = table.find_all('td')"
   ],
   "id": "d700ab9cc746ff76",
   "outputs": [],
   "execution_count": 3
  },
  {
   "metadata": {
    "ExecuteTime": {
     "end_time": "2024-11-29T01:03:47.208712Z",
     "start_time": "2024-11-29T01:03:47.201548Z"
    }
   },
   "cell_type": "code",
   "source": [
    "title_list=get_titles(soup)\n",
    "play_list=title_list[1:-5]\n",
    "poem_indexes=[i for i in range(-5,1)]\n",
    "poem_list=[title_list[i] for i in poem_indexes]"
   ],
   "id": "da5fb3c0e4206ab2",
   "outputs": [],
   "execution_count": 4
  },
  {
   "metadata": {
    "ExecuteTime": {
     "end_time": "2024-11-29T01:12:29.483038Z",
     "start_time": "2024-11-29T01:12:23.274613Z"
    }
   },
   "cell_type": "code",
   "source": [
    "query1=int(input(\"Greetings to the bard bot. Select 1 for plays and 2 for poems\"))\n",
    "play_selection=0\n",
    "poem_selection=0\n",
    "if query1==1:\n",
    "    for i in range(len(play_list)):\n",
    "        print(str(i+1)+\". \"+play_list[i])\n",
    "    play_query= int(input(\"select which play\"))\n",
    "elif query1==2:\n",
    "    for i in range(len(poem_list)):\n",
    "        print(str(i+1)+\". \"+poem_list[i])\n",
    "    poem_query= int(input(\"select which poem\"))\n",
    "selected_play=title_list[play_query]\n",
    "selected_poem=poem_list[poem_query]"
   ],
   "id": "29230e700273afff",
   "outputs": [
    {
     "name": "stdout",
     "output_type": "stream",
     "text": [
      "1. ALL’S WELL THAT ENDS WELL\n",
      "2. THE TRAGEDY OF ANTONY AND CLEOPATRA\n",
      "3. AS YOU LIKE IT\n",
      "4. THE COMEDY OF ERRORS\n",
      "5. THE TRAGEDY OF CORIOLANUS\n",
      "6. CYMBELINE\n",
      "7. THE TRAGEDY OF HAMLET, PRINCE OF DENMARK\n",
      "8. THE FIRST PART OF KING HENRY THE FOURTH\n",
      "9. THE SECOND PART OF KING HENRY THE FOURTH\n",
      "10. THE LIFE OF KING HENRY THE FIFTH\n",
      "11. THE FIRST PART OF HENRY THE SIXTH\n",
      "12. THE SECOND PART OF KING HENRY THE SIXTH\n",
      "13. THE THIRD PART OF KING HENRY THE SIXTH\n",
      "14. KING HENRY THE EIGHTH\n",
      "15. THE LIFE AND DEATH OF KING JOHN\n",
      "16. THE TRAGEDY OF JULIUS CAESAR\n",
      "17. THE TRAGEDY OF KING LEAR\n",
      "18. LOVE’S LABOUR’S LOST\n",
      "19. THE TRAGEDY OF MACBETH\n",
      "20. MEASURE FOR MEASURE\n",
      "21. THE MERCHANT OF VENICE\n",
      "22. THE MERRY WIVES OF WINDSOR\n",
      "23. A MIDSUMMER NIGHT’S DREAM\n",
      "24. MUCH ADO ABOUT NOTHING\n",
      "25. THE TRAGEDY OF OTHELLO, THE MOOR OF VENICE\n",
      "26. PERICLES, PRINCE OF TYRE\n",
      "27. KING RICHARD THE SECOND\n",
      "28. KING RICHARD THE THIRD\n",
      "29. THE TRAGEDY OF ROMEO AND JULIET\n",
      "30. THE TAMING OF THE SHREW\n",
      "31. THE TEMPEST\n",
      "32. THE LIFE OF TIMON OF ATHENS\n",
      "33. THE TRAGEDY OF TITUS ANDRONICUS\n",
      "34. TROILUS AND CRESSIDA\n",
      "35. TWELFTH NIGHT; OR, WHAT YOU WILL\n",
      "36. THE TWO GENTLEMEN OF VERONA\n",
      "37. THE TWO NOBLE KINSMEN\n",
      "38. THE WINTER’S TALE\n"
     ]
    },
    {
     "ename": "NameError",
     "evalue": "name 'poem_query' is not defined",
     "output_type": "error",
     "traceback": [
      "\u001B[1;31m---------------------------------------------------------------------------\u001B[0m",
      "\u001B[1;31mNameError\u001B[0m                                 Traceback (most recent call last)",
      "Cell \u001B[1;32mIn[17], line 13\u001B[0m\n\u001B[0;32m     11\u001B[0m     poem_query\u001B[38;5;241m=\u001B[39m \u001B[38;5;28mint\u001B[39m(\u001B[38;5;28minput\u001B[39m(\u001B[38;5;124m\"\u001B[39m\u001B[38;5;124mselect which poem\u001B[39m\u001B[38;5;124m\"\u001B[39m))\n\u001B[0;32m     12\u001B[0m selected_play\u001B[38;5;241m=\u001B[39mtitle_list[play_query]\n\u001B[1;32m---> 13\u001B[0m selected_poem\u001B[38;5;241m=\u001B[39mpoem_list[\u001B[43mpoem_query\u001B[49m]\n",
      "\u001B[1;31mNameError\u001B[0m: name 'poem_query' is not defined"
     ]
    }
   ],
   "execution_count": 17
  },
  {
   "metadata": {},
   "cell_type": "markdown",
   "source": "if poems are selected, present a list of the poems",
   "id": "c868ee74dfd272a0"
  },
  {
   "metadata": {
    "ExecuteTime": {
     "end_time": "2024-11-29T01:12:48.952582Z",
     "start_time": "2024-11-29T01:12:48.948173Z"
    }
   },
   "cell_type": "code",
   "source": "selected_play",
   "id": "ef3d85af8599bfd3",
   "outputs": [
    {
     "data": {
      "text/plain": [
       "'THE TRAGEDY OF HAMLET, PRINCE OF DENMARK'"
      ]
     },
     "execution_count": 18,
     "metadata": {},
     "output_type": "execute_result"
    }
   ],
   "execution_count": 18
  },
  {
   "metadata": {
    "ExecuteTime": {
     "end_time": "2024-11-29T01:14:11.562468Z",
     "start_time": "2024-11-29T01:14:11.556575Z"
    }
   },
   "cell_type": "code",
   "source": [
    "chap=\"\"\n",
    "for i in td:\n",
    "    if str(i).__contains__(selected_play):\n",
    "        chapter=re.findall(r\"chap..\",str(i))\n",
    "        chap=str(chapter)\n",
    "        chap=chap[2:-2]\n",
    "        print(chap)\n"
   ],
   "id": "fbca38aa915fe904",
   "outputs": [
    {
     "name": "stdout",
     "output_type": "stream",
     "text": [
      "chap08\n"
     ]
    }
   ],
   "execution_count": 19
  },
  {
   "metadata": {},
   "cell_type": "code",
   "outputs": [],
   "execution_count": null,
   "source": "",
   "id": "67ede6c6558cdff"
  }
 ],
 "metadata": {
  "kernelspec": {
   "display_name": "Python 3",
   "language": "python",
   "name": "python3"
  },
  "language_info": {
   "codemirror_mode": {
    "name": "ipython",
    "version": 2
   },
   "file_extension": ".py",
   "mimetype": "text/x-python",
   "name": "python",
   "nbconvert_exporter": "python",
   "pygments_lexer": "ipython2",
   "version": "2.7.6"
  }
 },
 "nbformat": 4,
 "nbformat_minor": 5
}
