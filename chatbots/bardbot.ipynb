{
 "cells": [
  {
   "cell_type": "code",
   "id": "initial_id",
   "metadata": {
    "collapsed": true,
    "ExecuteTime": {
     "end_time": "2024-12-05T03:08:43.481232Z",
     "start_time": "2024-12-05T03:08:40.992550Z"
    }
   },
   "source": [
    "import requests\n",
    "import random\n",
    "import re\n",
    "import pandas as pd\n",
    "from bs4 import BeautifulSoup\n",
    "\n",
    "from classes_bard9 import *"
   ],
   "outputs": [],
   "execution_count": 2
  },
  {
   "metadata": {
    "ExecuteTime": {
     "end_time": "2024-12-05T03:09:57.922828Z",
     "start_time": "2024-12-05T03:08:45.729103Z"
    }
   },
   "cell_type": "code",
   "source": [
    "url='https://www.gutenberg.org/cache/epub/100/pg100-images.html'\n",
    "req = requests.get(url)\n",
    "collected_works = req.text\n",
    "soup = BeautifulSoup(collected_works, 'html.parser')\n",
    "table = soup.find('table')\n",
    "td = table.find_all('td')"
   ],
   "id": "d700ab9cc746ff76",
   "outputs": [],
   "execution_count": 3
  },
  {
   "metadata": {
    "ExecuteTime": {
     "end_time": "2024-12-05T03:10:05.117843Z",
     "start_time": "2024-12-05T03:10:05.093959Z"
    }
   },
   "cell_type": "code",
   "source": [
    "title_list=get_titles(soup)\n",
    "play_list=title_list[1:-5]\n",
    "poem_indexes=[i for i in range(-5,1)]\n",
    "poem_list=[title_list[i] for i in poem_indexes]"
   ],
   "id": "da5fb3c0e4206ab2",
   "outputs": [],
   "execution_count": 4
  },
  {
   "metadata": {
    "ExecuteTime": {
     "end_time": "2024-12-05T03:10:10.328987Z",
     "start_time": "2024-12-05T03:10:07.689364Z"
    }
   },
   "cell_type": "code",
   "source": [
    "# query1=int(input(\"Greetings to the bard bot. Select 1 for plays and 2 for poems\"))\n",
    "query1=1\n",
    "play_selection=0\n",
    "#poem_selection=0\n",
    "if query1==1:\n",
    "    for i in range(len(play_list)):\n",
    "        print(str(i+1)+\". \"+play_list[i])\n",
    "    play_query= int(input(\"select which play\"))\n",
    "# elif query1==2:\n",
    "#     for i in range(len(poem_list)):\n",
    "#         print(str(i+1)+\". \"+poem_list[i])\n",
    "#     poem_query= int(input(\"select which poem\"))\n",
    "selected_play=title_list[play_query]\n",
    "#selected_poem=poem_list[poem_query]"
   ],
   "id": "29230e700273afff",
   "outputs": [
    {
     "name": "stdout",
     "output_type": "stream",
     "text": [
      "1. ALL’S WELL THAT ENDS WELL\n",
      "2. THE TRAGEDY OF ANTONY AND CLEOPATRA\n",
      "3. AS YOU LIKE IT\n",
      "4. THE COMEDY OF ERRORS\n",
      "5. THE TRAGEDY OF CORIOLANUS\n",
      "6. CYMBELINE\n",
      "7. THE TRAGEDY OF HAMLET, PRINCE OF DENMARK\n",
      "8. THE FIRST PART OF KING HENRY THE FOURTH\n",
      "9. THE SECOND PART OF KING HENRY THE FOURTH\n",
      "10. THE LIFE OF KING HENRY THE FIFTH\n",
      "11. THE FIRST PART OF HENRY THE SIXTH\n",
      "12. THE SECOND PART OF KING HENRY THE SIXTH\n",
      "13. THE THIRD PART OF KING HENRY THE SIXTH\n",
      "14. KING HENRY THE EIGHTH\n",
      "15. THE LIFE AND DEATH OF KING JOHN\n",
      "16. THE TRAGEDY OF JULIUS CAESAR\n",
      "17. THE TRAGEDY OF KING LEAR\n",
      "18. LOVE’S LABOUR’S LOST\n",
      "19. THE TRAGEDY OF MACBETH\n",
      "20. MEASURE FOR MEASURE\n",
      "21. THE MERCHANT OF VENICE\n",
      "22. THE MERRY WIVES OF WINDSOR\n",
      "23. A MIDSUMMER NIGHT’S DREAM\n",
      "24. MUCH ADO ABOUT NOTHING\n",
      "25. THE TRAGEDY OF OTHELLO, THE MOOR OF VENICE\n",
      "26. PERICLES, PRINCE OF TYRE\n",
      "27. KING RICHARD THE SECOND\n",
      "28. KING RICHARD THE THIRD\n",
      "29. THE TRAGEDY OF ROMEO AND JULIET\n",
      "30. THE TAMING OF THE SHREW\n",
      "31. THE TEMPEST\n",
      "32. THE LIFE OF TIMON OF ATHENS\n",
      "33. THE TRAGEDY OF TITUS ANDRONICUS\n",
      "34. TROILUS AND CRESSIDA\n",
      "35. TWELFTH NIGHT; OR, WHAT YOU WILL\n",
      "36. THE TWO GENTLEMEN OF VERONA\n",
      "37. THE TWO NOBLE KINSMEN\n",
      "38. THE WINTER’S TALE\n"
     ]
    }
   ],
   "execution_count": 5
  },
  {
   "metadata": {},
   "cell_type": "markdown",
   "source": "if poems are selected, present a list of the poems",
   "id": "c868ee74dfd272a0"
  },
  {
   "metadata": {
    "ExecuteTime": {
     "end_time": "2024-12-05T03:10:13.083941Z",
     "start_time": "2024-12-05T03:10:13.078408Z"
    }
   },
   "cell_type": "code",
   "source": "selected_play",
   "id": "ef3d85af8599bfd3",
   "outputs": [
    {
     "data": {
      "text/plain": [
       "'THE TRAGEDY OF OTHELLO, THE MOOR OF VENICE'"
      ]
     },
     "execution_count": 6,
     "metadata": {},
     "output_type": "execute_result"
    }
   ],
   "execution_count": 6
  },
  {
   "metadata": {
    "ExecuteTime": {
     "end_time": "2024-12-05T03:10:15.952023Z",
     "start_time": "2024-12-05T03:10:15.947414Z"
    }
   },
   "cell_type": "code",
   "source": [
    "#pulling the part of the play corresponding to play\n",
    "chap=\"\"\n",
    "for i in td:\n",
    "    if str(i).__contains__(selected_play):\n",
    "        chapter=re.findall(r\"chap..\",str(i))\n",
    "        chap=str(chapter)\n",
    "        chap=chap[2:-2]"
   ],
   "id": "fbca38aa915fe904",
   "outputs": [],
   "execution_count": 7
  },
  {
   "metadata": {
    "ExecuteTime": {
     "end_time": "2024-12-05T03:10:19.300800Z",
     "start_time": "2024-12-05T03:10:18.150094Z"
    }
   },
   "cell_type": "code",
   "source": "play=get_play(chap,collected_works,soup)",
   "id": "67ede6c6558cdff",
   "outputs": [],
   "execution_count": 8
  },
  {
   "metadata": {
    "ExecuteTime": {
     "end_time": "2024-12-05T03:10:21.588410Z",
     "start_time": "2024-12-05T03:10:21.091014Z"
    }
   },
   "cell_type": "code",
   "source": "play=clean_html(play)",
   "id": "252a65a03524211f",
   "outputs": [],
   "execution_count": 9
  },
  {
   "metadata": {
    "ExecuteTime": {
     "end_time": "2024-12-02T23:39:07.275724Z",
     "start_time": "2024-12-02T23:39:07.271395Z"
    }
   },
   "cell_type": "code",
   "source": "re.findall(\"Drama.*?ACT\", play)",
   "id": "2a28600b6560f2c6",
   "outputs": [
    {
     "data": {
      "text/plain": [
       "['Dramatis Personæ      DUKE OF VENICE   BRABANTIO, a Senator of Venice and Desdemona’s father   Other Senators   GRATIANO, Brother to Brabantio   LODOVICO, Kinsman to Brabantio   OTHELLO, a noble Moor in the service of Venice   CASSIO, his Lieutenant   IAGO, his Ancient   MONTANO, Othello’s predecessor in the government of Cyprus   RODERIGO, a Venetian Gentleman   CLOWN, Servant to Othello        DESDEMONA, Daughter to Brabantio and Wife to Othello   EMILIA, Wife to Iago   BIANCA, Mistress to Cassio        Officers, Gentlemen, Messenger, Musicians, Herald, Sailor, Attendants, &amp;c.        SCENE: The First Act in Venice; during the rest of the Play at a Seaport  in Cyprus.                ACT']"
      ]
     },
     "execution_count": 104,
     "metadata": {},
     "output_type": "execute_result"
    }
   ],
   "execution_count": 104
  },
  {
   "metadata": {
    "ExecuteTime": {
     "end_time": "2024-12-01T19:40:01.373375Z",
     "start_time": "2024-12-01T19:40:01.369683Z"
    }
   },
   "cell_type": "code",
   "source": "characters=get_characters(play)",
   "id": "f5601e39f2219f68",
   "outputs": [],
   "execution_count": 71
  },
  {
   "metadata": {
    "ExecuteTime": {
     "end_time": "2024-12-01T19:40:03.535511Z",
     "start_time": "2024-12-01T19:40:03.531498Z"
    }
   },
   "cell_type": "code",
   "source": "characters",
   "id": "923402d1f6d175cb",
   "outputs": [
    {
     "data": {
      "text/plain": [
       "{'DUKE OF VENICE BRABANTIO': 'Oa Senator of Venice and Desdemona’s father',\n",
       " 'GRATIANO': 'Brother to Brabantio',\n",
       " 'LODOVICO': 'Kinsman to Brabantio',\n",
       " 'OTHELLO': 'a noble Moor in the service of Venice',\n",
       " 'CASSIO': 'his Lieutenant',\n",
       " 'IAGO': 'his Ancient',\n",
       " 'MONTANO': 'Othello’s predecessor in the government of Cyprus',\n",
       " 'RODERIGO': 'a Venetian Gentleman',\n",
       " 'CLOWN': 'Servant to Othello',\n",
       " 'DESDEMONA': 'Daughter to Brabantio and Wife to Othello',\n",
       " 'EMILIA': 'Wife to Iago',\n",
       " 'BIANCA': 'Mistress to Cassio'}"
      ]
     },
     "execution_count": 72,
     "metadata": {},
     "output_type": "execute_result"
    }
   ],
   "execution_count": 72
  },
  {
   "metadata": {
    "ExecuteTime": {
     "end_time": "2024-12-01T19:40:21.640628Z",
     "start_time": "2024-12-01T19:40:17.493314Z"
    }
   },
   "cell_type": "code",
   "source": [
    "char_list=list(characters)\n",
    "for i in range(len(char_list)):\n",
    "    print(str(i+1)+\". \"+char_list[i])\n",
    "char_query=int(input(\"select which character\"))-1\n",
    "character= char_list[char_query]\n",
    "print(f\"\\n\\n congratulations you have selected {character}\")"
   ],
   "id": "c9a9935aaecff128",
   "outputs": [
    {
     "name": "stdout",
     "output_type": "stream",
     "text": [
      "1. DUKE OF VENICE BRABANTIO\n",
      "2. GRATIANO\n",
      "3. LODOVICO\n",
      "4. OTHELLO\n",
      "5. CASSIO\n",
      "6. IAGO\n",
      "7. MONTANO\n",
      "8. RODERIGO\n",
      "9. CLOWN\n",
      "10. DESDEMONA\n",
      "11. EMILIA\n",
      "12. BIANCA\n",
      "\n",
      "\n",
      " congratulations you have selected OTHELLO\n"
     ]
    }
   ],
   "execution_count": 73
  },
  {
   "metadata": {
    "ExecuteTime": {
     "end_time": "2024-12-05T03:10:36.948631Z",
     "start_time": "2024-12-05T03:10:36.944985Z"
    }
   },
   "cell_type": "code",
   "source": "play_start=re.search(r'ACT I       SCENE I.*',play).group()",
   "id": "b38edc4a146f4002",
   "outputs": [],
   "execution_count": 12
  },
  {
   "metadata": {
    "ExecuteTime": {
     "end_time": "2024-12-05T03:11:52.824147Z",
     "start_time": "2024-12-05T03:11:52.820265Z"
    }
   },
   "cell_type": "code",
   "source": [
    "act=\"ACT\"\n",
    "scene=\"SCENE\"\n",
    "numb= [\"I\",\"II\",\"III\",\"IV\",\"V\",\"VI\",\"VII\",\"VIII\",\"IX\",\"X\",\"XI\"]"
   ],
   "id": "b7269ecce5fa4666",
   "outputs": [],
   "execution_count": 13
  },
  {
   "metadata": {
    "ExecuteTime": {
     "end_time": "2024-12-05T03:11:54.610665Z",
     "start_time": "2024-12-05T03:11:54.606807Z"
    }
   },
   "cell_type": "code",
   "source": "act1= re.findall(act+numb[0]+\"(.*?)\"+act+numb[1],play_start)",
   "id": "9124426948e6b834",
   "outputs": [],
   "execution_count": 14
  },
  {
   "metadata": {},
   "cell_type": "markdown",
   "source": "The plan here is to get and set which act it is, which scene it is, which character it is and then the lines. create a data frame from that information.",
   "id": "2521e99dffa1c83f"
  },
  {
   "metadata": {
    "ExecuteTime": {
     "end_time": "2024-12-05T03:12:00.200768Z",
     "start_time": "2024-12-05T03:12:00.196927Z"
    }
   },
   "cell_type": "code",
   "source": "acts=re.findall(act+'...',play_start)",
   "id": "f72d53f17891bdf0",
   "outputs": [],
   "execution_count": 15
  },
  {
   "metadata": {
    "ExecuteTime": {
     "end_time": "2024-12-05T03:12:02.884012Z",
     "start_time": "2024-12-05T03:12:02.880085Z"
    }
   },
   "cell_type": "code",
   "source": "acts",
   "id": "ef5d10f87c29635a",
   "outputs": [
    {
     "data": {
      "text/plain": [
       "['ACT I ', 'ACT II', 'ACT II', 'ACT IV', 'ACT V ']"
      ]
     },
     "execution_count": 16,
     "metadata": {},
     "output_type": "execute_result"
    }
   ],
   "execution_count": 16
  },
  {
   "metadata": {
    "ExecuteTime": {
     "end_time": "2024-12-03T18:14:35.038771Z",
     "start_time": "2024-12-03T18:14:35.029728Z"
    }
   },
   "cell_type": "code",
   "source": [
    "start1= acts[0]\n",
    "end1= acts[1]\n",
    "s=str(re.escape(start1))\n",
    "e=str(re.escape(end1))"
   ],
   "id": "a032df61ec2020da",
   "outputs": [],
   "execution_count": 45
  },
  {
   "metadata": {
    "ExecuteTime": {
     "end_time": "2024-12-05T03:21:15.661646Z",
     "start_time": "2024-12-05T03:21:15.464560Z"
    }
   },
   "cell_type": "code",
   "source": "othello_acts= Acts(play_start)",
   "id": "506cbb81a2cf05aa",
   "outputs": [],
   "execution_count": 17
  },
  {
   "metadata": {
    "ExecuteTime": {
     "end_time": "2024-12-05T03:21:19.348461Z",
     "start_time": "2024-12-05T03:21:19.305585Z"
    }
   },
   "cell_type": "code",
   "source": "othello_acts=othello_acts.return_acts()",
   "id": "3d5ee464cdffc6d2",
   "outputs": [],
   "execution_count": 18
  },
  {
   "metadata": {
    "ExecuteTime": {
     "end_time": "2024-12-05T03:21:28.112153Z",
     "start_time": "2024-12-05T03:21:28.104142Z"
    }
   },
   "cell_type": "code",
   "source": "othello_acts[1]",
   "id": "da32a628e5913ff9",
   "outputs": [
    {
     "data": {
      "text/plain": [
       "'       SCENE I. A seaport in Cyprus. A Platform.       Enter  Montano  and two  Gentlemen .        MONTANO.   What from the cape can you discern at sea?        FIRST GENTLEMAN.   Nothing at all, it is a high-wrought flood.   I cannot ’twixt the heaven and the main   Descry a sail.        MONTANO.   Methinks the wind hath spoke aloud at land.   A fuller blast ne’er shook our battlements.   If it hath ruffian’d so upon the sea,   What ribs of oak, when mountains melt on them,   Can hold the mortise? What shall we hear of this?        SECOND GENTLEMAN.   A segregation of the Turkish fleet.   For do but stand upon the foaming shore,   The chidden billow seems to pelt the clouds,   The wind-shak’d surge, with high and monstrous main,   Seems to cast water on the burning Bear,   And quench the guards of the ever-fixed pole;   I never did like molestation view   On the enchafed flood.        MONTANO.   If that the Turkish fleet   Be not enshelter’d, and embay’d, they are drown’d.   It is impossible to bear it out.        Enter a third  Gentleman .        THIRD GENTLEMAN.   News, lads! Our wars are done.   The desperate tempest hath so bang’d the Turks   That their designment halts. A noble ship of Venice   Hath seen a grievous wreck and sufferance   On most part of their fleet.        MONTANO.   How? Is this true?        THIRD GENTLEMAN.   The ship is here put in,   A Veronessa; Michael Cassio,   Lieutenant to the warlike Moor Othello,   Is come on shore; the Moor himself at sea,   And is in full commission here for Cyprus.        MONTANO.   I am glad on’t. ’Tis a worthy governor.        THIRD GENTLEMAN.   But this same Cassio, though he speak of comfort   Touching the Turkish loss, yet he looks sadly,   And prays the Moor be safe; for they were parted   With foul and violent tempest.        MONTANO.   Pray heavens he be;   For I have serv’d him, and the man commands   Like a full soldier. Let’s to the sea-side, ho!   As well to see the vessel that’s come in   As to throw out our eyes for brave Othello,   Even till we make the main and the aerial blue   An indistinct regard.        THIRD GENTLEMAN.   Come, let’s do so;   For every minute is expectancy   Of more arrivance.        Enter  Cassio .        CASSIO.   Thanks you, the valiant of this warlike isle,   That so approve the Moor! O, let the heavens   Give him defence against the elements,   For I have lost him on a dangerous sea.        MONTANO.   Is he well shipp’d?        CASSIO.   His bark is stoutly timber’d, and his pilot   Of very expert and approv’d allowance;   Therefore my hopes, not surfeited to death,   Stand in bold cure.        [ Within. ] A sail, a sail, a sail!        Enter a  Messenger .        CASSIO.   What noise?        MESSENGER.   The town is empty; on the brow o’ the sea   Stand ranks of people, and they cry “A sail!”        CASSIO.   My hopes do shape him for the governor.        [ A shot. ]        SECOND GENTLEMAN.   They do discharge their shot of courtesy.   Our friends at least.        CASSIO.   I pray you, sir, go forth,   And give us truth who ’tis that is arriv’d.        SECOND GENTLEMAN.   I shall.        [ Exit. ]        MONTANO.   But, good lieutenant, is your general wiv’d?        CASSIO.   Most fortunately: he hath achiev’d a maid   That paragons description and wild fame,   One that excels the quirks of blazoning pens,   And in the essential vesture of creation   Does tire the ingener.        Enter second  Gentleman .        How now? Who has put in?        SECOND GENTLEMAN.   ’Tis one Iago, ancient to the general.        CASSIO.   He has had most favourable and happy speed:   Tempests themselves, high seas, and howling winds,   The gutter’d rocks, and congregated sands,   Traitors ensteep’d to clog the guiltless keel,   As having sense of beauty, do omit   Their mortal natures, letting go safely by   The divine Desdemona.        MONTANO.   What is she?        CASSIO.   She that I spake of, our great captain’s captain,   Left in the conduct of the bold Iago;   Whose footing here anticipates our thoughts   A se’nnight’s speed. Great Jove, Othello guard,   And swell his sail with thine own powerful breath,   That he may bless this bay with his tall ship,   Make love’s quick pants in Desdemona’s arms,   Give renew’d fire to our extincted spirits,   And bring all Cyprus comfort!        Enter  Desdemona, Iago, Roderigo,  and  Emilia .        O, behold,   The riches of the ship is come on shore!   Ye men of Cyprus, let her have your knees.   Hail to thee, lady! and the grace of heaven,   Before, behind thee, and on every hand,   Enwheel thee round!        DESDEMONA.   I thank you, valiant Cassio.   What tidings can you tell me of my lord?        CASSIO.   He is not yet arrived, nor know I aught   But that he’s well, and will be shortly here.        DESDEMONA.   O, but I fear—How lost you company?        [ Within. ] A sail, a sail!        CASSIO.   The great contention of the sea and skies   Parted our fellowship. But, hark! a sail.        [ Guns within. ]        SECOND GENTLEMAN.   They give their greeting to the citadel.   This likewise is a friend.        CASSIO.   See for the news.        [ Exit  Gentleman . ]        Good ancient, you are welcome. [ To Emilia. ] Welcome, mistress.   Let it not gall your patience, good Iago,   That I extend my manners; ’tis my breeding   That gives me this bold show of courtesy.        [ Kissing her. ]        IAGO.   Sir, would she give you so much of her lips   As of her tongue she oft bestows on me,   You would have enough.        DESDEMONA.   Alas, she has no speech.        IAGO.   In faith, too much.   I find it still when I have list to sleep.   Marry, before your ladyship, I grant,   She puts her tongue a little in her heart,   And chides with thinking.        EMILIA.   You have little cause to say so.        IAGO.   Come on, come on; you are pictures out of doors,   Bells in your parlours, wild-cats in your kitchens,   Saints in your injuries, devils being offended,   Players in your housewifery, and housewives in your beds.        DESDEMONA.   O, fie upon thee, slanderer!        IAGO.   Nay, it is true, or else I am a Turk.   You rise to play, and go to bed to work.        EMILIA.   You shall not write my praise.        IAGO.   No, let me not.        DESDEMONA.   What wouldst thou write of me, if thou shouldst praise me?        IAGO.   O gentle lady, do not put me to’t,   For I am nothing if not critical.        DESDEMONA.   Come on, assay.—There’s one gone to the harbour?        IAGO.   Ay, madam.        DESDEMONA.   I am not merry, but I do beguile   The thing I am, by seeming otherwise.—   Come, how wouldst thou praise me?        IAGO.   I am about it, but indeed, my invention   Comes from my pate as birdlime does from frieze,   It plucks out brains and all: but my Muse labours,   And thus she is deliver’d.   If she be fair and wise, fairness and wit,   The one’s for use, the other useth it.        DESDEMONA.   Well prais’d! How if she be black and witty?        IAGO.   If she be black, and thereto have a wit,   She’ll find a white that shall her blackness fit.        DESDEMONA.   Worse and worse.        EMILIA.   How if fair and foolish?        IAGO.   She never yet was foolish that was fair,   For even her folly help’d her to an heir.        DESDEMONA.   These are old fond paradoxes to make fools laugh i’ the alehouse. What  miserable praise hast thou for her that’s foul and foolish?        IAGO.   There’s none so foul and foolish thereunto,   But does foul pranks which fair and wise ones do.        DESDEMONA.   O heavy ignorance! Thou praisest the worst best. But what praise couldst thou  bestow on a deserving woman indeed, one that in the authority of her merit did  justly put on the vouch of very malice itself?        IAGO.   She that was ever fair and never proud,   Had tongue at will and yet was never loud,   Never lack’d gold and yet went never gay,   Fled from her wish, and yet said, “Now I may”;   She that, being anger’d, her revenge being nigh,   Bade her wrong stay and her displeasure fly;   She that in wisdom never was so frail   To change the cod’s head for the salmon’s tail;   She that could think and ne’er disclose her mind,   See suitors following and not look behind;   She was a wight, if ever such wight were—        DESDEMONA.   To do what?        IAGO.   To suckle fools and chronicle small beer.        DESDEMONA.   O most lame and impotent conclusion!—Do not learn of him, Emilia, though he be  thy husband.—How say you, Cassio? is he not a most profane and liberal  counsellor?        CASSIO.   He speaks home, madam. You may relish him more in the soldier than in the  scholar.        IAGO.   [ Aside. ] He takes her by the palm. Ay, well said, whisper. With as  little a web as this will I ensnare as great a fly as Cassio. Ay, smile upon  her, do. I will gyve thee in thine own courtship. You say true, ’tis so,  indeed. If such tricks as these strip you out of your lieutenantry, it had been  better you had not kissed your three fingers so oft, which now again you are  most apt to play the sir in. Very good; well kissed, an excellent courtesy!  ’Tis so, indeed. Yet again your fingers to your lips? Would they were  clyster-pipes for your sake!        [ Trumpets within. ]        The Moor! I know his trumpet.        CASSIO.   ’Tis truly so.        DESDEMONA.   Let’s meet him, and receive him.        CASSIO.   Lo, where he comes!        Enter  Othello  and Attendants.        OTHELLO.   O my fair warrior!        DESDEMONA.   My dear Othello!        OTHELLO.   It gives me wonder great as my content   To see you here before me. O my soul’s joy!   If after every tempest come such calms,   May the winds blow till they have waken’d death!   And let the labouring bark climb hills of seas   Olympus-high, and duck again as low   As hell’s from heaven! If it were now to die,   ’Twere now to be most happy, for I fear   My soul hath her content so absolute   That not another comfort like to this   Succeeds in unknown fate.        DESDEMONA.   The heavens forbid   But that our loves and comforts should increase   Even as our days do grow!        OTHELLO.   Amen to that, sweet powers!   I cannot speak enough of this content.   It stops me here; it is too much of joy:   And this, and this, the greatest discords be [ They kiss. ]   That e’er our hearts shall make!        IAGO.   [ Aside. ] O, you are well tun’d now,   But I’ll set down the pegs that make this music,   As honest as I am.        OTHELLO.   Come, let us to the castle.—   News, friends, our wars are done, the Turks are drown’d.   How does my old acquaintance of this isle?   Honey, you shall be well desir’d in Cyprus;   I have found great love amongst them. O my sweet,   I prattle out of fashion, and I dote   In mine own comforts.—I prithee, good Iago,   Go to the bay and disembark my coffers.   Bring thou the master to the citadel;   He is a good one, and his worthiness   Does challenge much respect.—Come, Desdemona,   Once more well met at Cyprus.        [ Exeunt  Othello, Desdemona  and  Attendants. ]        IAGO.   Do thou meet me presently at the harbour. Come hither. If thou be’st  valiant—as, they say, base men being in love have then a nobility in their  natures more than is native to them—list me. The lieutenant tonight watches on  the court of guard: first, I must tell thee this: Desdemona is directly in love  with him.        RODERIGO.   With him? Why, ’tis not possible.        IAGO.   Lay thy finger thus, and let thy soul be instructed. Mark me with what violence  she first loved the Moor, but for bragging, and telling her fantastical lies.  And will she love him still for prating? Let not thy discreet heart think it.  Her eye must be fed. And what delight shall she have to look on the devil? When  the blood is made dull with the act of sport, there should be, again to inflame  it and to give satiety a fresh appetite, loveliness in favour, sympathy in  years, manners, and beauties; all which the Moor is defective in: now, for want  of these required conveniences, her delicate tenderness will find itself  abused, begin to heave the gorge, disrelish and abhor the Moor, very nature  will instruct her in it, and compel her to some second choice. Now sir, this  granted (as it is a most pregnant and unforced position) who stands so  eminently in the degree of this fortune as Cassio does? a knave very voluble;  no further conscionable than in putting on the mere form of civil and humane  seeming, for the better compassing of his salt and most hidden loose affection?  Why, none, why, none! A slipper and subtle knave, a finder out of occasions;  that has an eye can stamp and counterfeit advantages, though true advantage  never present itself: a devilish knave! Besides, the knave is handsome, young,  and hath all those requisites in him that folly and green minds look after. A  pestilent complete knave, and the woman hath found him already.        RODERIGO.   I cannot believe that in her, she is full of most blessed condition.        IAGO.   Blest fig’s end! the wine she drinks is made of grapes: if she had been  blessed, she would never have loved the Moor. Blessed pudding! Didst thou not  see her paddle with the palm of his hand? Didst not mark that?        RODERIGO.   Yes, that I did. But that was but courtesy.        IAGO.   Lechery, by this hand. An index and obscure prologue to the history of lust and  foul thoughts. They met so near with their lips that their breaths embrac’d  together. Villainous thoughts, Roderigo! When these mutualities so marshal the  way, hard at hand comes the master and main exercise, the incorporate  conclusion. Pish! But, sir, be you ruled by me. I have brought you from Venice.  Watch you tonight. For the command, I’ll lay’t upon you. Cassio knows you not.  I’ll not be far from you. Do you find some occasion to anger Cassio, either by  speaking too loud, or tainting his discipline, or from what other course you  please, which the time shall more favourably minister.        RODERIGO.   Well.        IAGO.   Sir, he is rash, and very sudden in choler, and haply with his truncheon may  strike at you: provoke him that he may, for even out of that will I cause these  of Cyprus to mutiny, whose qualification shall come into no true taste again  but by the displanting of Cassio. So shall you have a shorter journey to your  desires by the means I shall then have to prefer them, and the impediment most  profitably removed, without the which there were no expectation of our  prosperity.        RODERIGO.   I will do this, if I can bring it to any opportunity.        IAGO.   I warrant thee. Meet me by and by at the citadel: I must fetch his necessaries  ashore. Farewell.        RODERIGO.   Adieu.        [ Exit. ]        IAGO.   That Cassio loves her, I do well believe it;   That she loves him, ’tis apt, and of great credit:   The Moor, howbeit that I endure him not,   Is of a constant, loving, noble nature;   And, I dare think, he’ll prove to Desdemona   A most dear husband. Now, I do love her too,   Not out of absolute lust (though peradventure   I stand accountant for as great a sin)   But partly led to diet my revenge,   For that I do suspect the lusty Moor   Hath leap’d into my seat. The thought whereof   Doth, like a poisonous mineral, gnaw my inwards,   And nothing can or shall content my soul   Till I am even’d with him, wife for wife,   Or, failing so, yet that I put the Moor   At least into a jealousy so strong   That judgement cannot cure. Which thing to do,   If this poor trash of Venice, whom I trash   For his quick hunting, stand the putting on,   I’ll have our Michael Cassio on the hip,   Abuse him to the Moor in the rank garb   (For I fear Cassio with my night-cap too)   Make the Moor thank me, love me, and reward me   For making him egregiously an ass   And practicing upon his peace and quiet   Even to madness. ’Tis here, but yet confus’d.   Knavery’s plain face is never seen till us’d.        [ Exit. ]          SCENE II. A street.       Enter Othello’s  Herald  with a proclamation.        HERALD.   It is Othello’s pleasure, our noble and valiant general, that upon certain  tidings now arrived, importing the mere perdition of the Turkish fleet, every  man put himself into triumph: some to dance, some to make bonfires, each man to  what sport and revels his addition leads him. For besides these beneficial  news, it is the celebration of his nuptial. So much was his pleasure should be  proclaimed. All offices are open, and there is full liberty of feasting from  this present hour of five till the bell have told eleven. Heaven bless the isle  of Cyprus and our noble general Othello!        [ Exit. ]          SCENE III. A Hall in the Castle.       Enter  Othello, Desdemona, Cassio  and Attendants.        OTHELLO.   Good Michael, look you to the guard tonight.   Let’s teach ourselves that honourable stop,   Not to outsport discretion.        CASSIO.   Iago hath direction what to do.   But notwithstanding with my personal eye   Will I look to’t.        OTHELLO.   Iago is most honest.   Michael, good night. Tomorrow with your earliest   Let me have speech with you. [ To Desdemona. ] Come, my dear love,   The purchase made, the fruits are to ensue;   That profit’s yet to come ’tween me and you.—   Good night.        [ Exeunt  Othello, Desdemona  and  Attendants. ]        Enter  Iago .        CASSIO.   Welcome, Iago. We must to the watch.        IAGO.   Not this hour, lieutenant. ’Tis not yet ten o’ th’ clock. Our general cast us  thus early for the love of his Desdemona; who let us not therefore blame: he  hath not yet made wanton the night with her; and she is sport for Jove.        CASSIO.   She’s a most exquisite lady.        IAGO.   And, I’ll warrant her, full of game.        CASSIO.   Indeed, she is a most fresh and delicate creature.        IAGO.   What an eye she has! methinks it sounds a parley to provocation.        CASSIO.   An inviting eye, and yet methinks right modest.        IAGO.   And when she speaks, is it not an alarm to love?        CASSIO.   She is indeed perfection.        IAGO.   Well, happiness to their sheets! Come, lieutenant, I have a stoup of wine; and  here without are a brace of Cyprus gallants that would fain have a measure to  the health of black Othello.        CASSIO.   Not tonight, good Iago. I have very poor and unhappy brains for drinking. I  could well wish courtesy would invent some other custom of entertainment.        IAGO.   O, they are our friends; but one cup: I’ll drink for you.        CASSIO.   I have drunk but one cup tonight, and that was craftily qualified too, and  behold, what innovation it makes here: I am unfortunate in the infirmity, and  dare not task my weakness with any more.        IAGO.   What, man! ’Tis a night of revels. The gallants desire it.        CASSIO.   Where are they?        IAGO.   Here at the door. I pray you, call them in.        CASSIO.   I’ll do’t; but it dislikes me.        [ Exit. ]        IAGO.   If I can fasten but one cup upon him,   With that which he hath drunk tonight already,   He’ll be as full of quarrel and offence   As my young mistress’ dog. Now my sick fool Roderigo,   Whom love hath turn’d almost the wrong side out,   To Desdemona hath tonight carous’d   Potations pottle-deep; and he’s to watch:   Three lads of Cyprus, noble swelling spirits,   That hold their honours in a wary distance,   The very elements of this warlike isle,   Have I tonight fluster’d with flowing cups,   And they watch too. Now, ’mongst this flock of drunkards,   Am I to put our Cassio in some action   That may offend the isle. But here they come:   If consequence do but approve my dream,   My boat sails freely, both with wind and stream.        Enter  Cassio, Montano  and Gentlemen; followed by  Servant with wine.        CASSIO.   ’Fore God, they have given me a rouse already.        MONTANO.   Good faith, a little one; not past a pint, as I am a soldier.        IAGO.   Some wine, ho!   [ Sings. ]             And let me the cannikin clink, clink,       And let me the cannikin clink, clink:           A soldier’s a man,           O, man’s life’s but a span,       Why then let a soldier drink.         Some wine, boys!        CASSIO.   ’Fore God, an excellent song.        IAGO.   I learned it in England, where indeed they are most potent in potting: your  Dane, your German, and your swag-bellied Hollander,—drink, ho!—are nothing to  your English.        CASSIO.   Is your Englishman so expert in his drinking?        IAGO.   Why, he drinks you, with facility, your Dane dead drunk; he sweats not to  overthrow your Almain; he gives your Hollander a vomit ere the next pottle can  be filled.        CASSIO.   To the health of our general!        MONTANO.   I am for it, lieutenant; and I’ll do you justice.        IAGO.   O sweet England!        [ Sings. ]             King Stephen was a worthy peer,           His breeches cost him but a crown;       He held them sixpence all too dear,           With that he call’d the tailor lown.       He was a wight of high renown,           And thou art but of low degree:       ’Tis pride that pulls the country down,           Then take thine auld cloak about thee.         Some wine, ho!        CASSIO.   ’Fore God, this is a more exquisite song than the other.        IAGO.   Will you hear ’t again?        CASSIO.   No, for I hold him to be unworthy of his place that does those things. Well,  God’s above all, and there be souls must be saved, and there be souls must not  be saved.        IAGO.   It’s true, good lieutenant.        CASSIO.   For mine own part, no offence to the general, nor any man of quality, I hope to  be saved.        IAGO.   And so do I too, lieutenant.        CASSIO.   Ay, but, by your leave, not before me; the lieutenant is to be saved before the  ancient. Let’s have no more of this; let’s to our affairs. Forgive us our sins!  Gentlemen, let’s look to our business. Do not think, gentlemen, I am drunk.  This is my ancient, this is my right hand, and this is my left. I am not drunk  now. I can stand well enough, and I speak well enough.        ALL.   Excellent well.        CASSIO.   Why, very well then. You must not think, then, that I am drunk.        [ Exit. ]        MONTANO.   To the platform, masters. Come, let’s set the watch.        IAGO.   You see this fellow that is gone before,   He is a soldier fit to stand by Cæsar   And give direction: and do but see his vice,   ’Tis to his virtue a just equinox,   The one as long as th’ other. ’Tis pity of him.   I fear the trust Othello puts him in,   On some odd time of his infirmity,   Will shake this island.        MONTANO.   But is he often thus?        IAGO.   ’Tis evermore the prologue to his sleep:   He’ll watch the horologe a double set   If drink rock not his cradle.        MONTANO.   It were well   The general were put in mind of it.   Perhaps he sees it not, or his good nature   Prizes the virtue that appears in Cassio,   And looks not on his evils: is not this true?        Enter  Roderigo .        IAGO.   [ Aside to him. ] How now, Roderigo?   I pray you, after the lieutenant; go.        [ Exit  Roderigo . ]        MONTANO.   And ’tis great pity that the noble Moor   Should hazard such a place as his own second   With one of an ingraft infirmity:   It were an honest action to say so   To the Moor.        IAGO.   Not I, for this fair island.   I do love Cassio well and would do much   To cure him of this evil. But, hark! What noise?        [ Cry within : “Help! help!”]        Enter  Cassio,  driving in  Roderigo .        CASSIO.   Zounds, you rogue, you rascal!        MONTANO.   What’s the matter, lieutenant?        CASSIO.   A knave teach me my duty! I’ll beat the knave into a twiggen bottle.        RODERIGO.   Beat me?        CASSIO.   Dost thou prate, rogue?        [ Striking Roderigo. ]        MONTANO.   Nay, good lieutenant;   I pray you, sir, hold your hand.        CASSIO.   Let me go, sir,   Or I’ll knock you o’er the mazard.        MONTANO.   Come, come, you’re drunk.        CASSIO.   Drunk?        [ They fight. ]        IAGO.   [ Aside to Roderigo. ] Away, I say! Go out and cry a mutiny.        [ Exit  Roderigo . ]        Nay, good lieutenant, God’s will, gentlemen.   Help, ho!—Lieutenant,—sir,—Montano,—sir:—   Help, masters! Here’s a goodly watch indeed!        [ A bell rings. ]        Who’s that which rings the bell?—Diablo, ho!   The town will rise. God’s will, lieutenant, hold,   You will be sham’d forever.        Enter  Othello  and Attendants.        OTHELLO.   What is the matter here?        MONTANO.   Zounds, I bleed still, I am hurt to the death.        OTHELLO.   Hold, for your lives!        IAGO.   Hold, ho! lieutenant,—sir,—Montano,—gentlemen,—   Have you forgot all place of sense and duty?   Hold! The general speaks to you; hold, hold, for shame!        OTHELLO.   Why, how now, ho! From whence ariseth this?   Are we turn’d Turks, and to ourselves do that   Which heaven hath forbid the Ottomites?   For Christian shame, put by this barbarous brawl:   He that stirs next to carve for his own rage   Holds his soul light; he dies upon his motion.   Silence that dreadful bell, it frights the isle   From her propriety. What is the matter, masters?   Honest Iago, that looks dead with grieving,   Speak, who began this? On thy love, I charge thee.        IAGO.   I do not know. Friends all but now, even now,   In quarter, and in terms like bride and groom   Devesting them for bed; and then, but now,   As if some planet had unwitted men,   Swords out, and tilting one at other’s breast,   In opposition bloody. I cannot speak   Any beginning to this peevish odds;   And would in action glorious I had lost   Those legs that brought me to a part of it!        OTHELLO.   How comes it, Michael, you are thus forgot?        CASSIO.   I pray you, pardon me; I cannot speak.        OTHELLO.   Worthy Montano, you were wont be civil.   The gravity and stillness of your youth   The world hath noted, and your name is great   In mouths of wisest censure: what’s the matter,   That you unlace your reputation thus,   And spend your rich opinion for the name   Of a night-brawler? Give me answer to it.        MONTANO.   Worthy Othello, I am hurt to danger.   Your officer, Iago, can inform you,   While I spare speech, which something now offends me,   Of all that I do know; nor know I aught   By me that’s said or done amiss this night,   Unless self-charity be sometimes a vice,   And to defend ourselves it be a sin   When violence assails us.        OTHELLO.   Now, by heaven,   My blood begins my safer guides to rule,   And passion, having my best judgement collied,   Assays to lead the way. Zounds, if I stir,   Or do but lift this arm, the best of you   Shall sink in my rebuke. Give me to know   How this foul rout began, who set it on,   And he that is approv’d in this offence,   Though he had twinn’d with me, both at a birth,   Shall lose me. What! in a town of war,   Yet wild, the people’s hearts brimful of fear,   To manage private and domestic quarrel,   In night, and on the court and guard of safety?   ’Tis monstrous. Iago, who began’t?        MONTANO.   If partially affin’d, or leagu’d in office,   Thou dost deliver more or less than truth,   Thou art no soldier.        IAGO.   Touch me not so near.   I had rather have this tongue cut from my mouth   Than it should do offence to Michael Cassio.   Yet I persuade myself, to speak the truth   Shall nothing wrong him. Thus it is, general:   Montano and myself being in speech,   There comes a fellow crying out for help,   And Cassio following him with determin’d sword,   To execute upon him. Sir, this gentleman   Steps in to Cassio and entreats his pause.   Myself the crying fellow did pursue,   Lest by his clamour (as it so fell out)   The town might fall in fright: he, swift of foot,   Outran my purpose: and I return’d the rather   For that I heard the clink and fall of swords,   And Cassio high in oath, which till tonight   I ne’er might say before. When I came back,   (For this was brief) I found them close together,   At blow and thrust, even as again they were   When you yourself did part them.   More of this matter cannot I report.   But men are men; the best sometimes forget;   Though Cassio did some little wrong to him,   As men in rage strike those that wish them best,   Yet surely Cassio, I believe, receiv’d   From him that fled some strange indignity,   Which patience could not pass.        OTHELLO.   I know, Iago,   Thy honesty and love doth mince this matter,   Making it light to Cassio. Cassio, I love thee,   But never more be officer of mine.        Enter  Desdemona,  attended.        Look, if my gentle love be not rais’d up!   I’ll make thee an example.        DESDEMONA.   What’s the matter?        OTHELLO.   All’s well now, sweeting; come away to bed.   Sir, for your hurts, myself will be your surgeon.   Lead him off.         [  Montano  is led off. ]        Iago, look with care about the town,   And silence those whom this vile brawl distracted.   Come, Desdemona: ’tis the soldiers’ life   To have their balmy slumbers wak’d with strife.        [ Exeunt all but  Iago  and  Cassio . ]        IAGO.   What, are you hurt, lieutenant?        CASSIO.   Ay, past all surgery.        IAGO.   Marry, Heaven forbid!        CASSIO.   Reputation, reputation, reputation! O, I have lost my reputation! I have lost  the immortal part of myself, and what remains is bestial. My reputation, Iago,  my reputation!        IAGO.   As I am an honest man, I thought you had received some bodily wound; there is  more sense in that than in reputation. Reputation is an idle and most false  imposition, oft got without merit and lost without deserving. You have lost no  reputation at all, unless you repute yourself such a loser. What, man, there  are ways to recover the general again: you are but now cast in his mood, a  punishment more in policy than in malice, even so as one would beat his  offenceless dog to affright an imperious lion: sue to him again, and he’s  yours.        CASSIO.   I will rather sue to be despised than to deceive so good a commander with so  slight, so drunken, and so indiscreet an officer. Drunk? and speak parrot? and  squabble? swagger? swear? and discourse fustian with one’s own shadow? O thou  invisible spirit of wine, if thou hast no name to be known by, let us call thee  devil!        IAGO.   What was he that you followed with your sword? What had he done to you?        CASSIO.   I know not.        IAGO.   Is’t possible?        CASSIO.   I remember a mass of things, but nothing distinctly; a quarrel, but nothing  wherefore. O God, that men should put an enemy in their mouths to steal away  their brains! That we should with joy, pleasance, revel, and applause,  transform ourselves into beasts!        IAGO.   Why, but you are now well enough: how came you thus recovered?        CASSIO.   It hath pleased the devil drunkenness to give place to the devil wrath. One  unperfectness shows me another, to make me frankly despise myself.        IAGO.   Come, you are too severe a moraler. As the time, the place, and the condition  of this country stands, I could heartily wish this had not befallen; but since  it is as it is, mend it for your own good.        CASSIO.   I will ask him for my place again; he shall tell me I am a drunkard! Had I as  many mouths as Hydra, such an answer would stop them all. To be now a sensible  man, by and by a fool, and presently a beast! O strange! Every inordinate cup  is unbless’d, and the ingredient is a devil.        IAGO.   Come, come, good wine is a good familiar creature, if it be well used. Exclaim  no more against it. And, good lieutenant, I think you think I love you.        CASSIO.   I have well approved it, sir.—I drunk!        IAGO.   You, or any man living, may be drunk at a time, man. I’ll tell you what you  shall do. Our general’s wife is now the general; I may say so in this respect,  for that he hath devoted and given up himself to the contemplation, mark, and  denotement of her parts and graces. Confess yourself freely to her. Importune  her help to put you in your place again. She is of so free, so kind, so apt, so  blessed a disposition, she holds it a vice in her goodness not to do more than  she is requested. This broken joint between you and her husband entreat her to  splinter, and, my fortunes against any lay worth naming, this crack of your  love shall grow stronger than it was before.        CASSIO.   You advise me well.        IAGO.   I protest, in the sincerity of love and honest kindness.        CASSIO.   I think it freely; and betimes in the morning I will beseech the virtuous  Desdemona to undertake for me; I am desperate of my fortunes if they check me  here.        IAGO.   You are in the right. Good night, lieutenant, I must to the watch.        CASSIO.   Good night, honest Iago.        [ Exit. ]        IAGO.   And what’s he then, that says I play the villain?   When this advice is free I give and honest,   Probal to thinking, and indeed the course   To win the Moor again? For ’tis most easy   The inclining Desdemona to subdue   In any honest suit. She’s fram’d as fruitful   As the free elements. And then for her   To win the Moor, were’t to renounce his baptism,   All seals and symbols of redeemed sin,   His soul is so enfetter’d to her love   That she may make, unmake, do what she list,   Even as her appetite shall play the god   With his weak function. How am I then, a villain   To counsel Cassio to this parallel course,   Directly to his good? Divinity of hell!   When devils will the blackest sins put on,   They do suggest at first with heavenly shows,   As I do now: for whiles this honest fool   Plies Desdemona to repair his fortune,   And she for him pleads strongly to the Moor,   I’ll pour this pestilence into his ear,   That she repeals him for her body’s lust;   And by how much she strives to do him good,   She shall undo her credit with the Moor.   So will I turn her virtue into pitch,   And out of her own goodness make the net   That shall enmesh them all.        Enter  Roderigo .        How now, Roderigo?        RODERIGO.   I do follow here in the chase, not like a hound that hunts, but one that fills  up the cry. My money is almost spent, I have been tonight exceedingly well  cudgelled; and I think the issue will be, I shall have so much experience for  my pains, and so, with no money at all and a little more wit, return again to  Venice.        IAGO.   How poor are they that have not patience!   What wound did ever heal but by degrees?   Thou know’st we work by wit, and not by witchcraft,   And wit depends on dilatory time.   Does’t not go well? Cassio hath beaten thee,   And thou, by that small hurt, hast cashier’d Cassio;   Though other things grow fair against the sun,   Yet fruits that blossom first will first be ripe.   Content thyself awhile. By the mass, ’tis morning;   Pleasure and action make the hours seem short.   Retire thee; go where thou art billeted.   Away, I say, thou shalt know more hereafter.   Nay, get thee gone.        [ Exit  Roderigo . ]        Two things are to be done,   My wife must move for Cassio to her mistress.   I’ll set her on;   Myself the while to draw the Moor apart,   And bring him jump when he may Cassio find   Soliciting his wife. Ay, that’s the way.   Dull not device by coldness and delay.        [ Exit. ]                 '"
      ]
     },
     "execution_count": 20,
     "metadata": {},
     "output_type": "execute_result"
    }
   ],
   "execution_count": 20
  },
  {
   "metadata": {
    "ExecuteTime": {
     "end_time": "2024-12-05T03:21:58.356115Z",
     "start_time": "2024-12-05T03:21:58.352270Z"
    }
   },
   "cell_type": "code",
   "source": "first_act=othello_acts[0]",
   "id": "34109e90eb4ec768",
   "outputs": [],
   "execution_count": 23
  },
  {
   "metadata": {
    "ExecuteTime": {
     "end_time": "2024-12-05T03:22:00.395145Z",
     "start_time": "2024-12-05T03:22:00.390532Z"
    }
   },
   "cell_type": "code",
   "source": "first_act_scenes=Scenes(first_act)",
   "id": "3997a69d42d2105f",
   "outputs": [],
   "execution_count": 24
  },
  {
   "metadata": {
    "ExecuteTime": {
     "end_time": "2024-12-05T03:22:00.416032Z",
     "start_time": "2024-12-05T03:22:00.407470Z"
    }
   },
   "cell_type": "code",
   "source": "first_scenes=first_act_scenes.return_scenes()",
   "id": "6501ceb1682f26cf",
   "outputs": [],
   "execution_count": 25
  },
  {
   "metadata": {
    "ExecuteTime": {
     "end_time": "2024-12-05T03:22:02.197929Z",
     "start_time": "2024-12-05T03:22:02.194726Z"
    }
   },
   "cell_type": "code",
   "source": "scene1=first_scenes[0]",
   "id": "4dfcc402e1ba4abd",
   "outputs": [],
   "execution_count": 26
  },
  {
   "metadata": {
    "ExecuteTime": {
     "end_time": "2024-12-05T03:22:04.343785Z",
     "start_time": "2024-12-05T03:22:04.333686Z"
    }
   },
   "cell_type": "code",
   "source": "lines=re.findall(r\"[A-Z]{3}.*?      \",scene1)",
   "id": "b4261cd7e4cec5d7",
   "outputs": [],
   "execution_count": 27
  },
  {
   "metadata": {
    "ExecuteTime": {
     "end_time": "2024-12-05T03:22:06.125195Z",
     "start_time": "2024-12-05T03:22:06.122418Z"
    }
   },
   "cell_type": "code",
   "source": "first_line=lines[0]",
   "id": "56a321d3c33c1e10",
   "outputs": [],
   "execution_count": 28
  },
  {
   "metadata": {
    "ExecuteTime": {
     "end_time": "2024-12-05T03:22:07.967944Z",
     "start_time": "2024-12-05T03:22:07.963224Z"
    }
   },
   "cell_type": "code",
   "source": "re.search(r'[A-Z]{3}.*?\\b',first_line).group()",
   "id": "7eb66ceaad517d3a",
   "outputs": [
    {
     "data": {
      "text/plain": [
       "'RODERIGO'"
      ]
     },
     "execution_count": 29,
     "metadata": {},
     "output_type": "execute_result"
    }
   ],
   "execution_count": 29
  },
  {
   "metadata": {
    "ExecuteTime": {
     "end_time": "2024-12-05T03:22:13.066582Z",
     "start_time": "2024-12-05T03:22:13.058254Z"
    }
   },
   "cell_type": "code",
   "source": "get_line(first_line)",
   "id": "718627c0484876cd",
   "outputs": [
    {
     "data": {
      "text/plain": [
       "('RODERIGO',\n",
       " 'Tush, never tell me, I take it much unkindly   That thou, Iago, who hast had my purse,   As if the strings were thine, shouldst know of this.')"
      ]
     },
     "execution_count": 30,
     "metadata": {},
     "output_type": "execute_result"
    }
   ],
   "execution_count": 30
  },
  {
   "metadata": {
    "ExecuteTime": {
     "end_time": "2024-12-05T03:37:42.655505Z",
     "start_time": "2024-12-05T03:36:59.399877Z"
    }
   },
   "cell_type": "code",
   "source": [
    "while True:\n",
    "    query=input(\">\")\n",
    "    if query == (\"exit\" or \"quit\"):\n",
    "        print('fare thee well, my liege')\n",
    "        break\n",
    "    else:\n",
    "        print(random.choice(lines))  \n"
   ],
   "id": "73cf873e8a455344",
   "outputs": [
    {
     "name": "stdout",
     "output_type": "stream",
     "text": [
      "BRABANTIO.   Call up my brother. O, would you had had her!   Some one way, some another. Do you know   Where we may apprehend her and the Moor?      \n",
      "BRABANTIO.   Call up my brother. O, would you had had her!   Some one way, some another. Do you know   Where we may apprehend her and the Moor?      \n",
      "RODERIGO.   Here is her father’s house, I’ll call aloud.      \n",
      "RODERIGO.   What a full fortune does the thick-lips owe,   If he can carry’t thus!      \n",
      "fare thee well, my liege\n"
     ]
    }
   ],
   "execution_count": 31
  },
  {
   "metadata": {},
   "cell_type": "code",
   "outputs": [],
   "execution_count": null,
   "source": "    ",
   "id": "781d5223ce5c4eca"
  }
 ],
 "metadata": {
  "kernelspec": {
   "display_name": "Python 3",
   "language": "python",
   "name": "python3"
  },
  "language_info": {
   "codemirror_mode": {
    "name": "ipython",
    "version": 2
   },
   "file_extension": ".py",
   "mimetype": "text/x-python",
   "name": "python",
   "nbconvert_exporter": "python",
   "pygments_lexer": "ipython2",
   "version": "2.7.6"
  }
 },
 "nbformat": 4,
 "nbformat_minor": 5
}
