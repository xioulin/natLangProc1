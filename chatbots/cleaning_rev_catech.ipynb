{
 "cells": [
  {
   "cell_type": "code",
   "id": "initial_id",
   "metadata": {
    "collapsed": true,
    "ExecuteTime": {
     "end_time": "2024-11-11T22:27:05.569372Z",
     "start_time": "2024-11-11T22:27:05.555242Z"
    }
   },
   "source": [
    "file = open('rev_catechism/_The_Revolutionary_Catechism_by_Sergey_Nechayev_1869.txt', 'rb')\n",
    "text = file.read()\n",
    "file.close()"
   ],
   "outputs": [],
   "execution_count": 1
  },
  {
   "metadata": {
    "ExecuteTime": {
     "end_time": "2024-11-11T22:29:27.525296Z",
     "start_time": "2024-11-11T22:29:27.513615Z"
    }
   },
   "cell_type": "code",
   "source": "text = str(text)",
   "id": "3246050fac2672d6",
   "outputs": [],
   "execution_count": 5
  },
  {
   "metadata": {
    "ExecuteTime": {
     "end_time": "2024-11-11T22:29:39.716308Z",
     "start_time": "2024-11-11T22:29:39.706023Z"
    }
   },
   "cell_type": "code",
   "source": "type(text)",
   "id": "60ba98cb615328f0",
   "outputs": [
    {
     "data": {
      "text/plain": [
       "str"
      ]
     },
     "execution_count": 6,
     "metadata": {},
     "output_type": "execute_result"
    }
   ],
   "execution_count": 6
  },
  {
   "metadata": {
    "ExecuteTime": {
     "end_time": "2024-11-11T22:29:41.515924Z",
     "start_time": "2024-11-11T22:29:41.506809Z"
    }
   },
   "cell_type": "code",
   "source": "clean = text.encode('ascii', 'ignore').decode()",
   "id": "28a0022d600b23e",
   "outputs": [],
   "execution_count": 7
  },
  {
   "metadata": {
    "ExecuteTime": {
     "end_time": "2024-11-11T22:29:43.904213Z",
     "start_time": "2024-11-11T22:29:43.888844Z"
    }
   },
   "cell_type": "code",
   "source": "clean",
   "id": "513d61ad2fbd5038",
   "outputs": [
    {
     "data": {
      "text/plain": [
       "\"b'\\\\r\\\\n1. The revolutionary is a doomed man. He has no personal interests, no business affairs, no emotions, no attachments, no property, and no name. Everything in him is wholly absorbed in the single thought and the single passion for revolution. \\\\r\\\\n2. The revolutionary knows that in the very depths of his being, not only in words but also in deeds, he has broken all the bonds which tie him to the social order and the civilized world with all its laws, moralities, and customs, and with all its generally accepted conventions. He is their implacable enemy, and if he continues to live with them it is only in order to destroy them more speedily. \\\\r\\\\n3. The revolutionary despises all doctrines and refuses to accept the mundane sciences, leaving them for future generations. He knows only one science: the science of destruction. For this reason, but only for this reason, he will study mechanics, physics, chemistry, and perhaps medicine. But all day and all night he studies the vital science of human beings, their characteristics and circumstances, and all the phenomena of the present social order. The object is perpetually the same: the surest and quickest way of destroying the whole filthy order. \\\\r\\\\n4. The revolutionary despises public opinion. He despises and hates the existing social morality in all its manifestations. For him, morality is everything which contributes to the triumph of the revolution. Immoral and criminal is everything that stands in its way. \\\\r\\\\n5. The revolutionary is a dedicated man, merciless toward the State and toward the educated classes; and he can expect no mercy from them. Between him and them there exists, declared or concealed, a relentless and irreconcilable war to the death. He must accustom himself to torture. \\\\r\\\\n6. Tyrannical toward himself, he must be tyrannical toward others. All the gentle and enervating sentiments of kinship, love, friendship, gratitude, and even honor, must be suppressed in him and give place to the cold and single-minded passion for revolution. For him, there exists only one pleasure, one consolation, one reward, one satisfaction \\\\xef\\\\xbf\\\\xbd the success of the revolution. Night and day he must have but one thought, one aim \\\\xef\\\\xbf\\\\xbd merciless destruction. Striving cold-bloodedly and indefatigably toward this end, he must be prepared to destroy himself and to destroy with his own hands everything that stands in the path of the revolution. \\\\r\\\\n7. The nature of the true revolutionary excludes all sentimentality, romanticism, infatuation, and exaltation. All private hatred and revenge must also be excluded. Revolutionary passion, practiced at every moment of the day until it becomes a habit, is to be employed with cold calculation. At all times, and in all places, the revolutionary must obey not his personal impulses, but only those which serve the cause of the revolution. \\\\r\\\\n8. The revolutionary can have no friendship or attachment, except for those who have proved by their actions that they, like him, are dedicated to revolution. The degree of friendship, devotion and obligation toward such a comrade is determined solely by the degree of his usefulness to the cause of total revolutionary destruction. \\\\r\\\\n9. It is superfluous to speak of solidarity among revolutionaries. The whole strength of revolutionary work lies in this. Comrades who possess the same revolutionary passion and understanding should, as much as possible, deliberate all important matters together and come to unanimous conclusions. When the plan is finally decided upon, then the revolutionary must rely solely on himself. In carrying out acts of destruction, each one should act alone, never running to another for advice and assistance, except when these are necessary for the furtherance of the plan. \\\\r\\\\n10. All revolutionaries should have under them second- or third-degree revolutionaries \\\\xef\\\\xbf\\\\xbd i.e., comrades who are not completely initiated. These should be regarded as part of the common revolutionary capital placed at his disposal. This capital should, of course, be spent as economically as possible in order to derive from it the greatest possible profit. The real revolutionary should regard himself as capital consecrated to the triumph of the revolution; however, he may not personally and alone dispose of that capital without the unanimous consent of the fully initiated comrades. \\\\r\\\\n11. When a comrade is in danger and the question arises whether he should be saved or not saved, the decision must not be arrived at on the basis of sentiment, but solely in the interests of the revolutionary cause. Therefore, it is necessary to weigh carefully the usefulness of the comrade against the expenditure of revolutionary forces necessary to save him, and the decision must be made accordingly. \\\\r\\\\n12. The new member, having given proof of his loyalty not by words but by deeds, can be received into the society only by the unanimous agreement of all the members. \\\\r\\\\n13. The revolutionary enters the world of the State, of the privileged classes, of the so-called civilization, and he lives in this world only for the purpose of bringing about its speedy and total destruction. He is not a revolutionary if he has any sympathy for this world. He should not hesitate to destroy any position, any place, or any man in this world. He must hate everyone and everything in it with an equal hatred. All the worse for him if he has any relations with parents, friends, or lovers; he is no longer a revolutionary if he is swayed by these relationships. \\\\r\\\\n14. Aiming at implacable revolution, the revolutionary may and frequently must live within society while pretending to be completely different from what he really is, for he must penetrate everywhere, into all the higher and middle-classes, into the houses of commerce, the churches, and the palaces of the aristocracy, and into the worlds of the bureaucracy and literature and the military, and also into the Third Division and the Winter Palace of the Czar.\\\\r\\\\n15. This filthy social order can be split up into several categories. The first category comprises those who must be condemned to death without delay. Comrades should compile a list of those to be condemned according to the relative gravity of their crimes; and the executions should be carried out according to the prepared order. \\\\r\\\\n16. When a list of those who are condemned is made, and the order of execution is prepared, no private sense of outrage should be considered, nor is it necessary to pay attention to the hatred provoked by these people among the comrades or the people. Hatred and the sense of outrage may even be useful insofar as they incite the masses to revolt. It is necessary to be guided only by the relative usefulness of these executions for the sake of revolution. Above all, those who are especially inimical to the revolutionary organization must be destroyed; their violent and sudden deaths will produce the utmost panic in the government, depriving it of its will to action by removing the cleverest and most energetic supporters. \\\\r\\\\n17. The second group comprises those who will be spared for the time being in order that, by a series of monstrous acts, they may drive the people into inevitable revolt. \\\\r\\\\n18. The third category consists of a great many brutes in high positions, distinguished neither by their cleverness nor their energy, while enjoying riches, influence, power, and high positions by virtue of their rank. These must be exploited in every possible way; they must be implicated and embroiled in our affairs, their dirty secrets must be ferreted out, and they must be transformed into slaves. Their power, influence, and connections, their wealth and their energy, will form an inexhaustible treasure and a precious help in all our undertakings. \\\\r\\\\n19. The fourth category comprises ambitious office-holders and liberals of various shades of opinion. The revolutionary must pretend to collaborate with them, blindly following them, while at the same time, prying out their secrets until they are completely in his power. They must be so compromised that there is no way out for them, and then they can be used to create disorder in the State. \\\\r\\\\n20. The fifth category consists of those doctrinaires, conspirators, and revolutionists who cut a great figure on paper or in their cliques. They must be constantly driven on to make compromising declarations: as a result, the majority of them will be destroyed, while a minority will become genuine revolutionaries. \\\\r\\\\n21. The sixth category is especially important: women. They can be divided into three main groups. First, those frivolous, thoughtless, and vapid women, whom we shall use as we use the third and fourth category of men. Second, women who are ardent, capable, and devoted, but whom do not belong to us because they have not yet achieved a passionless and austere revolutionary understanding; these must be used like the men of the fifth category. Finally, there are the women who are completely on our side \\\\xef\\\\xbf\\\\xbd i.e., those who are wholly dedicated and who have accepted our program in its entirety. We should regard these women as the most valuable or our treasures; without their help, we would never succeed. \\\\r\\\\n22. The Society has no aim other than the complete liberation and happiness of the masses \\\\xef\\\\xbf\\\\xbd i.e., of the people who live by manual labor. Convinced that their emancipation and the achievement of this happiness can only come about as a result of an all-destroying popular revolt, the Society will use all its resources and energy toward increasing and intensifying the evils and miseries of the people until at last their patience is exhausted and they are driven to a general uprising. \\\\r\\\\n23. By a revolution, the Society does not mean an orderly revolt according to the classic western model \\\\xef\\\\xbf\\\\xbd a revolt which always stops short of attacking the rights of property and the traditional social systems of so-called civilization and morality. Until now, such a revolution has always limited itself to the overthrow of one political form in order to replace it by another, thereby attempting to bring about a so-called revolutionary state. The only form of revolution beneficial to the people is one which destroys the entire State to the roots and exterminated all the state traditions, institutions, and classes in Russia. \\\\r\\\\n24. With this end in view, the Society therefore refuses to impose any new organization from above. Any future organization will doubtless work its way through the movement and life of the people; but this is a matter for future generations to decide. Our task is terrible, total, universal, and merciless destruction. \\\\r\\\\n25. Therefore, in drawing closer to the people, we must above all make common cause with those elements of the masses which, since the foundation of the state of Muscovy, have never ceased to protest, not only in words but in deeds, against everything directly or indirectly connected with the state: against the nobility, the bureaucracy, the clergy, the traders, and the parasitic kulaks. We must unite with the adventurous tribes of brigands, who are the only genuine revolutionaries in Russia. \\\\r\\\\n26. To weld the people into one single unconquerable and all-destructive force \\\\xef\\\\xbf\\\\xbd this is our aim, our conspiracy, and our task. \\\\r\\\\n\\\\r\\\\n'\""
      ]
     },
     "execution_count": 8,
     "metadata": {},
     "output_type": "execute_result"
    }
   ],
   "execution_count": 8
  },
  {
   "metadata": {
    "ExecuteTime": {
     "end_time": "2024-11-11T22:32:10.119354Z",
     "start_time": "2024-11-11T22:32:10.107472Z"
    }
   },
   "cell_type": "code",
   "source": "import re",
   "id": "c48066627f94f91b",
   "outputs": [],
   "execution_count": 9
  },
  {
   "metadata": {
    "ExecuteTime": {
     "end_time": "2024-11-11T22:41:45.128465Z",
     "start_time": "2024-11-11T22:41:45.120722Z"
    }
   },
   "cell_type": "code",
   "source": "match= re.findall(r\"\\\\r|\\\\n|[0-9].|\\\\x[a-z].\",clean)",
   "id": "eeb00d6135317f35",
   "outputs": [],
   "execution_count": 27
  },
  {
   "metadata": {
    "ExecuteTime": {
     "end_time": "2024-11-11T22:41:46.029460Z",
     "start_time": "2024-11-11T22:41:46.020230Z"
    }
   },
   "cell_type": "code",
   "source": "match",
   "id": "2dca6fc35d479d89",
   "outputs": [
    {
     "data": {
      "text/plain": [
       "['\\\\r',\n",
       " '\\\\n',\n",
       " '1.',\n",
       " '\\\\r',\n",
       " '\\\\n',\n",
       " '2.',\n",
       " '\\\\r',\n",
       " '\\\\n',\n",
       " '3.',\n",
       " '\\\\r',\n",
       " '\\\\n',\n",
       " '4.',\n",
       " '\\\\r',\n",
       " '\\\\n',\n",
       " '5.',\n",
       " '\\\\r',\n",
       " '\\\\n',\n",
       " '6.',\n",
       " '\\\\xef',\n",
       " '\\\\xbf',\n",
       " '\\\\xbd',\n",
       " '\\\\xef',\n",
       " '\\\\xbf',\n",
       " '\\\\xbd',\n",
       " '\\\\r',\n",
       " '\\\\n',\n",
       " '7.',\n",
       " '\\\\r',\n",
       " '\\\\n',\n",
       " '8.',\n",
       " '\\\\r',\n",
       " '\\\\n',\n",
       " '9.',\n",
       " '\\\\r',\n",
       " '\\\\n',\n",
       " '10',\n",
       " '\\\\xef',\n",
       " '\\\\xbf',\n",
       " '\\\\xbd',\n",
       " '\\\\r',\n",
       " '\\\\n',\n",
       " '11',\n",
       " '\\\\r',\n",
       " '\\\\n',\n",
       " '12',\n",
       " '\\\\r',\n",
       " '\\\\n',\n",
       " '13',\n",
       " '\\\\r',\n",
       " '\\\\n',\n",
       " '14',\n",
       " '\\\\r',\n",
       " '\\\\n',\n",
       " '15',\n",
       " '\\\\r',\n",
       " '\\\\n',\n",
       " '16',\n",
       " '\\\\r',\n",
       " '\\\\n',\n",
       " '17',\n",
       " '\\\\r',\n",
       " '\\\\n',\n",
       " '18',\n",
       " '\\\\r',\n",
       " '\\\\n',\n",
       " '19',\n",
       " '\\\\r',\n",
       " '\\\\n',\n",
       " '20',\n",
       " '\\\\r',\n",
       " '\\\\n',\n",
       " '21',\n",
       " '\\\\xef',\n",
       " '\\\\xbf',\n",
       " '\\\\xbd',\n",
       " '\\\\r',\n",
       " '\\\\n',\n",
       " '22',\n",
       " '\\\\xef',\n",
       " '\\\\xbf',\n",
       " '\\\\xbd',\n",
       " '\\\\r',\n",
       " '\\\\n',\n",
       " '23',\n",
       " '\\\\xef',\n",
       " '\\\\xbf',\n",
       " '\\\\xbd',\n",
       " '\\\\r',\n",
       " '\\\\n',\n",
       " '24',\n",
       " '\\\\r',\n",
       " '\\\\n',\n",
       " '25',\n",
       " '\\\\r',\n",
       " '\\\\n',\n",
       " '26',\n",
       " '\\\\xef',\n",
       " '\\\\xbf',\n",
       " '\\\\xbd',\n",
       " '\\\\r',\n",
       " '\\\\n',\n",
       " '\\\\r',\n",
       " '\\\\n']"
      ]
     },
     "execution_count": 28,
     "metadata": {},
     "output_type": "execute_result"
    }
   ],
   "execution_count": 28
  },
  {
   "metadata": {
    "ExecuteTime": {
     "end_time": "2024-11-11T22:50:54.589027Z",
     "start_time": "2024-11-11T22:50:54.570120Z"
    }
   },
   "cell_type": "code",
   "source": [
    "for i in match:\n",
    "    clean=clean.replace(i,'')"
   ],
   "id": "1438e21f16290e37",
   "outputs": [],
   "execution_count": 43
  },
  {
   "metadata": {
    "ExecuteTime": {
     "end_time": "2024-11-11T22:50:55.530173Z",
     "start_time": "2024-11-11T22:50:55.521961Z"
    }
   },
   "cell_type": "code",
   "source": "clean",
   "id": "7422a5eac7a5ca4d",
   "outputs": [
    {
     "data": {
      "text/plain": [
       "\"b' The revolutionary is a doomed man. He has no personal interests, no business affairs, no emotions, no attachments, no property, and no name. Everything in him is wholly absorbed in the single thought and the single passion for revolution.  The revolutionary knows that in the very depths of his being, not only in words but also in deeds, he has broken all the bonds which tie him to the social order and the civilized world with all its laws, moralities, and customs, and with all its generally accepted conventions. He is their implacable enemy, and if he continues to live with them it is only in order to destroy them more speedily.  The revolutionary despises all doctrines and refuses to accept the mundane sciences, leaving them for future generations. He knows only one science: the science of destruction. For this reason, but only for this reason, he will study mechanics, physics, chemistry, and perhaps medicine. But all day and all night he studies the vital science of human beings, their characteristics and circumstances, and all the phenomena of the present social order. The object is perpetually the same: the surest and quickest way of destroying the whole filthy order.  The revolutionary despises public opinion. He despises and hates the existing social morality in all its manifestations. For him, morality is everything which contributes to the triumph of the revolution. Immoral and criminal is everything that stands in its way.  The revolutionary is a dedicated man, merciless toward the State and toward the educated classes; and he can expect no mercy from them. Between him and them there exists, declared or concealed, a relentless and irreconcilable war to the death. He must accustom himself to torture.  Tyrannical toward himself, he must be tyrannical toward others. All the gentle and enervating sentiments of kinship, love, friendship, gratitude, and even honor, must be suppressed in him and give place to the cold and single-minded passion for revolution. For him, there exists only one pleasure, one consolation, one reward, one satisfaction  the success of the revolution. Night and day he must have but one thought, one aim  merciless destruction. Striving cold-bloodedly and indefatigably toward this end, he must be prepared to destroy himself and to destroy with his own hands everything that stands in the path of the revolution.  The nature of the true revolutionary excludes all sentimentality, romanticism, infatuation, and exaltation. All private hatred and revenge must also be excluded. Revolutionary passion, practiced at every moment of the day until it becomes a habit, is to be employed with cold calculation. At all times, and in all places, the revolutionary must obey not his personal impulses, but only those which serve the cause of the revolution.  The revolutionary can have no friendship or attachment, except for those who have proved by their actions that they, like him, are dedicated to revolution. The degree of friendship, devotion and obligation toward such a comrade is determined solely by the degree of his usefulness to the cause of total revolutionary destruction.  It is superfluous to speak of solidarity among revolutionaries. The whole strength of revolutionary work lies in this. Comrades who possess the same revolutionary passion and understanding should, as much as possible, deliberate all important matters together and come to unanimous conclusions. When the plan is finally decided upon, then the revolutionary must rely solely on himself. In carrying out acts of destruction, each one should act alone, never running to another for advice and assistance, except when these are necessary for the furtherance of the plan. . All revolutionaries should have under them second- or third-degree revolutionaries  i.e., comrades who are not completely initiated. These should be regarded as part of the common revolutionary capital placed at his disposal. This capital should, of course, be spent as economically as possible in order to derive from it the greatest possible profit. The real revolutionary should regard himself as capital consecrated to the triumph of the revolution; however, he may not personally and alone dispose of that capital without the unanimous consent of the fully initiated comrades. 1 When a comrade is in danger and the question arises whether he should be saved or not saved, the decision must not be arrived at on the basis of sentiment, but solely in the interests of the revolutionary cause. Therefore, it is necessary to weigh carefully the usefulness of the comrade against the expenditure of revolutionary forces necessary to save him, and the decision must be made accordingly. 1 The new member, having given proof of his loyalty not by words but by deeds, can be received into the society only by the unanimous agreement of all the members. 1 The revolutionary enters the world of the State, of the privileged classes, of the so-called civilization, and he lives in this world only for the purpose of bringing about its speedy and total destruction. He is not a revolutionary if he has any sympathy for this world. He should not hesitate to destroy any position, any place, or any man in this world. He must hate everyone and everything in it with an equal hatred. All the worse for him if he has any relations with parents, friends, or lovers; he is no longer a revolutionary if he is swayed by these relationships. 1 Aiming at implacable revolution, the revolutionary may and frequently must live within society while pretending to be completely different from what he really is, for he must penetrate everywhere, into all the higher and middle-classes, into the houses of commerce, the churches, and the palaces of the aristocracy, and into the worlds of the bureaucracy and literature and the military, and also into the Third Division and the Winter Palace of the Czar.1 This filthy social order can be split up into several categories. The first category comprises those who must be condemned to death without delay. Comrades should compile a list of those to be condemned according to the relative gravity of their crimes; and the executions should be carried out according to the prepared order. 1 When a list of those who are condemned is made, and the order of execution is prepared, no private sense of outrage should be considered, nor is it necessary to pay attention to the hatred provoked by these people among the comrades or the people. Hatred and the sense of outrage may even be useful insofar as they incite the masses to revolt. It is necessary to be guided only by the relative usefulness of these executions for the sake of revolution. Above all, those who are especially inimical to the revolutionary organization must be destroyed; their violent and sudden deaths will produce the utmost panic in the government, depriving it of its will to action by removing the cleverest and most energetic supporters. 1 The second group comprises those who will be spared for the time being in order that, by a series of monstrous acts, they may drive the people into inevitable revolt. 1 The third category consists of a great many brutes in high positions, distinguished neither by their cleverness nor their energy, while enjoying riches, influence, power, and high positions by virtue of their rank. These must be exploited in every possible way; they must be implicated and embroiled in our affairs, their dirty secrets must be ferreted out, and they must be transformed into slaves. Their power, influence, and connections, their wealth and their energy, will form an inexhaustible treasure and a precious help in all our undertakings. 1 The fourth category comprises ambitious office-holders and liberals of various shades of opinion. The revolutionary must pretend to collaborate with them, blindly following them, while at the same time, prying out their secrets until they are completely in his power. They must be so compromised that there is no way out for them, and then they can be used to create disorder in the State. . The fifth category consists of those doctrinaires, conspirators, and revolutionists who cut a great figure on paper or in their cliques. They must be constantly driven on to make compromising declarations: as a result, the majority of them will be destroyed, while a minority will become genuine revolutionaries. 2 The sixth category is especially important: women. They can be divided into three main groups. First, those frivolous, thoughtless, and vapid women, whom we shall use as we use the third and fourth category of men. Second, women who are ardent, capable, and devoted, but whom do not belong to us because they have not yet achieved a passionless and austere revolutionary understanding; these must be used like the men of the fifth category. Finally, there are the women who are completely on our side  i.e., those who are wholly dedicated and who have accepted our program in its entirety. We should regard these women as the most valuable or our treasures; without their help, we would never succeed. 2 The Society has no aim other than the complete liberation and happiness of the masses  i.e., of the people who live by manual labor. Convinced that their emancipation and the achievement of this happiness can only come about as a result of an all-destroying popular revolt, the Society will use all its resources and energy toward increasing and intensifying the evils and miseries of the people until at last their patience is exhausted and they are driven to a general uprising. 2 By a revolution, the Society does not mean an orderly revolt according to the classic western model  a revolt which always stops short of attacking the rights of property and the traditional social systems of so-called civilization and morality. Until now, such a revolution has always limited itself to the overthrow of one political form in order to replace it by another, thereby attempting to bring about a so-called revolutionary state. The only form of revolution beneficial to the people is one which destroys the entire State to the roots and exterminated all the state traditions, institutions, and classes in Russia. 2 With this end in view, the Society therefore refuses to impose any new organization from above. Any future organization will doubtless work its way through the movement and life of the people; but this is a matter for future generations to decide. Our task is terrible, total, universal, and merciless destruction. 2 Therefore, in drawing closer to the people, we must above all make common cause with those elements of the masses which, since the foundation of the state of Muscovy, have never ceased to protest, not only in words but in deeds, against everything directly or indirectly connected with the state: against the nobility, the bureaucracy, the clergy, the traders, and the parasitic kulaks. We must unite with the adventurous tribes of brigands, who are the only genuine revolutionaries in Russia. 2 To weld the people into one single unconquerable and all-destructive force  this is our aim, our conspiracy, and our task. '\""
      ]
     },
     "execution_count": 44,
     "metadata": {},
     "output_type": "execute_result"
    }
   ],
   "execution_count": 44
  },
  {
   "metadata": {
    "ExecuteTime": {
     "end_time": "2024-11-11T22:51:36.718239Z",
     "start_time": "2024-11-11T22:51:36.706222Z"
    }
   },
   "cell_type": "code",
   "source": "file = open('rev_catechism/clean.txt', 'w')",
   "id": "c4e63b1aa7037484",
   "outputs": [],
   "execution_count": 45
  },
  {
   "metadata": {
    "ExecuteTime": {
     "end_time": "2024-11-11T22:52:04.421976Z",
     "start_time": "2024-11-11T22:52:04.403601Z"
    }
   },
   "cell_type": "code",
   "source": "file.write(clean)",
   "id": "82e5902ad98d6979",
   "outputs": [
    {
     "data": {
      "text/plain": [
       "11140"
      ]
     },
     "execution_count": 47,
     "metadata": {},
     "output_type": "execute_result"
    }
   ],
   "execution_count": 47
  },
  {
   "metadata": {},
   "cell_type": "code",
   "outputs": [],
   "execution_count": null,
   "source": "",
   "id": "27f0a6688cd8f79"
  }
 ],
 "metadata": {
  "kernelspec": {
   "display_name": "Python 3",
   "language": "python",
   "name": "python3"
  },
  "language_info": {
   "codemirror_mode": {
    "name": "ipython",
    "version": 2
   },
   "file_extension": ".py",
   "mimetype": "text/x-python",
   "name": "python",
   "nbconvert_exporter": "python",
   "pygments_lexer": "ipython2",
   "version": "2.7.6"
  }
 },
 "nbformat": 4,
 "nbformat_minor": 5
}
