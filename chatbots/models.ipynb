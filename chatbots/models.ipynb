{
 "cells": [
  {
   "cell_type": "code",
   "id": "initial_id",
   "metadata": {
    "collapsed": true,
    "ExecuteTime": {
     "end_time": "2024-11-22T00:58:51.123262Z",
     "start_time": "2024-11-22T00:58:47.700138Z"
    }
   },
   "source": [
    "from fastai.text.all import *\n",
    "import fastbook\n",
    "fastbook.setup_book()"
   ],
   "outputs": [],
   "execution_count": 44
  },
  {
   "metadata": {
    "ExecuteTime": {
     "end_time": "2024-11-22T00:59:13.360452Z",
     "start_time": "2024-11-22T00:59:13.356747Z"
    }
   },
   "cell_type": "code",
   "source": [
    "from fastbook import *\n",
    "from IPython.display import display,HTML"
   ],
   "id": "3009107a0b021307",
   "outputs": [],
   "execution_count": 45
  },
  {
   "metadata": {
    "ExecuteTime": {
     "end_time": "2024-11-22T00:38:18.075538Z",
     "start_time": "2024-11-22T00:35:46.711633Z"
    }
   },
   "cell_type": "code",
   "source": "path= untar_data(URLs.IMDB)",
   "id": "d5535c9da3b72c6b",
   "outputs": [
    {
     "data": {
      "text/plain": [
       "<IPython.core.display.HTML object>"
      ],
      "text/html": [
       "\n",
       "<style>\n",
       "    /* Turns off some styling */\n",
       "    progress {\n",
       "        /* gets rid of default border in Firefox and Opera. */\n",
       "        border: none;\n",
       "        /* Needs to be in here for Safari polyfill so background images work as expected. */\n",
       "        background-size: auto;\n",
       "    }\n",
       "    progress:not([value]), progress:not([value])::-webkit-progress-bar {\n",
       "        background: repeating-linear-gradient(45deg, #7e7e7e, #7e7e7e 10px, #5c5c5c 10px, #5c5c5c 20px);\n",
       "    }\n",
       "    .progress-bar-interrupted, .progress-bar-interrupted::-webkit-progress-bar {\n",
       "        background: #F44336;\n",
       "    }\n",
       "</style>\n"
      ]
     },
     "metadata": {},
     "output_type": "display_data"
    },
    {
     "data": {
      "text/plain": [
       "<IPython.core.display.HTML object>"
      ],
      "text/html": [
       "\n",
       "    <div>\n",
       "      <progress value='144441344' class='' max='144440600' style='width:300px; height:20px; vertical-align: middle;'></progress>\n",
       "      100.00% [144441344/144440600 00:21&lt;00:00]\n",
       "    </div>\n",
       "    "
      ]
     },
     "metadata": {},
     "output_type": "display_data"
    }
   ],
   "execution_count": 2
  },
  {
   "metadata": {
    "ExecuteTime": {
     "end_time": "2024-11-22T01:00:52.172816Z",
     "start_time": "2024-11-22T01:00:51.334001Z"
    }
   },
   "cell_type": "code",
   "source": "files= get_text_files(path,folders=['train','test','unsup'])",
   "id": "b0a52a249297b594",
   "outputs": [],
   "execution_count": 47
  },
  {
   "metadata": {
    "ExecuteTime": {
     "end_time": "2024-11-22T00:39:13.066489Z",
     "start_time": "2024-11-22T00:39:13.042176Z"
    }
   },
   "cell_type": "code",
   "source": "txt=files[0].open().read()",
   "id": "e667fcb60598538a",
   "outputs": [],
   "execution_count": 4
  },
  {
   "metadata": {
    "ExecuteTime": {
     "end_time": "2024-11-22T00:39:17.729861Z",
     "start_time": "2024-11-22T00:39:17.715435Z"
    }
   },
   "cell_type": "code",
   "source": "txt[:100]",
   "id": "bd1d6a46098aea4c",
   "outputs": [
    {
     "data": {
      "text/plain": [
       "'Once again Mr. Costner has dragged out a movie for far longer than necessary. Aside from the terrifi'"
      ]
     },
     "execution_count": 5,
     "metadata": {},
     "output_type": "execute_result"
    }
   ],
   "execution_count": 5
  },
  {
   "metadata": {
    "ExecuteTime": {
     "end_time": "2024-11-22T00:40:08.297562Z",
     "start_time": "2024-11-22T00:40:08.281995Z"
    }
   },
   "cell_type": "code",
   "source": "files[9].open().read()",
   "id": "400ba95258b9fe2d",
   "outputs": [
    {
     "data": {
      "text/plain": [
       "\"Wealthy horse ranchers in Buenos Aires have a long-standing no-trading policy with the Crawfords of Manhattan, but what happens when the mustachioed Latin son falls for a certain Crawford with bright eyes, blonde hair, and some perky moves on the dance floor? 20th Century-Fox musical has a glossy veneer yet seems a bit tatty around the edges. It is very heavy on the frenetic, gymnastic-like dancing, exceedingly thin on story. Betty Grable (an eleventh hour replacement for Alice Faye) gives it a boost, even though she's paired with leaden Don Ameche (in tan make-up and slick hair). Also good: Charlotte Greenwood as Betty's pithy aunt, a limousine driver who's constantly asleep on the job, and Carmen Miranda playing herself (who else?). The stock shots of Argentina far outclass the action filmed on the Fox backlot, and some of the supporting performances are quite awful. By the time of the big horserace finale, most viewers will have had enough. *1/2 from ****\""
      ]
     },
     "execution_count": 9,
     "metadata": {},
     "output_type": "execute_result"
    }
   ],
   "execution_count": 9
  },
  {
   "metadata": {
    "ExecuteTime": {
     "end_time": "2024-11-22T00:40:41.379280Z",
     "start_time": "2024-11-22T00:40:41.242708Z"
    }
   },
   "cell_type": "code",
   "source": "spacy=WordTokenizer()",
   "id": "3c98155e0a73961e",
   "outputs": [],
   "execution_count": 11
  },
  {
   "metadata": {
    "ExecuteTime": {
     "end_time": "2024-11-22T00:41:49.237170Z",
     "start_time": "2024-11-22T00:41:49.211995Z"
    }
   },
   "cell_type": "code",
   "source": "toks=first(spacy([txt]))",
   "id": "e0ae5031f993f3b0",
   "outputs": [],
   "execution_count": 17
  },
  {
   "metadata": {
    "ExecuteTime": {
     "end_time": "2024-11-22T00:41:50.832706Z",
     "start_time": "2024-11-22T00:41:50.823036Z"
    }
   },
   "cell_type": "code",
   "source": "toks",
   "id": "eefbe0e45701b03a",
   "outputs": [
    {
     "data": {
      "text/plain": [
       "(#187) ['Once','again','Mr.','Costner','has','dragged','out','a','movie','for'...]"
      ]
     },
     "execution_count": 18,
     "metadata": {},
     "output_type": "execute_result"
    }
   ],
   "execution_count": 18
  },
  {
   "metadata": {
    "ExecuteTime": {
     "end_time": "2024-11-22T00:41:52.592590Z",
     "start_time": "2024-11-22T00:41:52.578744Z"
    }
   },
   "cell_type": "code",
   "source": "coll_repr(toks,100)",
   "id": "87cfccb7105f0f56",
   "outputs": [
    {
     "data": {
      "text/plain": [
       "'(#187) [\\'Once\\',\\'again\\',\\'Mr.\\',\\'Costner\\',\\'has\\',\\'dragged\\',\\'out\\',\\'a\\',\\'movie\\',\\'for\\',\\'far\\',\\'longer\\',\\'than\\',\\'necessary\\',\\'.\\',\\'Aside\\',\\'from\\',\\'the\\',\\'terrific\\',\\'sea\\',\\'rescue\\',\\'sequences\\',\\',\\',\\'of\\',\\'which\\',\\'there\\',\\'are\\',\\'very\\',\\'few\\',\\'I\\',\\'just\\',\\'did\\',\\'not\\',\\'care\\',\\'about\\',\\'any\\',\\'of\\',\\'the\\',\\'characters\\',\\'.\\',\\'Most\\',\\'of\\',\\'us\\',\\'have\\',\\'ghosts\\',\\'in\\',\\'the\\',\\'closet\\',\\',\\',\\'and\\',\\'Costner\\',\"\\'s\",\\'character\\',\\'are\\',\\'realized\\',\\'early\\',\\'on\\',\\',\\',\\'and\\',\\'then\\',\\'forgotten\\',\\'until\\',\\'much\\',\\'later\\',\\',\\',\\'by\\',\\'which\\',\\'time\\',\\'I\\',\\'did\\',\\'not\\',\\'care\\',\\'.\\',\\'The\\',\\'character\\',\\'we\\',\\'should\\',\\'really\\',\\'care\\',\\'about\\',\\'is\\',\\'a\\',\\'very\\',\\'cocky\\',\\',\\',\\'overconfident\\',\\'Ashton\\',\\'Kutcher\\',\\'.\\',\\'The\\',\\'problem\\',\\'is\\',\\'he\\',\\'comes\\',\\'off\\',\\'as\\',\\'kid\\',\\'who\\',\\'thinks\\',\\'he\\'...]'"
      ]
     },
     "execution_count": 19,
     "metadata": {},
     "output_type": "execute_result"
    }
   ],
   "execution_count": 19
  },
  {
   "metadata": {
    "ExecuteTime": {
     "end_time": "2024-11-22T00:42:11.218691Z",
     "start_time": "2024-11-22T00:42:11.209337Z"
    }
   },
   "cell_type": "code",
   "source": "type(txt)",
   "id": "e7c6cc3e0db8e60b",
   "outputs": [
    {
     "data": {
      "text/plain": [
       "str"
      ]
     },
     "execution_count": 20,
     "metadata": {},
     "output_type": "execute_result"
    }
   ],
   "execution_count": 20
  },
  {
   "metadata": {
    "collapsed": true,
    "ExecuteTime": {
     "end_time": "2024-11-22T00:43:02.651258Z",
     "start_time": "2024-11-22T00:43:02.629076Z"
    }
   },
   "cell_type": "code",
   "source": [
    "file=open('hamlet_lines.txt','r')\n",
    "h_lines= file.readlines()\n",
    "file.close()"
   ],
   "id": "2e714572bd8a8d8d",
   "outputs": [],
   "execution_count": 21
  },
  {
   "metadata": {
    "ExecuteTime": {
     "end_time": "2024-11-22T00:43:03.254609Z",
     "start_time": "2024-11-22T00:43:03.240894Z"
    }
   },
   "cell_type": "code",
   "source": [
    "for i in h_lines:\n",
    "    i= i.replace('\\n',' ')"
   ],
   "id": "7955e5fb7af526b0",
   "outputs": [],
   "execution_count": 22
  },
  {
   "metadata": {
    "ExecuteTime": {
     "end_time": "2024-11-22T00:43:50.388570Z",
     "start_time": "2024-11-22T00:43:50.382454Z"
    }
   },
   "cell_type": "code",
   "source": "solid_flesh=h_lines[5]",
   "id": "e3d9f11391797a42",
   "outputs": [],
   "execution_count": 29
  },
  {
   "metadata": {
    "ExecuteTime": {
     "end_time": "2024-11-22T00:44:41.568795Z",
     "start_time": "2024-11-22T00:44:41.550793Z"
    }
   },
   "cell_type": "code",
   "source": "tok_flesh=first(spacy([solid_flesh]))",
   "id": "c0fe11495289eaa3",
   "outputs": [],
   "execution_count": 32
  },
  {
   "metadata": {
    "ExecuteTime": {
     "end_time": "2024-11-22T00:44:54.945799Z",
     "start_time": "2024-11-22T00:44:54.926728Z"
    }
   },
   "cell_type": "code",
   "source": "tok_flesh[50:100]",
   "id": "99698ce6547802fe",
   "outputs": [
    {
     "data": {
      "text/plain": [
       "(#50) [',','and','unprofitable','  ','Seem','to','me','all','the','uses'...]"
      ]
     },
     "execution_count": 35,
     "metadata": {},
     "output_type": "execute_result"
    }
   ],
   "execution_count": 35
  },
  {
   "metadata": {
    "ExecuteTime": {
     "end_time": "2024-11-22T00:45:18.771333Z",
     "start_time": "2024-11-22T00:45:18.757808Z"
    }
   },
   "cell_type": "code",
   "source": "coll_repr(tok_flesh,100)",
   "id": "91b6b7ddcfbda0f9",
   "outputs": [
    {
     "data": {
      "text/plain": [
       "\"(#357) ['O','that','this','too','too','solid','flesh','would','melt',',','  ','Thaw',',','and','resolve','itself','into','a','dew','!','  ','Or','that','the','Everlasting','had','not','fix’d','  ','His','canon','’','gainst','self','-','slaughter','.','O','God','!','O','God','!','  ','How','weary',',','stale',',','flat',',','and','unprofitable','  ','Seem','to','me','all','the','uses','of','this','world','!','  ','Fie','on’t','!','Oh','fie','!','’','tis','an','unweeded','garden','  ','That','grows','to','seed',';','things','rank','and','gross','in','nature','  ','Possess','it','merely','.','That','it','should','come','to','this','!'...]\""
      ]
     },
     "execution_count": 36,
     "metadata": {},
     "output_type": "execute_result"
    }
   ],
   "execution_count": 36
  },
  {
   "metadata": {
    "ExecuteTime": {
     "end_time": "2024-11-22T00:47:35.075337Z",
     "start_time": "2024-11-22T00:47:35.066067Z"
    }
   },
   "cell_type": "code",
   "source": "tkn=Tokenizer(spacy)",
   "id": "80f4fa408d5f0ae9",
   "outputs": [],
   "execution_count": 39
  },
  {
   "metadata": {
    "ExecuteTime": {
     "end_time": "2024-11-22T00:47:36.237755Z",
     "start_time": "2024-11-22T00:47:36.224708Z"
    }
   },
   "cell_type": "code",
   "source": "tkn(txt)",
   "id": "bb263e13d18358a1",
   "outputs": [
    {
     "data": {
      "text/plain": [
       "(#207) ['xxbos','xxmaj','once','again','xxmaj','mr','.','xxmaj','costner','has'...]"
      ]
     },
     "execution_count": 40,
     "metadata": {},
     "output_type": "execute_result"
    }
   ],
   "execution_count": 40
  },
  {
   "metadata": {
    "ExecuteTime": {
     "end_time": "2024-11-22T00:48:34.685579Z",
     "start_time": "2024-11-22T00:48:34.675816Z"
    }
   },
   "cell_type": "code",
   "source": "coll_repr(tkn(solid_flesh),100)",
   "id": "bed4ff8b3771b018",
   "outputs": [
    {
     "data": {
      "text/plain": [
       "\"(#366) ['xxbos','o','that','this','too','too','solid','flesh','would','melt',',','xxmaj','thaw',',','and','resolve','itself','into','a','dew','!','xxmaj','or','that','the','xxmaj','everlasting','had','not','fix’d','xxmaj','his','canon','’','gainst','self','-','slaughter','.','o','xxmaj','god','!','o','xxmaj','god','!','xxmaj','how','weary',',','stale',',','flat',',','and','unprofitable','xxmaj','seem','to','me','all','the','uses','of','this','world','!','xxmaj','fie','on’t','!','xxmaj','oh','fie','!','’','tis','an','unweeded','garden','xxmaj','that','grows','to','seed',';','things','rank','and','gross','in','nature','xxmaj','possess','it','merely','.','xxmaj','that'...]\""
      ]
     },
     "execution_count": 42,
     "metadata": {},
     "output_type": "execute_result"
    }
   ],
   "execution_count": 42
  },
  {
   "metadata": {
    "ExecuteTime": {
     "end_time": "2024-11-22T01:01:47.543330Z",
     "start_time": "2024-11-22T01:01:47.423731Z"
    }
   },
   "cell_type": "code",
   "source": "txts= L(i.open().read() for i in files[:1000])",
   "id": "c30c399a1898e6be",
   "outputs": [],
   "execution_count": 49
  },
  {
   "metadata": {
    "ExecuteTime": {
     "end_time": "2024-11-22T01:03:03.340253Z",
     "start_time": "2024-11-22T01:03:03.336058Z"
    }
   },
   "cell_type": "code",
   "source": [
    "def subword(sz):\n",
    "    sp=SubwordTokenizer(vocab_sz=sz)\n",
    "    sp.setup(txts)\n",
    "    return \" \".join(first(sp([txt]))[:40])"
   ],
   "id": "27c840f3c550eb73",
   "outputs": [],
   "execution_count": 50
  },
  {
   "metadata": {
    "ExecuteTime": {
     "end_time": "2024-11-22T01:04:05.091246Z",
     "start_time": "2024-11-22T01:04:04.021939Z"
    }
   },
   "cell_type": "code",
   "source": "subword(10000)",
   "id": "d8603477c6f6129c",
   "outputs": [
    {
     "data": {
      "text/plain": [
       "<IPython.core.display.HTML object>"
      ],
      "text/html": [
       "\n",
       "<style>\n",
       "    /* Turns off some styling */\n",
       "    progress {\n",
       "        /* gets rid of default border in Firefox and Opera. */\n",
       "        border: none;\n",
       "        /* Needs to be in here for Safari polyfill so background images work as expected. */\n",
       "        background-size: auto;\n",
       "    }\n",
       "    progress:not([value]), progress:not([value])::-webkit-progress-bar {\n",
       "        background: repeating-linear-gradient(45deg, #7e7e7e, #7e7e7e 10px, #5c5c5c 10px, #5c5c5c 20px);\n",
       "    }\n",
       "    .progress-bar-interrupted, .progress-bar-interrupted::-webkit-progress-bar {\n",
       "        background: #F44336;\n",
       "    }\n",
       "</style>\n"
      ]
     },
     "metadata": {},
     "output_type": "display_data"
    },
    {
     "data": {
      "text/plain": [
       "<IPython.core.display.HTML object>"
      ],
      "text/html": []
     },
     "metadata": {},
     "output_type": "display_data"
    },
    {
     "data": {
      "text/plain": [
       "'▁On ce ▁again ▁Mr . ▁Costner ▁has ▁dragged ▁out ▁a ▁movie ▁for ▁far ▁longer ▁than ▁necessary . ▁A side ▁from ▁the ▁terrific ▁sea ▁rescue ▁sequences , ▁of ▁which ▁there ▁are ▁very ▁few ▁I ▁just ▁did ▁not ▁care ▁about ▁any ▁of'"
      ]
     },
     "execution_count": 53,
     "metadata": {},
     "output_type": "execute_result"
    }
   ],
   "execution_count": 53
  },
  {
   "metadata": {
    "ExecuteTime": {
     "end_time": "2024-11-22T01:09:17.347679Z",
     "start_time": "2024-11-22T01:09:16.665257Z"
    }
   },
   "cell_type": "code",
   "source": "toks200=txts[:200].map(tkn)",
   "id": "486e1aac744f2bdc",
   "outputs": [],
   "execution_count": 55
  },
  {
   "metadata": {
    "ExecuteTime": {
     "end_time": "2024-11-22T01:09:38.660211Z",
     "start_time": "2024-11-22T01:09:38.656089Z"
    }
   },
   "cell_type": "code",
   "source": "toks200[1]",
   "id": "6151f846dee9853d",
   "outputs": [
    {
     "data": {
      "text/plain": [
       "(#314) ['xxbos','xxmaj','this','is','an','example','of','why','the','majority'...]"
      ]
     },
     "execution_count": 57,
     "metadata": {},
     "output_type": "execute_result"
    }
   ],
   "execution_count": 57
  },
  {
   "metadata": {
    "ExecuteTime": {
     "end_time": "2024-11-22T01:09:57.298908Z",
     "start_time": "2024-11-22T01:09:57.295043Z"
    }
   },
   "cell_type": "code",
   "source": "num=Numericalize()",
   "id": "b6a9ddc30dabacf2",
   "outputs": [],
   "execution_count": 58
  },
  {
   "metadata": {
    "ExecuteTime": {
     "end_time": "2024-11-22T01:10:06.848067Z",
     "start_time": "2024-11-22T01:10:06.835460Z"
    }
   },
   "cell_type": "code",
   "source": "num.setup(toks200)",
   "id": "64057f196a10fffe",
   "outputs": [],
   "execution_count": 59
  },
  {
   "metadata": {
    "ExecuteTime": {
     "end_time": "2024-11-22T01:10:23.562378Z",
     "start_time": "2024-11-22T01:10:23.558423Z"
    }
   },
   "cell_type": "code",
   "source": "coll_repr(num.vocab,20)",
   "id": "45408de6a55a6228",
   "outputs": [
    {
     "data": {
      "text/plain": [
       "\"(#1968) ['xxunk','xxpad','xxbos','xxeos','xxfld','xxrep','xxwrep','xxup','xxmaj','the','.',',','a','and','of','to','is','it','i','in'...]\""
      ]
     },
     "execution_count": 61,
     "metadata": {},
     "output_type": "execute_result"
    }
   ],
   "execution_count": 61
  },
  {
   "metadata": {
    "ExecuteTime": {
     "end_time": "2024-11-22T01:11:06.292442Z",
     "start_time": "2024-11-22T01:11:06.222536Z"
    }
   },
   "cell_type": "code",
   "source": "nums=num(toks)[:20]",
   "id": "32332ac39ec152f9",
   "outputs": [],
   "execution_count": 62
  },
  {
   "metadata": {
    "ExecuteTime": {
     "end_time": "2024-11-22T01:11:09.828452Z",
     "start_time": "2024-11-22T01:11:09.823961Z"
    }
   },
   "cell_type": "code",
   "source": "nums",
   "id": "6517e0fb824eaf80",
   "outputs": [
    {
     "data": {
      "text/plain": [
       "TensorText([   0,  183,    0,    0,   61, 1457,   63,   12,   25,   28,  189,  958,   93,  959,   10,    0,   45,    9, 1458,    0])"
      ]
     },
     "execution_count": 63,
     "metadata": {},
     "output_type": "execute_result"
    }
   ],
   "execution_count": 63
  },
  {
   "metadata": {
    "ExecuteTime": {
     "end_time": "2024-11-22T01:11:44.559878Z",
     "start_time": "2024-11-22T01:11:44.553789Z"
    }
   },
   "cell_type": "code",
   "source": "' '.join(num.vocab[i] for i in nums)",
   "id": "ec0b0ac63b2d6621",
   "outputs": [
    {
     "data": {
      "text/plain": [
       "'xxunk again xxunk xxunk has dragged out a movie for far longer than necessary . xxunk from the terrific xxunk'"
      ]
     },
     "execution_count": 64,
     "metadata": {},
     "output_type": "execute_result"
    }
   ],
   "execution_count": 64
  },
  {
   "metadata": {},
   "cell_type": "code",
   "outputs": [],
   "execution_count": null,
   "source": "",
   "id": "e95d3a58292b284e"
  }
 ],
 "metadata": {
  "kernelspec": {
   "display_name": "Python 3",
   "language": "python",
   "name": "python3"
  },
  "language_info": {
   "codemirror_mode": {
    "name": "ipython",
    "version": 2
   },
   "file_extension": ".py",
   "mimetype": "text/x-python",
   "name": "python",
   "nbconvert_exporter": "python",
   "pygments_lexer": "ipython2",
   "version": "2.7.6"
  }
 },
 "nbformat": 4,
 "nbformat_minor": 5
}
