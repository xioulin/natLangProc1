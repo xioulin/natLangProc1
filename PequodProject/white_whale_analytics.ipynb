{
 "cells": [
  {
   "cell_type": "code",
   "execution_count": 4,
   "metadata": {
    "collapsed": true,
    "ExecuteTime": {
     "end_time": "2024-01-29T19:37:48.642016Z",
     "start_time": "2024-01-29T19:37:47.586790Z"
    }
   },
   "outputs": [],
   "source": [
    "import nltk\n",
    "import re\n",
    "from nltk import sent_tokenize,word_tokenize\n",
    "from useful_NLP_functions import cleanWordTokedSentences"
   ]
  },
  {
   "cell_type": "code",
   "execution_count": 2,
   "outputs": [],
   "source": [
    "mobyString = open('mobyDick.txt', 'r')\n",
    "with mobyString as f:\n",
    "    lines = f.readlines()\n",
    "mobDickString = lines[0]\n",
    "mobDickString=mobDickString[22240:]"
   ],
   "metadata": {
    "collapsed": false,
    "ExecuteTime": {
     "end_time": "2024-01-29T19:37:22.897333Z",
     "start_time": "2024-01-29T19:37:22.860132Z"
    }
   }
  },
  {
   "cell_type": "code",
   "execution_count": 5,
   "outputs": [],
   "source": [
    "sTokedMobDick= sent_tokenize(mobDickString)#len of this list is 9697 so Moby Dick has almost 10k sentences\n",
    "\n"
   ],
   "metadata": {
    "collapsed": false,
    "ExecuteTime": {
     "end_time": "2024-01-29T19:37:52.509602Z",
     "start_time": "2024-01-29T19:37:51.858869Z"
    }
   }
  },
  {
   "cell_type": "code",
   "execution_count": 6,
   "outputs": [],
   "source": [
    "wTokedMobDick= word_tokenize(mobDickString) # len is about 260k, need to clean out punctuation and stopwords\n"
   ],
   "metadata": {
    "collapsed": false,
    "ExecuteTime": {
     "end_time": "2024-01-29T19:38:02.783501Z",
     "start_time": "2024-01-29T19:38:00.248256Z"
    }
   }
  },
  {
   "cell_type": "code",
   "execution_count": 16,
   "outputs": [],
   "source": [
    "first_Par_sToked= sTokedMobDick[:9]"
   ],
   "metadata": {
    "collapsed": false,
    "ExecuteTime": {
     "end_time": "2024-01-29T19:42:05.938415Z",
     "start_time": "2024-01-29T19:42:05.934483Z"
    }
   }
  },
  {
   "cell_type": "code",
   "execution_count": 20,
   "outputs": [],
   "source": [
    "first_Par_String = ''.join(first_Par_sToked)"
   ],
   "metadata": {
    "collapsed": false,
    "ExecuteTime": {
     "end_time": "2024-01-29T19:44:15.779653Z",
     "start_time": "2024-01-29T19:44:15.764122Z"
    }
   }
  },
  {
   "cell_type": "code",
   "execution_count": 21,
   "outputs": [
    {
     "data": {
      "text/plain": "\" CHAPTER 1 Loomings .Call me Ishmael .Some years ago -- never mind how long precisely -- having little or no money in my purse , and nothing particular to interest me on shore , I thought I would sail about a little and see the watery part of the world .It is a way I have of driving off the spleen and regulating the circulation .Whenever I find myself growing grim about the mouth ; whenever it is a damp , drizzly November in my soul ; whenever I find myself involuntarily pausing before coffin warehouses , and bringing up the rear of every funeral I meet ; and especially whenever my hypos get such an upper hand of me , that it requires a strong moral principle to prevent me from deliberately stepping into the street , and methodically knocking people ' s hats off -- then , I account it high time to get to sea as soon as I can .This is my substitute for pistol and ball .With a philosophical flourish Cato throws himself upon his sword ; I quietly take to the ship .There is nothing surprising in this .If they but knew it , almost all men in their degree , some time or other , cherish very nearly the same feelings towards the ocean with me .\""
     },
     "execution_count": 21,
     "metadata": {},
     "output_type": "execute_result"
    }
   ],
   "source": [
    "first_Par_String"
   ],
   "metadata": {
    "collapsed": false,
    "ExecuteTime": {
     "end_time": "2024-01-29T19:44:19.769506Z",
     "start_time": "2024-01-29T19:44:19.757122Z"
    }
   }
  },
  {
   "cell_type": "code",
   "execution_count": 22,
   "outputs": [],
   "source": [
    "first_Par_wToked= word_tokenize(first_Par_String)"
   ],
   "metadata": {
    "collapsed": false,
    "ExecuteTime": {
     "end_time": "2024-01-29T19:44:46.333915Z",
     "start_time": "2024-01-29T19:44:46.316612Z"
    }
   }
  },
  {
   "cell_type": "code",
   "execution_count": 23,
   "outputs": [
    {
     "data": {
      "text/plain": "['CHAPTER',\n '1',\n 'Loomings',\n '.Call',\n 'me',\n 'Ishmael',\n '.Some',\n 'years',\n 'ago',\n '--',\n 'never',\n 'mind',\n 'how',\n 'long',\n 'precisely',\n '--',\n 'having',\n 'little',\n 'or',\n 'no',\n 'money',\n 'in',\n 'my',\n 'purse',\n ',',\n 'and',\n 'nothing',\n 'particular',\n 'to',\n 'interest',\n 'me',\n 'on',\n 'shore',\n ',',\n 'I',\n 'thought',\n 'I',\n 'would',\n 'sail',\n 'about',\n 'a',\n 'little',\n 'and',\n 'see',\n 'the',\n 'watery',\n 'part',\n 'of',\n 'the',\n 'world',\n '.It',\n 'is',\n 'a',\n 'way',\n 'I',\n 'have',\n 'of',\n 'driving',\n 'off',\n 'the',\n 'spleen',\n 'and',\n 'regulating',\n 'the',\n 'circulation',\n '.Whenever',\n 'I',\n 'find',\n 'myself',\n 'growing',\n 'grim',\n 'about',\n 'the',\n 'mouth',\n ';',\n 'whenever',\n 'it',\n 'is',\n 'a',\n 'damp',\n ',',\n 'drizzly',\n 'November',\n 'in',\n 'my',\n 'soul',\n ';',\n 'whenever',\n 'I',\n 'find',\n 'myself',\n 'involuntarily',\n 'pausing',\n 'before',\n 'coffin',\n 'warehouses',\n ',',\n 'and',\n 'bringing',\n 'up',\n 'the',\n 'rear',\n 'of',\n 'every',\n 'funeral',\n 'I',\n 'meet',\n ';',\n 'and',\n 'especially',\n 'whenever',\n 'my',\n 'hypos',\n 'get',\n 'such',\n 'an',\n 'upper',\n 'hand',\n 'of',\n 'me',\n ',',\n 'that',\n 'it',\n 'requires',\n 'a',\n 'strong',\n 'moral',\n 'principle',\n 'to',\n 'prevent',\n 'me',\n 'from',\n 'deliberately',\n 'stepping',\n 'into',\n 'the',\n 'street',\n ',',\n 'and',\n 'methodically',\n 'knocking',\n 'people',\n \"'\",\n 's',\n 'hats',\n 'off',\n '--',\n 'then',\n ',',\n 'I',\n 'account',\n 'it',\n 'high',\n 'time',\n 'to',\n 'get',\n 'to',\n 'sea',\n 'as',\n 'soon',\n 'as',\n 'I',\n 'can',\n '.This',\n 'is',\n 'my',\n 'substitute',\n 'for',\n 'pistol',\n 'and',\n 'ball',\n '.With',\n 'a',\n 'philosophical',\n 'flourish',\n 'Cato',\n 'throws',\n 'himself',\n 'upon',\n 'his',\n 'sword',\n ';',\n 'I',\n 'quietly',\n 'take',\n 'to',\n 'the',\n 'ship',\n '.There',\n 'is',\n 'nothing',\n 'surprising',\n 'in',\n 'this',\n '.If',\n 'they',\n 'but',\n 'knew',\n 'it',\n ',',\n 'almost',\n 'all',\n 'men',\n 'in',\n 'their',\n 'degree',\n ',',\n 'some',\n 'time',\n 'or',\n 'other',\n ',',\n 'cherish',\n 'very',\n 'nearly',\n 'the',\n 'same',\n 'feelings',\n 'towards',\n 'the',\n 'ocean',\n 'with',\n 'me',\n '.']"
     },
     "execution_count": 23,
     "metadata": {},
     "output_type": "execute_result"
    }
   ],
   "source": [
    "first_Par_wToked"
   ],
   "metadata": {
    "collapsed": false,
    "ExecuteTime": {
     "end_time": "2024-01-29T19:44:50.754994Z",
     "start_time": "2024-01-29T19:44:50.731659Z"
    }
   }
  },
  {
   "cell_type": "code",
   "execution_count": 24,
   "outputs": [],
   "source": [
    "clean_first_Par=cleanWordTokedSentences(first_Par_String)"
   ],
   "metadata": {
    "collapsed": false,
    "ExecuteTime": {
     "end_time": "2024-01-29T19:46:00.221362Z",
     "start_time": "2024-01-29T19:46:00.189476Z"
    }
   }
  },
  {
   "cell_type": "markdown",
   "source": [],
   "metadata": {
    "collapsed": false
   }
  },
  {
   "cell_type": "code",
   "execution_count": 25,
   "outputs": [
    {
     "data": {
      "text/plain": "[['CHAPTER',\n  'Loomings',\n  'me',\n  'Ishmael',\n  'years',\n  'ago',\n  'never',\n  'mind',\n  'how',\n  'long',\n  'precisely',\n  'having',\n  'little',\n  'or',\n  'no',\n  'money',\n  'in',\n  'my',\n  'purse',\n  'and',\n  'nothing',\n  'particular',\n  'to',\n  'interest',\n  'me',\n  'on',\n  'shore',\n  'I',\n  'thought',\n  'I',\n  'would',\n  'sail',\n  'about',\n  'a',\n  'little',\n  'and',\n  'see',\n  'the',\n  'watery',\n  'part',\n  'of',\n  'the',\n  'world',\n  'is',\n  'a',\n  'way',\n  'I',\n  'have',\n  'of',\n  'driving',\n  'off',\n  'the',\n  'spleen',\n  'and',\n  'regulating',\n  'the',\n  'circulation',\n  'I',\n  'find',\n  'myself',\n  'growing',\n  'grim',\n  'about',\n  'the',\n  'mouth',\n  'whenever',\n  'it',\n  'is',\n  'a',\n  'damp',\n  'drizzly',\n  'November',\n  'in',\n  'my',\n  'soul',\n  'whenever',\n  'I',\n  'find',\n  'myself',\n  'involuntarily',\n  'pausing',\n  'before',\n  'coffin',\n  'warehouses',\n  'and',\n  'bringing',\n  'up',\n  'the',\n  'rear',\n  'of',\n  'every',\n  'funeral',\n  'I',\n  'meet',\n  'and',\n  'especially',\n  'whenever',\n  'my',\n  'hypos',\n  'get',\n  'such',\n  'an',\n  'upper',\n  'hand',\n  'of',\n  'me',\n  'that',\n  'it',\n  'requires',\n  'a',\n  'strong',\n  'moral',\n  'principle',\n  'to',\n  'prevent',\n  'me',\n  'from',\n  'deliberately',\n  'stepping',\n  'into',\n  'the',\n  'street',\n  'and',\n  'methodically',\n  'knocking',\n  'people',\n  'hats',\n  'off',\n  'then',\n  'I',\n  'account',\n  'it',\n  'high',\n  'time',\n  'to',\n  'get',\n  'to',\n  'sea',\n  'as',\n  'soon',\n  'as',\n  'I',\n  'can',\n  'is',\n  'my',\n  'substitute',\n  'for',\n  'pistol',\n  'and',\n  'ball',\n  'a',\n  'philosophical',\n  'flourish',\n  'Cato',\n  'throws',\n  'himself',\n  'upon',\n  'his',\n  'sword',\n  'I',\n  'quietly',\n  'take',\n  'to',\n  'the',\n  'ship',\n  'is',\n  'nothing',\n  'surprising',\n  'in',\n  'this',\n  'they',\n  'but',\n  'knew',\n  'it',\n  'almost',\n  'all',\n  'men',\n  'in',\n  'their',\n  'degree',\n  'some',\n  'time',\n  'or',\n  'other',\n  'cherish',\n  'very',\n  'nearly',\n  'the',\n  'same',\n  'feelings',\n  'towards',\n  'the',\n  'ocean',\n  'with',\n  'me']]"
     },
     "execution_count": 25,
     "metadata": {},
     "output_type": "execute_result"
    }
   ],
   "source": [
    "clean_first_Par"
   ],
   "metadata": {
    "collapsed": false,
    "ExecuteTime": {
     "end_time": "2024-01-29T19:46:03.578989Z",
     "start_time": "2024-01-29T19:46:03.558185Z"
    }
   }
  }
 ],
 "metadata": {
  "kernelspec": {
   "display_name": "Python 3",
   "language": "python",
   "name": "python3"
  },
  "language_info": {
   "codemirror_mode": {
    "name": "ipython",
    "version": 2
   },
   "file_extension": ".py",
   "mimetype": "text/x-python",
   "name": "python",
   "nbconvert_exporter": "python",
   "pygments_lexer": "ipython2",
   "version": "2.7.6"
  }
 },
 "nbformat": 4,
 "nbformat_minor": 0
}
