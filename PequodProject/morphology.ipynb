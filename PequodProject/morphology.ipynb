{
 "cells": [
  {
   "cell_type": "code",
   "execution_count": 1,
   "outputs": [],
   "source": [
    "from nltk import word_tokenize,sent_tokenize\n",
    "import re"
   ],
   "metadata": {
    "collapsed": false,
    "ExecuteTime": {
     "end_time": "2024-04-24T23:53:36.477408Z",
     "start_time": "2024-04-24T23:53:11.841178Z"
    }
   }
  },
  {
   "cell_type": "code",
   "execution_count": 2,
   "metadata": {
    "collapsed": true,
    "ExecuteTime": {
     "end_time": "2024-04-24T23:53:36.495802Z",
     "start_time": "2024-04-24T23:53:36.483284Z"
    }
   },
   "outputs": [],
   "source": [
    "mobyString = open('mobyDick.txt', 'r')\n",
    "with mobyString as f:\n",
    "    lines = f.readlines()\n",
    "mobDickString = lines[0]\n",
    "mobDickString=mobDickString[22240:]"
   ]
  },
  {
   "cell_type": "code",
   "execution_count": 3,
   "outputs": [],
   "source": [
    "word_toked= word_tokenize(mobDickString)"
   ],
   "metadata": {
    "collapsed": false,
    "ExecuteTime": {
     "end_time": "2024-04-24T23:53:38.699177Z",
     "start_time": "2024-04-24T23:53:36.501194Z"
    }
   }
  },
  {
   "cell_type": "code",
   "execution_count": 4,
   "outputs": [],
   "source": [
    "nessList=[i for i in word_toked if i.endswith('ness')]\n"
   ],
   "metadata": {
    "collapsed": false,
    "ExecuteTime": {
     "end_time": "2024-04-24T23:53:38.761459Z",
     "start_time": "2024-04-24T23:53:38.749836Z"
    }
   }
  },
  {
   "cell_type": "code",
   "execution_count": 5,
   "outputs": [
    {
     "data": {
      "text/plain": "['business',\n 'darkness',\n 'blackness',\n 'blackness',\n 'darkness',\n 'business',\n 'business',\n 'eagerness',\n 'business',\n 'uncomfortableness',\n 'business',\n 'darkness',\n 'consciousness',\n 'strangeness',\n 'goodness',\n 'unbecomingness',\n 'consciousness',\n 'rudeness',\n 'outlandishness',\n 'bashfulness',\n 'business',\n 'robustness',\n 'likeness',\n 'heartedness',\n 'hardness',\n 'boldness',\n 'crookedness',\n 'blackness',\n 'darkness',\n 'calmness',\n 'blackness',\n 'goodness',\n 'deliciousness',\n 'uncouthness',\n 'collectedness',\n 'kindness',\n 'nappishness',\n 'consciousness',\n 'deliciousness',\n 'snugness',\n 'snugness',\n 'darkness',\n 'darkness',\n 'comfortableness',\n 'dauntlessness',\n 'usefulness',\n 'endlessness',\n 'intolerableness',\n 'greenness',\n 'madness',\n 'unconsciousness',\n 'portentousness',\n 'business',\n 'business',\n 'politeness',\n 'business',\n 'business',\n 'business',\n 'grotesqueness',\n 'quaintness',\n 'willingness',\n 'stillness',\n 'morbidness',\n 'morbidness',\n 'greatness',\n 'immutableness',\n 'idleness',\n 'business',\n 'eagerness',\n 'thoughtfulness',\n 'vagueness',\n 'painfulness',\n 'darkness',\n 'darkness',\n 'goodness',\n 'earnestness',\n 'business',\n 'business',\n 'muffledness',\n 'business',\n 'fearfulness',\n 'landlessness',\n 'landlessness',\n 'business',\n 'business',\n 'business',\n 'business',\n 'uncleanliness',\n 'business',\n 'business',\n 'handedness',\n 'superfluousness',\n 'thinness',\n 'loneliness',\n 'ruggedness',\n 'business',\n 'superstitiousness',\n 'manliness',\n 'snugness',\n 'readiness',\n 'fearlessness',\n 'friendliness',\n 'largeness',\n 'apprehensiveness',\n 'uneasiness',\n 'uniqueness',\n 'cheerfulness',\n 'illness',\n 'robustness',\n 'grimness',\n 'wilfulness',\n 'consciousness',\n 'bleakness',\n 'persuasiveness',\n 'cautiousness',\n 'humorousness',\n 'business',\n 'sereneness',\n 'business',\n 'Unfitness',\n 'likeness',\n 'blackness',\n 'highness',\n 'highness',\n 'bigness',\n 'indistinctness',\n 'hugeness',\n 'gamesomeness',\n 'indomitableness',\n 'grimness',\n 'shagginess',\n 'pleasantness',\n 'artificialness',\n 'business',\n 'business',\n 'uneventfulness',\n 'inhabitiveness',\n 'localness',\n 'meditativeness',\n 'listlessness',\n 'eagerness',\n 'business',\n 'Madness',\n 'stubbornness',\n 'loveliness',\n 'madness',\n 'madness',\n 'nakedness',\n 'darkness',\n 'wonderfulness',\n 'fearfulness',\n 'superstitiousness',\n 'tremendousness',\n 'terribleness',\n 'swiftness',\n 'vindictiveness',\n 'morbidness',\n 'madness',\n 'madness',\n 'madness',\n 'madness',\n 'likeness',\n 'moodiness',\n 'fitness',\n 'wildness',\n 'mindedness',\n 'recklessness',\n 'Whiteness',\n 'whiteness',\n 'whiteness',\n 'whiteness',\n 'gladness',\n 'whiteness',\n 'spotlessness',\n 'redness',\n 'whiteness',\n 'Witness',\n 'whiteness',\n 'whiteness',\n 'mildness',\n 'whiteness',\n 'hideousness',\n 'hideousness',\n 'ferociousness',\n 'whiteness',\n 'ghostliness',\n 'stillness',\n 'deadliness',\n 'whiteness',\n 'whiteness',\n 'milkiness',\n 'whiteness',\n 'divineness',\n 'divineness',\n 'whiteness',\n 'whiteness',\n 'whiteness',\n 'witness',\n 'whiteness',\n 'whiteness',\n 'ghostliness',\n 'dreaminess',\n 'spectralness',\n 'tearlessness',\n 'whiteness',\n 'whiteness',\n 'greenness',\n 'whiteness',\n 'awfulness',\n 'muteness',\n 'whiteness',\n 'whiteness',\n 'desolateness',\n 'fearfulness',\n 'whiteness',\n 'whiteness',\n 'muskiness',\n 'muskiness',\n 'whiteness',\n 'indefiniteness',\n 'whiteness',\n 'blankness',\n 'periodicalness',\n 'comprehensiveness',\n 'sleeplessness',\n 'weariness',\n 'faintness',\n 'weakness',\n 'blankness',\n 'perilousness',\n 'reasonableness',\n 'enormousness',\n 'facetiousness',\n 'business',\n 'business',\n 'suddenness',\n 'darkness',\n 'vindictiveness',\n 'wildness',\n 'shrewdness',\n 'impiousness',\n 'fickleness',\n 'sordidness',\n 'savageness',\n 'dreaminess',\n 'deceitfulness',\n 'ebonness',\n 'uneasiness',\n 'business',\n 'darkness',\n 'madness',\n 'forlornness',\n 'earnestness',\n 'impetuousness',\n 'heedfulness',\n 'business',\n 'heedfulness',\n 'aboriginalness',\n 'preternaturalness',\n 'blandness',\n 'madness',\n 'blackness',\n 'madness',\n 'gladness',\n 'muteness',\n 'sadness',\n 'shyness',\n 'expansiveness',\n 'firmness',\n 'apprehensiveness',\n 'gamesomeness',\n 'bitterness',\n 'neatness',\n 'business',\n 'business',\n 'unwillingness',\n 'passionateness',\n 'business',\n 'wildness',\n 'curiousness',\n 'business',\n 'darkness',\n 'closeness',\n 'devilishness',\n 'peacefulness',\n 'passiveness',\n 'business',\n 'heinousness',\n 'business',\n 'exactness',\n 'picturesqueness',\n 'picturesqueness',\n 'business',\n 'maziness',\n 'suggestiveness',\n 'kindness',\n 'awfulness',\n 'subtleness',\n 'stillness',\n 'readiness',\n 'mildness',\n 'eagerness',\n 'portentousness',\n 'compactness',\n 'thickness',\n 'business',\n 'thickness',\n 'simultaneousness',\n 'consciousness',\n 'forgetfulness',\n 'wakefulness',\n 'cautiousness',\n 'business',\n 'indispensableness',\n 'idleness',\n 'business',\n 'enormousness',\n 'Darkness',\n 'darkness',\n 'liveliness',\n 'fatness',\n 'bigness',\n 'business',\n 'woraciousness',\n 'woraciousness',\n 'brigness',\n 'business',\n 'richness',\n 'business',\n 'business',\n 'bigness',\n 'thickness',\n 'thickness',\n 'enormousness',\n 'spaciousness',\n 'noiselessness',\n 'breezelessness',\n 'craziness',\n 'earnestness',\n 'sacredness',\n 'apprehensiveness',\n 'business',\n 'business',\n 'faithfulness',\n 'happiness',\n 'goodness',\n 'business',\n 'readiness',\n 'business',\n 'darkness',\n 'nothingness',\n 'darkness',\n 'consciousness',\n 'thoughtlessness',\n 'collectedness',\n 'toughness',\n 'irresistibleness',\n 'business',\n 'richness',\n 'wilderness',\n 'business',\n 'slipperiness',\n 'smallness',\n 'firmness',\n 'indomitableness',\n 'darkness',\n 'harness',\n 'inoffensiveness',\n 'disorderliness',\n 'honourableness',\n 'unctuousness',\n 'fleetness',\n 'coolness',\n 'business',\n 'acridness',\n 'thickness',\n 'infantileness',\n 'robustness',\n 'brawniness',\n 'daintiness',\n 'gentleness',\n 'slowness',\n 'tenderness',\n 'strangeness',\n 'eagerness',\n 'witness',\n 'Witness',\n 'madness',\n 'business',\n 'fearlessness',\n 'mildness',\n 'madness',\n 'fleetness',\n 'weariness',\n 'unctuousness',\n 'secludedness',\n 'wilderness',\n 'wickedness',\n 'comprehensiveness',\n 'Business',\n 'viciousness',\n 'viciousness',\n 'business',\n 'likeness',\n 'readiness',\n 'business',\n 'shortness',\n 'business',\n 'brightness',\n 'blackness',\n 'business',\n 'brightness',\n 'nervousness',\n 'courageousness',\n 'business',\n 'lonesomeness',\n 'business',\n 'kindness',\n 'business',\n 'unctuousness',\n 'business',\n 'thickness',\n 'likeness',\n 'business',\n 'business',\n 'darkness',\n 'darkness',\n 'eagerness',\n 'blackness',\n 'blackness',\n 'darkness',\n 'darkness',\n 'redness',\n 'madness',\n 'ghastliness',\n 'drowsiness',\n 'redness',\n 'redness',\n 'madness',\n 'muteness',\n 'darkness',\n 'freshness',\n 'genuineness',\n 'business',\n 'unctuousness',\n 'adhesiveness',\n 'tidiness',\n 'firmness',\n 'hopefulness',\n 'rustiness',\n 'foulness',\n 'darkness',\n 'preciousness',\n 'likeness',\n 'Righteousness',\n 'happiness',\n 'awkwardness',\n 'awkwardness',\n 'witness',\n 'thickness',\n 'comprehensiveness',\n 'wilderness',\n 'populousness',\n 'recklessness',\n 'childlessness',\n 'pettiness',\n 'exclusiveness',\n 'darkness',\n 'recluseness',\n 'idleness',\n 'readiness',\n 'business',\n 'liveliness',\n 'expertness',\n 'heartlessness',\n 'humorousness',\n 'wittiness',\n 'uncompromisedness',\n 'business',\n 'indebtedness',\n 'dampness',\n 'softness',\n 'sickness',\n 'sweetness',\n 'sickness',\n 'whimsiness',\n 'restlessness',\n 'numbness',\n 'gladness',\n 'darkness',\n 'nervousness',\n 'Loveliness',\n 'sweetness',\n 'plaintiveness',\n 'wondrousness',\n 'nakedness',\n 'passionlessness',\n 'vividness',\n 'darkness',\n 'blackness',\n 'darkness',\n 'pallidness',\n 'pallidness',\n 'supernaturalness',\n 'darkness',\n 'darkness',\n 'creativeness',\n 'subterraneousness',\n 'palpableness',\n 'holiness',\n 'goodness',\n 'weakness',\n 'darkness',\n 'lightness',\n 'eagerness',\n 'business',\n 'darkness',\n 'iciness',\n 'apprehensiveness',\n 'blackness',\n 'strangeness',\n 'wilderness',\n 'carelessness',\n 'faithfulness',\n 'clearness',\n 'sweetness',\n 'exclusiveness',\n 'weariness',\n 'heaviness',\n 'madness',\n 'greenness',\n 'swiftness',\n 'joyousness',\n 'mildness',\n 'swiftness',\n 'fleetness',\n 'hideousness',\n 'darkness',\n 'acuteness',\n 'guiltiness',\n 'oneness',\n 'blueness',\n 'eagerness',\n 'mistiness',\n 'simultaneousness',\n 'madness',\n 'coolness',\n 'calmness',\n 'mildness',\n 'deceitfulness',\n 'swiftness',\n 'greatness']"
     },
     "execution_count": 5,
     "metadata": {},
     "output_type": "execute_result"
    }
   ],
   "source": [
    "nessList"
   ],
   "metadata": {
    "collapsed": false,
    "ExecuteTime": {
     "end_time": "2024-04-24T23:53:38.813772Z",
     "start_time": "2024-04-24T23:53:38.790419Z"
    }
   }
  },
  {
   "cell_type": "code",
   "execution_count": 6,
   "outputs": [],
   "source": [
    "setNess=set(nessList)"
   ],
   "metadata": {
    "collapsed": false,
    "ExecuteTime": {
     "end_time": "2024-04-24T23:53:38.814676Z",
     "start_time": "2024-04-24T23:53:38.808097Z"
    }
   }
  },
  {
   "cell_type": "code",
   "execution_count": 7,
   "outputs": [
    {
     "data": {
      "text/plain": "{'Business',\n 'Darkness',\n 'Loveliness',\n 'Madness',\n 'Righteousness',\n 'Unfitness',\n 'Whiteness',\n 'Witness',\n 'aboriginalness',\n 'acridness',\n 'acuteness',\n 'adhesiveness',\n 'apprehensiveness',\n 'artificialness',\n 'awfulness',\n 'awkwardness',\n 'bashfulness',\n 'bigness',\n 'bitterness',\n 'blackness',\n 'blandness',\n 'blankness',\n 'bleakness',\n 'blueness',\n 'boldness',\n 'brawniness',\n 'breezelessness',\n 'brightness',\n 'brigness',\n 'business',\n 'calmness',\n 'carelessness',\n 'cautiousness',\n 'cheerfulness',\n 'childlessness',\n 'clearness',\n 'closeness',\n 'collectedness',\n 'comfortableness',\n 'compactness',\n 'comprehensiveness',\n 'consciousness',\n 'coolness',\n 'courageousness',\n 'craziness',\n 'creativeness',\n 'crookedness',\n 'curiousness',\n 'daintiness',\n 'dampness',\n 'darkness',\n 'dauntlessness',\n 'deadliness',\n 'deceitfulness',\n 'deliciousness',\n 'desolateness',\n 'devilishness',\n 'disorderliness',\n 'divineness',\n 'dreaminess',\n 'drowsiness',\n 'eagerness',\n 'earnestness',\n 'ebonness',\n 'endlessness',\n 'enormousness',\n 'exactness',\n 'exclusiveness',\n 'expansiveness',\n 'expertness',\n 'facetiousness',\n 'faintness',\n 'faithfulness',\n 'fatness',\n 'fearfulness',\n 'fearlessness',\n 'ferociousness',\n 'fickleness',\n 'firmness',\n 'fitness',\n 'fleetness',\n 'forgetfulness',\n 'forlornness',\n 'foulness',\n 'freshness',\n 'friendliness',\n 'gamesomeness',\n 'gentleness',\n 'genuineness',\n 'ghastliness',\n 'ghostliness',\n 'gladness',\n 'goodness',\n 'greatness',\n 'greenness',\n 'grimness',\n 'grotesqueness',\n 'guiltiness',\n 'handedness',\n 'happiness',\n 'hardness',\n 'harness',\n 'heartedness',\n 'heartlessness',\n 'heaviness',\n 'heedfulness',\n 'heinousness',\n 'hideousness',\n 'highness',\n 'holiness',\n 'honourableness',\n 'hopefulness',\n 'hugeness',\n 'humorousness',\n 'iciness',\n 'idleness',\n 'illness',\n 'immutableness',\n 'impetuousness',\n 'impiousness',\n 'indebtedness',\n 'indefiniteness',\n 'indispensableness',\n 'indistinctness',\n 'indomitableness',\n 'infantileness',\n 'inhabitiveness',\n 'inoffensiveness',\n 'intolerableness',\n 'irresistibleness',\n 'joyousness',\n 'kindness',\n 'landlessness',\n 'largeness',\n 'lightness',\n 'likeness',\n 'listlessness',\n 'liveliness',\n 'localness',\n 'loneliness',\n 'lonesomeness',\n 'loveliness',\n 'madness',\n 'manliness',\n 'maziness',\n 'meditativeness',\n 'mildness',\n 'milkiness',\n 'mindedness',\n 'mistiness',\n 'moodiness',\n 'morbidness',\n 'muffledness',\n 'muskiness',\n 'muteness',\n 'nakedness',\n 'nappishness',\n 'neatness',\n 'nervousness',\n 'noiselessness',\n 'nothingness',\n 'numbness',\n 'oneness',\n 'outlandishness',\n 'painfulness',\n 'pallidness',\n 'palpableness',\n 'passionateness',\n 'passionlessness',\n 'passiveness',\n 'peacefulness',\n 'perilousness',\n 'periodicalness',\n 'persuasiveness',\n 'pettiness',\n 'picturesqueness',\n 'plaintiveness',\n 'pleasantness',\n 'politeness',\n 'populousness',\n 'portentousness',\n 'preciousness',\n 'preternaturalness',\n 'quaintness',\n 'readiness',\n 'reasonableness',\n 'recklessness',\n 'recluseness',\n 'redness',\n 'restlessness',\n 'richness',\n 'robustness',\n 'rudeness',\n 'ruggedness',\n 'rustiness',\n 'sacredness',\n 'sadness',\n 'savageness',\n 'secludedness',\n 'sereneness',\n 'shagginess',\n 'shortness',\n 'shrewdness',\n 'shyness',\n 'sickness',\n 'simultaneousness',\n 'sleeplessness',\n 'slipperiness',\n 'slowness',\n 'smallness',\n 'snugness',\n 'softness',\n 'sordidness',\n 'spaciousness',\n 'spectralness',\n 'spotlessness',\n 'stillness',\n 'strangeness',\n 'stubbornness',\n 'subterraneousness',\n 'subtleness',\n 'suddenness',\n 'suggestiveness',\n 'superfluousness',\n 'supernaturalness',\n 'superstitiousness',\n 'sweetness',\n 'swiftness',\n 'tearlessness',\n 'tenderness',\n 'terribleness',\n 'thickness',\n 'thinness',\n 'thoughtfulness',\n 'thoughtlessness',\n 'tidiness',\n 'toughness',\n 'tremendousness',\n 'unbecomingness',\n 'uncleanliness',\n 'uncomfortableness',\n 'uncompromisedness',\n 'unconsciousness',\n 'uncouthness',\n 'unctuousness',\n 'uneasiness',\n 'uneventfulness',\n 'uniqueness',\n 'unwillingness',\n 'usefulness',\n 'vagueness',\n 'viciousness',\n 'vindictiveness',\n 'vividness',\n 'wakefulness',\n 'weakness',\n 'weariness',\n 'whimsiness',\n 'whiteness',\n 'wickedness',\n 'wilderness',\n 'wildness',\n 'wilfulness',\n 'willingness',\n 'witness',\n 'wittiness',\n 'wonderfulness',\n 'wondrousness',\n 'woraciousness'}"
     },
     "execution_count": 7,
     "metadata": {},
     "output_type": "execute_result"
    }
   ],
   "source": [
    "setNess"
   ],
   "metadata": {
    "collapsed": false,
    "ExecuteTime": {
     "end_time": "2024-04-24T23:53:38.895070Z",
     "start_time": "2024-04-24T23:53:38.810743Z"
    }
   }
  },
  {
   "cell_type": "code",
   "execution_count": 8,
   "outputs": [],
   "source": [
    "from nltk.stem.snowball import SnowballStemmer"
   ],
   "metadata": {
    "collapsed": false,
    "ExecuteTime": {
     "end_time": "2024-04-24T23:53:38.895630Z",
     "start_time": "2024-04-24T23:53:38.842320Z"
    }
   }
  },
  {
   "cell_type": "code",
   "execution_count": 9,
   "outputs": [],
   "source": [
    "snow= SnowballStemmer(language='english')"
   ],
   "metadata": {
    "collapsed": false,
    "ExecuteTime": {
     "end_time": "2024-04-24T23:53:38.896379Z",
     "start_time": "2024-04-24T23:53:38.858530Z"
    }
   }
  },
  {
   "cell_type": "code",
   "execution_count": 10,
   "outputs": [],
   "source": [
    "stemmedNess= []\n",
    "for i in setNess:\n",
    "    stemmedNess.append(snow.stem(i))\n"
   ],
   "metadata": {
    "collapsed": false,
    "ExecuteTime": {
     "end_time": "2024-04-24T23:53:38.897085Z",
     "start_time": "2024-04-24T23:53:38.874284Z"
    }
   }
  },
  {
   "cell_type": "code",
   "execution_count": 11,
   "outputs": [
    {
     "data": {
      "text/plain": "['inoffens',\n 'faceti',\n 'forget',\n 'superstiti',\n 'happi',\n 'whimsi',\n 'ill',\n 'heed',\n 'uncomfort',\n 'stubborn',\n 'mute',\n 'feroci',\n 'uncompromised',\n 'robust',\n 'plaintiv',\n 'red',\n 'manli',\n 'gamesom',\n 'close',\n 'delici',\n 'hideous',\n 'strang',\n 'pleasant',\n 'slow',\n 'cool',\n 'wicked',\n 'humor',\n 'vicious',\n 'sad',\n 'nervous',\n 'rugged',\n 'hard',\n 'expans',\n 'curious',\n 'unbecoming',\n 'exact',\n 'intoler',\n 'foul',\n 'passion',\n 'careless',\n 'heavi',\n 'bright',\n 'superflu',\n 'compact',\n 'witti',\n 'mad',\n 'thick',\n 'bash',\n 'tearless',\n 'crooked',\n 'ebon',\n 'disorderli',\n 'willing',\n 'damp',\n 'handed',\n 'suggest',\n 'black',\n 'unconsci',\n 'sordid',\n 'kind',\n 'fear',\n 'moodi',\n 'weak',\n 'portent',\n 'quaint',\n 'expert',\n 'blueness',\n 'outlandish',\n 'mild',\n 'one',\n 'heartless',\n 'dauntless',\n 'wit',\n 'thin',\n 'dreami',\n 'glad',\n 'minded',\n 'popul',\n 'collected',\n 'fleet',\n 'numb',\n 'guilti',\n 'snug',\n 'infantil',\n 'ghostli',\n 'pallid',\n 'liveli',\n 'enorm',\n 'wake',\n 'earnest',\n 'clear',\n 'indistinct',\n 'great',\n 'indomit',\n 'brawni',\n 'milki',\n 'cautious',\n 'spotless',\n 'spectral',\n 'eager',\n 'nappish',\n 'apprehens',\n 'sudden',\n 'mazi',\n 'slipperi',\n 'righteous',\n 'subtl',\n 'huge',\n 'desol',\n 'light',\n 'thought',\n 'persuas',\n 'shaggi',\n 'uneasi',\n 'palpabl',\n 'heinous',\n 'ghastli',\n 'high',\n 'unctuous',\n 'acut',\n 'vagu',\n 'nothing',\n 'tough',\n 'secluded',\n 'blank',\n 'bold',\n 'childless',\n 'bitter',\n 'fearless',\n 'calm',\n 'passiv',\n 'inhabit',\n 'bland',\n 'spacious',\n 'vivid',\n 'noiseless',\n 'busi',\n 'tender',\n 'misti',\n 'periodic',\n 'big',\n 'passionless',\n 'uncouth',\n 'savag',\n 'faint',\n 'green',\n 'immut',\n 'artifici',\n 'white',\n 'subterran',\n 'mad',\n 'fickl',\n 'still',\n 'conscious',\n 'ici',\n 'indispens',\n 'aw',\n 'short',\n 'muski',\n 'impious',\n 'white',\n 'swift',\n 'awkward',\n 'unev',\n 'simultan',\n 'weari',\n 'bleak',\n 'seren',\n 'pain',\n 'uniqu',\n 'unfit',\n 'impetu',\n 'idl',\n 'local',\n 'shrewd',\n 'brig',\n 'dainti',\n 'sick',\n 'tremend',\n 'comfort',\n 'fat',\n 'hope',\n 'joyous',\n 'precious',\n 'exclus',\n 'readi',\n 'crazi',\n 'morbid',\n 'indefinit',\n 'lonesom',\n 'drowsi',\n 'indebted',\n 'reclus',\n 'sleepless',\n 'forlorn',\n 'wit',\n 'wil',\n 'adhes',\n 'loveli',\n 'reckless',\n 'listless',\n 'aborigin',\n 'like',\n 'preternatur',\n 'acrid',\n 'wilder',\n 'restless',\n 'cheer',\n 'terribl',\n 'fresh',\n 'muffled',\n 'use',\n 'picturesqu',\n 'dark',\n 'rusti',\n 'honour',\n 'grotesqu',\n 'soft',\n 'medit',\n 'polit',\n 'wondrous',\n 'supernatur',\n 'gentl',\n 'deceit',\n 'fit',\n 'peac',\n 'irresist',\n 'sweet',\n 'holi',\n 'deadli',\n 'friendli',\n 'shyness',\n 'wonder',\n 'peril',\n 'rich',\n 'small',\n 'courag',\n 'har',\n 'petti',\n 'breezeless',\n 'landless',\n 'rude',\n 'genuin',\n 'grim',\n 'thoughtless',\n 'tidi',\n 'loveli',\n 'neat',\n 'reason',\n 'sacred',\n 'busi',\n 'endless',\n 'loneli',\n 'naked',\n 'wild',\n 'dark',\n 'divin',\n 'woraci',\n 'faith',\n 'comprehens',\n 'uncleanli',\n 'vindict',\n 'unwilling',\n 'devilish',\n 'creativ',\n 'firm',\n 'larg',\n 'good',\n 'hearted']"
     },
     "execution_count": 11,
     "metadata": {},
     "output_type": "execute_result"
    }
   ],
   "source": [
    "stemmedNess"
   ],
   "metadata": {
    "collapsed": false,
    "ExecuteTime": {
     "end_time": "2024-04-24T23:53:38.990210Z",
     "start_time": "2024-04-24T23:53:38.905029Z"
    }
   }
  },
  {
   "cell_type": "code",
   "execution_count": 12,
   "outputs": [],
   "source": [
    "listSetNess=list(setNess)"
   ],
   "metadata": {
    "collapsed": false,
    "ExecuteTime": {
     "end_time": "2024-04-24T23:53:39.016022Z",
     "start_time": "2024-04-24T23:53:38.922402Z"
    }
   }
  },
  {
   "cell_type": "code",
   "execution_count": 13,
   "outputs": [
    {
     "data": {
      "text/plain": "['inoffensiveness',\n 'facetiousness',\n 'forgetfulness',\n 'superstitiousness',\n 'happiness',\n 'whimsiness',\n 'illness',\n 'heedfulness',\n 'uncomfortableness',\n 'stubbornness',\n 'muteness',\n 'ferociousness',\n 'uncompromisedness',\n 'robustness',\n 'plaintiveness',\n 'redness',\n 'manliness',\n 'gamesomeness',\n 'closeness',\n 'deliciousness',\n 'hideousness',\n 'strangeness',\n 'pleasantness',\n 'slowness',\n 'coolness',\n 'wickedness',\n 'humorousness',\n 'viciousness',\n 'sadness',\n 'nervousness',\n 'ruggedness',\n 'hardness',\n 'expansiveness',\n 'curiousness',\n 'unbecomingness',\n 'exactness',\n 'intolerableness',\n 'foulness',\n 'passionateness',\n 'carelessness',\n 'heaviness',\n 'brightness',\n 'superfluousness',\n 'compactness',\n 'wittiness',\n 'Madness',\n 'thickness',\n 'bashfulness',\n 'tearlessness',\n 'crookedness',\n 'ebonness',\n 'disorderliness',\n 'willingness',\n 'dampness',\n 'handedness',\n 'suggestiveness',\n 'blackness',\n 'unconsciousness',\n 'sordidness',\n 'kindness',\n 'fearfulness',\n 'moodiness',\n 'weakness',\n 'portentousness',\n 'quaintness',\n 'expertness',\n 'blueness',\n 'outlandishness',\n 'mildness',\n 'oneness',\n 'heartlessness',\n 'dauntlessness',\n 'witness',\n 'thinness',\n 'dreaminess',\n 'gladness',\n 'mindedness',\n 'populousness',\n 'collectedness',\n 'fleetness',\n 'numbness',\n 'guiltiness',\n 'snugness',\n 'infantileness',\n 'ghostliness',\n 'pallidness',\n 'liveliness',\n 'enormousness',\n 'wakefulness',\n 'earnestness',\n 'clearness',\n 'indistinctness',\n 'greatness',\n 'indomitableness',\n 'brawniness',\n 'milkiness',\n 'cautiousness',\n 'spotlessness',\n 'spectralness',\n 'eagerness',\n 'nappishness',\n 'apprehensiveness',\n 'suddenness',\n 'maziness',\n 'slipperiness',\n 'Righteousness',\n 'subtleness',\n 'hugeness',\n 'desolateness',\n 'lightness',\n 'thoughtfulness',\n 'persuasiveness',\n 'shagginess',\n 'uneasiness',\n 'palpableness',\n 'heinousness',\n 'ghastliness',\n 'highness',\n 'unctuousness',\n 'acuteness',\n 'vagueness',\n 'nothingness',\n 'toughness',\n 'secludedness',\n 'blankness',\n 'boldness',\n 'childlessness',\n 'bitterness',\n 'fearlessness',\n 'calmness',\n 'passiveness',\n 'inhabitiveness',\n 'blandness',\n 'spaciousness',\n 'vividness',\n 'noiselessness',\n 'Business',\n 'tenderness',\n 'mistiness',\n 'periodicalness',\n 'bigness',\n 'passionlessness',\n 'uncouthness',\n 'savageness',\n 'faintness',\n 'greenness',\n 'immutableness',\n 'artificialness',\n 'whiteness',\n 'subterraneousness',\n 'madness',\n 'fickleness',\n 'stillness',\n 'consciousness',\n 'iciness',\n 'indispensableness',\n 'awfulness',\n 'shortness',\n 'muskiness',\n 'impiousness',\n 'Whiteness',\n 'swiftness',\n 'awkwardness',\n 'uneventfulness',\n 'simultaneousness',\n 'weariness',\n 'bleakness',\n 'sereneness',\n 'painfulness',\n 'uniqueness',\n 'Unfitness',\n 'impetuousness',\n 'idleness',\n 'localness',\n 'shrewdness',\n 'brigness',\n 'daintiness',\n 'sickness',\n 'tremendousness',\n 'comfortableness',\n 'fatness',\n 'hopefulness',\n 'joyousness',\n 'preciousness',\n 'exclusiveness',\n 'readiness',\n 'craziness',\n 'morbidness',\n 'indefiniteness',\n 'lonesomeness',\n 'drowsiness',\n 'indebtedness',\n 'recluseness',\n 'sleeplessness',\n 'forlornness',\n 'Witness',\n 'wilfulness',\n 'adhesiveness',\n 'Loveliness',\n 'recklessness',\n 'listlessness',\n 'aboriginalness',\n 'likeness',\n 'preternaturalness',\n 'acridness',\n 'wilderness',\n 'restlessness',\n 'cheerfulness',\n 'terribleness',\n 'freshness',\n 'muffledness',\n 'usefulness',\n 'picturesqueness',\n 'Darkness',\n 'rustiness',\n 'honourableness',\n 'grotesqueness',\n 'softness',\n 'meditativeness',\n 'politeness',\n 'wondrousness',\n 'supernaturalness',\n 'gentleness',\n 'deceitfulness',\n 'fitness',\n 'peacefulness',\n 'irresistibleness',\n 'sweetness',\n 'holiness',\n 'deadliness',\n 'friendliness',\n 'shyness',\n 'wonderfulness',\n 'perilousness',\n 'richness',\n 'smallness',\n 'courageousness',\n 'harness',\n 'pettiness',\n 'breezelessness',\n 'landlessness',\n 'rudeness',\n 'genuineness',\n 'grimness',\n 'thoughtlessness',\n 'tidiness',\n 'loveliness',\n 'neatness',\n 'reasonableness',\n 'sacredness',\n 'business',\n 'endlessness',\n 'loneliness',\n 'nakedness',\n 'wildness',\n 'darkness',\n 'divineness',\n 'woraciousness',\n 'faithfulness',\n 'comprehensiveness',\n 'uncleanliness',\n 'vindictiveness',\n 'unwillingness',\n 'devilishness',\n 'creativeness',\n 'firmness',\n 'largeness',\n 'goodness',\n 'heartedness']"
     },
     "execution_count": 13,
     "metadata": {},
     "output_type": "execute_result"
    }
   ],
   "source": [
    "listSetNess"
   ],
   "metadata": {
    "collapsed": false,
    "ExecuteTime": {
     "end_time": "2024-04-24T23:53:39.029642Z",
     "start_time": "2024-04-24T23:53:38.932568Z"
    }
   }
  },
  {
   "cell_type": "code",
   "execution_count": 14,
   "outputs": [
    {
     "data": {
      "text/plain": "['Business',\n 'Darkness',\n 'Loveliness',\n 'Madness',\n 'Righteousness',\n 'Unfitness',\n 'Whiteness',\n 'Witness',\n 'aboriginalness',\n 'acridness',\n 'acuteness',\n 'adhesiveness',\n 'apprehensiveness',\n 'artificialness',\n 'awfulness',\n 'awkwardness',\n 'bashfulness',\n 'bigness',\n 'bitterness',\n 'blackness',\n 'blandness',\n 'blankness',\n 'bleakness',\n 'blueness',\n 'boldness',\n 'brawniness',\n 'breezelessness',\n 'brightness',\n 'brigness',\n 'business',\n 'calmness',\n 'carelessness',\n 'cautiousness',\n 'cheerfulness',\n 'childlessness',\n 'clearness',\n 'closeness',\n 'collectedness',\n 'comfortableness',\n 'compactness',\n 'comprehensiveness',\n 'consciousness',\n 'coolness',\n 'courageousness',\n 'craziness',\n 'creativeness',\n 'crookedness',\n 'curiousness',\n 'daintiness',\n 'dampness',\n 'darkness',\n 'dauntlessness',\n 'deadliness',\n 'deceitfulness',\n 'deliciousness',\n 'desolateness',\n 'devilishness',\n 'disorderliness',\n 'divineness',\n 'dreaminess',\n 'drowsiness',\n 'eagerness',\n 'earnestness',\n 'ebonness',\n 'endlessness',\n 'enormousness',\n 'exactness',\n 'exclusiveness',\n 'expansiveness',\n 'expertness',\n 'facetiousness',\n 'faintness',\n 'faithfulness',\n 'fatness',\n 'fearfulness',\n 'fearlessness',\n 'ferociousness',\n 'fickleness',\n 'firmness',\n 'fitness',\n 'fleetness',\n 'forgetfulness',\n 'forlornness',\n 'foulness',\n 'freshness',\n 'friendliness',\n 'gamesomeness',\n 'gentleness',\n 'genuineness',\n 'ghastliness',\n 'ghostliness',\n 'gladness',\n 'goodness',\n 'greatness',\n 'greenness',\n 'grimness',\n 'grotesqueness',\n 'guiltiness',\n 'handedness',\n 'happiness',\n 'hardness',\n 'harness',\n 'heartedness',\n 'heartlessness',\n 'heaviness',\n 'heedfulness',\n 'heinousness',\n 'hideousness',\n 'highness',\n 'holiness',\n 'honourableness',\n 'hopefulness',\n 'hugeness',\n 'humorousness',\n 'iciness',\n 'idleness',\n 'illness',\n 'immutableness',\n 'impetuousness',\n 'impiousness',\n 'indebtedness',\n 'indefiniteness',\n 'indispensableness',\n 'indistinctness',\n 'indomitableness',\n 'infantileness',\n 'inhabitiveness',\n 'inoffensiveness',\n 'intolerableness',\n 'irresistibleness',\n 'joyousness',\n 'kindness',\n 'landlessness',\n 'largeness',\n 'lightness',\n 'likeness',\n 'listlessness',\n 'liveliness',\n 'localness',\n 'loneliness',\n 'lonesomeness',\n 'loveliness',\n 'madness',\n 'manliness',\n 'maziness',\n 'meditativeness',\n 'mildness',\n 'milkiness',\n 'mindedness',\n 'mistiness',\n 'moodiness',\n 'morbidness',\n 'muffledness',\n 'muskiness',\n 'muteness',\n 'nakedness',\n 'nappishness',\n 'neatness',\n 'nervousness',\n 'noiselessness',\n 'nothingness',\n 'numbness',\n 'oneness',\n 'outlandishness',\n 'painfulness',\n 'pallidness',\n 'palpableness',\n 'passionateness',\n 'passionlessness',\n 'passiveness',\n 'peacefulness',\n 'perilousness',\n 'periodicalness',\n 'persuasiveness',\n 'pettiness',\n 'picturesqueness',\n 'plaintiveness',\n 'pleasantness',\n 'politeness',\n 'populousness',\n 'portentousness',\n 'preciousness',\n 'preternaturalness',\n 'quaintness',\n 'readiness',\n 'reasonableness',\n 'recklessness',\n 'recluseness',\n 'redness',\n 'restlessness',\n 'richness',\n 'robustness',\n 'rudeness',\n 'ruggedness',\n 'rustiness',\n 'sacredness',\n 'sadness',\n 'savageness',\n 'secludedness',\n 'sereneness',\n 'shagginess',\n 'shortness',\n 'shrewdness',\n 'shyness',\n 'sickness',\n 'simultaneousness',\n 'sleeplessness',\n 'slipperiness',\n 'slowness',\n 'smallness',\n 'snugness',\n 'softness',\n 'sordidness',\n 'spaciousness',\n 'spectralness',\n 'spotlessness',\n 'stillness',\n 'strangeness',\n 'stubbornness',\n 'subterraneousness',\n 'subtleness',\n 'suddenness',\n 'suggestiveness',\n 'superfluousness',\n 'supernaturalness',\n 'superstitiousness',\n 'sweetness',\n 'swiftness',\n 'tearlessness',\n 'tenderness',\n 'terribleness',\n 'thickness',\n 'thinness',\n 'thoughtfulness',\n 'thoughtlessness',\n 'tidiness',\n 'toughness',\n 'tremendousness',\n 'unbecomingness',\n 'uncleanliness',\n 'uncomfortableness',\n 'uncompromisedness',\n 'unconsciousness',\n 'uncouthness',\n 'unctuousness',\n 'uneasiness',\n 'uneventfulness',\n 'uniqueness',\n 'unwillingness',\n 'usefulness',\n 'vagueness',\n 'viciousness',\n 'vindictiveness',\n 'vividness',\n 'wakefulness',\n 'weakness',\n 'weariness',\n 'whimsiness',\n 'whiteness',\n 'wickedness',\n 'wilderness',\n 'wildness',\n 'wilfulness',\n 'willingness',\n 'witness',\n 'wittiness',\n 'wonderfulness',\n 'wondrousness',\n 'woraciousness']"
     },
     "execution_count": 14,
     "metadata": {},
     "output_type": "execute_result"
    }
   ],
   "source": [
    "listSetNess.sort()\n",
    "listSetNess"
   ],
   "metadata": {
    "collapsed": false,
    "ExecuteTime": {
     "end_time": "2024-04-24T23:53:39.034042Z",
     "start_time": "2024-04-24T23:53:38.970173Z"
    }
   }
  },
  {
   "cell_type": "code",
   "execution_count": 16,
   "outputs": [
    {
     "data": {
      "text/plain": "269"
     },
     "execution_count": 16,
     "metadata": {},
     "output_type": "execute_result"
    }
   ],
   "source": [
    "len(listSetNess)"
   ],
   "metadata": {
    "collapsed": false,
    "ExecuteTime": {
     "end_time": "2024-04-24T23:55:33.591875Z",
     "start_time": "2024-04-24T23:55:33.554369Z"
    }
   }
  },
  {
   "cell_type": "code",
   "execution_count": 15,
   "outputs": [
    {
     "data": {
      "text/plain": "['under',\n 'unite',\n 'unless',\n 'ungraspable',\n 'unless',\n 'unpleasant',\n 'universal',\n 'uncomfortable',\n 'unaccountable',\n 'under',\n 'unbiased',\n 'undeliverable',\n 'under',\n 'underneath',\n 'universe',\n 'unequal',\n 'understanding',\n 'unaccountable',\n 'unwarranted',\n 'unimaginable',\n 'unnatural',\n 'unoccupied',\n 'under',\n 'undress',\n 'unobserved',\n 'unknown',\n 'under',\n 'unless',\n 'unwarrantable',\n 'unknown',\n 'unless',\n 'unaccountable',\n 'understand',\n 'uncomfortable',\n 'unsay',\n 'unaccountable',\n 'uncommonly',\n 'undressed',\n 'under',\n 'unlacing',\n 'unearthly',\n 'undressing',\n 'unnatural',\n 'unceremoniously',\n 'uncomfortableness',\n 'unmethodically',\n 'undressed',\n 'unendurable',\n 'unimaginable',\n 'unlock',\n 'unbecomingness',\n 'understand',\n 'under',\n 'unusual',\n 'under',\n 'under',\n 'undergraduate',\n 'under',\n 'unsheathes',\n 'unshorn',\n 'undivided',\n 'unknown',\n 'unholy',\n 'unheeded',\n 'unrecorded',\n 'unceasing',\n 'unhealing',\n 'unbidden',\n 'universal',\n 'unstirring',\n 'unspeakable',\n 'unnecessary',\n 'unseen',\n 'unassuming',\n 'unheeded',\n 'unknown',\n 'until',\n 'uncheered',\n 'unsolicited',\n 'unreluctantly',\n 'unto',\n 'unwelcome',\n 'unto',\n 'under',\n 'unearthly',\n 'uncouthness',\n 'unbiddenly',\n 'under',\n 'unite',\n 'unite',\n 'unite',\n 'undressed',\n 'unmistakably',\n 'unilluminated',\n 'unduly',\n 'undulating',\n 'uncle',\n 'unconquerable',\n 'untutored',\n 'untutored',\n 'unfitted',\n 'undefiled',\n 'unlike',\n 'unearthly',\n 'under',\n 'unconsciousness',\n 'under',\n 'unconscious',\n 'under',\n 'understood',\n 'under',\n 'unfort',\n 'understand',\n 'unmatched',\n 'unpanelled',\n 'united',\n 'under',\n 'unless',\n 'understand',\n 'unlimited',\n 'uncommon',\n 'uncommon',\n 'unoutgrown',\n 'unworthy',\n 'unite',\n 'untraditionally',\n 'unlike',\n 'unclad',\n 'unmitigated',\n 'unconsciously',\n 'unaccountable',\n 'unseen',\n 'ungodly',\n 'unless',\n 'undervalue',\n 'unprecedented',\n 'unmethodically',\n 'understand',\n 'under',\n 'unfort',\n 'unwithdrawn',\n 'unnaturally',\n 'uneasy',\n 'unaccountable',\n 'uncomfortable',\n 'undigested',\n 'unless',\n 'understand',\n 'unless',\n 'ungodly',\n 'uninterrupted',\n 'uncertain',\n 'unaccountable',\n 'unless',\n 'understand',\n 'under',\n 'under',\n 'under',\n 'under',\n 'untrodden',\n 'unwilted',\n 'unpleasing',\n 'unseen',\n 'unrestingly',\n 'unmentionable',\n 'unpoetical',\n 'uncleanliness',\n 'unknown',\n 'unspeakable',\n 'unwittingly',\n 'unrecorded',\n 'unworthy',\n 'uncounted',\n 'unhorse',\n 'undiscovered',\n 'unreasonably',\n 'undone',\n 'unreasonable',\n 'unless',\n 'unmanufactured',\n 'unpolluted',\n 'under',\n 'undraped',\n 'unpitying',\n 'unfearing',\n 'unconscious',\n 'universal',\n 'unmixed',\n 'unvitiated',\n 'unerring',\n 'uncommonly',\n 'unseen',\n 'unknown',\n 'uninvitedly',\n 'uneasiness',\n 'uniqueness',\n 'unalterable',\n 'unsurrenderable',\n 'uneasy',\n 'under',\n 'unnecessary',\n 'unwaning',\n 'unassured',\n 'unforseen',\n 'unconsciously',\n 'unshored',\n 'understanding',\n 'unfathomable',\n 'unworthy',\n 'unknown',\n 'unwritten',\n 'unspeakable',\n 'uncertain',\n 'unsettled',\n 'united',\n 'unknown',\n 'unexpectedly',\n 'unconquerable',\n 'under',\n 'unsavory',\n 'unicorn',\n 'unicorn',\n 'uncertain',\n 'uncertain',\n 'uncouth',\n 'unfinished',\n 'uncompleted',\n 'unknown',\n 'under',\n 'under',\n 'unusual',\n 'unobservant',\n 'unmanifested',\n 'undoubted',\n 'unbodied',\n 'unexhilarated',\n 'unchallenged',\n 'ungentlemanly',\n 'unwarrantable',\n 'uneventfulness',\n 'unnecessary',\n 'unclad',\n 'unprovided',\n 'underneath',\n 'unicorns',\n 'universe',\n 'unseasonable',\n 'unneeded',\n 'unfrequently',\n 'unconscious',\n 'undiscernible',\n 'unsleeping',\n 'uniform',\n 'unapprehensive',\n 'unlike',\n 'unmindful',\n 'unexpected',\n 'uncorking',\n 'undoubted',\n 'unknown',\n 'unreasoning',\n 'unsays',\n 'unrecking',\n 'unworshipping',\n 'unsounded',\n 'under',\n 'unerringly',\n 'unfaltering',\n 'untutored',\n 'unfailing',\n 'unceasing',\n 'undeniable',\n 'unaccompanied',\n 'uncivilized',\n 'uncommon',\n 'unfair',\n 'unfrequent',\n 'unexempt',\n 'unborrowed',\n 'under',\n 'unearthly',\n 'unaccountable',\n 'underground',\n 'unharmed',\n 'unensanguined',\n 'unsullied',\n 'unwonted',\n 'uncommon',\n 'uncharted',\n 'unwonted',\n 'unexampled',\n 'unusual',\n 'unintelligent',\n 'unlimbed',\n 'unabated',\n 'unfathomably',\n 'unhinted',\n 'undeniable',\n 'unlikely',\n 'unrelenting',\n 'underlings',\n 'unabated',\n 'ungodly',\n 'unaided',\n 'unconscious',\n 'understandings',\n 'unsuspected',\n 'unsaid',\n 'unfurling',\n 'unnatural',\n 'unflattering',\n 'unspotted',\n 'unharmed',\n 'unknown',\n 'unfallen',\n 'untutored',\n 'unread',\n 'unsophisticated',\n 'untravelled',\n 'unsubstantial',\n 'unrustlingly',\n 'unimaginative',\n 'under',\n 'universality',\n 'under',\n 'under',\n 'unbounded',\n 'universe',\n 'universe',\n 'unceasingly',\n 'under',\n 'unhooped',\n 'undeviating',\n 'unavoidable',\n 'unquestionable',\n 'unloitering',\n 'unfaltering',\n 'unquiet',\n 'unmistakable',\n 'unachieved',\n 'unsuppressable',\n 'unappeasedly',\n 'unless',\n 'unbidden',\n 'unfathered',\n 'understood',\n 'unknown',\n 'under',\n 'unobtrusive',\n 'unknown',\n 'until',\n 'unbelief',\n 'uncommon',\n 'uninjured',\n 'unusual',\n 'uncle',\n 'unseen',\n 'under',\n 'uncommon',\n 'unexaggerating',\n 'unknown',\n 'unless',\n 'unrelieved',\n 'unreliable',\n 'unmindful',\n 'unanswerable',\n 'unthinkingly',\n 'unchanging',\n 'unalterable',\n 'unearthly',\n 'undeviating',\n 'uniformity',\n 'unknown',\n 'under',\n 'under',\n 'uneasiness',\n 'unreasonably',\n 'unaccountable',\n 'unconscious',\n 'under',\n 'unthought',\n 'unerring',\n 'unlighted',\n 'under',\n 'unknown',\n 'unharmed',\n 'unconsumed',\n 'universe',\n 'unseen',\n 'unaccountable',\n 'understand',\n 'unalterable',\n 'uncommonly',\n 'unconsciously',\n 'unless',\n 'under',\n 'under',\n 'unaccountable',\n 'unknown',\n 'unsubduable',\n 'unaccountable',\n 'unchanging',\n 'unalterable',\n 'unknowing',\n 'uncanonical',\n 'under',\n 'unstaked',\n 'unusual',\n 'uniform',\n 'unearthly',\n 'unwonted',\n 'unnearable',\n 'uninhabited',\n 'unrestingly',\n 'unvarying',\n 'unremoved',\n 'unrolled',\n 'under',\n 'under',\n 'unostentatious',\n 'unknown',\n 'uncommon',\n 'uncommonly',\n 'unknown',\n 'unusual',\n 'undiscovered',\n 'unentered',\n 'unusual',\n 'unthinking',\n 'unconquerable',\n 'unawed',\n 'understand',\n 'understand',\n 'unwillingness',\n 'unconditionally',\n 'unspeakable',\n 'unflinching',\n 'uninhabited',\n 'unrivalled',\n 'under',\n 'unshunned',\n 'ungrateful',\n 'understand',\n 'unless',\n 'unless',\n 'united',\n 'unseamanlike',\n 'undeterred',\n 'unresting',\n 'underwent',\n 'under',\n 'unquestionable',\n 'unscrupulous',\n 'undulates',\n 'universally',\n 'unexhausted',\n 'unprofessional',\n 'unsightly',\n 'undashed',\n 'unfathomable',\n 'undulations',\n 'unpainted',\n 'unbroken',\n 'unstarched',\n 'unworthy',\n 'under',\n 'unquestionable',\n 'undulating',\n 'undulated',\n 'unspeakably',\n 'unsocial',\n 'unknown',\n 'under',\n 'under',\n 'unapparent',\n 'universal',\n 'unattended',\n 'undulated',\n 'unearthly',\n 'unusual',\n 'unknown',\n 'unlike',\n 'understanding',\n 'unknown',\n 'under',\n 'undulating',\n 'unspeakable',\n 'unnecessary',\n 'under',\n 'unattended',\n 'until',\n 'unusually',\n 'until',\n 'unusual',\n 'unwonted',\n 'unassailable',\n 'universal',\n 'under',\n 'unseasonable',\n 'unprejudiced',\n 'uncommon',\n 'unctuous',\n 'until',\n 'unaccustomed',\n 'unsafe',\n 'uniformly',\n 'unfurnished',\n 'unvexed',\n 'unchanged',\n 'unmarred',\n 'undecipherable',\n 'unsupplied',\n 'under',\n 'unclouded',\n 'unharming',\n 'under',\n 'untoward',\n 'universal',\n 'unfolding',\n 'under',\n 'ungarnished',\n 'unrecorded',\n 'untold',\n 'unharmed',\n 'under',\n 'unnecessary',\n 'untainted',\n 'unflinching',\n 'united',\n 'unconditional',\n 'unwilling',\n 'unsuccessful',\n 'uncommon',\n 'united',\n 'unmerited',\n 'unsounded',\n 'untasted',\n 'unusual',\n 'under',\n 'under',\n 'under',\n 'undiscriminating',\n 'ungainly',\n 'unhinged',\n 'undecayed',\n 'unless',\n 'unfortunate',\n 'under',\n 'unrecorded',\n 'unexaggerated',\n 'under',\n 'under',\n 'uninjured',\n 'unobstructed',\n 'unique',\n 'unknown',\n 'unsuspected',\n 'uninjurable',\n 'unless',\n 'unctuous',\n 'unalloyed',\n 'unavoidable',\n 'uncommonly',\n 'untimely',\n 'until',\n 'until',\n 'unconsciously',\n 'unspeakable',\n 'untoward',\n 'undetached',\n 'undertaken',\n 'unhaunted',\n 'unlettered',\n 'under',\n 'unload',\n 'undeveloped',\n 'undecreasing',\n 'unreasonable',\n 'unrolling',\n 'unusual',\n 'unnatural',\n 'ungracious',\n 'ungrateful',\n 'unmannerly',\n 'unspeakably',\n 'unusually',\n 'under',\n 'under',\n 'unfulfilments',\n 'under',\n 'undiscernible',\n 'untouched',\n 'unconditional',\n 'unseen',\n 'unrifled',\n 'unless',\n 'unknown',\n 'unprecedentedly',\n 'unnatural',\n 'uncommon',\n 'under',\n 'uncapturable',\n 'unskilful',\n 'unnearable',\n 'unknown',\n 'unless',\n 'unscientific',\n 'under',\n 'unctuousness',\n 'unwarranted',\n 'unintermitted',\n 'under',\n 'unobstructed',\n 'unspeakable',\n 'unmolested',\n 'uniform',\n 'unmolested',\n 'unless',\n 'unless',\n 'unless',\n 'unmolested',\n 'undeviating',\n 'undecided',\n 'under',\n 'undisputed',\n 'undulation',\n 'undoubtedly',\n 'undulates',\n 'unobstructed',\n 'unawares',\n 'unbent',\n 'unaccountable',\n 'understand',\n 'unbroken',\n 'unsupplied',\n 'unusable',\n 'unwearied',\n 'unfriendly',\n 'under',\n 'under',\n 'under',\n 'unprecedented',\n 'under',\n 'under',\n 'unsophisticated',\n 'unearthly',\n 'unborn',\n 'unlike',\n 'unwaning',\n 'unimaginable',\n 'universal',\n 'unpleasant',\n 'unwarrantably',\n 'unprincipled',\n 'unctuousness',\n 'universally',\n 'underwriter',\n 'unwritten',\n 'universal',\n 'undisputed',\n 'undetected',\n 'universally',\n 'under',\n 'under',\n 'under',\n 'under',\n 'unfortunate',\n 'under',\n 'unmolested',\n 'unappropriated',\n 'unsavory',\n 'understand',\n 'unsavory',\n 'unprofitable',\n 'under',\n 'unusually',\n 'unrighteous',\n 'unctuous',\n 'unavoidably',\n 'until',\n 'unless',\n 'untidy',\n 'unloading',\n 'unduly',\n 'unaccountably',\n 'unnatural',\n 'under',\n 'unofficially',\n 'undiluted',\n 'under',\n 'unfrequently',\n 'unwarped',\n 'uncompromised',\n 'unctuous',\n 'under',\n 'under',\n 'uncontaminated',\n 'unwittingly',\n 'universally',\n 'unctuousness',\n 'unusually',\n 'unhinged',\n 'unaccountable',\n 'underneath',\n 'under',\n 'unctuous',\n 'unspeakable',\n 'unholy',\n 'uncivilized',\n 'unaccountable',\n 'unnatural',\n 'undeveloped',\n 'unchristian',\n 'unfathomably',\n 'understanding',\n 'unmanufactured',\n 'unvitiated',\n 'unknown',\n 'unscathed',\n 'unsealed',\n 'unctuousness',\n 'unmanufactured',\n 'unseen',\n 'uninterrupted',\n 'untouchable',\n 'unwaning',\n 'unobserved',\n 'undaunted',\n 'unearthly',\n 'unscrew',\n 'unscrew',\n 'under',\n 'unsupplied',\n 'uncertain',\n 'untoward',\n 'united',\n 'under',\n 'unctuous',\n 'unctuous',\n 'unbutton',\n 'untagging',\n 'unbuckling',\n 'unconditional',\n 'under',\n 'unusually',\n 'unextinguished',\n 'unceasingly',\n 'unwearied',\n 'unseen',\n 'unrivalled',\n 'untattooed',\n 'unobstructed',\n 'under',\n 'unrelieved',\n 'untravelled',\n 'unbounded',\n 'undertaken',\n 'unwarrantably',\n 'under',\n 'uncommon',\n 'universe',\n 'unknown',\n 'unsourced',\n 'unspeakable',\n 'unmistakable',\n 'understand',\n 'unfrequent',\n 'unfamiliar',\n 'under',\n 'unattended',\n 'unknown',\n 'unimaginable',\n 'unsignifying',\n 'unaccounted',\n 'underived',\n 'unseen',\n 'unnecessary',\n 'uncivilized',\n 'unhesitatingly',\n 'unmanageably',\n 'under',\n 'unconcluded',\n 'uncommon',\n 'uncounted',\n 'unstreaked',\n 'unfractioned',\n 'uncompromised',\n 'uncompromisedness',\n 'unintelligence',\n 'uneven',\n 'unreasoning',\n 'unaccountable',\n 'unreasoning',\n 'under',\n 'understand',\n 'uninterpenetratingly',\n 'undertake',\n 'under',\n 'unfavourable',\n 'understand',\n 'unconsciously',\n 'under',\n 'under',\n 'unknown',\n 'unlike',\n 'uncontinented',\n 'uncertain',\n 'undone',\n 'ungovernable',\n 'unintelligent',\n 'unfold',\n 'unsolved',\n 'uncounted',\n 'undulations',\n 'unceasingly',\n 'unknown',\n 'unthinkingly',\n 'uncatastrophied',\n 'under',\n 'unhappy',\n 'unsweetly',\n 'unreverenced',\n 'unimaginable',\n 'unsmoothable',\n 'unwound',\n 'unstranded',\n 'unnatural',\n 'unresting',\n 'unmeaningly',\n 'under',\n 'unretracing',\n 'unconscious',\n 'unmoor',\n 'unwedded',\n 'unfathomable',\n 'unknown',\n 'unspoken',\n 'unknown',\n 'unverdured',\n 'unnamable',\n 'unforgiven',\n 'unblinkingly',\n 'unrelieved',\n 'unknown',\n 'understand',\n 'under',\n 'unconditional',\n 'unintegral',\n 'unbegotten',\n 'unbegun',\n 'unsuffusing',\n 'unparticipated',\n 'unsafe',\n 'unless',\n 'uncommon',\n 'unmannerly',\n 'uncommon',\n 'unwonted',\n 'unsounded',\n 'unstaggering',\n 'undeviating',\n 'unaccountably',\n 'undaunted',\n 'unmurmuringly',\n 'unimpressed',\n 'uncertain',\n 'untouched',\n 'unwinding',\n 'unmanned',\n 'unless',\n 'unfrequented',\n 'unvarying',\n 'unearthly',\n 'unappalled',\n 'unaccompanied',\n 'under',\n 'unprovided',\n 'undignified',\n 'unless',\n 'undertaker',\n 'unprincipled',\n 'under',\n 'uncertain',\n 'unknown',\n 'unknown',\n 'unexpected',\n 'unite',\n 'unknown',\n 'unmisgiving',\n 'unfrequently',\n 'unenervated',\n 'untimely',\n 'undue',\n 'unconditional',\n 'unsetting',\n 'uncertain',\n 'unseen',\n 'unless',\n 'undeviating',\n 'unerringly',\n 'unheeded',\n 'unearthed',\n 'unless',\n 'unmomentous',\n 'unseen',\n 'under',\n 'unprovided',\n 'unusual',\n 'untrackably',\n 'uncommon',\n 'unrigged',\n 'unhinged',\n 'unspeckled',\n 'unyielding',\n 'untottering',\n 'under',\n 'unearthly',\n 'unless',\n 'unsounded',\n 'under',\n 'unsuspecting',\n 'undiscoverable',\n 'under',\n 'unastonished',\n 'unharmed',\n 'under',\n 'under',\n 'unintermitted',\n 'unrestingly',\n 'unabated',\n 'unset',\n 'unprecedented',\n 'under',\n 'unseen',\n 'unfearing',\n 'unseen',\n 'uncommon',\n 'unearthly',\n 'untraceable',\n 'unstricken',\n 'under',\n 'untouched',\n 'unconquerable',\n 'under',\n 'unmeasured',\n 'under',\n 'unfeatured',\n 'under',\n 'underling',\n 'uncertain',\n 'unchangeable',\n 'under',\n 'uncommonly',\n 'unpitying',\n 'unprepared',\n 'ungraduated',\n 'unappeasable',\n 'under',\n 'unwinking',\n 'under',\n 'unsurrendered',\n 'uncracked',\n 'unconquering',\n 'undulated',\n 'unharming']"
     },
     "execution_count": 15,
     "metadata": {},
     "output_type": "execute_result"
    }
   ],
   "source": [
    "[i for i in word_toked if i.startswith('un')]"
   ],
   "metadata": {
    "collapsed": false,
    "ExecuteTime": {
     "end_time": "2024-04-24T23:53:39.098863Z",
     "start_time": "2024-04-24T23:53:39.016508Z"
    }
   }
  }
 ],
 "metadata": {
  "kernelspec": {
   "display_name": "Python 3",
   "language": "python",
   "name": "python3"
  },
  "language_info": {
   "codemirror_mode": {
    "name": "ipython",
    "version": 2
   },
   "file_extension": ".py",
   "mimetype": "text/x-python",
   "name": "python",
   "nbconvert_exporter": "python",
   "pygments_lexer": "ipython2",
   "version": "2.7.6"
  }
 },
 "nbformat": 4,
 "nbformat_minor": 0
}
