{
 "cells": [
  {
   "cell_type": "code",
   "execution_count": 1,
   "outputs": [],
   "source": [
    "from nltk import word_tokenize,sent_tokenize\n",
    "import re"
   ],
   "metadata": {
    "collapsed": false,
    "ExecuteTime": {
     "end_time": "2024-02-28T16:43:13.345134Z",
     "start_time": "2024-02-28T16:43:09.320226Z"
    }
   }
  },
  {
   "cell_type": "code",
   "execution_count": 2,
   "metadata": {
    "collapsed": true,
    "ExecuteTime": {
     "end_time": "2024-02-28T16:43:16.744031Z",
     "start_time": "2024-02-28T16:43:16.717627Z"
    }
   },
   "outputs": [],
   "source": [
    "mobyString = open('mobyDick.txt', 'r')\n",
    "with mobyString as f:\n",
    "    lines = f.readlines()\n",
    "mobDickString = lines[0]\n",
    "mobDickString=mobDickString[22240:]"
   ]
  },
  {
   "cell_type": "code",
   "execution_count": 4,
   "outputs": [],
   "source": [
    "word_toked= word_tokenize(mobDickString)"
   ],
   "metadata": {
    "collapsed": false,
    "ExecuteTime": {
     "end_time": "2024-02-28T16:44:54.034454Z",
     "start_time": "2024-02-28T16:44:49.958263Z"
    }
   }
  },
  {
   "cell_type": "code",
   "execution_count": 8,
   "outputs": [],
   "source": [
    "nessList=[i for i in word_toked if i.endswith('ness')]\n"
   ],
   "metadata": {
    "collapsed": false,
    "ExecuteTime": {
     "end_time": "2024-02-28T16:49:18.655257Z",
     "start_time": "2024-02-28T16:49:18.523371Z"
    }
   }
  },
  {
   "cell_type": "code",
   "execution_count": 9,
   "outputs": [
    {
     "data": {
      "text/plain": "['business',\n 'darkness',\n 'blackness',\n 'blackness',\n 'darkness',\n 'business',\n 'business',\n 'eagerness',\n 'business',\n 'uncomfortableness',\n 'business',\n 'darkness',\n 'consciousness',\n 'strangeness',\n 'goodness',\n 'unbecomingness',\n 'consciousness',\n 'rudeness',\n 'outlandishness',\n 'bashfulness',\n 'business',\n 'robustness',\n 'likeness',\n 'heartedness',\n 'hardness',\n 'boldness',\n 'crookedness',\n 'blackness',\n 'darkness',\n 'calmness',\n 'blackness',\n 'goodness',\n 'deliciousness',\n 'uncouthness',\n 'collectedness',\n 'kindness',\n 'nappishness',\n 'consciousness',\n 'deliciousness',\n 'snugness',\n 'snugness',\n 'darkness',\n 'darkness',\n 'comfortableness',\n 'dauntlessness',\n 'usefulness',\n 'endlessness',\n 'intolerableness',\n 'greenness',\n 'madness',\n 'unconsciousness',\n 'portentousness',\n 'business',\n 'business',\n 'politeness',\n 'business',\n 'business',\n 'business',\n 'grotesqueness',\n 'quaintness',\n 'willingness',\n 'stillness',\n 'morbidness',\n 'morbidness',\n 'greatness',\n 'immutableness',\n 'idleness',\n 'business',\n 'eagerness',\n 'thoughtfulness',\n 'vagueness',\n 'painfulness',\n 'darkness',\n 'darkness',\n 'goodness',\n 'earnestness',\n 'business',\n 'business',\n 'muffledness',\n 'business',\n 'fearfulness',\n 'landlessness',\n 'landlessness',\n 'business',\n 'business',\n 'business',\n 'business',\n 'uncleanliness',\n 'business',\n 'business',\n 'handedness',\n 'superfluousness',\n 'thinness',\n 'loneliness',\n 'ruggedness',\n 'business',\n 'superstitiousness',\n 'manliness',\n 'snugness',\n 'readiness',\n 'fearlessness',\n 'friendliness',\n 'largeness',\n 'apprehensiveness',\n 'uneasiness',\n 'uniqueness',\n 'cheerfulness',\n 'illness',\n 'robustness',\n 'grimness',\n 'wilfulness',\n 'consciousness',\n 'bleakness',\n 'persuasiveness',\n 'cautiousness',\n 'humorousness',\n 'business',\n 'sereneness',\n 'business',\n 'Unfitness',\n 'likeness',\n 'blackness',\n 'highness',\n 'highness',\n 'bigness',\n 'indistinctness',\n 'hugeness',\n 'gamesomeness',\n 'indomitableness',\n 'grimness',\n 'shagginess',\n 'pleasantness',\n 'artificialness',\n 'business',\n 'business',\n 'uneventfulness',\n 'inhabitiveness',\n 'localness',\n 'meditativeness',\n 'listlessness',\n 'eagerness',\n 'business',\n 'Madness',\n 'stubbornness',\n 'loveliness',\n 'madness',\n 'madness',\n 'nakedness',\n 'darkness',\n 'wonderfulness',\n 'fearfulness',\n 'superstitiousness',\n 'tremendousness',\n 'terribleness',\n 'swiftness',\n 'vindictiveness',\n 'morbidness',\n 'madness',\n 'madness',\n 'madness',\n 'madness',\n 'likeness',\n 'moodiness',\n 'fitness',\n 'wildness',\n 'mindedness',\n 'recklessness',\n 'Whiteness',\n 'whiteness',\n 'whiteness',\n 'whiteness',\n 'gladness',\n 'whiteness',\n 'spotlessness',\n 'redness',\n 'whiteness',\n 'Witness',\n 'whiteness',\n 'whiteness',\n 'mildness',\n 'whiteness',\n 'hideousness',\n 'hideousness',\n 'ferociousness',\n 'whiteness',\n 'ghostliness',\n 'stillness',\n 'deadliness',\n 'whiteness',\n 'whiteness',\n 'milkiness',\n 'whiteness',\n 'divineness',\n 'divineness',\n 'whiteness',\n 'whiteness',\n 'whiteness',\n 'witness',\n 'whiteness',\n 'whiteness',\n 'ghostliness',\n 'dreaminess',\n 'spectralness',\n 'tearlessness',\n 'whiteness',\n 'whiteness',\n 'greenness',\n 'whiteness',\n 'awfulness',\n 'muteness',\n 'whiteness',\n 'whiteness',\n 'desolateness',\n 'fearfulness',\n 'whiteness',\n 'whiteness',\n 'muskiness',\n 'muskiness',\n 'whiteness',\n 'indefiniteness',\n 'whiteness',\n 'blankness',\n 'periodicalness',\n 'comprehensiveness',\n 'sleeplessness',\n 'weariness',\n 'faintness',\n 'weakness',\n 'blankness',\n 'perilousness',\n 'reasonableness',\n 'enormousness',\n 'facetiousness',\n 'business',\n 'business',\n 'suddenness',\n 'darkness',\n 'vindictiveness',\n 'wildness',\n 'shrewdness',\n 'impiousness',\n 'fickleness',\n 'sordidness',\n 'savageness',\n 'dreaminess',\n 'deceitfulness',\n 'ebonness',\n 'uneasiness',\n 'business',\n 'darkness',\n 'madness',\n 'forlornness',\n 'earnestness',\n 'impetuousness',\n 'heedfulness',\n 'business',\n 'heedfulness',\n 'aboriginalness',\n 'preternaturalness',\n 'blandness',\n 'madness',\n 'blackness',\n 'madness',\n 'gladness',\n 'muteness',\n 'sadness',\n 'shyness',\n 'expansiveness',\n 'firmness',\n 'apprehensiveness',\n 'gamesomeness',\n 'bitterness',\n 'neatness',\n 'business',\n 'business',\n 'unwillingness',\n 'passionateness',\n 'business',\n 'wildness',\n 'curiousness',\n 'business',\n 'darkness',\n 'closeness',\n 'devilishness',\n 'peacefulness',\n 'passiveness',\n 'business',\n 'heinousness',\n 'business',\n 'exactness',\n 'picturesqueness',\n 'picturesqueness',\n 'business',\n 'maziness',\n 'suggestiveness',\n 'kindness',\n 'awfulness',\n 'subtleness',\n 'stillness',\n 'readiness',\n 'mildness',\n 'eagerness',\n 'portentousness',\n 'compactness',\n 'thickness',\n 'business',\n 'thickness',\n 'simultaneousness',\n 'consciousness',\n 'forgetfulness',\n 'wakefulness',\n 'cautiousness',\n 'business',\n 'indispensableness',\n 'idleness',\n 'business',\n 'enormousness',\n 'Darkness',\n 'darkness',\n 'liveliness',\n 'fatness',\n 'bigness',\n 'business',\n 'woraciousness',\n 'woraciousness',\n 'brigness',\n 'business',\n 'richness',\n 'business',\n 'business',\n 'bigness',\n 'thickness',\n 'thickness',\n 'enormousness',\n 'spaciousness',\n 'noiselessness',\n 'breezelessness',\n 'craziness',\n 'earnestness',\n 'sacredness',\n 'apprehensiveness',\n 'business',\n 'business',\n 'faithfulness',\n 'happiness',\n 'goodness',\n 'business',\n 'readiness',\n 'business',\n 'darkness',\n 'nothingness',\n 'darkness',\n 'consciousness',\n 'thoughtlessness',\n 'collectedness',\n 'toughness',\n 'irresistibleness',\n 'business',\n 'richness',\n 'wilderness',\n 'business',\n 'slipperiness',\n 'smallness',\n 'firmness',\n 'indomitableness',\n 'darkness',\n 'harness',\n 'inoffensiveness',\n 'disorderliness',\n 'honourableness',\n 'unctuousness',\n 'fleetness',\n 'coolness',\n 'business',\n 'acridness',\n 'thickness',\n 'infantileness',\n 'robustness',\n 'brawniness',\n 'daintiness',\n 'gentleness',\n 'slowness',\n 'tenderness',\n 'strangeness',\n 'eagerness',\n 'witness',\n 'Witness',\n 'madness',\n 'business',\n 'fearlessness',\n 'mildness',\n 'madness',\n 'fleetness',\n 'weariness',\n 'unctuousness',\n 'secludedness',\n 'wilderness',\n 'wickedness',\n 'comprehensiveness',\n 'Business',\n 'viciousness',\n 'viciousness',\n 'business',\n 'likeness',\n 'readiness',\n 'business',\n 'shortness',\n 'business',\n 'brightness',\n 'blackness',\n 'business',\n 'brightness',\n 'nervousness',\n 'courageousness',\n 'business',\n 'lonesomeness',\n 'business',\n 'kindness',\n 'business',\n 'unctuousness',\n 'business',\n 'thickness',\n 'likeness',\n 'business',\n 'business',\n 'darkness',\n 'darkness',\n 'eagerness',\n 'blackness',\n 'blackness',\n 'darkness',\n 'darkness',\n 'redness',\n 'madness',\n 'ghastliness',\n 'drowsiness',\n 'redness',\n 'redness',\n 'madness',\n 'muteness',\n 'darkness',\n 'freshness',\n 'genuineness',\n 'business',\n 'unctuousness',\n 'adhesiveness',\n 'tidiness',\n 'firmness',\n 'hopefulness',\n 'rustiness',\n 'foulness',\n 'darkness',\n 'preciousness',\n 'likeness',\n 'Righteousness',\n 'happiness',\n 'awkwardness',\n 'awkwardness',\n 'witness',\n 'thickness',\n 'comprehensiveness',\n 'wilderness',\n 'populousness',\n 'recklessness',\n 'childlessness',\n 'pettiness',\n 'exclusiveness',\n 'darkness',\n 'recluseness',\n 'idleness',\n 'readiness',\n 'business',\n 'liveliness',\n 'expertness',\n 'heartlessness',\n 'humorousness',\n 'wittiness',\n 'uncompromisedness',\n 'business',\n 'indebtedness',\n 'dampness',\n 'softness',\n 'sickness',\n 'sweetness',\n 'sickness',\n 'whimsiness',\n 'restlessness',\n 'numbness',\n 'gladness',\n 'darkness',\n 'nervousness',\n 'Loveliness',\n 'sweetness',\n 'plaintiveness',\n 'wondrousness',\n 'nakedness',\n 'passionlessness',\n 'vividness',\n 'darkness',\n 'blackness',\n 'darkness',\n 'pallidness',\n 'pallidness',\n 'supernaturalness',\n 'darkness',\n 'darkness',\n 'creativeness',\n 'subterraneousness',\n 'palpableness',\n 'holiness',\n 'goodness',\n 'weakness',\n 'darkness',\n 'lightness',\n 'eagerness',\n 'business',\n 'darkness',\n 'iciness',\n 'apprehensiveness',\n 'blackness',\n 'strangeness',\n 'wilderness',\n 'carelessness',\n 'faithfulness',\n 'clearness',\n 'sweetness',\n 'exclusiveness',\n 'weariness',\n 'heaviness',\n 'madness',\n 'greenness',\n 'swiftness',\n 'joyousness',\n 'mildness',\n 'swiftness',\n 'fleetness',\n 'hideousness',\n 'darkness',\n 'acuteness',\n 'guiltiness',\n 'oneness',\n 'blueness',\n 'eagerness',\n 'mistiness',\n 'simultaneousness',\n 'madness',\n 'coolness',\n 'calmness',\n 'mildness',\n 'deceitfulness',\n 'swiftness',\n 'greatness']"
     },
     "execution_count": 9,
     "metadata": {},
     "output_type": "execute_result"
    }
   ],
   "source": [
    "nessList"
   ],
   "metadata": {
    "collapsed": false,
    "ExecuteTime": {
     "end_time": "2024-02-28T16:49:22.266345Z",
     "start_time": "2024-02-28T16:49:22.213250Z"
    }
   }
  },
  {
   "cell_type": "code",
   "execution_count": 11,
   "outputs": [],
   "source": [
    "setNess=set(nessList)"
   ],
   "metadata": {
    "collapsed": false,
    "ExecuteTime": {
     "end_time": "2024-02-28T16:51:03.207197Z",
     "start_time": "2024-02-28T16:51:03.171670Z"
    }
   }
  },
  {
   "cell_type": "code",
   "execution_count": 13,
   "outputs": [
    {
     "data": {
      "text/plain": "{'Business',\n 'Darkness',\n 'Loveliness',\n 'Madness',\n 'Righteousness',\n 'Unfitness',\n 'Whiteness',\n 'Witness',\n 'aboriginalness',\n 'acridness',\n 'acuteness',\n 'adhesiveness',\n 'apprehensiveness',\n 'artificialness',\n 'awfulness',\n 'awkwardness',\n 'bashfulness',\n 'bigness',\n 'bitterness',\n 'blackness',\n 'blandness',\n 'blankness',\n 'bleakness',\n 'blueness',\n 'boldness',\n 'brawniness',\n 'breezelessness',\n 'brightness',\n 'brigness',\n 'business',\n 'calmness',\n 'carelessness',\n 'cautiousness',\n 'cheerfulness',\n 'childlessness',\n 'clearness',\n 'closeness',\n 'collectedness',\n 'comfortableness',\n 'compactness',\n 'comprehensiveness',\n 'consciousness',\n 'coolness',\n 'courageousness',\n 'craziness',\n 'creativeness',\n 'crookedness',\n 'curiousness',\n 'daintiness',\n 'dampness',\n 'darkness',\n 'dauntlessness',\n 'deadliness',\n 'deceitfulness',\n 'deliciousness',\n 'desolateness',\n 'devilishness',\n 'disorderliness',\n 'divineness',\n 'dreaminess',\n 'drowsiness',\n 'eagerness',\n 'earnestness',\n 'ebonness',\n 'endlessness',\n 'enormousness',\n 'exactness',\n 'exclusiveness',\n 'expansiveness',\n 'expertness',\n 'facetiousness',\n 'faintness',\n 'faithfulness',\n 'fatness',\n 'fearfulness',\n 'fearlessness',\n 'ferociousness',\n 'fickleness',\n 'firmness',\n 'fitness',\n 'fleetness',\n 'forgetfulness',\n 'forlornness',\n 'foulness',\n 'freshness',\n 'friendliness',\n 'gamesomeness',\n 'gentleness',\n 'genuineness',\n 'ghastliness',\n 'ghostliness',\n 'gladness',\n 'goodness',\n 'greatness',\n 'greenness',\n 'grimness',\n 'grotesqueness',\n 'guiltiness',\n 'handedness',\n 'happiness',\n 'hardness',\n 'harness',\n 'heartedness',\n 'heartlessness',\n 'heaviness',\n 'heedfulness',\n 'heinousness',\n 'hideousness',\n 'highness',\n 'holiness',\n 'honourableness',\n 'hopefulness',\n 'hugeness',\n 'humorousness',\n 'iciness',\n 'idleness',\n 'illness',\n 'immutableness',\n 'impetuousness',\n 'impiousness',\n 'indebtedness',\n 'indefiniteness',\n 'indispensableness',\n 'indistinctness',\n 'indomitableness',\n 'infantileness',\n 'inhabitiveness',\n 'inoffensiveness',\n 'intolerableness',\n 'irresistibleness',\n 'joyousness',\n 'kindness',\n 'landlessness',\n 'largeness',\n 'lightness',\n 'likeness',\n 'listlessness',\n 'liveliness',\n 'localness',\n 'loneliness',\n 'lonesomeness',\n 'loveliness',\n 'madness',\n 'manliness',\n 'maziness',\n 'meditativeness',\n 'mildness',\n 'milkiness',\n 'mindedness',\n 'mistiness',\n 'moodiness',\n 'morbidness',\n 'muffledness',\n 'muskiness',\n 'muteness',\n 'nakedness',\n 'nappishness',\n 'neatness',\n 'nervousness',\n 'noiselessness',\n 'nothingness',\n 'numbness',\n 'oneness',\n 'outlandishness',\n 'painfulness',\n 'pallidness',\n 'palpableness',\n 'passionateness',\n 'passionlessness',\n 'passiveness',\n 'peacefulness',\n 'perilousness',\n 'periodicalness',\n 'persuasiveness',\n 'pettiness',\n 'picturesqueness',\n 'plaintiveness',\n 'pleasantness',\n 'politeness',\n 'populousness',\n 'portentousness',\n 'preciousness',\n 'preternaturalness',\n 'quaintness',\n 'readiness',\n 'reasonableness',\n 'recklessness',\n 'recluseness',\n 'redness',\n 'restlessness',\n 'richness',\n 'robustness',\n 'rudeness',\n 'ruggedness',\n 'rustiness',\n 'sacredness',\n 'sadness',\n 'savageness',\n 'secludedness',\n 'sereneness',\n 'shagginess',\n 'shortness',\n 'shrewdness',\n 'shyness',\n 'sickness',\n 'simultaneousness',\n 'sleeplessness',\n 'slipperiness',\n 'slowness',\n 'smallness',\n 'snugness',\n 'softness',\n 'sordidness',\n 'spaciousness',\n 'spectralness',\n 'spotlessness',\n 'stillness',\n 'strangeness',\n 'stubbornness',\n 'subterraneousness',\n 'subtleness',\n 'suddenness',\n 'suggestiveness',\n 'superfluousness',\n 'supernaturalness',\n 'superstitiousness',\n 'sweetness',\n 'swiftness',\n 'tearlessness',\n 'tenderness',\n 'terribleness',\n 'thickness',\n 'thinness',\n 'thoughtfulness',\n 'thoughtlessness',\n 'tidiness',\n 'toughness',\n 'tremendousness',\n 'unbecomingness',\n 'uncleanliness',\n 'uncomfortableness',\n 'uncompromisedness',\n 'unconsciousness',\n 'uncouthness',\n 'unctuousness',\n 'uneasiness',\n 'uneventfulness',\n 'uniqueness',\n 'unwillingness',\n 'usefulness',\n 'vagueness',\n 'viciousness',\n 'vindictiveness',\n 'vividness',\n 'wakefulness',\n 'weakness',\n 'weariness',\n 'whimsiness',\n 'whiteness',\n 'wickedness',\n 'wilderness',\n 'wildness',\n 'wilfulness',\n 'willingness',\n 'witness',\n 'wittiness',\n 'wonderfulness',\n 'wondrousness',\n 'woraciousness'}"
     },
     "execution_count": 13,
     "metadata": {},
     "output_type": "execute_result"
    }
   ],
   "source": [
    "setNess"
   ],
   "metadata": {
    "collapsed": false,
    "ExecuteTime": {
     "end_time": "2024-02-28T16:51:22.153446Z",
     "start_time": "2024-02-28T16:51:22.131782Z"
    }
   }
  },
  {
   "cell_type": "code",
   "execution_count": 14,
   "outputs": [],
   "source": [
    "from nltk.stem.snowball import SnowballStemmer"
   ],
   "metadata": {
    "collapsed": false,
    "ExecuteTime": {
     "end_time": "2024-02-28T16:58:55.879747Z",
     "start_time": "2024-02-28T16:58:55.798884Z"
    }
   }
  },
  {
   "cell_type": "code",
   "execution_count": 15,
   "outputs": [],
   "source": [
    "snow= SnowballStemmer(language='english')"
   ],
   "metadata": {
    "collapsed": false,
    "ExecuteTime": {
     "end_time": "2024-02-28T16:59:20.437728Z",
     "start_time": "2024-02-28T16:59:20.419731Z"
    }
   }
  },
  {
   "cell_type": "code",
   "execution_count": 18,
   "outputs": [],
   "source": [
    "stemmedNess= []\n",
    "for i in setNess:\n",
    "    stemmedNess.append(snow.stem(i))\n"
   ],
   "metadata": {
    "collapsed": false,
    "ExecuteTime": {
     "end_time": "2024-02-28T17:00:54.168788Z",
     "start_time": "2024-02-28T17:00:54.150628Z"
    }
   }
  },
  {
   "cell_type": "code",
   "execution_count": 19,
   "outputs": [
    {
     "data": {
      "text/plain": "['strang',\n 'light',\n 'humor',\n 'faint',\n 'indefinit',\n 'fickl',\n 'one',\n 'pallid',\n 'short',\n 'slipperi',\n 'soft',\n 'desol',\n 'dark',\n 'artifici',\n 'glad',\n 'rusti',\n 'robust',\n 'wonder',\n 'expert',\n 'superflu',\n 'heartless',\n 'sick',\n 'loneli',\n 'brig',\n 'nappish',\n 'polit',\n 'conscious',\n 'busi',\n 'uniqu',\n 'adhes',\n 'nervous',\n 'blueness',\n 'sudden',\n 'readi',\n 'vicious',\n 'enorm',\n 'bitter',\n 'guilti',\n 'ici',\n 'crazi',\n 'still',\n 'larg',\n 'numb',\n 'cautious',\n 'uncouth',\n 'wicked',\n 'sweet',\n 'dauntless',\n 'loveli',\n 'naked',\n 'whimsi',\n 'precious',\n 'dark',\n 'careless',\n 'compact',\n 'collected',\n 'endless',\n 'pain',\n 'ebon',\n 'uncleanli',\n 'ghastli',\n 'ill',\n 'suggest',\n 'tremend',\n 'fearless',\n 'woraci',\n 'palpabl',\n 'terribl',\n 'gentl',\n 'petti',\n 'faceti',\n 'secluded',\n 'swift',\n 'inhabit',\n 'nothing',\n 'tearless',\n 'restless',\n 'tender',\n 'eager',\n 'happi',\n 'inoffens',\n 'supernatur',\n 'subtl',\n 'sad',\n 'fat',\n 'small',\n 'har',\n 'sleepless',\n 'reckless',\n 'mazi',\n 'kind',\n 'friendli',\n 'foul',\n 'popul',\n 'fit',\n 'vindict',\n 'genuin',\n 'calm',\n 'weari',\n 'red',\n 'indebted',\n 'weak',\n 'wilder',\n 'unconsci',\n 'drowsi',\n 'mild',\n 'brawni',\n 'manli',\n 'peril',\n 'big',\n 'busi',\n 'local',\n 'reason',\n 'wit',\n 'thick',\n 'medit',\n 'spotless',\n 'vagu',\n 'fresh',\n 'plaintiv',\n 'creativ',\n 'unev',\n 'exclus',\n 'muski',\n 'sordid',\n 'muffled',\n 'grotesqu',\n 'deadli',\n 'grim',\n 'intoler',\n 'bright',\n 'spectral',\n 'periodic',\n 'delici',\n 'bleak',\n 'dainti',\n 'seren',\n 'landless',\n 'feroci',\n 'thin',\n 'impious',\n 'neat',\n 'thoughtless',\n 'infantil',\n 'earnest',\n 'savag',\n 'peac',\n 'awkward',\n 'stubborn',\n 'mad',\n 'passiv',\n 'snug',\n 'aborigin',\n 'spacious',\n 'bland',\n 'minded',\n 'shyness',\n 'curious',\n 'exact',\n 'use',\n 'reclus',\n 'persuas',\n 'clear',\n 'forget',\n 'shaggi',\n 'willing',\n 'preternatur',\n 'huge',\n 'heinous',\n 'cool',\n 'acrid',\n 'mute',\n 'outlandish',\n 'acut',\n 'comprehens',\n 'wondrous',\n 'deceit',\n 'indomit',\n 'simultan',\n 'wit',\n 'fleet',\n 'wil',\n 'joyous',\n 'uncompromised',\n 'blank',\n 'portent',\n 'passion',\n 'honour',\n 'fear',\n 'misti',\n 'forlorn',\n 'listless',\n 'hideous',\n 'hard',\n 'superstiti',\n 'indistinct',\n 'courag',\n 'irresist',\n 'crooked',\n 'sacred',\n 'rich',\n 'righteous',\n 'comfort',\n 'divin',\n 'noiseless',\n 'witti',\n 'hearted',\n 'uncomfort',\n 'tough',\n 'uneasi',\n 'green',\n 'unfit',\n 'firm',\n 'moodi',\n 'impetu',\n 'heavi',\n 'good',\n 'like',\n 'thought',\n 'apprehens',\n 'subterran',\n 'unbecoming',\n 'heed',\n 'gamesom',\n 'picturesqu',\n 'tidi',\n 'black',\n 'indispens',\n 'cheer',\n 'liveli',\n 'faith',\n 'disorderli',\n 'handed',\n 'rugged',\n 'unwilling',\n 'breezeless',\n 'immut',\n 'idl',\n 'loveli',\n 'great',\n 'passionless',\n 'slow',\n 'mad',\n 'lonesom',\n 'unctuous',\n 'morbid',\n 'close',\n 'rude',\n 'damp',\n 'milki',\n 'bold',\n 'white',\n 'ghostli',\n 'shrewd',\n 'devilish',\n 'wake',\n 'pleasant',\n 'wild',\n 'aw',\n 'bash',\n 'quaint',\n 'white',\n 'hope',\n 'high',\n 'expans',\n 'childless',\n 'vivid',\n 'dreami',\n 'holi']"
     },
     "execution_count": 19,
     "metadata": {},
     "output_type": "execute_result"
    }
   ],
   "source": [
    "stemmedNess"
   ],
   "metadata": {
    "collapsed": false,
    "ExecuteTime": {
     "end_time": "2024-02-28T17:00:55.770712Z",
     "start_time": "2024-02-28T17:00:55.727554Z"
    }
   }
  },
  {
   "cell_type": "code",
   "execution_count": 22,
   "outputs": [],
   "source": [
    "listSetNess=list(setNess)"
   ],
   "metadata": {
    "collapsed": false,
    "ExecuteTime": {
     "end_time": "2024-02-28T17:07:30.706132Z",
     "start_time": "2024-02-28T17:07:30.698275Z"
    }
   }
  },
  {
   "cell_type": "code",
   "execution_count": 26,
   "outputs": [
    {
     "data": {
      "text/plain": "['strangeness',\n 'lightness',\n 'humorousness',\n 'faintness',\n 'indefiniteness',\n 'fickleness',\n 'oneness',\n 'pallidness',\n 'shortness',\n 'slipperiness',\n 'softness',\n 'desolateness',\n 'Darkness',\n 'artificialness',\n 'gladness',\n 'rustiness',\n 'robustness',\n 'wonderfulness',\n 'expertness',\n 'superfluousness',\n 'heartlessness',\n 'sickness',\n 'loneliness',\n 'brigness',\n 'nappishness',\n 'politeness',\n 'consciousness',\n 'business',\n 'uniqueness',\n 'adhesiveness',\n 'nervousness',\n 'blueness',\n 'suddenness',\n 'readiness',\n 'viciousness',\n 'enormousness',\n 'bitterness',\n 'guiltiness',\n 'iciness',\n 'craziness',\n 'stillness',\n 'largeness',\n 'numbness',\n 'cautiousness',\n 'uncouthness',\n 'wickedness',\n 'sweetness',\n 'dauntlessness',\n 'loveliness',\n 'nakedness',\n 'whimsiness',\n 'preciousness',\n 'darkness',\n 'carelessness',\n 'compactness',\n 'collectedness',\n 'endlessness',\n 'painfulness',\n 'ebonness',\n 'uncleanliness',\n 'ghastliness',\n 'illness',\n 'suggestiveness',\n 'tremendousness',\n 'fearlessness',\n 'woraciousness',\n 'palpableness',\n 'terribleness',\n 'gentleness',\n 'pettiness',\n 'facetiousness',\n 'secludedness',\n 'swiftness',\n 'inhabitiveness',\n 'nothingness',\n 'tearlessness',\n 'restlessness',\n 'tenderness',\n 'eagerness',\n 'happiness',\n 'inoffensiveness',\n 'supernaturalness',\n 'subtleness',\n 'sadness',\n 'fatness',\n 'smallness',\n 'harness',\n 'sleeplessness',\n 'recklessness',\n 'maziness',\n 'kindness',\n 'friendliness',\n 'foulness',\n 'populousness',\n 'fitness',\n 'vindictiveness',\n 'genuineness',\n 'calmness',\n 'weariness',\n 'redness',\n 'indebtedness',\n 'weakness',\n 'wilderness',\n 'unconsciousness',\n 'drowsiness',\n 'mildness',\n 'brawniness',\n 'manliness',\n 'perilousness',\n 'bigness',\n 'Business',\n 'localness',\n 'reasonableness',\n 'Witness',\n 'thickness',\n 'meditativeness',\n 'spotlessness',\n 'vagueness',\n 'freshness',\n 'plaintiveness',\n 'creativeness',\n 'uneventfulness',\n 'exclusiveness',\n 'muskiness',\n 'sordidness',\n 'muffledness',\n 'grotesqueness',\n 'deadliness',\n 'grimness',\n 'intolerableness',\n 'brightness',\n 'spectralness',\n 'periodicalness',\n 'deliciousness',\n 'bleakness',\n 'daintiness',\n 'sereneness',\n 'landlessness',\n 'ferociousness',\n 'thinness',\n 'impiousness',\n 'neatness',\n 'thoughtlessness',\n 'infantileness',\n 'earnestness',\n 'savageness',\n 'peacefulness',\n 'awkwardness',\n 'stubbornness',\n 'Madness',\n 'passiveness',\n 'snugness',\n 'aboriginalness',\n 'spaciousness',\n 'blandness',\n 'mindedness',\n 'shyness',\n 'curiousness',\n 'exactness',\n 'usefulness',\n 'recluseness',\n 'persuasiveness',\n 'clearness',\n 'forgetfulness',\n 'shagginess',\n 'willingness',\n 'preternaturalness',\n 'hugeness',\n 'heinousness',\n 'coolness',\n 'acridness',\n 'muteness',\n 'outlandishness',\n 'acuteness',\n 'comprehensiveness',\n 'wondrousness',\n 'deceitfulness',\n 'indomitableness',\n 'simultaneousness',\n 'witness',\n 'fleetness',\n 'wilfulness',\n 'joyousness',\n 'uncompromisedness',\n 'blankness',\n 'portentousness',\n 'passionateness',\n 'honourableness',\n 'fearfulness',\n 'mistiness',\n 'forlornness',\n 'listlessness',\n 'hideousness',\n 'hardness',\n 'superstitiousness',\n 'indistinctness',\n 'courageousness',\n 'irresistibleness',\n 'crookedness',\n 'sacredness',\n 'richness',\n 'Righteousness',\n 'comfortableness',\n 'divineness',\n 'noiselessness',\n 'wittiness',\n 'heartedness',\n 'uncomfortableness',\n 'toughness',\n 'uneasiness',\n 'greenness',\n 'Unfitness',\n 'firmness',\n 'moodiness',\n 'impetuousness',\n 'heaviness',\n 'goodness',\n 'likeness',\n 'thoughtfulness',\n 'apprehensiveness',\n 'subterraneousness',\n 'unbecomingness',\n 'heedfulness',\n 'gamesomeness',\n 'picturesqueness',\n 'tidiness',\n 'blackness',\n 'indispensableness',\n 'cheerfulness',\n 'liveliness',\n 'faithfulness',\n 'disorderliness',\n 'handedness',\n 'ruggedness',\n 'unwillingness',\n 'breezelessness',\n 'immutableness',\n 'idleness',\n 'Loveliness',\n 'greatness',\n 'passionlessness',\n 'slowness',\n 'madness',\n 'lonesomeness',\n 'unctuousness',\n 'morbidness',\n 'closeness',\n 'rudeness',\n 'dampness',\n 'milkiness',\n 'boldness',\n 'whiteness',\n 'ghostliness',\n 'shrewdness',\n 'devilishness',\n 'wakefulness',\n 'pleasantness',\n 'wildness',\n 'awfulness',\n 'bashfulness',\n 'quaintness',\n 'Whiteness',\n 'hopefulness',\n 'highness',\n 'expansiveness',\n 'childlessness',\n 'vividness',\n 'dreaminess',\n 'holiness']"
     },
     "execution_count": 26,
     "metadata": {},
     "output_type": "execute_result"
    }
   ],
   "source": [
    "listSetNess"
   ],
   "metadata": {
    "collapsed": false,
    "ExecuteTime": {
     "end_time": "2024-02-28T17:09:06.558695Z",
     "start_time": "2024-02-28T17:09:06.440424Z"
    }
   }
  },
  {
   "cell_type": "code",
   "execution_count": 37,
   "outputs": [
    {
     "data": {
      "text/plain": "['Business',\n 'Darkness',\n 'Loveliness',\n 'Madness',\n 'Righteousness',\n 'Unfitness',\n 'Whiteness',\n 'Witness',\n 'aboriginalness',\n 'acridness',\n 'acuteness',\n 'adhesiveness',\n 'apprehensiveness',\n 'artificialness',\n 'awfulness',\n 'awkwardness',\n 'bashfulness',\n 'bigness',\n 'bitterness',\n 'blackness',\n 'blandness',\n 'blankness',\n 'bleakness',\n 'blueness',\n 'boldness',\n 'brawniness',\n 'breezelessness',\n 'brightness',\n 'brigness',\n 'business',\n 'calmness',\n 'carelessness',\n 'cautiousness',\n 'cheerfulness',\n 'childlessness',\n 'clearness',\n 'closeness',\n 'collectedness',\n 'comfortableness',\n 'compactness',\n 'comprehensiveness',\n 'consciousness',\n 'coolness',\n 'courageousness',\n 'craziness',\n 'creativeness',\n 'crookedness',\n 'curiousness',\n 'daintiness',\n 'dampness',\n 'darkness',\n 'dauntlessness',\n 'deadliness',\n 'deceitfulness',\n 'deliciousness',\n 'desolateness',\n 'devilishness',\n 'disorderliness',\n 'divineness',\n 'dreaminess',\n 'drowsiness',\n 'eagerness',\n 'earnestness',\n 'ebonness',\n 'endlessness',\n 'enormousness',\n 'exactness',\n 'exclusiveness',\n 'expansiveness',\n 'expertness',\n 'facetiousness',\n 'faintness',\n 'faithfulness',\n 'fatness',\n 'fearfulness',\n 'fearlessness',\n 'ferociousness',\n 'fickleness',\n 'firmness',\n 'fitness',\n 'fleetness',\n 'forgetfulness',\n 'forlornness',\n 'foulness',\n 'freshness',\n 'friendliness',\n 'gamesomeness',\n 'gentleness',\n 'genuineness',\n 'ghastliness',\n 'ghostliness',\n 'gladness',\n 'goodness',\n 'greatness',\n 'greenness',\n 'grimness',\n 'grotesqueness',\n 'guiltiness',\n 'handedness',\n 'happiness',\n 'hardness',\n 'harness',\n 'heartedness',\n 'heartlessness',\n 'heaviness',\n 'heedfulness',\n 'heinousness',\n 'hideousness',\n 'highness',\n 'holiness',\n 'honourableness',\n 'hopefulness',\n 'hugeness',\n 'humorousness',\n 'iciness',\n 'idleness',\n 'illness',\n 'immutableness',\n 'impetuousness',\n 'impiousness',\n 'indebtedness',\n 'indefiniteness',\n 'indispensableness',\n 'indistinctness',\n 'indomitableness',\n 'infantileness',\n 'inhabitiveness',\n 'inoffensiveness',\n 'intolerableness',\n 'irresistibleness',\n 'joyousness',\n 'kindness',\n 'landlessness',\n 'largeness',\n 'lightness',\n 'likeness',\n 'listlessness',\n 'liveliness',\n 'localness',\n 'loneliness',\n 'lonesomeness',\n 'loveliness',\n 'madness',\n 'manliness',\n 'maziness',\n 'meditativeness',\n 'mildness',\n 'milkiness',\n 'mindedness',\n 'mistiness',\n 'moodiness',\n 'morbidness',\n 'muffledness',\n 'muskiness',\n 'muteness',\n 'nakedness',\n 'nappishness',\n 'neatness',\n 'nervousness',\n 'noiselessness',\n 'nothingness',\n 'numbness',\n 'oneness',\n 'outlandishness',\n 'painfulness',\n 'pallidness',\n 'palpableness',\n 'passionateness',\n 'passionlessness',\n 'passiveness',\n 'peacefulness',\n 'perilousness',\n 'periodicalness',\n 'persuasiveness',\n 'pettiness',\n 'picturesqueness',\n 'plaintiveness',\n 'pleasantness',\n 'politeness',\n 'populousness',\n 'portentousness',\n 'preciousness',\n 'preternaturalness',\n 'quaintness',\n 'readiness',\n 'reasonableness',\n 'recklessness',\n 'recluseness',\n 'redness',\n 'restlessness',\n 'richness',\n 'robustness',\n 'rudeness',\n 'ruggedness',\n 'rustiness',\n 'sacredness',\n 'sadness',\n 'savageness',\n 'secludedness',\n 'sereneness',\n 'shagginess',\n 'shortness',\n 'shrewdness',\n 'shyness',\n 'sickness',\n 'simultaneousness',\n 'sleeplessness',\n 'slipperiness',\n 'slowness',\n 'smallness',\n 'snugness',\n 'softness',\n 'sordidness',\n 'spaciousness',\n 'spectralness',\n 'spotlessness',\n 'stillness',\n 'strangeness',\n 'stubbornness',\n 'subterraneousness',\n 'subtleness',\n 'suddenness',\n 'suggestiveness',\n 'superfluousness',\n 'supernaturalness',\n 'superstitiousness',\n 'sweetness',\n 'swiftness',\n 'tearlessness',\n 'tenderness',\n 'terribleness',\n 'thickness',\n 'thinness',\n 'thoughtfulness',\n 'thoughtlessness',\n 'tidiness',\n 'toughness',\n 'tremendousness',\n 'unbecomingness',\n 'uncleanliness',\n 'uncomfortableness',\n 'uncompromisedness',\n 'unconsciousness',\n 'uncouthness',\n 'unctuousness',\n 'uneasiness',\n 'uneventfulness',\n 'uniqueness',\n 'unwillingness',\n 'usefulness',\n 'vagueness',\n 'viciousness',\n 'vindictiveness',\n 'vividness',\n 'wakefulness',\n 'weakness',\n 'weariness',\n 'whimsiness',\n 'whiteness',\n 'wickedness',\n 'wilderness',\n 'wildness',\n 'wilfulness',\n 'willingness',\n 'witness',\n 'wittiness',\n 'wonderfulness',\n 'wondrousness',\n 'woraciousness']"
     },
     "execution_count": 37,
     "metadata": {},
     "output_type": "execute_result"
    }
   ],
   "source": [
    "listSetNess.sort()\n",
    "listSetNess"
   ],
   "metadata": {
    "collapsed": false,
    "ExecuteTime": {
     "end_time": "2024-02-28T17:23:39.882882Z",
     "start_time": "2024-02-28T17:23:39.847829Z"
    }
   }
  },
  {
   "cell_type": "code",
   "execution_count": 38,
   "outputs": [
    {
     "data": {
      "text/plain": "['under',\n 'unite',\n 'unless',\n 'ungraspable',\n 'unless',\n 'unpleasant',\n 'universal',\n 'uncomfortable',\n 'unaccountable',\n 'under',\n 'unbiased',\n 'undeliverable',\n 'under',\n 'underneath',\n 'universe',\n 'unequal',\n 'understanding',\n 'unaccountable',\n 'unwarranted',\n 'unimaginable',\n 'unnatural',\n 'unoccupied',\n 'under',\n 'undress',\n 'unobserved',\n 'unknown',\n 'under',\n 'unless',\n 'unwarrantable',\n 'unknown',\n 'unless',\n 'unaccountable',\n 'understand',\n 'uncomfortable',\n 'unsay',\n 'unaccountable',\n 'uncommonly',\n 'undressed',\n 'under',\n 'unlacing',\n 'unearthly',\n 'undressing',\n 'unnatural',\n 'unceremoniously',\n 'uncomfortableness',\n 'unmethodically',\n 'undressed',\n 'unendurable',\n 'unimaginable',\n 'unlock',\n 'unbecomingness',\n 'understand',\n 'under',\n 'unusual',\n 'under',\n 'under',\n 'undergraduate',\n 'under',\n 'unsheathes',\n 'unshorn',\n 'undivided',\n 'unknown',\n 'unholy',\n 'unheeded',\n 'unrecorded',\n 'unceasing',\n 'unhealing',\n 'unbidden',\n 'universal',\n 'unstirring',\n 'unspeakable',\n 'unnecessary',\n 'unseen',\n 'unassuming',\n 'unheeded',\n 'unknown',\n 'until',\n 'uncheered',\n 'unsolicited',\n 'unreluctantly',\n 'unto',\n 'unwelcome',\n 'unto',\n 'under',\n 'unearthly',\n 'uncouthness',\n 'unbiddenly',\n 'under',\n 'unite',\n 'unite',\n 'unite',\n 'undressed',\n 'unmistakably',\n 'unilluminated',\n 'unduly',\n 'undulating',\n 'uncle',\n 'unconquerable',\n 'untutored',\n 'untutored',\n 'unfitted',\n 'undefiled',\n 'unlike',\n 'unearthly',\n 'under',\n 'unconsciousness',\n 'under',\n 'unconscious',\n 'under',\n 'understood',\n 'under',\n 'unfort',\n 'understand',\n 'unmatched',\n 'unpanelled',\n 'united',\n 'under',\n 'unless',\n 'understand',\n 'unlimited',\n 'uncommon',\n 'uncommon',\n 'unoutgrown',\n 'unworthy',\n 'unite',\n 'untraditionally',\n 'unlike',\n 'unclad',\n 'unmitigated',\n 'unconsciously',\n 'unaccountable',\n 'unseen',\n 'ungodly',\n 'unless',\n 'undervalue',\n 'unprecedented',\n 'unmethodically',\n 'understand',\n 'under',\n 'unfort',\n 'unwithdrawn',\n 'unnaturally',\n 'uneasy',\n 'unaccountable',\n 'uncomfortable',\n 'undigested',\n 'unless',\n 'understand',\n 'unless',\n 'ungodly',\n 'uninterrupted',\n 'uncertain',\n 'unaccountable',\n 'unless',\n 'understand',\n 'under',\n 'under',\n 'under',\n 'under',\n 'untrodden',\n 'unwilted',\n 'unpleasing',\n 'unseen',\n 'unrestingly',\n 'unmentionable',\n 'unpoetical',\n 'uncleanliness',\n 'unknown',\n 'unspeakable',\n 'unwittingly',\n 'unrecorded',\n 'unworthy',\n 'uncounted',\n 'unhorse',\n 'undiscovered',\n 'unreasonably',\n 'undone',\n 'unreasonable',\n 'unless',\n 'unmanufactured',\n 'unpolluted',\n 'under',\n 'undraped',\n 'unpitying',\n 'unfearing',\n 'unconscious',\n 'universal',\n 'unmixed',\n 'unvitiated',\n 'unerring',\n 'uncommonly',\n 'unseen',\n 'unknown',\n 'uninvitedly',\n 'uneasiness',\n 'uniqueness',\n 'unalterable',\n 'unsurrenderable',\n 'uneasy',\n 'under',\n 'unnecessary',\n 'unwaning',\n 'unassured',\n 'unforseen',\n 'unconsciously',\n 'unshored',\n 'understanding',\n 'unfathomable',\n 'unworthy',\n 'unknown',\n 'unwritten',\n 'unspeakable',\n 'uncertain',\n 'unsettled',\n 'united',\n 'unknown',\n 'unexpectedly',\n 'unconquerable',\n 'under',\n 'unsavory',\n 'unicorn',\n 'unicorn',\n 'uncertain',\n 'uncertain',\n 'uncouth',\n 'unfinished',\n 'uncompleted',\n 'unknown',\n 'under',\n 'under',\n 'unusual',\n 'unobservant',\n 'unmanifested',\n 'undoubted',\n 'unbodied',\n 'unexhilarated',\n 'unchallenged',\n 'ungentlemanly',\n 'unwarrantable',\n 'uneventfulness',\n 'unnecessary',\n 'unclad',\n 'unprovided',\n 'underneath',\n 'unicorns',\n 'universe',\n 'unseasonable',\n 'unneeded',\n 'unfrequently',\n 'unconscious',\n 'undiscernible',\n 'unsleeping',\n 'uniform',\n 'unapprehensive',\n 'unlike',\n 'unmindful',\n 'unexpected',\n 'uncorking',\n 'undoubted',\n 'unknown',\n 'unreasoning',\n 'unsays',\n 'unrecking',\n 'unworshipping',\n 'unsounded',\n 'under',\n 'unerringly',\n 'unfaltering',\n 'untutored',\n 'unfailing',\n 'unceasing',\n 'undeniable',\n 'unaccompanied',\n 'uncivilized',\n 'uncommon',\n 'unfair',\n 'unfrequent',\n 'unexempt',\n 'unborrowed',\n 'under',\n 'unearthly',\n 'unaccountable',\n 'underground',\n 'unharmed',\n 'unensanguined',\n 'unsullied',\n 'unwonted',\n 'uncommon',\n 'uncharted',\n 'unwonted',\n 'unexampled',\n 'unusual',\n 'unintelligent',\n 'unlimbed',\n 'unabated',\n 'unfathomably',\n 'unhinted',\n 'undeniable',\n 'unlikely',\n 'unrelenting',\n 'underlings',\n 'unabated',\n 'ungodly',\n 'unaided',\n 'unconscious',\n 'understandings',\n 'unsuspected',\n 'unsaid',\n 'unfurling',\n 'unnatural',\n 'unflattering',\n 'unspotted',\n 'unharmed',\n 'unknown',\n 'unfallen',\n 'untutored',\n 'unread',\n 'unsophisticated',\n 'untravelled',\n 'unsubstantial',\n 'unrustlingly',\n 'unimaginative',\n 'under',\n 'universality',\n 'under',\n 'under',\n 'unbounded',\n 'universe',\n 'universe',\n 'unceasingly',\n 'under',\n 'unhooped',\n 'undeviating',\n 'unavoidable',\n 'unquestionable',\n 'unloitering',\n 'unfaltering',\n 'unquiet',\n 'unmistakable',\n 'unachieved',\n 'unsuppressable',\n 'unappeasedly',\n 'unless',\n 'unbidden',\n 'unfathered',\n 'understood',\n 'unknown',\n 'under',\n 'unobtrusive',\n 'unknown',\n 'until',\n 'unbelief',\n 'uncommon',\n 'uninjured',\n 'unusual',\n 'uncle',\n 'unseen',\n 'under',\n 'uncommon',\n 'unexaggerating',\n 'unknown',\n 'unless',\n 'unrelieved',\n 'unreliable',\n 'unmindful',\n 'unanswerable',\n 'unthinkingly',\n 'unchanging',\n 'unalterable',\n 'unearthly',\n 'undeviating',\n 'uniformity',\n 'unknown',\n 'under',\n 'under',\n 'uneasiness',\n 'unreasonably',\n 'unaccountable',\n 'unconscious',\n 'under',\n 'unthought',\n 'unerring',\n 'unlighted',\n 'under',\n 'unknown',\n 'unharmed',\n 'unconsumed',\n 'universe',\n 'unseen',\n 'unaccountable',\n 'understand',\n 'unalterable',\n 'uncommonly',\n 'unconsciously',\n 'unless',\n 'under',\n 'under',\n 'unaccountable',\n 'unknown',\n 'unsubduable',\n 'unaccountable',\n 'unchanging',\n 'unalterable',\n 'unknowing',\n 'uncanonical',\n 'under',\n 'unstaked',\n 'unusual',\n 'uniform',\n 'unearthly',\n 'unwonted',\n 'unnearable',\n 'uninhabited',\n 'unrestingly',\n 'unvarying',\n 'unremoved',\n 'unrolled',\n 'under',\n 'under',\n 'unostentatious',\n 'unknown',\n 'uncommon',\n 'uncommonly',\n 'unknown',\n 'unusual',\n 'undiscovered',\n 'unentered',\n 'unusual',\n 'unthinking',\n 'unconquerable',\n 'unawed',\n 'understand',\n 'understand',\n 'unwillingness',\n 'unconditionally',\n 'unspeakable',\n 'unflinching',\n 'uninhabited',\n 'unrivalled',\n 'under',\n 'unshunned',\n 'ungrateful',\n 'understand',\n 'unless',\n 'unless',\n 'united',\n 'unseamanlike',\n 'undeterred',\n 'unresting',\n 'underwent',\n 'under',\n 'unquestionable',\n 'unscrupulous',\n 'undulates',\n 'universally',\n 'unexhausted',\n 'unprofessional',\n 'unsightly',\n 'undashed',\n 'unfathomable',\n 'undulations',\n 'unpainted',\n 'unbroken',\n 'unstarched',\n 'unworthy',\n 'under',\n 'unquestionable',\n 'undulating',\n 'undulated',\n 'unspeakably',\n 'unsocial',\n 'unknown',\n 'under',\n 'under',\n 'unapparent',\n 'universal',\n 'unattended',\n 'undulated',\n 'unearthly',\n 'unusual',\n 'unknown',\n 'unlike',\n 'understanding',\n 'unknown',\n 'under',\n 'undulating',\n 'unspeakable',\n 'unnecessary',\n 'under',\n 'unattended',\n 'until',\n 'unusually',\n 'until',\n 'unusual',\n 'unwonted',\n 'unassailable',\n 'universal',\n 'under',\n 'unseasonable',\n 'unprejudiced',\n 'uncommon',\n 'unctuous',\n 'until',\n 'unaccustomed',\n 'unsafe',\n 'uniformly',\n 'unfurnished',\n 'unvexed',\n 'unchanged',\n 'unmarred',\n 'undecipherable',\n 'unsupplied',\n 'under',\n 'unclouded',\n 'unharming',\n 'under',\n 'untoward',\n 'universal',\n 'unfolding',\n 'under',\n 'ungarnished',\n 'unrecorded',\n 'untold',\n 'unharmed',\n 'under',\n 'unnecessary',\n 'untainted',\n 'unflinching',\n 'united',\n 'unconditional',\n 'unwilling',\n 'unsuccessful',\n 'uncommon',\n 'united',\n 'unmerited',\n 'unsounded',\n 'untasted',\n 'unusual',\n 'under',\n 'under',\n 'under',\n 'undiscriminating',\n 'ungainly',\n 'unhinged',\n 'undecayed',\n 'unless',\n 'unfortunate',\n 'under',\n 'unrecorded',\n 'unexaggerated',\n 'under',\n 'under',\n 'uninjured',\n 'unobstructed',\n 'unique',\n 'unknown',\n 'unsuspected',\n 'uninjurable',\n 'unless',\n 'unctuous',\n 'unalloyed',\n 'unavoidable',\n 'uncommonly',\n 'untimely',\n 'until',\n 'until',\n 'unconsciously',\n 'unspeakable',\n 'untoward',\n 'undetached',\n 'undertaken',\n 'unhaunted',\n 'unlettered',\n 'under',\n 'unload',\n 'undeveloped',\n 'undecreasing',\n 'unreasonable',\n 'unrolling',\n 'unusual',\n 'unnatural',\n 'ungracious',\n 'ungrateful',\n 'unmannerly',\n 'unspeakably',\n 'unusually',\n 'under',\n 'under',\n 'unfulfilments',\n 'under',\n 'undiscernible',\n 'untouched',\n 'unconditional',\n 'unseen',\n 'unrifled',\n 'unless',\n 'unknown',\n 'unprecedentedly',\n 'unnatural',\n 'uncommon',\n 'under',\n 'uncapturable',\n 'unskilful',\n 'unnearable',\n 'unknown',\n 'unless',\n 'unscientific',\n 'under',\n 'unctuousness',\n 'unwarranted',\n 'unintermitted',\n 'under',\n 'unobstructed',\n 'unspeakable',\n 'unmolested',\n 'uniform',\n 'unmolested',\n 'unless',\n 'unless',\n 'unless',\n 'unmolested',\n 'undeviating',\n 'undecided',\n 'under',\n 'undisputed',\n 'undulation',\n 'undoubtedly',\n 'undulates',\n 'unobstructed',\n 'unawares',\n 'unbent',\n 'unaccountable',\n 'understand',\n 'unbroken',\n 'unsupplied',\n 'unusable',\n 'unwearied',\n 'unfriendly',\n 'under',\n 'under',\n 'under',\n 'unprecedented',\n 'under',\n 'under',\n 'unsophisticated',\n 'unearthly',\n 'unborn',\n 'unlike',\n 'unwaning',\n 'unimaginable',\n 'universal',\n 'unpleasant',\n 'unwarrantably',\n 'unprincipled',\n 'unctuousness',\n 'universally',\n 'underwriter',\n 'unwritten',\n 'universal',\n 'undisputed',\n 'undetected',\n 'universally',\n 'under',\n 'under',\n 'under',\n 'under',\n 'unfortunate',\n 'under',\n 'unmolested',\n 'unappropriated',\n 'unsavory',\n 'understand',\n 'unsavory',\n 'unprofitable',\n 'under',\n 'unusually',\n 'unrighteous',\n 'unctuous',\n 'unavoidably',\n 'until',\n 'unless',\n 'untidy',\n 'unloading',\n 'unduly',\n 'unaccountably',\n 'unnatural',\n 'under',\n 'unofficially',\n 'undiluted',\n 'under',\n 'unfrequently',\n 'unwarped',\n 'uncompromised',\n 'unctuous',\n 'under',\n 'under',\n 'uncontaminated',\n 'unwittingly',\n 'universally',\n 'unctuousness',\n 'unusually',\n 'unhinged',\n 'unaccountable',\n 'underneath',\n 'under',\n 'unctuous',\n 'unspeakable',\n 'unholy',\n 'uncivilized',\n 'unaccountable',\n 'unnatural',\n 'undeveloped',\n 'unchristian',\n 'unfathomably',\n 'understanding',\n 'unmanufactured',\n 'unvitiated',\n 'unknown',\n 'unscathed',\n 'unsealed',\n 'unctuousness',\n 'unmanufactured',\n 'unseen',\n 'uninterrupted',\n 'untouchable',\n 'unwaning',\n 'unobserved',\n 'undaunted',\n 'unearthly',\n 'unscrew',\n 'unscrew',\n 'under',\n 'unsupplied',\n 'uncertain',\n 'untoward',\n 'united',\n 'under',\n 'unctuous',\n 'unctuous',\n 'unbutton',\n 'untagging',\n 'unbuckling',\n 'unconditional',\n 'under',\n 'unusually',\n 'unextinguished',\n 'unceasingly',\n 'unwearied',\n 'unseen',\n 'unrivalled',\n 'untattooed',\n 'unobstructed',\n 'under',\n 'unrelieved',\n 'untravelled',\n 'unbounded',\n 'undertaken',\n 'unwarrantably',\n 'under',\n 'uncommon',\n 'universe',\n 'unknown',\n 'unsourced',\n 'unspeakable',\n 'unmistakable',\n 'understand',\n 'unfrequent',\n 'unfamiliar',\n 'under',\n 'unattended',\n 'unknown',\n 'unimaginable',\n 'unsignifying',\n 'unaccounted',\n 'underived',\n 'unseen',\n 'unnecessary',\n 'uncivilized',\n 'unhesitatingly',\n 'unmanageably',\n 'under',\n 'unconcluded',\n 'uncommon',\n 'uncounted',\n 'unstreaked',\n 'unfractioned',\n 'uncompromised',\n 'uncompromisedness',\n 'unintelligence',\n 'uneven',\n 'unreasoning',\n 'unaccountable',\n 'unreasoning',\n 'under',\n 'understand',\n 'uninterpenetratingly',\n 'undertake',\n 'under',\n 'unfavourable',\n 'understand',\n 'unconsciously',\n 'under',\n 'under',\n 'unknown',\n 'unlike',\n 'uncontinented',\n 'uncertain',\n 'undone',\n 'ungovernable',\n 'unintelligent',\n 'unfold',\n 'unsolved',\n 'uncounted',\n 'undulations',\n 'unceasingly',\n 'unknown',\n 'unthinkingly',\n 'uncatastrophied',\n 'under',\n 'unhappy',\n 'unsweetly',\n 'unreverenced',\n 'unimaginable',\n 'unsmoothable',\n 'unwound',\n 'unstranded',\n 'unnatural',\n 'unresting',\n 'unmeaningly',\n 'under',\n 'unretracing',\n 'unconscious',\n 'unmoor',\n 'unwedded',\n 'unfathomable',\n 'unknown',\n 'unspoken',\n 'unknown',\n 'unverdured',\n 'unnamable',\n 'unforgiven',\n 'unblinkingly',\n 'unrelieved',\n 'unknown',\n 'understand',\n 'under',\n 'unconditional',\n 'unintegral',\n 'unbegotten',\n 'unbegun',\n 'unsuffusing',\n 'unparticipated',\n 'unsafe',\n 'unless',\n 'uncommon',\n 'unmannerly',\n 'uncommon',\n 'unwonted',\n 'unsounded',\n 'unstaggering',\n 'undeviating',\n 'unaccountably',\n 'undaunted',\n 'unmurmuringly',\n 'unimpressed',\n 'uncertain',\n 'untouched',\n 'unwinding',\n 'unmanned',\n 'unless',\n 'unfrequented',\n 'unvarying',\n 'unearthly',\n 'unappalled',\n 'unaccompanied',\n 'under',\n 'unprovided',\n 'undignified',\n 'unless',\n 'undertaker',\n 'unprincipled',\n 'under',\n 'uncertain',\n 'unknown',\n 'unknown',\n 'unexpected',\n 'unite',\n 'unknown',\n 'unmisgiving',\n 'unfrequently',\n 'unenervated',\n 'untimely',\n 'undue',\n 'unconditional',\n 'unsetting',\n 'uncertain',\n 'unseen',\n 'unless',\n 'undeviating',\n 'unerringly',\n 'unheeded',\n 'unearthed',\n 'unless',\n 'unmomentous',\n 'unseen',\n 'under',\n 'unprovided',\n 'unusual',\n 'untrackably',\n 'uncommon',\n 'unrigged',\n 'unhinged',\n 'unspeckled',\n 'unyielding',\n 'untottering',\n 'under',\n 'unearthly',\n 'unless',\n 'unsounded',\n 'under',\n 'unsuspecting',\n 'undiscoverable',\n 'under',\n 'unastonished',\n 'unharmed',\n 'under',\n 'under',\n 'unintermitted',\n 'unrestingly',\n 'unabated',\n 'unset',\n 'unprecedented',\n 'under',\n 'unseen',\n 'unfearing',\n 'unseen',\n 'uncommon',\n 'unearthly',\n 'untraceable',\n 'unstricken',\n 'under',\n 'untouched',\n 'unconquerable',\n 'under',\n 'unmeasured',\n 'under',\n 'unfeatured',\n 'under',\n 'underling',\n 'uncertain',\n 'unchangeable',\n 'under',\n 'uncommonly',\n 'unpitying',\n 'unprepared',\n 'ungraduated',\n 'unappeasable',\n 'under',\n 'unwinking',\n 'under',\n 'unsurrendered',\n 'uncracked',\n 'unconquering',\n 'undulated',\n 'unharming']"
     },
     "execution_count": 38,
     "metadata": {},
     "output_type": "execute_result"
    }
   ],
   "source": [
    "[i for i in word_toked if i.startswith('un')]"
   ],
   "metadata": {
    "collapsed": false,
    "ExecuteTime": {
     "end_time": "2024-02-28T17:30:55.804232Z",
     "start_time": "2024-02-28T17:30:55.563809Z"
    }
   }
  }
 ],
 "metadata": {
  "kernelspec": {
   "display_name": "Python 3",
   "language": "python",
   "name": "python3"
  },
  "language_info": {
   "codemirror_mode": {
    "name": "ipython",
    "version": 2
   },
   "file_extension": ".py",
   "mimetype": "text/x-python",
   "name": "python",
   "nbconvert_exporter": "python",
   "pygments_lexer": "ipython2",
   "version": "2.7.6"
  }
 },
 "nbformat": 4,
 "nbformat_minor": 0
}
