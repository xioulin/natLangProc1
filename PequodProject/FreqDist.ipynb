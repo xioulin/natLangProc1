{
 "cells": [
  {
   "cell_type": "code",
   "execution_count": 36,
   "outputs": [],
   "source": [
    "import nltk\n",
    "from nltk.probability import FreqDist\n",
    "from nltk import word_tokenize\n",
    "from useful_NLP_functions import exclToTextRatio, filterStopandPunctList"
   ],
   "metadata": {
    "collapsed": false,
    "ExecuteTime": {
     "end_time": "2024-03-29T22:03:43.170186Z",
     "start_time": "2024-03-29T22:03:43.146665Z"
    }
   }
  },
  {
   "cell_type": "code",
   "execution_count": 24,
   "outputs": [],
   "source": [
    "book = open('mobyDick.txt','rb')\n",
    "with book as f:\n",
    "    md= f.readlines()\n",
    "book.close()"
   ],
   "metadata": {
    "collapsed": false,
    "ExecuteTime": {
     "end_time": "2024-03-29T21:53:31.021601Z",
     "start_time": "2024-03-29T21:53:30.983175Z"
    }
   }
  },
  {
   "cell_type": "code",
   "execution_count": 25,
   "outputs": [],
   "source": [
    "whole_book= md[0]"
   ],
   "metadata": {
    "collapsed": false,
    "ExecuteTime": {
     "end_time": "2024-03-29T21:53:31.027462Z",
     "start_time": "2024-03-29T21:53:31.009387Z"
    }
   }
  },
  {
   "cell_type": "code",
   "execution_count": 26,
   "outputs": [],
   "source": [
    "moby= str(md)"
   ],
   "metadata": {
    "collapsed": false,
    "ExecuteTime": {
     "end_time": "2024-03-29T21:53:31.063833Z",
     "start_time": "2024-03-29T21:53:31.045476Z"
    }
   }
  },
  {
   "cell_type": "code",
   "execution_count": 27,
   "outputs": [],
   "source": [
    "bk= moby[22318:]"
   ],
   "metadata": {
    "collapsed": false,
    "ExecuteTime": {
     "end_time": "2024-03-29T21:53:31.097195Z",
     "start_time": "2024-03-29T21:53:31.065521Z"
    }
   }
  },
  {
   "cell_type": "code",
   "execution_count": 28,
   "outputs": [
    {
     "data": {
      "text/plain": "'The ratio of exclamation marks to total text is 0.14%'"
     },
     "execution_count": 28,
     "metadata": {},
     "output_type": "execute_result"
    }
   ],
   "source": [
    "exclToTextRatio(bk)"
   ],
   "metadata": {
    "collapsed": false,
    "ExecuteTime": {
     "end_time": "2024-03-29T21:53:38.534753Z",
     "start_time": "2024-03-29T21:53:38.333028Z"
    }
   }
  },
  {
   "cell_type": "code",
   "execution_count": 32,
   "outputs": [],
   "source": [
    "w= word_tokenize(bk)"
   ],
   "metadata": {
    "collapsed": false,
    "ExecuteTime": {
     "end_time": "2024-03-29T22:01:59.708046Z",
     "start_time": "2024-03-29T22:01:56.459553Z"
    }
   }
  },
  {
   "cell_type": "code",
   "execution_count": 37,
   "outputs": [],
   "source": [
    "filtered = filterStopandPunctList(w)"
   ],
   "metadata": {
    "collapsed": false,
    "ExecuteTime": {
     "end_time": "2024-03-29T22:03:47.624212Z",
     "start_time": "2024-03-29T22:03:45.736802Z"
    }
   }
  },
  {
   "cell_type": "code",
   "execution_count": 38,
   "outputs": [
    {
     "data": {
      "text/plain": "FreqDist({'\\\\': 2806, '-': 2505, '--': 1616, '``': 1465, \"''\": 1391, 'one': 878, 'whale': 864, 'like': 618, 'upon': 533, 'man': 506, ...})"
     },
     "execution_count": 38,
     "metadata": {},
     "output_type": "execute_result"
    }
   ],
   "source": [
    "FreqDist(filtered)"
   ],
   "metadata": {
    "collapsed": false,
    "ExecuteTime": {
     "end_time": "2024-03-29T22:03:47.812638Z",
     "start_time": "2024-03-29T22:03:47.627773Z"
    }
   }
  },
  {
   "cell_type": "code",
   "execution_count": 39,
   "outputs": [],
   "source": [
    "removeList = ['\\\\','-','--','``',\"''\"]"
   ],
   "metadata": {
    "collapsed": false,
    "ExecuteTime": {
     "end_time": "2024-03-29T22:05:18.442950Z",
     "start_time": "2024-03-29T22:05:18.433452Z"
    }
   }
  },
  {
   "cell_type": "code",
   "execution_count": 43,
   "outputs": [],
   "source": [
    "filt=[words for words in filtered if words not in removeList]"
   ],
   "metadata": {
    "collapsed": false,
    "ExecuteTime": {
     "end_time": "2024-03-29T22:07:28.580854Z",
     "start_time": "2024-03-29T22:07:28.554366Z"
    }
   }
  },
  {
   "cell_type": "code",
   "execution_count": 44,
   "outputs": [
    {
     "data": {
      "text/plain": "FreqDist({'one': 878, 'whale': 864, 'like': 618, 'upon': 533, 'man': 506, 'ship': 501, 'Ahab': 501, 'ye': 455, 'old': 433, 'sea': 417, ...})"
     },
     "execution_count": 44,
     "metadata": {},
     "output_type": "execute_result"
    }
   ],
   "source": [
    "FreqDist(filt)"
   ],
   "metadata": {
    "collapsed": false,
    "ExecuteTime": {
     "end_time": "2024-03-29T22:07:38.394190Z",
     "start_time": "2024-03-29T22:07:38.246364Z"
    }
   }
  }
 ],
 "metadata": {
  "kernelspec": {
   "display_name": "Python 3",
   "language": "python",
   "name": "python3"
  },
  "language_info": {
   "codemirror_mode": {
    "name": "ipython",
    "version": 2
   },
   "file_extension": ".py",
   "mimetype": "text/x-python",
   "name": "python",
   "nbconvert_exporter": "python",
   "pygments_lexer": "ipython2",
   "version": "2.7.6"
  }
 },
 "nbformat": 4,
 "nbformat_minor": 0
}
