{
 "cells": [
  {
   "cell_type": "code",
   "execution_count": 31,
   "outputs": [],
   "source": [
    "import nltk\n",
    "import re\n",
    "from nltk import word_tokenize,sent_tokenize"
   ],
   "metadata": {
    "collapsed": false,
    "ExecuteTime": {
     "end_time": "2024-02-01T03:02:31.725913Z",
     "start_time": "2024-02-01T03:02:31.709828Z"
    }
   }
  },
  {
   "cell_type": "code",
   "execution_count": 2,
   "metadata": {
    "collapsed": true,
    "ExecuteTime": {
     "end_time": "2024-02-01T02:52:25.862228Z",
     "start_time": "2024-02-01T02:52:25.836643Z"
    }
   },
   "outputs": [],
   "source": [
    "mobyString = open('mobyDick.txt', 'r')\n",
    "with mobyString as f:\n",
    "    lines = f.readlines()\n",
    "mobDickString = lines[0]\n",
    "mobDickString=mobDickString[22240:]"
   ]
  },
  {
   "cell_type": "code",
   "execution_count": 19,
   "outputs": [
    {
     "data": {
      "text/plain": "<re.Match object; span=(399172, 399181), match='Whiteness'>"
     },
     "execution_count": 19,
     "metadata": {},
     "output_type": "execute_result"
    }
   ],
   "source": [
    "re.search(r'Whiteness',mobDickString)"
   ],
   "metadata": {
    "collapsed": false,
    "ExecuteTime": {
     "end_time": "2024-02-01T02:56:40.206658Z",
     "start_time": "2024-02-01T02:56:40.183172Z"
    }
   }
  },
  {
   "cell_type": "code",
   "execution_count": 20,
   "outputs": [
    {
     "data": {
      "text/plain": "<re.Match object; span=(420867, 420884), match='at the fiery hunt'>"
     },
     "execution_count": 20,
     "metadata": {},
     "output_type": "execute_result"
    }
   ],
   "source": [
    "re.search(r'at the fiery hunt',mobDickString)"
   ],
   "metadata": {
    "collapsed": false,
    "ExecuteTime": {
     "end_time": "2024-02-01T02:57:53.729799Z",
     "start_time": "2024-02-01T02:57:53.684297Z"
    }
   }
  },
  {
   "cell_type": "code",
   "execution_count": 22,
   "outputs": [],
   "source": [
    "ch_42 = mobDickString[399172:420884]"
   ],
   "metadata": {
    "collapsed": false,
    "ExecuteTime": {
     "end_time": "2024-02-01T02:58:23.433765Z",
     "start_time": "2024-02-01T02:58:23.422471Z"
    }
   }
  },
  {
   "cell_type": "code",
   "execution_count": 25,
   "outputs": [],
   "source": [
    "ch42_sT= sent_tokenize(ch_42)"
   ],
   "metadata": {
    "collapsed": false,
    "ExecuteTime": {
     "end_time": "2024-02-01T02:59:22.064858Z",
     "start_time": "2024-02-01T02:59:21.962667Z"
    }
   }
  },
  {
   "cell_type": "code",
   "execution_count": 56,
   "outputs": [
    {
     "data": {
      "text/plain": "100"
     },
     "execution_count": 56,
     "metadata": {},
     "output_type": "execute_result"
    }
   ],
   "source": [
    "len(ch42_sT)"
   ],
   "metadata": {
    "collapsed": false,
    "ExecuteTime": {
     "end_time": "2024-02-01T03:10:58.450654Z",
     "start_time": "2024-02-01T03:10:58.410013Z"
    }
   }
  },
  {
   "cell_type": "code",
   "execution_count": 53,
   "outputs": [],
   "source": [
    "w_S_Toked= [word_tokenize(i) for i in ch42_sT]"
   ],
   "metadata": {
    "collapsed": false,
    "ExecuteTime": {
     "end_time": "2024-02-01T03:10:27.154359Z",
     "start_time": "2024-02-01T03:10:27.097256Z"
    }
   }
  },
  {
   "cell_type": "code",
   "execution_count": 58,
   "outputs": [],
   "source": [
    "tagged_42 = [nltk.pos_tag(i) for i in w_S_Toked]"
   ],
   "metadata": {
    "collapsed": false,
    "ExecuteTime": {
     "end_time": "2024-02-01T03:12:10.463371Z",
     "start_time": "2024-02-01T03:12:09.625574Z"
    }
   }
  },
  {
   "cell_type": "code",
   "execution_count": 63,
   "outputs": [],
   "source": [
    "wTokeMD= word_tokenize(mobDickString)"
   ],
   "metadata": {
    "collapsed": false,
    "ExecuteTime": {
     "end_time": "2024-02-01T03:16:15.123346Z",
     "start_time": "2024-02-01T03:16:12.606025Z"
    }
   }
  },
  {
   "cell_type": "code",
   "execution_count": 64,
   "outputs": [],
   "source": [
    "each_word_tagged= nltk.pos_tag(wTokeMD)"
   ],
   "metadata": {
    "collapsed": false,
    "ExecuteTime": {
     "end_time": "2024-02-01T03:17:01.036040Z",
     "start_time": "2024-02-01T03:16:43.589206Z"
    }
   }
  },
  {
   "cell_type": "code",
   "execution_count": 71,
   "outputs": [],
   "source": [
    "first_twenty= each_word_tagged[:20]"
   ],
   "metadata": {
    "collapsed": false,
    "ExecuteTime": {
     "end_time": "2024-02-01T03:19:25.437890Z",
     "start_time": "2024-02-01T03:19:25.430128Z"
    }
   }
  },
  {
   "cell_type": "code",
   "execution_count": 72,
   "outputs": [
    {
     "data": {
      "text/plain": "[('CHAPTER', 'NN'),\n ('1', 'CD'),\n ('Loomings', 'NNP'),\n ('.', '.'),\n ('Call', 'VB'),\n ('me', 'PRP'),\n ('Ishmael', 'NNP'),\n ('.', '.'),\n ('Some', 'DT'),\n ('years', 'NNS'),\n ('ago', 'RB'),\n ('--', ':'),\n ('never', 'RB'),\n ('mind', 'VB'),\n ('how', 'WRB'),\n ('long', 'JJ'),\n ('precisely', 'RB'),\n ('--', ':'),\n ('having', 'VBG'),\n ('little', 'JJ')]"
     },
     "execution_count": 72,
     "metadata": {},
     "output_type": "execute_result"
    }
   ],
   "source": [
    "first_twenty"
   ],
   "metadata": {
    "collapsed": false,
    "ExecuteTime": {
     "end_time": "2024-02-01T03:19:26.885772Z",
     "start_time": "2024-02-01T03:19:26.875926Z"
    }
   }
  },
  {
   "cell_type": "code",
   "execution_count": 73,
   "outputs": [],
   "source": [
    "from collections import Counter"
   ],
   "metadata": {
    "collapsed": false,
    "ExecuteTime": {
     "end_time": "2024-02-01T03:19:41.932123Z",
     "start_time": "2024-02-01T03:19:41.930882Z"
    }
   }
  },
  {
   "cell_type": "code",
   "execution_count": 75,
   "outputs": [
    {
     "data": {
      "text/plain": "Counter({'RB': 3,\n         'NNP': 2,\n         '.': 2,\n         'VB': 2,\n         ':': 2,\n         'JJ': 2,\n         'NN': 1,\n         'CD': 1,\n         'PRP': 1,\n         'DT': 1,\n         'NNS': 1,\n         'WRB': 1,\n         'VBG': 1})"
     },
     "execution_count": 75,
     "metadata": {},
     "output_type": "execute_result"
    }
   ],
   "source": [
    "Counter([i[1] for i in first_twenty])"
   ],
   "metadata": {
    "collapsed": false,
    "ExecuteTime": {
     "end_time": "2024-02-01T03:21:29.288854Z",
     "start_time": "2024-02-01T03:21:29.268407Z"
    }
   }
  },
  {
   "cell_type": "code",
   "execution_count": 76,
   "outputs": [],
   "source": [
    "pos_counter= Counter(i[1] for i in each_word_tagged)"
   ],
   "metadata": {
    "collapsed": false,
    "ExecuteTime": {
     "end_time": "2024-02-01T03:25:57.763808Z",
     "start_time": "2024-02-01T03:25:57.703217Z"
    }
   }
  },
  {
   "cell_type": "markdown",
   "source": [
    "this goes through the entire word tokenized list, all of them have been part of speech tagged, and now it's just counting how many times each part of speech appears"
   ],
   "metadata": {
    "collapsed": false
   }
  },
  {
   "cell_type": "code",
   "execution_count": 78,
   "outputs": [
    {
     "data": {
      "text/plain": "Counter({'NN': 35128,\n         'IN': 28424,\n         'DT': 25486,\n         ',': 18947,\n         'JJ': 17727,\n         'RB': 13549,\n         'PRP': 11462,\n         'NNS': 10424,\n         '.': 9982,\n         'NNP': 9344,\n         'CC': 9218,\n         'VBD': 8894,\n         ':': 8456,\n         'VB': 6558,\n         'VBN': 5173,\n         'VBG': 4952,\n         'PRP$': 4750,\n         'TO': 4527,\n         'VBZ': 3857,\n         'VBP': 3615,\n         \"''\": 2868,\n         'MD': 2269,\n         'CD': 1869,\n         '``': 1465,\n         'POS': 1355,\n         'WRB': 1191,\n         'RP': 1126,\n         'WDT': 1071,\n         'WP': 1006,\n         'JJR': 575,\n         'JJS': 572,\n         'EX': 540,\n         'PDT': 501,\n         'RBR': 337,\n         'UH': 289,\n         '(': 200,\n         ')': 200,\n         'RBS': 193,\n         'SYM': 144,\n         'NNPS': 108,\n         'WP$': 84,\n         'FW': 65,\n         '$': 2})"
     },
     "execution_count": 78,
     "metadata": {},
     "output_type": "execute_result"
    }
   ],
   "source": [
    "pos_counter"
   ],
   "metadata": {
    "collapsed": false,
    "ExecuteTime": {
     "end_time": "2024-02-01T03:31:51.048683Z",
     "start_time": "2024-02-01T03:31:51.039527Z"
    }
   }
  },
  {
   "cell_type": "code",
   "execution_count": 81,
   "outputs": [
    {
     "ename": "TypeError",
     "evalue": "unhashable type: 'slice'",
     "output_type": "error",
     "traceback": [
      "\u001B[0;31m---------------------------------------------------------------------------\u001B[0m",
      "\u001B[0;31mTypeError\u001B[0m                                 Traceback (most recent call last)",
      "Cell \u001B[0;32mIn[81], line 1\u001B[0m\n\u001B[0;32m----> 1\u001B[0m \u001B[43mpos_counter\u001B[49m\u001B[43m[\u001B[49m\u001B[43m:\u001B[49m\u001B[38;5;241;43m4\u001B[39;49m\u001B[43m]\u001B[49m\n",
      "\u001B[0;31mTypeError\u001B[0m: unhashable type: 'slice'"
     ]
    }
   ],
   "source": [],
   "metadata": {
    "collapsed": false,
    "ExecuteTime": {
     "end_time": "2024-02-01T03:36:47.893459Z",
     "start_time": "2024-02-01T03:36:47.854258Z"
    }
   }
  },
  {
   "cell_type": "code",
   "execution_count": null,
   "outputs": [],
   "source": [],
   "metadata": {
    "collapsed": false
   }
  }
 ],
 "metadata": {
  "kernelspec": {
   "display_name": "Python 3",
   "language": "python",
   "name": "python3"
  },
  "language_info": {
   "codemirror_mode": {
    "name": "ipython",
    "version": 2
   },
   "file_extension": ".py",
   "mimetype": "text/x-python",
   "name": "python",
   "nbconvert_exporter": "python",
   "pygments_lexer": "ipython2",
   "version": "2.7.6"
  }
 },
 "nbformat": 4,
 "nbformat_minor": 0
}
