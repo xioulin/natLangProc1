{
 "cells": [
  {
   "cell_type": "code",
   "execution_count": 24,
   "outputs": [],
   "source": [
    "import pandas as pd\n",
    "import re\n",
    "import sqlite3"
   ],
   "metadata": {
    "collapsed": false,
    "ExecuteTime": {
     "end_time": "2024-01-26T22:23:21.853366Z",
     "start_time": "2024-01-26T22:23:21.849545Z"
    }
   }
  },
  {
   "cell_type": "code",
   "execution_count": 8,
   "metadata": {
    "collapsed": true,
    "ExecuteTime": {
     "end_time": "2024-01-26T22:11:47.415397Z",
     "start_time": "2024-01-26T22:11:47.230799Z"
    }
   },
   "outputs": [],
   "source": [
    "hemingwayFile = open(r'SunAlsoRises.txt','r')\n",
    "with hemingwayFile as f:\n",
    "    wholeBook= f.read()\n",
    "hemingwayFile.close()"
   ]
  },
  {
   "cell_type": "code",
   "execution_count": 9,
   "outputs": [],
   "source": [
    "fromEpigraph=wholeBook[725:]\n",
    "fromFirstSent=fromEpigraph[814:]\n",
    "chapter1= fromFirstSent[:7309]"
   ],
   "metadata": {
    "collapsed": false,
    "ExecuteTime": {
     "end_time": "2024-01-26T22:11:47.416792Z",
     "start_time": "2024-01-26T22:11:47.238609Z"
    }
   }
  },
  {
   "cell_type": "code",
   "execution_count": 10,
   "outputs": [
    {
     "data": {
      "text/plain": "'Robert Cohn was once middleweight boxing champion '"
     },
     "execution_count": 10,
     "metadata": {},
     "output_type": "execute_result"
    }
   ],
   "source": [
    "chapter1[:50]"
   ],
   "metadata": {
    "collapsed": false,
    "ExecuteTime": {
     "end_time": "2024-01-26T22:11:47.454982Z",
     "start_time": "2024-01-26T22:11:47.259165Z"
    }
   }
  },
  {
   "cell_type": "code",
   "execution_count": 11,
   "outputs": [],
   "source": [
    "ch_1_dialogue= chapter1[5597:]"
   ],
   "metadata": {
    "collapsed": false,
    "ExecuteTime": {
     "end_time": "2024-01-26T22:11:47.455873Z",
     "start_time": "2024-01-26T22:11:47.287947Z"
    }
   }
  },
  {
   "cell_type": "code",
   "execution_count": 12,
   "outputs": [
    {
     "data": {
      "text/plain": "'in Alsace.\\n“I know a girl in Strasbourg who can show us the town,” I said.\\n\\nSomebody kicked me under the table. I thought it was accidental and went\\non: “She’s been there two years and knows everything there is to know\\nabout the town. She’s a swell girl.”\\n\\nI was kicked again under the table and, looking, saw Frances, Robert’s\\nlady, her chin lifting and her face hardening.\\n\\n“Hell,” I said, “why go to Strasbourg? We could go up to Bruges, or to\\nthe Ardennes.”\\n\\nCohn looked relieved. I was not kicked again. I said good-night and went\\nout. Cohn said he wanted to buy a paper and would walk to the corner\\nwith me. “For God’s sake,” he said, “why did you say that about that\\ngirl in Strasbourg for? Didn’t you see Frances?”\\n\\n“No, why should I? If I know an American girl that lives in Strasbourg\\nwhat the hell is it to Frances?”\\n\\n“It doesn’t make any difference. Any girl. I couldn’t go, that would be\\nall.”\\n\\n“Don’t be silly.”\\n\\n“You don’t know Frances. Any girl at all. Didn’t you see the way she\\nlooked?”\\n\\n“Oh, well,” I said, “let’s go to Senlis.”\\n\\n“Don’t get sore.”\\n\\n“I’m not sore. Senlis is a good place and we can stay at the Grand Cerf\\nand take a hike in the woods and come home.”\\n\\n“Good, that will be fine.”\\n\\n“Well, I’ll see you to-morrow at the courts,” I said.\\n\\n“Good-night, Jake,” he said, and started back to the café.\\n\\n“You forgot to get your paper,” I said.\\n\\n“That’s so.” He walked with me up to the kiosque at the corner. “You are\\nnot sore, are you, Jake?” He turned with the paper in his hand.\\n\\n“No, why should I be?”\\n\\n“See you at tennis,” he said. I watched him walk back to the café\\nholding his paper. I rather liked him and evidently she led him quite a\\nlife.\\n\\n\\n\\n\\n                                '"
     },
     "execution_count": 12,
     "metadata": {},
     "output_type": "execute_result"
    }
   ],
   "source": [
    "ch_1_dialogue"
   ],
   "metadata": {
    "collapsed": false,
    "ExecuteTime": {
     "end_time": "2024-01-26T22:11:47.457759Z",
     "start_time": "2024-01-26T22:11:47.302306Z"
    }
   }
  },
  {
   "cell_type": "markdown",
   "source": [],
   "metadata": {
    "collapsed": false
   }
  },
  {
   "cell_type": "code",
   "execution_count": 13,
   "outputs": [],
   "source": [
    "whole_book_clean = fromFirstSent.replace('\\n',\"\")"
   ],
   "metadata": {
    "collapsed": false,
    "ExecuteTime": {
     "end_time": "2024-01-26T22:11:47.465449Z",
     "start_time": "2024-01-26T22:11:47.322477Z"
    }
   }
  },
  {
   "cell_type": "code",
   "execution_count": 14,
   "outputs": [
    {
     "data": {
      "text/plain": "'tennis, and boxed at a local gymnasium.I first became aware of his lady’s attitude toward him one night afterthe three of us had dined together. We had dined at l’Avenue’s andafterward went to the Café de Versailles for coffee. We had several_fines_ after the coffee, and I said I must be going. Cohn had beentalking about the two of us going off somewhere on a weekend trip. Hewanted to get out of town and get in a good walk. I suggested we fly toStrasbourg and walk up to Saint Odile, or somewhere or other in Alsace.“I know a girl in Strasbourg who can show us the town,” I said.Somebody kicked me under the table. I thought it was accidental and wenton: “She’s been there two years and knows everything there is to knowabout the town. She’s a swell girl.”I was kicked again under the table and, looking, saw Frances, Robert’slady, her chin lifting and her face hardening.“Hell,” I said, “why go to Strasbourg? We could go up to Bruges, or tothe Ardennes.”Cohn looked relieved. I was not kicked again. I said good-night and wentout. Cohn said he wanted to buy a paper and would walk to the cornerwith me. “For God’s sake,” he said, “why did you say that about thatgirl in Strasbourg for? Didn’t you see Frances?”“No, why should I? If I know an American girl that lives in Strasbourgwhat the hell is it to Frances?”“It doesn’t make any difference. Any girl. I couldn’t go, that would beall.”“Don’t be silly.”“You don’t know Frances. Any girl at all. Didn’t you see the way shelooked?”“Oh, well,” I'"
     },
     "execution_count": 14,
     "metadata": {},
     "output_type": "execute_result"
    }
   ],
   "source": [
    "whole_book_clean[5000:6500]"
   ],
   "metadata": {
    "collapsed": false,
    "ExecuteTime": {
     "end_time": "2024-01-26T22:11:47.469301Z",
     "start_time": "2024-01-26T22:11:47.361228Z"
    }
   }
  },
  {
   "cell_type": "code",
   "execution_count": 15,
   "outputs": [],
   "source": [
    "quotes_whole_book=re.findall(r'“.+?”',whole_book_clean)"
   ],
   "metadata": {
    "collapsed": false,
    "ExecuteTime": {
     "end_time": "2024-01-26T22:11:47.480628Z",
     "start_time": "2024-01-26T22:11:47.367089Z"
    }
   }
  },
  {
   "cell_type": "code",
   "execution_count": 16,
   "outputs": [
    {
     "data": {
      "text/plain": "['“I know a girl in Strasbourg who can show us the town,”',\n '“She’s been there two years and knows everything there is to knowabout the town. She’s a swell girl.”',\n '“Hell,”',\n '“why go to Strasbourg? We could go up to Bruges, or tothe Ardennes.”',\n '“For God’s sake,”',\n '“why did you say that about thatgirl in Strasbourg for? Didn’t you see Frances?”',\n '“No, why should I? If I know an American girl that lives in Strasbourgwhat the hell is it to Frances?”',\n '“It doesn’t make any difference. Any girl. I couldn’t go, that would beall.”',\n '“Don’t be silly.”',\n '“You don’t know Frances. Any girl at all. Didn’t you see the way shelooked?”',\n '“Oh, well,”',\n '“let’s go to Senlis.”',\n '“Don’t get sore.”',\n '“I’m not sore. Senlis is a good place and we can stay at the Grand Cerfand take a hike in the woods and come home.”',\n '“Good, that will be fine.”',\n '“Well, I’ll see you to-morrow at the courts,”',\n '“Good-night, Jake,”',\n '“You forgot to get your paper,”',\n '“That’s so.”',\n '“You arenot sore, are you, Jake?”',\n '“No, why should I be?”',\n '“See you at tennis,”',\n '“ThePurple Land.”',\n '“The Purple Land”',\n '“The Purple Land”']"
     },
     "execution_count": 16,
     "metadata": {},
     "output_type": "execute_result"
    }
   ],
   "source": [
    "quotes_whole_book[:25]"
   ],
   "metadata": {
    "collapsed": false,
    "ExecuteTime": {
     "end_time": "2024-01-26T22:11:47.482491Z",
     "start_time": "2024-01-26T22:11:47.402759Z"
    }
   }
  },
  {
   "cell_type": "code",
   "execution_count": 17,
   "outputs": [],
   "source": [
    "df_quotes = pd.DataFrame(quotes_whole_book)"
   ],
   "metadata": {
    "collapsed": false,
    "ExecuteTime": {
     "end_time": "2024-01-26T22:11:47.483343Z",
     "start_time": "2024-01-26T22:11:47.426755Z"
    }
   }
  },
  {
   "cell_type": "code",
   "execution_count": 18,
   "outputs": [],
   "source": [
    "df_quotes['quotes']=df_quotes.iloc[:,0]"
   ],
   "metadata": {
    "collapsed": false,
    "ExecuteTime": {
     "end_time": "2024-01-26T22:11:47.672442Z",
     "start_time": "2024-01-26T22:11:47.437643Z"
    }
   }
  },
  {
   "cell_type": "code",
   "execution_count": 19,
   "outputs": [
    {
     "data": {
      "text/plain": "0       “I know a girl in Strasbourg who can show us t...\n1       “She’s been there two years and knows everythi...\n2                                                 “Hell,”\n3       “why go to Strasbourg? We could go up to Bruge...\n4                                       “For God’s sake,”\n                              ...                        \n3309                                  “I’ll finish this,”\n3310                                          “Oh, Jake,”\n3311    “we could have had such a damned good timetoge...\n3312                                               “Yes,”\n3313                       “Isn’t it pretty to think so?”\nName: 0, Length: 3314, dtype: object"
     },
     "execution_count": 19,
     "metadata": {},
     "output_type": "execute_result"
    }
   ],
   "source": [
    "df_quotes.pop(0)"
   ],
   "metadata": {
    "collapsed": false,
    "ExecuteTime": {
     "end_time": "2024-01-26T22:11:47.691773Z",
     "start_time": "2024-01-26T22:11:47.447594Z"
    }
   }
  },
  {
   "cell_type": "code",
   "execution_count": 25,
   "outputs": [
    {
     "data": {
      "text/plain": "                                                 quotes\n0     “I know a girl in Strasbourg who can show us t...\n1     “She’s been there two years and knows everythi...\n2                                               “Hell,”\n3     “why go to Strasbourg? We could go up to Bruge...\n4                                     “For God’s sake,”\n...                                                 ...\n3309                                “I’ll finish this,”\n3310                                        “Oh, Jake,”\n3311  “we could have had such a damned good timetoge...\n3312                                             “Yes,”\n3313                     “Isn’t it pretty to think so?”\n\n[3314 rows x 1 columns]",
      "text/html": "<div>\n<style scoped>\n    .dataframe tbody tr th:only-of-type {\n        vertical-align: middle;\n    }\n\n    .dataframe tbody tr th {\n        vertical-align: top;\n    }\n\n    .dataframe thead th {\n        text-align: right;\n    }\n</style>\n<table border=\"1\" class=\"dataframe\">\n  <thead>\n    <tr style=\"text-align: right;\">\n      <th></th>\n      <th>quotes</th>\n    </tr>\n  </thead>\n  <tbody>\n    <tr>\n      <th>0</th>\n      <td>“I know a girl in Strasbourg who can show us t...</td>\n    </tr>\n    <tr>\n      <th>1</th>\n      <td>“She’s been there two years and knows everythi...</td>\n    </tr>\n    <tr>\n      <th>2</th>\n      <td>“Hell,”</td>\n    </tr>\n    <tr>\n      <th>3</th>\n      <td>“why go to Strasbourg? We could go up to Bruge...</td>\n    </tr>\n    <tr>\n      <th>4</th>\n      <td>“For God’s sake,”</td>\n    </tr>\n    <tr>\n      <th>...</th>\n      <td>...</td>\n    </tr>\n    <tr>\n      <th>3309</th>\n      <td>“I’ll finish this,”</td>\n    </tr>\n    <tr>\n      <th>3310</th>\n      <td>“Oh, Jake,”</td>\n    </tr>\n    <tr>\n      <th>3311</th>\n      <td>“we could have had such a damned good timetoge...</td>\n    </tr>\n    <tr>\n      <th>3312</th>\n      <td>“Yes,”</td>\n    </tr>\n    <tr>\n      <th>3313</th>\n      <td>“Isn’t it pretty to think so?”</td>\n    </tr>\n  </tbody>\n</table>\n<p>3314 rows × 1 columns</p>\n</div>"
     },
     "execution_count": 25,
     "metadata": {},
     "output_type": "execute_result"
    }
   ],
   "source": [
    "df_quotes"
   ],
   "metadata": {
    "collapsed": false,
    "ExecuteTime": {
     "end_time": "2024-01-26T22:23:57.606433Z",
     "start_time": "2024-01-26T22:23:57.597579Z"
    }
   }
  },
  {
   "cell_type": "markdown",
   "source": [
    "CREATE an SQLite connection"
   ],
   "metadata": {
    "collapsed": false
   }
  },
  {
   "cell_type": "code",
   "execution_count": 26,
   "outputs": [],
   "source": [
    "database=sqlite3.connect('/Users/pkc/PycharmProjects/natLangProc1/Chatterbot/TSARchat.db')"
   ],
   "metadata": {
    "collapsed": false,
    "ExecuteTime": {
     "end_time": "2024-01-26T22:27:52.510461Z",
     "start_time": "2024-01-26T22:27:52.496330Z"
    }
   }
  },
  {
   "cell_type": "code",
   "execution_count": 29,
   "outputs": [
    {
     "data": {
      "text/plain": "3314"
     },
     "execution_count": 29,
     "metadata": {},
     "output_type": "execute_result"
    }
   ],
   "source": [
    "df_quotes.to_sql(name=\"TSARChat\", con=database)"
   ],
   "metadata": {
    "collapsed": false,
    "ExecuteTime": {
     "end_time": "2024-01-26T22:31:17.312977Z",
     "start_time": "2024-01-26T22:31:17.212483Z"
    }
   }
  },
  {
   "cell_type": "code",
   "execution_count": 30,
   "outputs": [],
   "source": [
    "database.close()"
   ],
   "metadata": {
    "collapsed": false,
    "ExecuteTime": {
     "end_time": "2024-01-26T22:31:39.517285Z",
     "start_time": "2024-01-26T22:31:39.511842Z"
    }
   }
  }
 ],
 "metadata": {
  "kernelspec": {
   "display_name": "Python 3",
   "language": "python",
   "name": "python3"
  },
  "language_info": {
   "codemirror_mode": {
    "name": "ipython",
    "version": 2
   },
   "file_extension": ".py",
   "mimetype": "text/x-python",
   "name": "python",
   "nbconvert_exporter": "python",
   "pygments_lexer": "ipython2",
   "version": "2.7.6"
  }
 },
 "nbformat": 4,
 "nbformat_minor": 0
}
