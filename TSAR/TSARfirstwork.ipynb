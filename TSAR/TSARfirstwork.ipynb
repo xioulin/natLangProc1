{
 "cells": [
  {
   "cell_type": "code",
   "execution_count": 11,
   "metadata": {
    "collapsed": true,
    "ExecuteTime": {
     "end_time": "2024-01-29T19:30:47.432287Z",
     "start_time": "2024-01-29T19:30:47.412818Z"
    }
   },
   "outputs": [],
   "source": [
    "from useful_NLP_functions import exclToTextRatio,lexical_density,findWordsLongerThan,word_tokenize,sent_tokenize,filterStopWordsList, filterStopandPunctList, filterPunct_Num_Contractions,returnBasicStatsList, cleanWordTokedSentences,returnBasicWordsPerSentStatsList,    words_per_sentList\n"
   ]
  },
  {
   "cell_type": "code",
   "execution_count": 4,
   "outputs": [],
   "source": [
    "hemingwayFile = open(r'SunAlsoRises.txt', 'r')\n",
    "with hemingwayFile as f:\n",
    "    wholeBook= f.read()\n",
    "hemingwayFile.close()"
   ],
   "metadata": {
    "collapsed": false,
    "ExecuteTime": {
     "end_time": "2024-01-29T19:26:58.437943Z",
     "start_time": "2024-01-29T19:26:58.420479Z"
    }
   }
  },
  {
   "cell_type": "code",
   "execution_count": 5,
   "outputs": [],
   "source": [
    "fromEpigraph= wholeBook[725:]"
   ],
   "metadata": {
    "collapsed": false,
    "ExecuteTime": {
     "end_time": "2024-01-29T19:26:58.453925Z",
     "start_time": "2024-01-29T19:26:58.432906Z"
    }
   }
  },
  {
   "cell_type": "code",
   "execution_count": 6,
   "outputs": [],
   "source": [
    "#wordTokeTSARList= word_tokenize(fromEpigraph)"
   ],
   "metadata": {
    "collapsed": false,
    "ExecuteTime": {
     "end_time": "2024-01-29T19:26:59.586193Z",
     "start_time": "2024-01-29T19:26:58.456852Z"
    }
   }
  },
  {
   "cell_type": "code",
   "execution_count": 17,
   "outputs": [
    {
     "data": {
      "text/plain": "'r generation cometh; but\\n    the earth abideth forever. . . . The sun also ariseth, and the\\n    sun goeth down, and hasteth to the place where he arose. . . .\\n    The wind goeth toward the south, and '"
     },
     "execution_count": 17,
     "metadata": {},
     "output_type": "execute_result"
    }
   ],
   "source": [
    "fromEpigraph[150:350]"
   ],
   "metadata": {
    "collapsed": false,
    "ExecuteTime": {
     "end_time": "2024-01-29T19:34:29.355237Z",
     "start_time": "2024-01-29T19:34:29.330416Z"
    }
   }
  },
  {
   "cell_type": "markdown",
   "source": [
    "cleanWordTokedSentences is a function that sent_tokenizes, then word tokenizes each sentence and filters for contractions and odd stuff"
   ],
   "metadata": {
    "collapsed": false
   }
  },
  {
   "cell_type": "code",
   "execution_count": null,
   "outputs": [],
   "source": [],
   "metadata": {
    "collapsed": false
   }
  },
  {
   "cell_type": "code",
   "execution_count": 7,
   "outputs": [],
   "source": [
    "cleanWordTokeSent= cleanWordTokedSentences(fromEpigraph)"
   ],
   "metadata": {
    "collapsed": false,
    "ExecuteTime": {
     "end_time": "2024-01-29T19:28:34.532839Z",
     "start_time": "2024-01-29T19:28:31.962627Z"
    }
   }
  },
  {
   "cell_type": "markdown",
   "source": [
    "the epigraphs are a mess, this is to basically start with the first chapter"
   ],
   "metadata": {
    "collapsed": false
   }
  },
  {
   "cell_type": "code",
   "execution_count": 8,
   "outputs": [],
   "source": [
    "cleanWorSenToke= cleanWordTokeSent[12:]"
   ],
   "metadata": {
    "collapsed": false,
    "ExecuteTime": {
     "end_time": "2024-01-29T19:28:38.209337Z",
     "start_time": "2024-01-29T19:28:38.192749Z"
    }
   }
  },
  {
   "cell_type": "code",
   "execution_count": 9,
   "outputs": [],
   "source": [
    "firstPar=cleanWorSenToke[:13]"
   ],
   "metadata": {
    "collapsed": false,
    "ExecuteTime": {
     "end_time": "2024-01-29T19:28:49.567484Z",
     "start_time": "2024-01-29T19:28:49.545025Z"
    }
   }
  },
  {
   "cell_type": "code",
   "execution_count": 12,
   "outputs": [],
   "source": [
    "words_per_sent_LengthList= words_per_sentList(cleanWorSenToke)"
   ],
   "metadata": {
    "collapsed": false,
    "ExecuteTime": {
     "end_time": "2024-01-29T19:30:51.505374Z",
     "start_time": "2024-01-29T19:30:51.480467Z"
    }
   }
  },
  {
   "cell_type": "code",
   "execution_count": 13,
   "outputs": [],
   "source": [
    "# returnBasicWordsPerSentStatsList(words_per_sent_LengthList)\n",
    "# print([i for i in words_per_sent_LengthList if i>80])\n",
    "import matplotlib.pyplot as plt\n",
    "words_per_sent_LengthList.sort(reverse=True)"
   ],
   "metadata": {
    "collapsed": false,
    "ExecuteTime": {
     "end_time": "2024-01-29T19:31:08.829537Z",
     "start_time": "2024-01-29T19:31:07.073242Z"
    }
   }
  },
  {
   "cell_type": "code",
   "execution_count": 14,
   "outputs": [],
   "source": [
    "longestSentWToked= cleanWorSenToke[2027:2028]"
   ],
   "metadata": {
    "collapsed": false,
    "ExecuteTime": {
     "end_time": "2024-01-29T19:31:17.216104Z",
     "start_time": "2024-01-29T19:31:17.187646Z"
    }
   }
  },
  {
   "cell_type": "code",
   "execution_count": 15,
   "outputs": [],
   "source": [
    "longestSent = fromEpigraph[134350-970:134350]"
   ],
   "metadata": {
    "collapsed": false,
    "ExecuteTime": {
     "end_time": "2024-01-29T19:31:23.634831Z",
     "start_time": "2024-01-29T19:31:23.618008Z"
    }
   }
  },
  {
   "cell_type": "code",
   "execution_count": null,
   "outputs": [],
   "source": [],
   "metadata": {
    "collapsed": false
   }
  }
 ],
 "metadata": {
  "kernelspec": {
   "display_name": "Python 3",
   "language": "python",
   "name": "python3"
  },
  "language_info": {
   "codemirror_mode": {
    "name": "ipython",
    "version": 2
   },
   "file_extension": ".py",
   "mimetype": "text/x-python",
   "name": "python",
   "nbconvert_exporter": "python",
   "pygments_lexer": "ipython2",
   "version": "2.7.6"
  }
 },
 "nbformat": 4,
 "nbformat_minor": 0
}
