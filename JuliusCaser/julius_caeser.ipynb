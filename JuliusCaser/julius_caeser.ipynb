{
 "cells": [
  {
   "cell_type": "code",
   "execution_count": 54,
   "metadata": {
    "collapsed": true,
    "ExecuteTime": {
     "start_time": "2024-01-16T17:13:48.714903Z",
     "end_time": "2024-01-16T17:13:48.725423Z"
    }
   },
   "outputs": [],
   "source": [
    "import nltk\n",
    "import ssl\n",
    "from nltk.corpus import gutenberg\n",
    "import re\n",
    "from nltk import word_tokenize, sent_tokenize"
   ]
  },
  {
   "cell_type": "code",
   "execution_count": 27,
   "outputs": [],
   "source": [
    "try:\n",
    "    _create_unverified_https_context = ssl._create_unverified_context\n",
    "except AttributeError:\n",
    "    pass\n",
    "else:\n",
    "    ssl._create_default_https_context = _create_unverified_https_context"
   ],
   "metadata": {
    "collapsed": false,
    "ExecuteTime": {
     "start_time": "2024-01-16T17:07:47.718766Z",
     "end_time": "2024-01-16T17:07:47.741355Z"
    }
   }
  },
  {
   "cell_type": "code",
   "execution_count": 28,
   "outputs": [
    {
     "name": "stderr",
     "output_type": "stream",
     "text": [
      "[nltk_data] Downloading package gutenberg to /Users/pkc/nltk_data...\n",
      "[nltk_data]   Package gutenberg is already up-to-date!\n"
     ]
    },
    {
     "data": {
      "text/plain": "True"
     },
     "execution_count": 28,
     "metadata": {},
     "output_type": "execute_result"
    }
   ],
   "source": [
    "nltk.download('gutenberg')"
   ],
   "metadata": {
    "collapsed": false,
    "ExecuteTime": {
     "start_time": "2024-01-16T17:07:47.736962Z",
     "end_time": "2024-01-16T17:07:47.767357Z"
    }
   }
  },
  {
   "cell_type": "code",
   "execution_count": 29,
   "outputs": [],
   "source": [
    "caeser_id=gutenberg.fileids()[-4]"
   ],
   "metadata": {
    "collapsed": false,
    "ExecuteTime": {
     "start_time": "2024-01-16T17:07:47.753581Z",
     "end_time": "2024-01-16T17:07:47.840545Z"
    }
   }
  },
  {
   "cell_type": "code",
   "execution_count": 30,
   "outputs": [],
   "source": [
    "caeser_sent=gutenberg.sents(caeser_id)"
   ],
   "metadata": {
    "collapsed": false,
    "ExecuteTime": {
     "start_time": "2024-01-16T17:07:47.786137Z",
     "end_time": "2024-01-16T17:07:47.841276Z"
    }
   }
  },
  {
   "cell_type": "code",
   "execution_count": 42,
   "outputs": [
    {
     "data": {
      "text/plain": "['Hence',\n ':',\n 'home',\n 'you',\n 'idle',\n 'Creatures',\n ',',\n 'get',\n 'you',\n 'home',\n ':',\n 'Is',\n 'this',\n 'a',\n 'Holiday',\n '?']"
     },
     "execution_count": 42,
     "metadata": {},
     "output_type": "execute_result"
    }
   ],
   "source": [
    "caeser_sent[5:7][0]"
   ],
   "metadata": {
    "collapsed": false,
    "ExecuteTime": {
     "start_time": "2024-01-16T17:09:58.141912Z",
     "end_time": "2024-01-16T17:09:58.161331Z"
    }
   }
  },
  {
   "cell_type": "code",
   "execution_count": 48,
   "outputs": [],
   "source": [
    "caeser_words = gutenberg.words(caeser_id)"
   ],
   "metadata": {
    "collapsed": false,
    "ExecuteTime": {
     "start_time": "2024-01-16T17:12:46.249175Z",
     "end_time": "2024-01-16T17:12:46.260961Z"
    }
   }
  },
  {
   "cell_type": "code",
   "execution_count": 60,
   "outputs": [
    {
     "data": {
      "text/plain": "['Commoners',\n 'ouer',\n 'the',\n 'Stage',\n '.',\n 'Flauius',\n '.',\n 'Hence',\n ':',\n 'home',\n 'you',\n 'idle',\n 'Creatures',\n ',',\n 'get',\n 'you',\n 'home',\n ':',\n 'Is',\n 'this',\n 'a',\n 'Holiday',\n '?',\n 'What',\n ',',\n 'know',\n 'you']"
     },
     "execution_count": 60,
     "metadata": {},
     "output_type": "execute_result"
    }
   ],
   "source": [],
   "metadata": {
    "collapsed": false,
    "ExecuteTime": {
     "start_time": "2024-01-16T17:17:42.443422Z",
     "end_time": "2024-01-16T17:17:42.463018Z"
    }
   }
  },
  {
   "cell_type": "code",
   "execution_count": 52,
   "outputs": [
    {
     "data": {
      "text/plain": "603"
     },
     "execution_count": 52,
     "metadata": {},
     "output_type": "execute_result"
    }
   ],
   "source": [
    "caeser_words.index('fault')"
   ],
   "metadata": {
    "collapsed": false,
    "ExecuteTime": {
     "start_time": "2024-01-16T17:13:25.484537Z",
     "end_time": "2024-01-16T17:13:25.505064Z"
    }
   }
  },
  {
   "cell_type": "code",
   "execution_count": 71,
   "outputs": [
    {
     "data": {
      "text/plain": "[['Men', 'at', 'sometime', ',', 'are', 'Masters', 'of', 'their', 'Fates', '.'],\n ['The',\n  'fault',\n  '(',\n  'deere',\n  'Brutus',\n  ')',\n  'is',\n  'not',\n  'in',\n  'our',\n  'Starres',\n  ',',\n  'But',\n  'in',\n  'our',\n  'Selues',\n  ',',\n  'that',\n  'we',\n  'are',\n  'vnderlings',\n  '.'],\n ['Brutus',\n  'and',\n  'Caesar',\n  ':',\n  'What',\n  'should',\n  'be',\n  'in',\n  'that',\n  'Caesar',\n  '?'],\n ['Why',\n  'should',\n  'that',\n  'name',\n  'be',\n  'sounded',\n  'more',\n  'then',\n  'yours',\n  'Write',\n  'them',\n  'together',\n  ':',\n  'Yours',\n  ',',\n  'is',\n  'as',\n  'faire',\n  'a',\n  'Name',\n  ':',\n  'Sound',\n  'them',\n  ',',\n  'it',\n  'doth',\n  'become',\n  'the',\n  'mouth',\n  'aswell',\n  ':',\n  'Weigh',\n  'them',\n  ',',\n  'it',\n  'is',\n  'as',\n  'heauy',\n  ':',\n  'Coniure',\n  'with',\n  \"'\",\n  'em',\n  ',',\n  'Brutus',\n  'will',\n  'start',\n  'a',\n  'Spirit',\n  'as',\n  'soone',\n  'as',\n  'Caesar',\n  '.'],\n ['Now',\n  'in',\n  'the',\n  'names',\n  'of',\n  'all',\n  'the',\n  'Gods',\n  'at',\n  'once',\n  ',',\n  'Vpon',\n  'what',\n  'meate',\n  'doth',\n  'this',\n  'our',\n  'Caesar',\n  'feede',\n  ',',\n  'That',\n  'he',\n  'is',\n  'growne',\n  'so',\n  'great',\n  '?']]"
     },
     "execution_count": 71,
     "metadata": {},
     "output_type": "execute_result"
    }
   ],
   "source": [
    "caeser_sent[165:170]"
   ],
   "metadata": {
    "collapsed": false,
    "ExecuteTime": {
     "start_time": "2024-01-16T17:24:17.895954Z",
     "end_time": "2024-01-16T17:24:17.911105Z"
    }
   }
  },
  {
   "cell_type": "code",
   "execution_count": 75,
   "outputs": [],
   "source": [
    "fault_in_our_sent = ' '.join(caeser_sent[166])"
   ],
   "metadata": {
    "collapsed": false,
    "ExecuteTime": {
     "start_time": "2024-01-16T17:25:55.222397Z",
     "end_time": "2024-01-16T17:25:55.231488Z"
    }
   }
  },
  {
   "cell_type": "code",
   "execution_count": null,
   "outputs": [],
   "source": [],
   "metadata": {
    "collapsed": false
   }
  }
 ],
 "metadata": {
  "kernelspec": {
   "display_name": "Python 3",
   "language": "python",
   "name": "python3"
  },
  "language_info": {
   "codemirror_mode": {
    "name": "ipython",
    "version": 2
   },
   "file_extension": ".py",
   "mimetype": "text/x-python",
   "name": "python",
   "nbconvert_exporter": "python",
   "pygments_lexer": "ipython2",
   "version": "2.7.6"
  }
 },
 "nbformat": 4,
 "nbformat_minor": 0
}
