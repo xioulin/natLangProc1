{
 "cells": [
  {
   "cell_type": "code",
   "execution_count": 77,
   "metadata": {
    "collapsed": true,
    "ExecuteTime": {
     "start_time": "2024-01-16T17:29:52.985193Z",
     "end_time": "2024-01-16T17:29:53.004087Z"
    }
   },
   "outputs": [],
   "source": [
    "import nltk\n",
    "import ssl\n",
    "from nltk.corpus import gutenberg\n",
    "import re\n",
    "from nltk import word_tokenize, sent_tokenize"
   ]
  },
  {
   "cell_type": "code",
   "execution_count": 27,
   "outputs": [],
   "source": [
    "try:\n",
    "    _create_unverified_https_context = ssl._create_unverified_context\n",
    "except AttributeError:\n",
    "    pass\n",
    "else:\n",
    "    ssl._create_default_https_context = _create_unverified_https_context"
   ],
   "metadata": {
    "collapsed": false,
    "ExecuteTime": {
     "start_time": "2024-01-16T17:07:47.718766Z",
     "end_time": "2024-01-16T17:07:47.741355Z"
    }
   }
  },
  {
   "cell_type": "code",
   "execution_count": 28,
   "outputs": [
    {
     "name": "stderr",
     "output_type": "stream",
     "text": [
      "[nltk_data] Downloading package gutenberg to /Users/pkc/nltk_data...\n",
      "[nltk_data]   Package gutenberg is already up-to-date!\n"
     ]
    },
    {
     "data": {
      "text/plain": "True"
     },
     "execution_count": 28,
     "metadata": {},
     "output_type": "execute_result"
    }
   ],
   "source": [
    "nltk.download('gutenberg')"
   ],
   "metadata": {
    "collapsed": false,
    "ExecuteTime": {
     "start_time": "2024-01-16T17:07:47.736962Z",
     "end_time": "2024-01-16T17:07:47.767357Z"
    }
   }
  },
  {
   "cell_type": "code",
   "execution_count": 29,
   "outputs": [],
   "source": [
    "caeser_id=gutenberg.fileids()[-4]"
   ],
   "metadata": {
    "collapsed": false,
    "ExecuteTime": {
     "start_time": "2024-01-16T17:07:47.753581Z",
     "end_time": "2024-01-16T17:07:47.840545Z"
    }
   }
  },
  {
   "cell_type": "code",
   "execution_count": 30,
   "outputs": [],
   "source": [
    "caeser_sent=gutenberg.sents(caeser_id)"
   ],
   "metadata": {
    "collapsed": false,
    "ExecuteTime": {
     "start_time": "2024-01-16T17:07:47.786137Z",
     "end_time": "2024-01-16T17:07:47.841276Z"
    }
   }
  },
  {
   "cell_type": "code",
   "execution_count": 75,
   "outputs": [],
   "source": [
    "fault_in_our_sent = ' '.join(caeser_sent[166])"
   ],
   "metadata": {
    "collapsed": false,
    "ExecuteTime": {
     "start_time": "2024-01-16T17:25:55.222397Z",
     "end_time": "2024-01-16T17:25:55.231488Z"
    }
   }
  },
  {
   "cell_type": "code",
   "execution_count": 80,
   "outputs": [
    {
     "data": {
      "text/plain": "'The fault ( deere Brutus ) is not in our Starres , But in our Selues , that we are vnderlings .'"
     },
     "execution_count": 80,
     "metadata": {},
     "output_type": "execute_result"
    }
   ],
   "source": [
    "fault_in_our_sent"
   ],
   "metadata": {
    "collapsed": false,
    "ExecuteTime": {
     "start_time": "2024-01-16T17:30:41.048776Z",
     "end_time": "2024-01-16T17:30:41.060519Z"
    }
   }
  },
  {
   "cell_type": "code",
   "execution_count": 79,
   "outputs": [
    {
     "data": {
      "text/plain": "[('The', 'DT'),\n ('fault', 'NN'),\n ('(', '('),\n ('deere', 'JJ'),\n ('Brutus', 'NNP'),\n (')', ')'),\n ('is', 'VBZ'),\n ('not', 'RB'),\n ('in', 'IN'),\n ('our', 'PRP$'),\n ('Starres', 'NNS'),\n (',', ','),\n ('But', 'CC'),\n ('in', 'IN'),\n ('our', 'PRP$'),\n ('Selues', 'NNS'),\n (',', ','),\n ('that', 'IN'),\n ('we', 'PRP'),\n ('are', 'VBP'),\n ('vnderlings', 'NNS'),\n ('.', '.')]"
     },
     "execution_count": 79,
     "metadata": {},
     "output_type": "execute_result"
    }
   ],
   "source": [
    "nltk.pos_tag(word_tokenize(fault_in_our_sent))"
   ],
   "metadata": {
    "collapsed": false,
    "ExecuteTime": {
     "start_time": "2024-01-16T17:30:23.592166Z",
     "end_time": "2024-01-16T17:30:24.272977Z"
    }
   }
  },
  {
   "cell_type": "code",
   "execution_count": 1,
   "outputs": [
    {
     "ename": "NameError",
     "evalue": "name 'caeser_sent' is not defined",
     "output_type": "error",
     "traceback": [
      "\u001B[0;31m---------------------------------------------------------------------------\u001B[0m",
      "\u001B[0;31mNameError\u001B[0m                                 Traceback (most recent call last)",
      "Cell \u001B[0;32mIn[1], line 1\u001B[0m\n\u001B[0;32m----> 1\u001B[0m \u001B[38;5;28mprint\u001B[39m(\u001B[43mcaeser_sent\u001B[49m)\n",
      "\u001B[0;31mNameError\u001B[0m: name 'caeser_sent' is not defined"
     ]
    }
   ],
   "source": [
    "print(caeser_sent)"
   ],
   "metadata": {
    "collapsed": false
   }
  }
 ],
 "metadata": {
  "kernelspec": {
   "display_name": "Python 3",
   "language": "python",
   "name": "python3"
  },
  "language_info": {
   "codemirror_mode": {
    "name": "ipython",
    "version": 2
   },
   "file_extension": ".py",
   "mimetype": "text/x-python",
   "name": "python",
   "nbconvert_exporter": "python",
   "pygments_lexer": "ipython2",
   "version": "2.7.6"
  }
 },
 "nbformat": 4,
 "nbformat_minor": 0
}
