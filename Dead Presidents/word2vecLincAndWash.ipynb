{
 "cells": [
  {
   "cell_type": "markdown",
   "source": [
    "    short project comparing the cosine similarity between slave and free for lincoln's first and second address, also perhaps comparing freedom between lincoln adn washingont"
   ],
   "metadata": {
    "collapsed": false
   }
  },
  {
   "cell_type": "code",
   "execution_count": 45,
   "outputs": [],
   "source": [
    "import ssl\n",
    "try:\n",
    "    _create_unverified_https_context = ssl._create_unverified_context\n",
    "except AttributeError:\n",
    "    pass\n",
    "else:\n",
    "    ssl._create_default_https_context = _create_unverified_https_context"
   ],
   "metadata": {
    "collapsed": false,
    "ExecuteTime": {
     "end_time": "2024-02-12T23:52:46.989280Z",
     "start_time": "2024-02-12T23:52:46.841084Z"
    }
   }
  },
  {
   "cell_type": "code",
   "execution_count": 46,
   "outputs": [
    {
     "name": "stderr",
     "output_type": "stream",
     "text": [
      "[nltk_data] Downloading package inaugural to /Users/pkc/nltk_data...\n",
      "[nltk_data]   Package inaugural is already up-to-date!\n"
     ]
    }
   ],
   "source": [
    "import nltk\n",
    "from nltk import word_tokenize,sent_tokenize\n",
    "nltk.download('inaugural')\n",
    "from nltk.corpus import inaugural"
   ],
   "metadata": {
    "collapsed": false,
    "ExecuteTime": {
     "end_time": "2024-02-12T23:52:46.993343Z",
     "start_time": "2024-02-12T23:52:46.874195Z"
    }
   }
  },
  {
   "cell_type": "code",
   "execution_count": 47,
   "outputs": [],
   "source": [
    "IDs=inaugural.fileids()"
   ],
   "metadata": {
    "collapsed": false,
    "ExecuteTime": {
     "end_time": "2024-02-12T23:52:46.994012Z",
     "start_time": "2024-02-12T23:52:46.884261Z"
    }
   }
  },
  {
   "cell_type": "code",
   "execution_count": 48,
   "outputs": [],
   "source": [
    "wash_first_id= IDs[0]\n",
    "wash_sec_id= IDs[1]"
   ],
   "metadata": {
    "collapsed": false,
    "ExecuteTime": {
     "end_time": "2024-02-12T23:52:46.994966Z",
     "start_time": "2024-02-12T23:52:46.899534Z"
    }
   }
  },
  {
   "cell_type": "code",
   "execution_count": 49,
   "outputs": [],
   "source": [
    "linc_first_id=IDs[18]\n",
    "linc_sec_id= IDs[19]"
   ],
   "metadata": {
    "collapsed": false,
    "ExecuteTime": {
     "end_time": "2024-02-12T23:52:46.995581Z",
     "start_time": "2024-02-12T23:52:46.910200Z"
    }
   }
  },
  {
   "cell_type": "code",
   "execution_count": 50,
   "outputs": [],
   "source": [
    "wash_1st= inaugural.raw(wash_first_id).replace('\\n','')\n",
    "wash_2nd= inaugural.raw(wash_sec_id).replace('\\n','')\n",
    "linc_1st= inaugural.raw(linc_first_id).replace('\\n','')\n",
    "linc_2nd= inaugural.raw(linc_sec_id).replace('\\n','')"
   ],
   "metadata": {
    "collapsed": false,
    "ExecuteTime": {
     "end_time": "2024-02-12T23:52:46.996090Z",
     "start_time": "2024-02-12T23:52:46.918269Z"
    }
   }
  },
  {
   "cell_type": "markdown",
   "source": [
    "each address is saved as a string"
   ],
   "metadata": {
    "collapsed": false
   }
  },
  {
   "cell_type": "code",
   "execution_count": 62,
   "outputs": [],
   "source": [
    "from useful_NLP_functions import cleanWordTokedSentences\n",
    "import gensim\n",
    "from gensim.models import Word2Vec"
   ],
   "metadata": {
    "collapsed": false,
    "ExecuteTime": {
     "end_time": "2024-02-12T23:58:00.076024Z",
     "start_time": "2024-02-12T23:58:00.003417Z"
    }
   }
  },
  {
   "cell_type": "code",
   "execution_count": 60,
   "outputs": [],
   "source": [
    "data=[]\n",
    "for i in sent_tokenize(wash_1st):\n",
    "    temp=[]\n",
    "    for j in word_tokenize(i):\n",
    "        temp.append(j.lower())\n",
    "    data.append(temp)"
   ],
   "metadata": {
    "collapsed": false,
    "ExecuteTime": {
     "end_time": "2024-02-12T23:57:02.277737Z",
     "start_time": "2024-02-12T23:57:02.260667Z"
    }
   }
  },
  {
   "cell_type": "code",
   "execution_count": 66,
   "outputs": [
    {
     "data": {
      "text/plain": "[['fellow-citizens',\n  'of',\n  'the',\n  'senate',\n  'and',\n  'of',\n  'the',\n  'house',\n  'of',\n  'representatives',\n  ':',\n  'among',\n  'the',\n  'vicissitudes',\n  'incident',\n  'to',\n  'life',\n  'no',\n  'event',\n  'could',\n  'have',\n  'filled',\n  'me',\n  'with',\n  'greater',\n  'anxieties',\n  'than',\n  'that',\n  'of',\n  'which',\n  'the',\n  'notification',\n  'was',\n  'transmitted',\n  'by',\n  'your',\n  'order',\n  ',',\n  'and',\n  'received',\n  'on',\n  'the',\n  '14th',\n  'day',\n  'of',\n  'the',\n  'present',\n  'month',\n  '.'],\n ['on',\n  'the',\n  'one',\n  'hand',\n  ',',\n  'i',\n  'was',\n  'summoned',\n  'by',\n  'my',\n  'country',\n  ',',\n  'whose',\n  'voice',\n  'i',\n  'can',\n  'never',\n  'hear',\n  'but',\n  'with',\n  'veneration',\n  'and',\n  'love',\n  ',',\n  'from',\n  'a',\n  'retreat',\n  'which',\n  'i',\n  'had',\n  'chosen',\n  'with',\n  'the',\n  'fondest',\n  'predilection',\n  ',',\n  'and',\n  ',',\n  'in',\n  'my',\n  'flattering',\n  'hopes',\n  ',',\n  'with',\n  'an',\n  'immutable',\n  'decision',\n  ',',\n  'as',\n  'the',\n  'asylum',\n  'of',\n  'my',\n  'declining',\n  'years',\n  '--',\n  'a',\n  'retreat',\n  'which',\n  'was',\n  'rendered',\n  'every',\n  'day',\n  'more',\n  'necessary',\n  'as',\n  'well',\n  'as',\n  'more',\n  'dear',\n  'to',\n  'me',\n  'by',\n  'the',\n  'addition',\n  'of',\n  'habit',\n  'to',\n  'inclination',\n  ',',\n  'and',\n  'of',\n  'frequent',\n  'interruptions',\n  'in',\n  'my',\n  'health',\n  'to',\n  'the',\n  'gradual',\n  'waste',\n  'committed',\n  'on',\n  'it',\n  'by',\n  'time',\n  '.'],\n ['on',\n  'the',\n  'other',\n  'hand',\n  ',',\n  'the',\n  'magnitude',\n  'and',\n  'difficulty',\n  'of',\n  'the',\n  'trust',\n  'to',\n  'which',\n  'the',\n  'voice',\n  'of',\n  'my',\n  'country',\n  'called',\n  'me',\n  ',',\n  'being',\n  'sufficient',\n  'to',\n  'awaken',\n  'in',\n  'the',\n  'wisest',\n  'and',\n  'most',\n  'experienced',\n  'of',\n  'her',\n  'citizens',\n  'a',\n  'distrustful',\n  'scrutiny',\n  'into',\n  'his',\n  'qualifications',\n  ',',\n  'could',\n  'not',\n  'but',\n  'overwhelm',\n  'with',\n  'despondence',\n  'one',\n  'who',\n  '(',\n  'inheriting',\n  'inferior',\n  'endowments',\n  'from',\n  'nature',\n  'and',\n  'unpracticed',\n  'in',\n  'the',\n  'duties',\n  'of',\n  'civil',\n  'administration',\n  ')',\n  'ought',\n  'to',\n  'be',\n  'peculiarly',\n  'conscious',\n  'of',\n  'his',\n  'own',\n  'deficiencies',\n  '.'],\n ['in',\n  'this',\n  'conflict',\n  'of',\n  'emotions',\n  'all',\n  'i',\n  'dare',\n  'aver',\n  'is',\n  'that',\n  'it',\n  'has',\n  'been',\n  'my',\n  'faithful',\n  'study',\n  'to',\n  'collect',\n  'my',\n  'duty',\n  'from',\n  'a',\n  'just',\n  'appreciation',\n  'of',\n  'every',\n  'circumstance',\n  'by',\n  'which',\n  'it',\n  'might',\n  'be',\n  'affected',\n  '.'],\n ['all',\n  'i',\n  'dare',\n  'hope',\n  'is',\n  'that',\n  'if',\n  ',',\n  'in',\n  'executing',\n  'this',\n  'task',\n  ',',\n  'i',\n  'have',\n  'been',\n  'too',\n  'much',\n  'swayed',\n  'by',\n  'a',\n  'grateful',\n  'remembrance',\n  'of',\n  'former',\n  'instances',\n  ',',\n  'or',\n  'by',\n  'an',\n  'affectionate',\n  'sensibility',\n  'to',\n  'this',\n  'transcendent',\n  'proof',\n  'of',\n  'the',\n  'confidence',\n  'of',\n  'my',\n  'fellow',\n  'citizens',\n  ',',\n  'and',\n  'have',\n  'thence',\n  'too',\n  'little',\n  'consulted',\n  'my',\n  'incapacity',\n  'as',\n  'well',\n  'as',\n  'disinclination',\n  'for',\n  'the',\n  'weighty',\n  'and',\n  'untried',\n  'cares',\n  'before',\n  'me',\n  ',',\n  'my',\n  'error',\n  'will',\n  'be',\n  'palliated',\n  'by',\n  'the',\n  'motives',\n  'which',\n  'mislead',\n  'me',\n  ',',\n  'and',\n  'its',\n  'consequences',\n  'be',\n  'judged',\n  'by',\n  'my',\n  'country',\n  'with',\n  'some',\n  'share',\n  'of',\n  'the',\n  'partiality',\n  'in',\n  'which',\n  'they',\n  'originated.such',\n  'being',\n  'the',\n  'impressions',\n  'under',\n  'which',\n  'i',\n  'have',\n  ',',\n  'in',\n  'obedience',\n  'to',\n  'the',\n  'public',\n  'summons',\n  ',',\n  'repaired',\n  'to',\n  'the',\n  'present',\n  'station',\n  ',',\n  'it',\n  'would',\n  'be',\n  'peculiarly',\n  'improper',\n  'to',\n  'omit',\n  'in',\n  'this',\n  'first',\n  'official',\n  'act',\n  'my',\n  'fervent',\n  'supplications',\n  'to',\n  'that',\n  'almighty',\n  'being',\n  'who',\n  'rules',\n  'over',\n  'the',\n  'universe',\n  ',',\n  'who',\n  'presides',\n  'in',\n  'the',\n  'councils',\n  'of',\n  'nations',\n  ',',\n  'and',\n  'whose',\n  'providential',\n  'aids',\n  'can',\n  'supply',\n  'every',\n  'human',\n  'defect',\n  ',',\n  'that',\n  'his',\n  'benediction',\n  'may',\n  'consecrate',\n  'to',\n  'the',\n  'liberties',\n  'and',\n  'happiness',\n  'of',\n  'the',\n  'people',\n  'of',\n  'the',\n  'united',\n  'states',\n  'a',\n  'government',\n  'instituted',\n  'by',\n  'themselves',\n  'for',\n  'these',\n  'essential',\n  'purposes',\n  ',',\n  'and',\n  'may',\n  'enable',\n  'every',\n  'instrument',\n  'employed',\n  'in',\n  'its',\n  'administration',\n  'to',\n  'execute',\n  'with',\n  'success',\n  'the',\n  'functions',\n  'allotted',\n  'to',\n  'his',\n  'charge',\n  '.'],\n ['in',\n  'tendering',\n  'this',\n  'homage',\n  'to',\n  'the',\n  'great',\n  'author',\n  'of',\n  'every',\n  'public',\n  'and',\n  'private',\n  'good',\n  ',',\n  'i',\n  'assure',\n  'myself',\n  'that',\n  'it',\n  'expresses',\n  'your',\n  'sentiments',\n  'not',\n  'less',\n  'than',\n  'my',\n  'own',\n  ',',\n  'nor',\n  'those',\n  'of',\n  'my',\n  'fellow',\n  'citizens',\n  'at',\n  'large',\n  'less',\n  'than',\n  'either',\n  '.'],\n ['no',\n  'people',\n  'can',\n  'be',\n  'bound',\n  'to',\n  'acknowledge',\n  'and',\n  'adore',\n  'the',\n  'invisible',\n  'hand',\n  'which',\n  'conducts',\n  'the',\n  'affairs',\n  'of',\n  'men',\n  'more',\n  'than',\n  'those',\n  'of',\n  'the',\n  'united',\n  'states',\n  '.'],\n ['every',\n  'step',\n  'by',\n  'which',\n  'they',\n  'have',\n  'advanced',\n  'to',\n  'the',\n  'character',\n  'of',\n  'an',\n  'independent',\n  'nation',\n  'seems',\n  'to',\n  'have',\n  'been',\n  'distinguished',\n  'by',\n  'some',\n  'token',\n  'of',\n  'providential',\n  'agency',\n  ';',\n  'and',\n  'in',\n  'the',\n  'important',\n  'revolution',\n  'just',\n  'accomplished',\n  'in',\n  'the',\n  'system',\n  'of',\n  'their',\n  'united',\n  'government',\n  'the',\n  'tranquil',\n  'deliberations',\n  'and',\n  'voluntary',\n  'consent',\n  'of',\n  'so',\n  'many',\n  'distinct',\n  'communities',\n  'from',\n  'which',\n  'the',\n  'event',\n  'has',\n  'resulted',\n  'can',\n  'not',\n  'be',\n  'compared',\n  'with',\n  'the',\n  'means',\n  'by',\n  'which',\n  'most',\n  'governments',\n  'have',\n  'been',\n  'established',\n  'without',\n  'some',\n  'return',\n  'of',\n  'pious',\n  'gratitude',\n  ',',\n  'along',\n  'with',\n  'an',\n  'humble',\n  'anticipation',\n  'of',\n  'the',\n  'future',\n  'blessings',\n  'which',\n  'the',\n  'past',\n  'seem',\n  'to',\n  'presage',\n  '.'],\n ['these',\n  'reflections',\n  ',',\n  'arising',\n  'out',\n  'of',\n  'the',\n  'present',\n  'crisis',\n  ',',\n  'have',\n  'forced',\n  'themselves',\n  'too',\n  'strongly',\n  'on',\n  'my',\n  'mind',\n  'to',\n  'be',\n  'suppressed',\n  '.'],\n ['you',\n  'will',\n  'join',\n  'with',\n  'me',\n  ',',\n  'i',\n  'trust',\n  ',',\n  'in',\n  'thinking',\n  'that',\n  'there',\n  'are',\n  'none',\n  'under',\n  'the',\n  'influence',\n  'of',\n  'which',\n  'the',\n  'proceedings',\n  'of',\n  'a',\n  'new',\n  'and',\n  'free',\n  'government',\n  'can',\n  'more',\n  'auspiciously',\n  'commence.by',\n  'the',\n  'article',\n  'establishing',\n  'the',\n  'executive',\n  'department',\n  'it',\n  'is',\n  'made',\n  'the',\n  'duty',\n  'of',\n  'the',\n  'president',\n  '``',\n  'to',\n  'recommend',\n  'to',\n  'your',\n  'consideration',\n  'such',\n  'measures',\n  'as',\n  'he',\n  'shall',\n  'judge',\n  'necessary',\n  'and',\n  'expedient',\n  '.',\n  \"''\"],\n ['the',\n  'circumstances',\n  'under',\n  'which',\n  'i',\n  'now',\n  'meet',\n  'you',\n  'will',\n  'acquit',\n  'me',\n  'from',\n  'entering',\n  'into',\n  'that',\n  'subject',\n  'further',\n  'than',\n  'to',\n  'refer',\n  'to',\n  'the',\n  'great',\n  'constitutional',\n  'charter',\n  'under',\n  'which',\n  'you',\n  'are',\n  'assembled',\n  ',',\n  'and',\n  'which',\n  ',',\n  'in',\n  'defining',\n  'your',\n  'powers',\n  ',',\n  'designates',\n  'the',\n  'objects',\n  'to',\n  'which',\n  'your',\n  'attention',\n  'is',\n  'to',\n  'be',\n  'given',\n  '.'],\n ['it',\n  'will',\n  'be',\n  'more',\n  'consistent',\n  'with',\n  'those',\n  'circumstances',\n  ',',\n  'and',\n  'far',\n  'more',\n  'congenial',\n  'with',\n  'the',\n  'feelings',\n  'which',\n  'actuate',\n  'me',\n  ',',\n  'to',\n  'substitute',\n  ',',\n  'in',\n  'place',\n  'of',\n  'a',\n  'recommendation',\n  'of',\n  'particular',\n  'measures',\n  ',',\n  'the',\n  'tribute',\n  'that',\n  'is',\n  'due',\n  'to',\n  'the',\n  'talents',\n  ',',\n  'the',\n  'rectitude',\n  ',',\n  'and',\n  'the',\n  'patriotism',\n  'which',\n  'adorn',\n  'the',\n  'characters',\n  'selected',\n  'to',\n  'devise',\n  'and',\n  'adopt',\n  'them',\n  '.'],\n ['in',\n  'these',\n  'honorable',\n  'qualifications',\n  'i',\n  'behold',\n  'the',\n  'surest',\n  'pledges',\n  'that',\n  'as',\n  'on',\n  'one',\n  'side',\n  'no',\n  'local',\n  'prejudices',\n  'or',\n  'attachments',\n  ',',\n  'no',\n  'separate',\n  'views',\n  'nor',\n  'party',\n  'animosities',\n  ',',\n  'will',\n  'misdirect',\n  'the',\n  'comprehensive',\n  'and',\n  'equal',\n  'eye',\n  'which',\n  'ought',\n  'to',\n  'watch',\n  'over',\n  'this',\n  'great',\n  'assemblage',\n  'of',\n  'communities',\n  'and',\n  'interests',\n  ',',\n  'so',\n  ',',\n  'on',\n  'another',\n  ',',\n  'that',\n  'the',\n  'foundation',\n  'of',\n  'our',\n  'national',\n  'policy',\n  'will',\n  'be',\n  'laid',\n  'in',\n  'the',\n  'pure',\n  'and',\n  'immutable',\n  'principles',\n  'of',\n  'private',\n  'morality',\n  ',',\n  'and',\n  'the',\n  'preeminence',\n  'of',\n  'free',\n  'government',\n  'be',\n  'exemplified',\n  'by',\n  'all',\n  'the',\n  'attributes',\n  'which',\n  'can',\n  'win',\n  'the',\n  'affections',\n  'of',\n  'its',\n  'citizens',\n  'and',\n  'command',\n  'the',\n  'respect',\n  'of',\n  'the',\n  'world',\n  '.'],\n ['i',\n  'dwell',\n  'on',\n  'this',\n  'prospect',\n  'with',\n  'every',\n  'satisfaction',\n  'which',\n  'an',\n  'ardent',\n  'love',\n  'for',\n  'my',\n  'country',\n  'can',\n  'inspire',\n  ',',\n  'since',\n  'there',\n  'is',\n  'no',\n  'truth',\n  'more',\n  'thoroughly',\n  'established',\n  'than',\n  'that',\n  'there',\n  'exists',\n  'in',\n  'the',\n  'economy',\n  'and',\n  'course',\n  'of',\n  'nature',\n  'an',\n  'indissoluble',\n  'union',\n  'between',\n  'virtue',\n  'and',\n  'happiness',\n  ';',\n  'between',\n  'duty',\n  'and',\n  'advantage',\n  ';',\n  'between',\n  'the',\n  'genuine',\n  'maxims',\n  'of',\n  'an',\n  'honest',\n  'and',\n  'magnanimous',\n  'policy',\n  'and',\n  'the',\n  'solid',\n  'rewards',\n  'of',\n  'public',\n  'prosperity',\n  'and',\n  'felicity',\n  ';',\n  'since',\n  'we',\n  'ought',\n  'to',\n  'be',\n  'no',\n  'less',\n  'persuaded',\n  'that',\n  'the',\n  'propitious',\n  'smiles',\n  'of',\n  'heaven',\n  'can',\n  'never',\n  'be',\n  'expected',\n  'on',\n  'a',\n  'nation',\n  'that',\n  'disregards',\n  'the',\n  'eternal',\n  'rules',\n  'of',\n  'order',\n  'and',\n  'right',\n  'which',\n  'heaven',\n  'itself',\n  'has',\n  'ordained',\n  ';',\n  'and',\n  'since',\n  'the',\n  'preservation',\n  'of',\n  'the',\n  'sacred',\n  'fire',\n  'of',\n  'liberty',\n  'and',\n  'the',\n  'destiny',\n  'of',\n  'the',\n  'republican',\n  'model',\n  'of',\n  'government',\n  'are',\n  'justly',\n  'considered',\n  ',',\n  'perhaps',\n  ',',\n  'as',\n  'deeply',\n  ',',\n  'as',\n  'finally',\n  ',',\n  'staked',\n  'on',\n  'the',\n  'experiment',\n  'entrusted',\n  'to',\n  'the',\n  'hands',\n  'of',\n  'the',\n  'american',\n  'people.besides',\n  'the',\n  'ordinary',\n  'objects',\n  'submitted',\n  'to',\n  'your',\n  'care',\n  ',',\n  'it',\n  'will',\n  'remain',\n  'with',\n  'your',\n  'judgment',\n  'to',\n  'decide',\n  'how',\n  'far',\n  'an',\n  'exercise',\n  'of',\n  'the',\n  'occasional',\n  'power',\n  'delegated',\n  'by',\n  'the',\n  'fifth',\n  'article',\n  'of',\n  'the',\n  'constitution',\n  'is',\n  'rendered',\n  'expedient',\n  'at',\n  'the',\n  'present',\n  'juncture',\n  'by',\n  'the',\n  'nature',\n  'of',\n  'objections',\n  'which',\n  'have',\n  'been',\n  'urged',\n  'against',\n  'the',\n  'system',\n  ',',\n  'or',\n  'by',\n  'the',\n  'degree',\n  'of',\n  'inquietude',\n  'which',\n  'has',\n  'given',\n  'birth',\n  'to',\n  'them',\n  '.'],\n ['instead',\n  'of',\n  'undertaking',\n  'particular',\n  'recommendations',\n  'on',\n  'this',\n  'subject',\n  ',',\n  'in',\n  'which',\n  'i',\n  'could',\n  'be',\n  'guided',\n  'by',\n  'no',\n  'lights',\n  'derived',\n  'from',\n  'official',\n  'opportunities',\n  ',',\n  'i',\n  'shall',\n  'again',\n  'give',\n  'way',\n  'to',\n  'my',\n  'entire',\n  'confidence',\n  'in',\n  'your',\n  'discernment',\n  'and',\n  'pursuit',\n  'of',\n  'the',\n  'public',\n  'good',\n  ';',\n  'for',\n  'i',\n  'assure',\n  'myself',\n  'that',\n  'whilst',\n  'you',\n  'carefully',\n  'avoid',\n  'every',\n  'alteration',\n  'which',\n  'might',\n  'endanger',\n  'the',\n  'benefits',\n  'of',\n  'an',\n  'united',\n  'and',\n  'effective',\n  'government',\n  ',',\n  'or',\n  'which',\n  'ought',\n  'to',\n  'await',\n  'the',\n  'future',\n  'lessons',\n  'of',\n  'experience',\n  ',',\n  'a',\n  'reverence',\n  'for',\n  'the',\n  'characteristic',\n  'rights',\n  'of',\n  'freemen',\n  'and',\n  'a',\n  'regard',\n  'for',\n  'the',\n  'public',\n  'harmony',\n  'will',\n  'sufficiently',\n  'influence',\n  'your',\n  'deliberations',\n  'on',\n  'the',\n  'question',\n  'how',\n  'far',\n  'the',\n  'former',\n  'can',\n  'be',\n  'impregnably',\n  'fortified',\n  'or',\n  'the',\n  'latter',\n  'be',\n  'safely',\n  'and',\n  'advantageously',\n  'promoted.to',\n  'the',\n  'foregoing',\n  'observations',\n  'i',\n  'have',\n  'one',\n  'to',\n  'add',\n  ',',\n  'which',\n  'will',\n  'be',\n  'most',\n  'properly',\n  'addressed',\n  'to',\n  'the',\n  'house',\n  'of',\n  'representatives',\n  '.'],\n ['it',\n  'concerns',\n  'myself',\n  ',',\n  'and',\n  'will',\n  'therefore',\n  'be',\n  'as',\n  'brief',\n  'as',\n  'possible',\n  '.'],\n ['when',\n  'i',\n  'was',\n  'first',\n  'honored',\n  'with',\n  'a',\n  'call',\n  'into',\n  'the',\n  'service',\n  'of',\n  'my',\n  'country',\n  ',',\n  'then',\n  'on',\n  'the',\n  'eve',\n  'of',\n  'an',\n  'arduous',\n  'struggle',\n  'for',\n  'its',\n  'liberties',\n  ',',\n  'the',\n  'light',\n  'in',\n  'which',\n  'i',\n  'contemplated',\n  'my',\n  'duty',\n  'required',\n  'that',\n  'i',\n  'should',\n  'renounce',\n  'every',\n  'pecuniary',\n  'compensation',\n  '.'],\n ['from',\n  'this',\n  'resolution',\n  'i',\n  'have',\n  'in',\n  'no',\n  'instance',\n  'departed',\n  ';',\n  'and',\n  'being',\n  'still',\n  'under',\n  'the',\n  'impressions',\n  'which',\n  'produced',\n  'it',\n  ',',\n  'i',\n  'must',\n  'decline',\n  'as',\n  'inapplicable',\n  'to',\n  'myself',\n  'any',\n  'share',\n  'in',\n  'the',\n  'personal',\n  'emoluments',\n  'which',\n  'may',\n  'be',\n  'indispensably',\n  'included',\n  'in',\n  'a',\n  'permanent',\n  'provision',\n  'for',\n  'the',\n  'executive',\n  'department',\n  ',',\n  'and',\n  'must',\n  'accordingly',\n  'pray',\n  'that',\n  'the',\n  'pecuniary',\n  'estimates',\n  'for',\n  'the',\n  'station',\n  'in',\n  'which',\n  'i',\n  'am',\n  'placed',\n  'may',\n  'during',\n  'my',\n  'continuance',\n  'in',\n  'it',\n  'be',\n  'limited',\n  'to',\n  'such',\n  'actual',\n  'expenditures',\n  'as',\n  'the',\n  'public',\n  'good',\n  'may',\n  'be',\n  'thought',\n  'to',\n  'require.having',\n  'thus',\n  'imparted',\n  'to',\n  'you',\n  'my',\n  'sentiments',\n  'as',\n  'they',\n  'have',\n  'been',\n  'awakened',\n  'by',\n  'the',\n  'occasion',\n  'which',\n  'brings',\n  'us',\n  'together',\n  ',',\n  'i',\n  'shall',\n  'take',\n  'my',\n  'present',\n  'leave',\n  ';',\n  'but',\n  'not',\n  'without',\n  'resorting',\n  'once',\n  'more',\n  'to',\n  'the',\n  'benign',\n  'parent',\n  'of',\n  'the',\n  'human',\n  'race',\n  'in',\n  'humble',\n  'supplication',\n  'that',\n  ',',\n  'since',\n  'he',\n  'has',\n  'been',\n  'pleased',\n  'to',\n  'favor',\n  'the',\n  'american',\n  'people',\n  'with',\n  'opportunities',\n  'for',\n  'deliberating',\n  'in',\n  'perfect',\n  'tranquillity',\n  ',',\n  'and',\n  'dispositions',\n  'for',\n  'deciding',\n  'with',\n  'unparalleled',\n  'unanimity',\n  'on',\n  'a',\n  'form',\n  'of',\n  'government',\n  'for',\n  'the',\n  'security',\n  'of',\n  'their',\n  'union',\n  'and',\n  'the',\n  'advancement',\n  'of',\n  'their',\n  'happiness',\n  ',',\n  'so',\n  'his',\n  'divine',\n  'blessing',\n  'may',\n  'be',\n  'equally',\n  'conspicuous',\n  'in',\n  'the',\n  'enlarged',\n  'views',\n  ',',\n  'the',\n  'temperate',\n  'consultations',\n  ',',\n  'and',\n  'the',\n  'wise',\n  'measures',\n  'on',\n  'which',\n  'the',\n  'success',\n  'of',\n  'this',\n  'government',\n  'must',\n  'depend',\n  '.']]"
     },
     "execution_count": 66,
     "metadata": {},
     "output_type": "execute_result"
    }
   ],
   "source": [
    "data"
   ],
   "metadata": {
    "collapsed": false,
    "ExecuteTime": {
     "end_time": "2024-02-13T00:00:42.781899Z",
     "start_time": "2024-02-13T00:00:42.704783Z"
    }
   }
  },
  {
   "cell_type": "code",
   "execution_count": 64,
   "outputs": [],
   "source": [
    "model1 = gensim.models.Word2Vec(data, min_count=1,\n",
    "                                vector_size=100, window=5)"
   ],
   "metadata": {
    "collapsed": false,
    "ExecuteTime": {
     "end_time": "2024-02-12T23:58:32.204945Z",
     "start_time": "2024-02-12T23:58:32.186364Z"
    }
   }
  },
  {
   "cell_type": "code",
   "execution_count": 67,
   "outputs": [
    {
     "data": {
      "text/plain": "0.050158806"
     },
     "execution_count": 67,
     "metadata": {},
     "output_type": "execute_result"
    }
   ],
   "source": [
    "model1.wv.similarity('wise','government')"
   ],
   "metadata": {
    "collapsed": false,
    "ExecuteTime": {
     "end_time": "2024-02-13T00:00:50.874213Z",
     "start_time": "2024-02-13T00:00:50.859140Z"
    }
   }
  },
  {
   "cell_type": "code",
   "execution_count": 68,
   "outputs": [],
   "source": [
    "model2= gensim.models.Word2Vec(data, min_count=1, vector_size=100, window=5,sg=1)"
   ],
   "metadata": {
    "collapsed": false,
    "ExecuteTime": {
     "end_time": "2024-02-13T00:05:01.414976Z",
     "start_time": "2024-02-13T00:05:01.215426Z"
    }
   }
  },
  {
   "cell_type": "code",
   "execution_count": 69,
   "outputs": [
    {
     "data": {
      "text/plain": "0.44384158"
     },
     "execution_count": 69,
     "metadata": {},
     "output_type": "execute_result"
    }
   ],
   "source": [
    "model2.wv.similarity('wise','government')"
   ],
   "metadata": {
    "collapsed": false,
    "ExecuteTime": {
     "end_time": "2024-02-13T00:05:26.940329Z",
     "start_time": "2024-02-13T00:05:26.921495Z"
    }
   }
  }
 ],
 "metadata": {
  "kernelspec": {
   "display_name": "Python 3",
   "language": "python",
   "name": "python3"
  },
  "language_info": {
   "codemirror_mode": {
    "name": "ipython",
    "version": 2
   },
   "file_extension": ".py",
   "mimetype": "text/x-python",
   "name": "python",
   "nbconvert_exporter": "python",
   "pygments_lexer": "ipython2",
   "version": "2.7.6"
  }
 },
 "nbformat": 4,
 "nbformat_minor": 0
}
