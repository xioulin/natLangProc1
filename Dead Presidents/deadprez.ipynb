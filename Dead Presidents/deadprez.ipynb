{
 "cells": [
  {
   "cell_type": "code",
   "execution_count": 1,
   "metadata": {
    "collapsed": true,
    "ExecuteTime": {
     "end_time": "2024-02-09T23:46:42.393764Z",
     "start_time": "2024-02-09T23:46:41.399298Z"
    }
   },
   "outputs": [],
   "source": [
    "import pandas as pd"
   ]
  },
  {
   "cell_type": "code",
   "execution_count": 2,
   "outputs": [],
   "source": [
    "df=pd.read_pickle('inaug_list.pickle')"
   ],
   "metadata": {
    "collapsed": false,
    "ExecuteTime": {
     "end_time": "2024-02-09T23:46:58.127981Z",
     "start_time": "2024-02-09T23:46:58.104860Z"
    }
   }
  },
  {
   "cell_type": "code",
   "execution_count": 3,
   "outputs": [
    {
     "data": {
      "text/plain": "    year  num_words   president\n0   1789       1538  Washington\n1   1793        147  Washington\n2   1797       2585       Adams\n3   1801       1935   Jefferson\n4   1805       2384   Jefferson\n5   1809       1265     Madison\n6   1813       1304     Madison\n7   1817       3693      Monroe\n8   1821       4909      Monroe\n9   1825       3150       Adams\n10  1829       1208     Jackson\n11  1833       1267     Jackson\n12  1837       4171    VanBuren\n13  1841       9165    Harrison\n14  1845       5196        Polk\n15  1849       1182      Taylor\n16  1853       3657      Pierce\n17  1857       3098    Buchanan\n18  1861       4005     Lincoln\n19  1865        785     Lincoln\n20  1869       1239       Grant\n21  1873       1478       Grant\n22  1877       2724       Hayes\n23  1881       3239    Garfield\n24  1885       1828   Cleveland\n25  1889       4750    Harrison\n26  1893       2153   Cleveland\n27  1897       4371    McKinley\n28  1901       2450    McKinley\n29  1905       1091   Roosevelt\n30  1909       5846        Taft\n31  1913       1905      Wilson\n32  1917       1656      Wilson\n33  1921       3756     Harding\n34  1925       4442    Coolidge\n35  1929       3890      Hoover\n36  1933       2063   Roosevelt\n37  1937       2019   Roosevelt\n38  1941       1536   Roosevelt\n39  1945        637   Roosevelt\n40  1949       2528      Truman\n41  1953       2775  Eisenhower\n42  1957       1917  Eisenhower\n43  1961       1546     Kennedy\n44  1965       1715     Johnson\n45  1969       2425       Nixon\n46  1973       2028       Nixon\n47  1977       1380      Carter\n48  1981       2801      Reagan\n49  1985       2946      Reagan\n50  1989       2713        Bush\n51  1993       1855     Clinton\n52  1997       2462     Clinton\n53  2001       1825        Bush\n54  2005       2376        Bush\n55  2009       2726       Obama\n56  2013       2369       Obama\n57  2017       1693       Trump\n58  2021       3104       Biden",
      "text/html": "<div>\n<style scoped>\n    .dataframe tbody tr th:only-of-type {\n        vertical-align: middle;\n    }\n\n    .dataframe tbody tr th {\n        vertical-align: top;\n    }\n\n    .dataframe thead th {\n        text-align: right;\n    }\n</style>\n<table border=\"1\" class=\"dataframe\">\n  <thead>\n    <tr style=\"text-align: right;\">\n      <th></th>\n      <th>year</th>\n      <th>num_words</th>\n      <th>president</th>\n    </tr>\n  </thead>\n  <tbody>\n    <tr>\n      <th>0</th>\n      <td>1789</td>\n      <td>1538</td>\n      <td>Washington</td>\n    </tr>\n    <tr>\n      <th>1</th>\n      <td>1793</td>\n      <td>147</td>\n      <td>Washington</td>\n    </tr>\n    <tr>\n      <th>2</th>\n      <td>1797</td>\n      <td>2585</td>\n      <td>Adams</td>\n    </tr>\n    <tr>\n      <th>3</th>\n      <td>1801</td>\n      <td>1935</td>\n      <td>Jefferson</td>\n    </tr>\n    <tr>\n      <th>4</th>\n      <td>1805</td>\n      <td>2384</td>\n      <td>Jefferson</td>\n    </tr>\n    <tr>\n      <th>5</th>\n      <td>1809</td>\n      <td>1265</td>\n      <td>Madison</td>\n    </tr>\n    <tr>\n      <th>6</th>\n      <td>1813</td>\n      <td>1304</td>\n      <td>Madison</td>\n    </tr>\n    <tr>\n      <th>7</th>\n      <td>1817</td>\n      <td>3693</td>\n      <td>Monroe</td>\n    </tr>\n    <tr>\n      <th>8</th>\n      <td>1821</td>\n      <td>4909</td>\n      <td>Monroe</td>\n    </tr>\n    <tr>\n      <th>9</th>\n      <td>1825</td>\n      <td>3150</td>\n      <td>Adams</td>\n    </tr>\n    <tr>\n      <th>10</th>\n      <td>1829</td>\n      <td>1208</td>\n      <td>Jackson</td>\n    </tr>\n    <tr>\n      <th>11</th>\n      <td>1833</td>\n      <td>1267</td>\n      <td>Jackson</td>\n    </tr>\n    <tr>\n      <th>12</th>\n      <td>1837</td>\n      <td>4171</td>\n      <td>VanBuren</td>\n    </tr>\n    <tr>\n      <th>13</th>\n      <td>1841</td>\n      <td>9165</td>\n      <td>Harrison</td>\n    </tr>\n    <tr>\n      <th>14</th>\n      <td>1845</td>\n      <td>5196</td>\n      <td>Polk</td>\n    </tr>\n    <tr>\n      <th>15</th>\n      <td>1849</td>\n      <td>1182</td>\n      <td>Taylor</td>\n    </tr>\n    <tr>\n      <th>16</th>\n      <td>1853</td>\n      <td>3657</td>\n      <td>Pierce</td>\n    </tr>\n    <tr>\n      <th>17</th>\n      <td>1857</td>\n      <td>3098</td>\n      <td>Buchanan</td>\n    </tr>\n    <tr>\n      <th>18</th>\n      <td>1861</td>\n      <td>4005</td>\n      <td>Lincoln</td>\n    </tr>\n    <tr>\n      <th>19</th>\n      <td>1865</td>\n      <td>785</td>\n      <td>Lincoln</td>\n    </tr>\n    <tr>\n      <th>20</th>\n      <td>1869</td>\n      <td>1239</td>\n      <td>Grant</td>\n    </tr>\n    <tr>\n      <th>21</th>\n      <td>1873</td>\n      <td>1478</td>\n      <td>Grant</td>\n    </tr>\n    <tr>\n      <th>22</th>\n      <td>1877</td>\n      <td>2724</td>\n      <td>Hayes</td>\n    </tr>\n    <tr>\n      <th>23</th>\n      <td>1881</td>\n      <td>3239</td>\n      <td>Garfield</td>\n    </tr>\n    <tr>\n      <th>24</th>\n      <td>1885</td>\n      <td>1828</td>\n      <td>Cleveland</td>\n    </tr>\n    <tr>\n      <th>25</th>\n      <td>1889</td>\n      <td>4750</td>\n      <td>Harrison</td>\n    </tr>\n    <tr>\n      <th>26</th>\n      <td>1893</td>\n      <td>2153</td>\n      <td>Cleveland</td>\n    </tr>\n    <tr>\n      <th>27</th>\n      <td>1897</td>\n      <td>4371</td>\n      <td>McKinley</td>\n    </tr>\n    <tr>\n      <th>28</th>\n      <td>1901</td>\n      <td>2450</td>\n      <td>McKinley</td>\n    </tr>\n    <tr>\n      <th>29</th>\n      <td>1905</td>\n      <td>1091</td>\n      <td>Roosevelt</td>\n    </tr>\n    <tr>\n      <th>30</th>\n      <td>1909</td>\n      <td>5846</td>\n      <td>Taft</td>\n    </tr>\n    <tr>\n      <th>31</th>\n      <td>1913</td>\n      <td>1905</td>\n      <td>Wilson</td>\n    </tr>\n    <tr>\n      <th>32</th>\n      <td>1917</td>\n      <td>1656</td>\n      <td>Wilson</td>\n    </tr>\n    <tr>\n      <th>33</th>\n      <td>1921</td>\n      <td>3756</td>\n      <td>Harding</td>\n    </tr>\n    <tr>\n      <th>34</th>\n      <td>1925</td>\n      <td>4442</td>\n      <td>Coolidge</td>\n    </tr>\n    <tr>\n      <th>35</th>\n      <td>1929</td>\n      <td>3890</td>\n      <td>Hoover</td>\n    </tr>\n    <tr>\n      <th>36</th>\n      <td>1933</td>\n      <td>2063</td>\n      <td>Roosevelt</td>\n    </tr>\n    <tr>\n      <th>37</th>\n      <td>1937</td>\n      <td>2019</td>\n      <td>Roosevelt</td>\n    </tr>\n    <tr>\n      <th>38</th>\n      <td>1941</td>\n      <td>1536</td>\n      <td>Roosevelt</td>\n    </tr>\n    <tr>\n      <th>39</th>\n      <td>1945</td>\n      <td>637</td>\n      <td>Roosevelt</td>\n    </tr>\n    <tr>\n      <th>40</th>\n      <td>1949</td>\n      <td>2528</td>\n      <td>Truman</td>\n    </tr>\n    <tr>\n      <th>41</th>\n      <td>1953</td>\n      <td>2775</td>\n      <td>Eisenhower</td>\n    </tr>\n    <tr>\n      <th>42</th>\n      <td>1957</td>\n      <td>1917</td>\n      <td>Eisenhower</td>\n    </tr>\n    <tr>\n      <th>43</th>\n      <td>1961</td>\n      <td>1546</td>\n      <td>Kennedy</td>\n    </tr>\n    <tr>\n      <th>44</th>\n      <td>1965</td>\n      <td>1715</td>\n      <td>Johnson</td>\n    </tr>\n    <tr>\n      <th>45</th>\n      <td>1969</td>\n      <td>2425</td>\n      <td>Nixon</td>\n    </tr>\n    <tr>\n      <th>46</th>\n      <td>1973</td>\n      <td>2028</td>\n      <td>Nixon</td>\n    </tr>\n    <tr>\n      <th>47</th>\n      <td>1977</td>\n      <td>1380</td>\n      <td>Carter</td>\n    </tr>\n    <tr>\n      <th>48</th>\n      <td>1981</td>\n      <td>2801</td>\n      <td>Reagan</td>\n    </tr>\n    <tr>\n      <th>49</th>\n      <td>1985</td>\n      <td>2946</td>\n      <td>Reagan</td>\n    </tr>\n    <tr>\n      <th>50</th>\n      <td>1989</td>\n      <td>2713</td>\n      <td>Bush</td>\n    </tr>\n    <tr>\n      <th>51</th>\n      <td>1993</td>\n      <td>1855</td>\n      <td>Clinton</td>\n    </tr>\n    <tr>\n      <th>52</th>\n      <td>1997</td>\n      <td>2462</td>\n      <td>Clinton</td>\n    </tr>\n    <tr>\n      <th>53</th>\n      <td>2001</td>\n      <td>1825</td>\n      <td>Bush</td>\n    </tr>\n    <tr>\n      <th>54</th>\n      <td>2005</td>\n      <td>2376</td>\n      <td>Bush</td>\n    </tr>\n    <tr>\n      <th>55</th>\n      <td>2009</td>\n      <td>2726</td>\n      <td>Obama</td>\n    </tr>\n    <tr>\n      <th>56</th>\n      <td>2013</td>\n      <td>2369</td>\n      <td>Obama</td>\n    </tr>\n    <tr>\n      <th>57</th>\n      <td>2017</td>\n      <td>1693</td>\n      <td>Trump</td>\n    </tr>\n    <tr>\n      <th>58</th>\n      <td>2021</td>\n      <td>3104</td>\n      <td>Biden</td>\n    </tr>\n  </tbody>\n</table>\n</div>"
     },
     "execution_count": 3,
     "metadata": {},
     "output_type": "execute_result"
    }
   ],
   "source": [
    "df"
   ],
   "metadata": {
    "collapsed": false,
    "ExecuteTime": {
     "end_time": "2024-02-09T23:47:01.957992Z",
     "start_time": "2024-02-09T23:47:01.928030Z"
    }
   }
  }
 ],
 "metadata": {
  "kernelspec": {
   "display_name": "Python 3",
   "language": "python",
   "name": "python3"
  },
  "language_info": {
   "codemirror_mode": {
    "name": "ipython",
    "version": 2
   },
   "file_extension": ".py",
   "mimetype": "text/x-python",
   "name": "python",
   "nbconvert_exporter": "python",
   "pygments_lexer": "ipython2",
   "version": "2.7.6"
  }
 },
 "nbformat": 4,
 "nbformat_minor": 0
}
