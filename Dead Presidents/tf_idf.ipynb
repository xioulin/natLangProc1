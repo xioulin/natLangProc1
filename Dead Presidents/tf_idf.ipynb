{
 "cells": [
  {
   "cell_type": "code",
   "execution_count": 1,
   "metadata": {
    "collapsed": true,
    "ExecuteTime": {
     "end_time": "2024-02-11T00:28:57.020571Z",
     "start_time": "2024-02-11T00:28:57.001241Z"
    }
   },
   "outputs": [],
   "source": [
    "import ssl\n",
    "try:\n",
    "    _create_unverified_https_context = ssl._create_unverified_context\n",
    "except AttributeError:\n",
    "    pass\n",
    "else:\n",
    "    ssl._create_default_https_context = _create_unverified_https_context"
   ]
  },
  {
   "cell_type": "code",
   "execution_count": 6,
   "outputs": [
    {
     "name": "stderr",
     "output_type": "stream",
     "text": [
      "[nltk_data] Downloading package inaugural to /Users/pkc/nltk_data...\n",
      "[nltk_data]   Package inaugural is already up-to-date!\n"
     ]
    }
   ],
   "source": [
    "import nltk\n",
    "nltk.download('inaugural')\n",
    "from nltk.corpus import inaugural\n",
    "import re"
   ],
   "metadata": {
    "collapsed": false,
    "ExecuteTime": {
     "end_time": "2024-02-11T00:30:04.669611Z",
     "start_time": "2024-02-11T00:30:04.632832Z"
    }
   }
  },
  {
   "cell_type": "code",
   "execution_count": 4,
   "outputs": [],
   "source": [
    "listID=inaugural.fileids()"
   ],
   "metadata": {
    "collapsed": false,
    "ExecuteTime": {
     "end_time": "2024-02-11T00:29:48.777860Z",
     "start_time": "2024-02-11T00:29:48.751065Z"
    }
   }
  },
  {
   "cell_type": "code",
   "execution_count": 5,
   "outputs": [
    {
     "data": {
      "text/plain": "['1789-Washington.txt',\n '1793-Washington.txt',\n '1797-Adams.txt',\n '1801-Jefferson.txt']"
     },
     "execution_count": 5,
     "metadata": {},
     "output_type": "execute_result"
    }
   ],
   "source": [
    "listID[:4]"
   ],
   "metadata": {
    "collapsed": false,
    "ExecuteTime": {
     "end_time": "2024-02-11T00:29:55.564816Z",
     "start_time": "2024-02-11T00:29:55.537954Z"
    }
   }
  },
  {
   "cell_type": "code",
   "execution_count": 7,
   "outputs": [
    {
     "ename": "TypeError",
     "evalue": "list indices must be integers or slices, not str",
     "output_type": "error",
     "traceback": [
      "\u001B[0;31m---------------------------------------------------------------------------\u001B[0m",
      "\u001B[0;31mTypeError\u001B[0m                                 Traceback (most recent call last)",
      "Cell \u001B[0;32mIn[7], line 2\u001B[0m\n\u001B[1;32m      1\u001B[0m \u001B[38;5;28;01mfor\u001B[39;00m i \u001B[38;5;129;01min\u001B[39;00m listID:\n\u001B[0;32m----> 2\u001B[0m     re\u001B[38;5;241m.\u001B[39mfindall(\u001B[38;5;124mr\u001B[39m\u001B[38;5;124m'\u001B[39m\u001B[38;5;124m[sS]lave\u001B[39m\u001B[38;5;124m'\u001B[39m,inaugural\u001B[38;5;241m.\u001B[39mwords(\u001B[43mlistID\u001B[49m\u001B[43m[\u001B[49m\u001B[43mi\u001B[49m\u001B[43m]\u001B[49m))\n",
      "\u001B[0;31mTypeError\u001B[0m: list indices must be integers or slices, not str"
     ]
    }
   ],
   "source": [
    "for i in listID:\n",
    "    re.findall(r'[sS]lave',inaugural.words(listID[i]))"
   ],
   "metadata": {
    "collapsed": false,
    "ExecuteTime": {
     "end_time": "2024-02-11T00:31:17.662806Z",
     "start_time": "2024-02-11T00:31:17.058476Z"
    }
   }
  },
  {
   "cell_type": "code",
   "execution_count": 11,
   "outputs": [],
   "source": [
    "linc_firstID=listID[18]"
   ],
   "metadata": {
    "collapsed": false,
    "ExecuteTime": {
     "end_time": "2024-02-11T00:31:57.472696Z",
     "start_time": "2024-02-11T00:31:57.439011Z"
    }
   }
  },
  {
   "cell_type": "code",
   "execution_count": 12,
   "outputs": [],
   "source": [
    "linc_first_words= inaugural.words(linc_firstID)"
   ],
   "metadata": {
    "collapsed": false,
    "ExecuteTime": {
     "end_time": "2024-02-11T00:32:23.999149Z",
     "start_time": "2024-02-11T00:32:23.963846Z"
    }
   }
  },
  {
   "cell_type": "code",
   "execution_count": 13,
   "outputs": [
    {
     "data": {
      "text/plain": "['Fellow', '-', 'Citizens', 'of', 'the', 'United', ...]"
     },
     "execution_count": 13,
     "metadata": {},
     "output_type": "execute_result"
    }
   ],
   "source": [
    "linc_first_words"
   ],
   "metadata": {
    "collapsed": false,
    "ExecuteTime": {
     "end_time": "2024-02-11T00:32:28.887047Z",
     "start_time": "2024-02-11T00:32:28.851280Z"
    }
   }
  },
  {
   "cell_type": "code",
   "execution_count": 29,
   "outputs": [
    {
     "data": {
      "text/plain": "'The tf frequency for slave is 0.2996 %'"
     },
     "execution_count": 29,
     "metadata": {},
     "output_type": "execute_result"
    }
   ],
   "source": [
    "counter=0\n",
    "tf_word = 'slave'\n",
    "inaug_add_wordList= linc_first_words\n",
    "for i in inaug_add_wordList:\n",
    "    if i.startswith(tf_word) or i.startswith(tf_word.capitalize()):\n",
    "        counter+=1\n",
    "tf=counter/len(linc_first_words)\n",
    "tf_perc=round(tf*100,4)\n",
    "f\"The tf frequency for {tf_word} is \"+str(tf_perc)+\" %\"\n"
   ],
   "metadata": {
    "collapsed": false,
    "ExecuteTime": {
     "end_time": "2024-02-11T00:49:52.392253Z",
     "start_time": "2024-02-11T00:49:52.363615Z"
    }
   }
  },
  {
   "cell_type": "code",
   "execution_count": 30,
   "outputs": [],
   "source": [
    "def findTF(word,inaugurationWordList):\n",
    "    counter= 0\n",
    "    for i in inaugurationWordList:\n",
    "        if i.startswith(word) or i.startswith(word.capitalize()):\n",
    "            counter+=1\n",
    "    term_freq= counter/len(inaugurationWordList)\n",
    "    tf_perc= round(term_freq*100,5)\n",
    "    return tf_perc"
   ],
   "metadata": {
    "collapsed": false,
    "ExecuteTime": {
     "end_time": "2024-02-11T00:53:43.325484Z",
     "start_time": "2024-02-11T00:53:43.302925Z"
    }
   }
  },
  {
   "cell_type": "code",
   "execution_count": 32,
   "outputs": [
    {
     "data": {
      "text/plain": "0.29963"
     },
     "execution_count": 32,
     "metadata": {},
     "output_type": "execute_result"
    }
   ],
   "source": [
    "findTF('slave',inaugural.words('1861-Lincoln.txt'))"
   ],
   "metadata": {
    "collapsed": false,
    "ExecuteTime": {
     "end_time": "2024-02-11T00:54:34.804323Z",
     "start_time": "2024-02-11T00:54:34.774085Z"
    }
   }
  },
  {
   "cell_type": "code",
   "execution_count": 37,
   "outputs": [
    {
     "data": {
      "text/plain": "0.19506"
     },
     "execution_count": 37,
     "metadata": {},
     "output_type": "execute_result"
    }
   ],
   "source": [
    "findTF('free',inaugural.words(listID[0]))"
   ],
   "metadata": {
    "collapsed": false,
    "ExecuteTime": {
     "end_time": "2024-02-11T00:56:57.274402Z",
     "start_time": "2024-02-11T00:56:57.243835Z"
    }
   }
  },
  {
   "cell_type": "code",
   "execution_count": 45,
   "outputs": [],
   "source": [
    "for i in listID[:5]:\n",
    "    findTF('slave',inaugural.words(i))"
   ],
   "metadata": {
    "collapsed": false,
    "ExecuteTime": {
     "end_time": "2024-02-11T01:00:03.733407Z",
     "start_time": "2024-02-11T01:00:03.678119Z"
    }
   }
  },
  {
   "cell_type": "markdown",
   "source": [
    "tfList is the list of all inaugural address and the tf score for the word \"slave\" in all of them"
   ],
   "metadata": {
    "collapsed": false
   }
  },
  {
   "cell_type": "code",
   "execution_count": 52,
   "outputs": [],
   "source": [
    "tf_word=\"slave\"\n",
    "tfList = [findTF(tf_word,inaugural.words(i)) for i in listID]"
   ],
   "metadata": {
    "collapsed": false,
    "ExecuteTime": {
     "end_time": "2024-02-11T01:02:47.010415Z",
     "start_time": "2024-02-11T01:02:46.697415Z"
    }
   }
  },
  {
   "cell_type": "code",
   "execution_count": 61,
   "outputs": [],
   "source": [
    "def findIDF(word):\n",
    "    tfList = [findTF(word,inaugural.words(i)) for i in listID]\n",
    "    idf= len(tfList)/(len(set(tfList))-1)\n",
    "    return idf"
   ],
   "metadata": {
    "collapsed": false,
    "ExecuteTime": {
     "end_time": "2024-02-11T01:33:16.404748Z",
     "start_time": "2024-02-11T01:33:16.372461Z"
    }
   }
  },
  {
   "cell_type": "code",
   "execution_count": 53,
   "outputs": [
    {
     "data": {
      "text/plain": "59"
     },
     "execution_count": 53,
     "metadata": {},
     "output_type": "execute_result"
    }
   ],
   "source": [
    "len(tfList)"
   ],
   "metadata": {
    "collapsed": false,
    "ExecuteTime": {
     "end_time": "2024-02-11T01:07:46.401894Z",
     "start_time": "2024-02-11T01:07:46.344639Z"
    }
   }
  },
  {
   "cell_type": "code",
   "execution_count": 55,
   "outputs": [
    {
     "data": {
      "text/plain": "17"
     },
     "execution_count": 55,
     "metadata": {},
     "output_type": "execute_result"
    }
   ],
   "source": [
    "len(set(tfList))-1"
   ],
   "metadata": {
    "collapsed": false,
    "ExecuteTime": {
     "end_time": "2024-02-11T01:08:14.980881Z",
     "start_time": "2024-02-11T01:08:14.952022Z"
    }
   }
  },
  {
   "cell_type": "code",
   "execution_count": 56,
   "outputs": [],
   "source": [
    "idf= len(tfList)/(len(set(tfList))-1)"
   ],
   "metadata": {
    "collapsed": false,
    "ExecuteTime": {
     "end_time": "2024-02-11T01:08:52.396132Z",
     "start_time": "2024-02-11T01:08:52.372251Z"
    }
   }
  },
  {
   "cell_type": "code",
   "execution_count": 57,
   "outputs": [
    {
     "data": {
      "text/plain": "3.4705882352941178"
     },
     "execution_count": 57,
     "metadata": {},
     "output_type": "execute_result"
    }
   ],
   "source": [
    "idf"
   ],
   "metadata": {
    "collapsed": false,
    "ExecuteTime": {
     "end_time": "2024-02-11T01:08:56.184130Z",
     "start_time": "2024-02-11T01:08:56.165551Z"
    }
   }
  },
  {
   "cell_type": "code",
   "execution_count": 64,
   "outputs": [
    {
     "data": {
      "text/plain": "2.8095238095238093"
     },
     "execution_count": 64,
     "metadata": {},
     "output_type": "execute_result"
    }
   ],
   "source": [
    "findIDF('conscience')"
   ],
   "metadata": {
    "collapsed": false,
    "ExecuteTime": {
     "end_time": "2024-02-11T01:36:26.839063Z",
     "start_time": "2024-02-11T01:36:25.981239Z"
    }
   }
  },
  {
   "cell_type": "code",
   "execution_count": 59,
   "outputs": [
    {
     "name": "stdout",
     "output_type": "stream",
     "text": [
      "0.0\n",
      "0.0\n",
      "0.0\n",
      "0.0\n",
      "0.0\n",
      "0.0\n",
      "0.0\n",
      "0.0\n",
      "0.005869322033898305\n",
      "0.009148305084745763\n",
      "0.0\n",
      "0.0\n",
      "0.02072559322033898\n",
      "0.003143559322033898\n",
      "0.0\n",
      "0.0\n",
      "0.0\n",
      "0.05580322033898305\n",
      "0.08633406779661017\n",
      "0.11011677966101695\n",
      "0.0\n",
      "0.019495254237288134\n",
      "0.0\n",
      "0.04447949152542373\n",
      "0.0\n",
      "0.024263898305084745\n",
      "0.0\n",
      "0.0\n",
      "0.0\n",
      "0.0\n",
      "0.0049299999999999995\n",
      "0.0\n",
      "0.0\n",
      "0.0\n",
      "0.0\n",
      "0.0\n",
      "0.0\n",
      "0.0\n",
      "0.01875762711864407\n",
      "0.0\n",
      "0.0\n",
      "0.010384406779661017\n",
      "0.0\n",
      "0.0\n",
      "0.0\n",
      "0.0\n",
      "0.0\n",
      "0.0\n",
      "0.0\n",
      "0.0\n",
      "0.0\n",
      "0.0\n",
      "0.01170406779661017\n",
      "0.015786949152542373\n",
      "0.024255254237288137\n",
      "0.0\n",
      "0.012162203389830508\n",
      "0.0\n",
      "0.0\n"
     ]
    }
   ],
   "source": [
    "for i in tfList:\n",
    "    print(i/idf)"
   ],
   "metadata": {
    "collapsed": false,
    "ExecuteTime": {
     "end_time": "2024-02-11T01:09:39.214995Z",
     "start_time": "2024-02-11T01:09:39.169445Z"
    }
   }
  },
  {
   "cell_type": "code",
   "execution_count": null,
   "outputs": [],
   "source": [
    "def findTF_IDF_Inaugural(word):\n"
   ],
   "metadata": {
    "collapsed": false
   }
  }
 ],
 "metadata": {
  "kernelspec": {
   "display_name": "Python 3",
   "language": "python",
   "name": "python3"
  },
  "language_info": {
   "codemirror_mode": {
    "name": "ipython",
    "version": 2
   },
   "file_extension": ".py",
   "mimetype": "text/x-python",
   "name": "python",
   "nbconvert_exporter": "python",
   "pygments_lexer": "ipython2",
   "version": "2.7.6"
  }
 },
 "nbformat": 4,
 "nbformat_minor": 0
}
