{
 "cells": [
  {
   "cell_type": "code",
   "execution_count": 8,
   "outputs": [],
   "source": [
    "import ssl\n",
    "try:\n",
    "    _create_unverified_https_context = ssl._create_unverified_context\n",
    "except AttributeError:\n",
    "    pass\n",
    "else:\n",
    "    ssl._create_default_https_context = _create_unverified_https_context"
   ],
   "metadata": {
    "collapsed": false,
    "ExecuteTime": {
     "end_time": "2024-03-29T22:35:04.584622Z",
     "start_time": "2024-03-29T22:35:04.244507Z"
    }
   }
  },
  {
   "cell_type": "code",
   "execution_count": 9,
   "metadata": {
    "collapsed": true,
    "ExecuteTime": {
     "end_time": "2024-03-29T22:35:04.604112Z",
     "start_time": "2024-03-29T22:35:04.295062Z"
    }
   },
   "outputs": [
    {
     "name": "stderr",
     "output_type": "stream",
     "text": [
      "[nltk_data] Downloading package inaugural to /Users/pkc/nltk_data...\n",
      "[nltk_data]   Package inaugural is already up-to-date!\n"
     ]
    }
   ],
   "source": [
    "import nltk\n",
    "nltk.download('inaugural')\n",
    "from nltk.corpus import inaugural"
   ]
  },
  {
   "cell_type": "code",
   "execution_count": 10,
   "outputs": [],
   "source": [
    "ids=inaugural.fileids()"
   ],
   "metadata": {
    "collapsed": false,
    "ExecuteTime": {
     "end_time": "2024-03-29T22:35:04.605956Z",
     "start_time": "2024-03-29T22:35:04.316557Z"
    }
   }
  },
  {
   "cell_type": "code",
   "execution_count": 11,
   "outputs": [
    {
     "data": {
      "text/plain": "['1789-Washington.txt',\n '1793-Washington.txt',\n '1797-Adams.txt',\n '1801-Jefferson.txt',\n '1805-Jefferson.txt']"
     },
     "execution_count": 11,
     "metadata": {},
     "output_type": "execute_result"
    }
   ],
   "source": [
    "ids[:5]"
   ],
   "metadata": {
    "collapsed": false,
    "ExecuteTime": {
     "end_time": "2024-03-29T22:35:04.622965Z",
     "start_time": "2024-03-29T22:35:04.325802Z"
    }
   }
  },
  {
   "cell_type": "code",
   "execution_count": 12,
   "outputs": [],
   "source": [
    "writeDMX= open('addressesraw/fme.text','w')"
   ],
   "metadata": {
    "collapsed": false,
    "ExecuteTime": {
     "end_time": "2024-03-29T22:35:04.623571Z",
     "start_time": "2024-03-29T22:35:04.342606Z"
    }
   }
  },
  {
   "cell_type": "code",
   "execution_count": 13,
   "outputs": [
    {
     "data": {
      "text/plain": "145"
     },
     "execution_count": 13,
     "metadata": {},
     "output_type": "execute_result"
    }
   ],
   "source": [
    "writeDMX.write('Look through my eyes, see what, see what I see Do as I do, be what I be Walk in my shoes and hurt your feet Then know why I do dirt in the street')"
   ],
   "metadata": {
    "collapsed": false,
    "ExecuteTime": {
     "end_time": "2024-03-29T22:35:04.624496Z",
     "start_time": "2024-03-29T22:35:04.357437Z"
    }
   }
  },
  {
   "cell_type": "code",
   "execution_count": 14,
   "outputs": [],
   "source": [
    "writeDMX.close()\n",
    "readDMX=open('addressesraw/fme.text','r')"
   ],
   "metadata": {
    "collapsed": false,
    "ExecuteTime": {
     "end_time": "2024-03-29T22:35:04.625029Z",
     "start_time": "2024-03-29T22:35:04.370356Z"
    }
   }
  },
  {
   "cell_type": "code",
   "execution_count": 15,
   "outputs": [
    {
     "data": {
      "text/plain": "'Look through my eyes, see what, see what I see Do as I do, be what I be Walk in my shoes and hurt your feet Then know why I do dirt in the street'"
     },
     "execution_count": 15,
     "metadata": {},
     "output_type": "execute_result"
    }
   ],
   "source": [
    "readDMX.read()"
   ],
   "metadata": {
    "collapsed": false,
    "ExecuteTime": {
     "end_time": "2024-03-29T22:35:04.625604Z",
     "start_time": "2024-03-29T22:35:04.386418Z"
    }
   }
  },
  {
   "cell_type": "markdown",
   "source": [
    "Interesting nltk.inaugural functions"
   ],
   "metadata": {
    "collapsed": false,
    "ExecuteTime": {
     "end_time": "2024-02-10T19:08:54.345710Z",
     "start_time": "2024-02-10T19:08:52.060739Z"
    }
   },
   "outputs": [
    {
     "data": {
      "text/plain": "'Fellow-Citizens of the United States: In compliance with a custom as old as the Government itself, I appear before you to address you briefly and to take in your presence the oath prescribed by the Constitution of the United States to be taken by the President \"before he enters on the execution of this office.\"\\n\\nI do not consider it necessary at present for me to discuss those matters of administration about which there is no special anxiety or excitement.\\n\\nApprehension seems to exist among the people of the Southern States that by the accession of a Republican Administration their property and their peace and personal security are to be endangered. There has never been any reasonable cause for such apprehension. Indeed, the most ample evidence to the contrary has all the while existed and been open to their inspection. It is found in nearly all the published speeches of him who now addresses you. I do but quote from one of those speeches when I declare that -- \\n\\nI have no purpose, directly or indirectly, to interfere with the institution of slavery in the States where it exists. I believe I have no lawful right to do so, and I have no inclination to do so.\\n\\nThose who nominated and elected me did so with full knowledge that I had made this and many similar declarations and had never recanted them; and more than this, they placed in the platform for my acceptance, and as a law to themselves and to me, the clear and emphatic resolution which I now read:\\n\\nResolved, That the maintenance inviolate of the rights of the States, and especially the right of each State to order and control its own domestic institutions according to its own judgment exclusively, is essential to that balance of power on which the perfection and endurance of our political fabric depend; and we denounce the lawless invasion by armed force of the soil of any State or Territory, no matter what pretext, as among the gravest of crimes.\\n\\nI now reiterate these sentiments, and in doing so I only press upon the public attention the most conclusive evidence of which the case is susceptible that the property, peace, and security of no section are to be in any wise endangered by the now incoming Administration. I add, too, that all the protection which, consistently with the Constitution and the laws, can be given will be cheerfully given to all the States when lawfully demanded, for whatever cause -- as cheerfully to one section as to another.\\n\\nThere is much controversy about the delivering up of fugitives from service or labor. The clause I now read is as plainly written in the Constitution as any other of its provisions:\\n\\nNo person held to service or labor in one State, under the laws thereof, escaping into another, shall in consequence of any law or regulation therein be discharged from such service or labor, but shall be delivered up on claim of the party to whom such service or labor may be due.\\n\\nIt is scarcely questioned that this provision was intended by those who made it for the reclaiming of what we call fugitive slaves; and the intention of the lawgiver is the law. All members of Congress swear their support to the whole Constitution -- to this provision as much as to any other. To the proposition, then, that slaves whose cases come within the terms of this clause \"shall be delivered up\" their oaths are unanimous. Now, if they would make the effort in good temper, could they not with nearly equal unanimity frame and pass a law by means of which to keep good that unanimous oath?\\n\\nThere is some difference of opinion whether this clause should be enforced by national or by State authority, but surely that difference is not a very material one. If the slave is to be surrendered, it can be of but little consequence to him or to others by which authority it is done. And should anyone in any case be content that his oath shall go unkept on a merely unsubstantial controversy as to how it shall be kept?\\n\\nAgain: In any law upon this subject ought not all the safeguards of liberty known in civilized and humane jurisprudence to be introduced, so that a free man be not in any case surrendered as a slave? And might it not be well at the same time to provide by law for the enforcement of that clause in the Constitution which guarantees that \"the citizens of each State shall be entitled to all privileges and immunities of citizens in the several States\"?\\n\\nI take the official oath to-day with no mental reservations and with no purpose to construe the Constitution or laws by any hypercritical rules; and while I do not choose now to specify particular acts of Congress as proper to be enforced, I do suggest that it will be much safer for all, both in official and private stations, to conform to and abide by all those acts which stand unrepealed than to violate any of them trusting to find impunity in having them held to be unconstitutional.\\n\\nIt is seventy-two years since the first inauguration of a President under our National Constitution. During that period fifteen different and greatly distinguished citizens have in succession administered the executive branch of the Government. They have conducted it through many perils, and generally with great success. Yet, with all this scope of precedent, I now enter upon the same task for the brief constitutional term of four years under great and peculiar difficulty. A disruption of the Federal Union, heretofore only menaced, is now formidably attempted.\\n\\nI hold that in contemplation of universal law and of the Constitution the Union of these States is perpetual. Perpetuity is implied, if not expressed, in the fundamental law of all national governments. It is safe to assert that no government proper ever had a provision in its organic law for its own termination. Continue to execute all the express provisions of our National Constitution, and the Union will endure forever, it being impossible to destroy it except by some action not provided for in the instrument itself.\\n\\nAgain: If the United States be not a government proper, but an association of States in the nature of contract merely, can it, as a contract, be peaceably unmade by less than all the parties who made it? One party to a contract may violate it -- break it, so to speak -- but does it not require all to lawfully rescind it?\\n\\nDescending from these general principles, we find the proposition that in legal contemplation the Union is perpetual confirmed by the history of the Union itself. The Union is much older than the Constitution. It was formed, in fact, by the Articles of Association in 1774. It was matured and continued by the Declaration of Independence in 1776. It was further matured, and the faith of all the then thirteen States expressly plighted and engaged that it should be perpetual, by the Articles of Confederation in 1778. And finally, in 1787, one of the declared objects for ordaining and establishing the Constitution was \"to form a more perfect Union.\"\\n\\nBut if destruction of the Union by one or by a part only of the States be lawfully possible, the Union is less perfect than before the Constitution, having lost the vital element of perpetuity.\\n\\nIt follows from these views that no State upon its own mere motion can lawfully get out of the Union; that resolves and ordinances to that effect are legally void, and that acts of violence within any State or States against the authority of the United States are insurrectionary or revolutionary, according to circumstances.\\n\\nI therefore consider that in view of the Constitution and the laws the Union is unbroken, and to the extent of my ability, I shall take care, as the Constitution itself expressly enjoins upon me, that the laws of the Union be faithfully executed in all the States. Doing this I deem to be only a simple duty on my part, and I shall perform it so far as practicable unless my rightful masters, the American people, shall withhold the requisite means or in some authoritative manner direct the contrary. I trust this will not be regarded as a menace, but only as the declared purpose of the Union that it will constitutionally defend and maintain itself.\\n\\nIn doing this there needs to be no bloodshed or violence, and there shall be none unless it be forced upon the national authority. The power confided to me will be used to hold, occupy, and possess the property and places belonging to the Government and to collect the duties and imposts; but beyond what may be necessary for these objects, there will be no invasion, no using of force against or among the people anywhere. Where hostility to the United States in any interior locality shall be so great and universal as to prevent competent resident citizens from holding the Federal offices, there will be no attempt to force obnoxious strangers among the people for that object. While the strict legal right may exist in the Government to enforce the exercise of these offices, the attempt to do so would be so irritating and so nearly impracticable withal that I deem it better to forego for the time the uses of such offices.\\n\\nThe mails, unless repelled, will continue to be furnished in all parts of the Union. So far as possible the people everywhere shall have that sense of perfect security which is most favorable to calm thought and reflection. The course here indicated will be followed unless current events and experience shall show a modification or change to be proper, and in every case and exigency my best discretion will be exercised, according to circumstances actually existing and with a view and a hope of a peaceful solution of the national troubles and the restoration of fraternal sympathies and affections.\\n\\nThat there are persons in one section or another who seek to destroy the Union at all events and are glad of any pretext to do it I will neither affirm nor deny; but if there be such, I need address no word to them. To those, however, who really love the Union may I not speak?\\n\\nBefore entering upon so grave a matter as the destruction of our national fabric, with all its benefits, its memories, and its hopes, would it not be wise to ascertain precisely why we do it? Will you hazard so desperate a step while there is any possibility that any portion of the ills you fly from have no real existence? Will you, while the certain ills you fly to are greater than all the real ones you fly from, will you risk the commission of so fearful a mistake?\\n\\nAll profess to be content in the Union if all constitutional rights can be maintained. Is it true, then, that any right plainly written in the Constitution has been denied? I think not. Happily, the human mind is so constituted that no party can reach to the audacity of doing this. Think, if you can, of a single instance in which a plainly written provision of the Constitution has ever been denied. If by the mere force of numbers a majority should deprive a minority of any clearly written constitutional right, it might in a moral point of view justify revolution; certainly would if such right were a vital one. But such is not our case. All the vital rights of minorities and of individuals are so plainly assured to them by affirmations and negations, guaranties and prohibitions, in the Constitution that controversies never arise concerning them. But no organic law can ever be framed with a provision specifically applicable to every question which may occur in practical administration. No foresight can anticipate nor any document of reasonable length contain express provisions for all possible questions. Shall fugitives from labor be surrendered by national or by State authority? The Constitution does not expressly say. May Congress prohibit slavery in the Territories? The Constitution does not expressly say. Must Congress protect slavery in the Territories? The Constitution does not expressly say.\\n\\nFrom questions of this class spring all our constitutional controversies, and we divide upon them into majorities and minorities. If the minority will not acquiesce, the majority must, or the Government must cease. There is no other alternative, for continuing the Government is acquiescence on one side or the other. If a minority in such case will secede rather than acquiesce, they make a precedent which in turn will divide and ruin them, for a minority of their own will secede from them whenever a majority refuses to be controlled by such minority. For instance, why may not any portion of a new confederacy a year or two hence arbitrarily secede again, precisely as portions of the present Union now claim to secede from it? All who cherish disunion sentiments are now being educated to the exact temper of doing this.\\n\\nIs there such perfect identity of interests among the States to compose a new union as to produce harmony only and prevent renewed secession?\\n\\nPlainly the central idea of secession is the essence of anarchy. A majority held in restraint by constitutional checks and limitations, and always changing easily with deliberate changes of popular opinions and sentiments, is the only true sovereign of a free people. Whoever rejects it does of necessity fly to anarchy or to despotism. Unanimity is impossible. The rule of a minority, as a permanent arrangement, is wholly inadmissible; so that, rejecting the majority principle, anarchy or despotism in some form is all that is left.\\n\\nI do not forget the position assumed by some that constitutional questions are to be decided by the Supreme Court, nor do I deny that such decisions must be binding in any case upon the parties to a suit as to the object of that suit, while they are also entitled to very high respect and consideration in all parallel cases by all other departments of the Government. And while it is obviously possible that such decision may be erroneous in any given case, still the evil effect following it, being limited to that particular case, with the chance that it may be overruled and never become a precedent for other cases, can better be borne than could the evils of a different practice. At the same time, the candid citizen must confess that if the policy of the Government upon vital questions affecting the whole people is to be irrevocably fixed by decisions of the Supreme Court, the instant they are made in ordinary litigation between parties in personal actions the people will have ceased to be their own rulers, having to that extent practically resigned their Government into the hands of that eminent tribunal. Nor is there in this view any assault upon the court or the judges. It is a duty from which they may not shrink to decide cases properly brought before them, and it is no fault of theirs if others seek to turn their decisions to political purposes.\\n\\nOne section of our country believes slavery is right and ought to be extended, while the other believes it is wrong and ought not to be extended. This is the only substantial dispute. The fugitive-slave clause of the Constitution and the law for the suppression of the foreign slave trade are each as well enforced, perhaps, as any law can ever be in a community where the moral sense of the people imperfectly supports the law itself. The great body of the people abide by the dry legal obligation in both cases, and a few break over in each. This, I think, can not be perfectly cured, and it would be worse in both cases after the separation of the sections than before. The foreign slave trade, now imperfectly suppressed, would be ultimately revived without restriction in one section, while fugitive slaves, now only partially surrendered, would not be surrendered at all by the other.\\n\\nPhysically speaking, we can not separate. We can not remove our respective sections from each other nor build an impassable wall between them. A husband and wife may be divorced and go out of the presence and beyond the reach of each other, but the different parts of our country can not do this. They can not but remain face to face, and intercourse, either amicable or hostile, must continue between them. Is it possible, then, to make that intercourse more advantageous or more satisfactory after separation than before? Can aliens make treaties easier than friends can make laws? Can treaties be more faithfully enforced between aliens than laws can among friends? Suppose you go to war, you can not fight always; and when, after much loss on both sides and no gain on either, you cease fighting, the identical old questions, as to terms of intercourse, are again upon you.\\n\\nThis country, with its institutions, belongs to the people who inhabit it. Whenever they shall grow weary of the existing Government, they can exercise their constitutional right of amending it or their revolutionary right to dismember or overthrow it. I can not be ignorant of the fact that many worthy and patriotic citizens are desirous of having the National Constitution amended. While I make no recommendation of amendments, I fully recognize the rightful authority of the people over the whole subject, to be exercised in either of the modes prescribed in the instrument itself; and I should, under existing circumstances, favor rather than oppose a fair opportunity being afforded the people to act upon it. I will venture to add that to me the convention mode seems preferable, in that it allows amendments to originate with the people themselves, instead of only permitting them to take or reject propositions originated by others, not especially chosen for the purpose, and which might not be precisely such as they would wish to either accept or refuse. I understand a proposed amendment to the Constitution -- which amendment, however, I have not seen--has passed Congress, to the effect that the Federal Government shall never interfere with the domestic institutions of the States, including that of persons held to service. To avoid misconstruction of what I have said, I depart from my purpose not to speak of particular amendments so far as to say that, holding such a provision to now be implied constitutional law, I have no objection to its being made express and irrevocable.\\n\\nThe Chief Magistrate derives all his authority from the people, and they have referred none upon him to fix terms for the separation of the States. The people themselves can do this if also they choose, but the Executive as such has nothing to do with it. His duty is to administer the present Government as it came to his hands and to transmit it unimpaired by him to his successor.\\n\\nWhy should there not be a patient confidence in the ultimate justice of the people? Is there any better or equal hope in the world? In our present differences, is either party without faith of being in the right? If the Almighty Ruler of Nations, with His eternal truth and justice, be on your side of the North, or on yours of the South, that truth and that justice will surely prevail by the judgment of this great tribunal of the American people.\\n\\nBy the frame of the Government under which we live this same people have wisely given their public servants but little power for mischief, and have with equal wisdom provided for the return of that little to their own hands at very short intervals. While the people retain their virtue and vigilance no Administration by any extreme of wickedness or folly can very seriously injure the Government in the short space of four years.\\n\\nMy countrymen, one and all, think calmly and well upon this whole subject. Nothing valuable can be lost by taking time. If there be an object to hurry any of you in hot haste to a step which you would never take deliberately, that object will be frustrated by taking time; but no good object can be frustrated by it. Such of you as are now dissatisfied still have the old Constitution unimpaired, and, on the sensitive point, the laws of your own framing under it; while the new Administration will have no immediate power, if it would, to change either. If it were admitted that you who are dissatisfied hold the right side in the dispute, there still is no single good reason for precipitate action. Intelligence, patriotism, Christianity, and a firm reliance on Him who has never yet forsaken this favored land are still competent to adjust in the best way all our present difficulty.\\n\\nIn your hands, my dissatisfied fellow-countrymen, and not in mine, is the momentous issue of civil war. The Government will not assail you. You can have no conflict without being yourselves the aggressors. You have no oath registered in heaven to destroy the Government, while I shall have the most solemn one to \"preserve, protect, and defend it.\"\\n\\nI am loath to close. We are not enemies, but friends. We must not be enemies. Though passion may have strained it must not break our bonds of affection. The mystic chords of memory, stretching from every battlefield and patriot grave to every living heart and hearthstone all over this broad land, will yet swell the chorus of the Union, when again touched, as surely they will be, by the better angels of our nature.\\n'"
     },
     "execution_count": 67,
     "metadata": {},
     "output_type": "execute_result"
    }
   ],
   "execution_count": 67
  },
  {
   "cell_type": "markdown",
   "source": [
    ">>> inaugural.raw('1789-Washington.txt')\n",
    "'Fellow-Citizens of the Senate ...'\n",
    ">>> inaugural.words('1789-Washington.txt')\n",
    "['Fellow', '-', 'Citizens', 'of', 'the', ...]\n",
    ">>> inaugural.sents('1789-Washington.txt')\n",
    "[['Fellow', '-', 'Citizens'...], ['Among', 'the', 'vicissitudes'...]...]\n",
    ">>> inaugural.paras('1789-Washington.txt')\n",
    "> [[['Fellow', '-', 'Citizens'...]],\n",
    " [['Among', 'the', 'vicissitudes'...],\n",
    "  ['On', 'the', 'one', 'hand', ',', 'I'...]...]...]"
   ],
   "metadata": {
    "collapsed": false,
    "ExecuteTime": {
     "end_time": "2024-02-10T19:08:54.391239Z",
     "start_time": "2024-02-10T19:08:52.126060Z"
    }
   },
   "outputs": [],
   "execution_count": 68
  },
  {
   "cell_type": "code",
   "execution_count": 16,
   "outputs": [],
   "source": [
    "listIDs=inaugural.fileids()"
   ],
   "metadata": {
    "collapsed": false,
    "ExecuteTime": {
     "end_time": "2024-03-29T22:35:04.626098Z",
     "start_time": "2024-03-29T22:35:04.402779Z"
    }
   }
  },
  {
   "cell_type": "code",
   "execution_count": 17,
   "outputs": [],
   "source": [
    "inaug_year=[i[:4] for i in listIDs]"
   ],
   "metadata": {
    "collapsed": false,
    "ExecuteTime": {
     "end_time": "2024-03-29T22:35:04.626468Z",
     "start_time": "2024-03-29T22:35:04.430185Z"
    }
   }
  },
  {
   "cell_type": "code",
   "execution_count": 18,
   "outputs": [
    {
     "name": "stdout",
     "output_type": "stream",
     "text": [
      "1538 is the number of words for 1789\n",
      "147 is the number of words for 1793\n",
      "2585 is the number of words for 1797\n",
      "1935 is the number of words for 1801\n",
      "2384 is the number of words for 1805\n",
      "1265 is the number of words for 1809\n",
      "1304 is the number of words for 1813\n",
      "3693 is the number of words for 1817\n",
      "4909 is the number of words for 1821\n",
      "3150 is the number of words for 1825\n",
      "1208 is the number of words for 1829\n",
      "1267 is the number of words for 1833\n",
      "4171 is the number of words for 1837\n",
      "9165 is the number of words for 1841\n",
      "5196 is the number of words for 1845\n",
      "1182 is the number of words for 1849\n",
      "3657 is the number of words for 1853\n",
      "3098 is the number of words for 1857\n",
      "4005 is the number of words for 1861\n",
      "785 is the number of words for 1865\n",
      "1239 is the number of words for 1869\n",
      "1478 is the number of words for 1873\n",
      "2724 is the number of words for 1877\n",
      "3239 is the number of words for 1881\n",
      "1828 is the number of words for 1885\n",
      "4750 is the number of words for 1889\n",
      "2153 is the number of words for 1893\n",
      "4371 is the number of words for 1897\n",
      "2450 is the number of words for 1901\n",
      "1091 is the number of words for 1905\n",
      "5846 is the number of words for 1909\n",
      "1905 is the number of words for 1913\n",
      "1656 is the number of words for 1917\n",
      "3756 is the number of words for 1921\n",
      "4442 is the number of words for 1925\n",
      "3890 is the number of words for 1929\n",
      "2063 is the number of words for 1933\n",
      "2019 is the number of words for 1937\n",
      "1536 is the number of words for 1941\n",
      "637 is the number of words for 1945\n",
      "2528 is the number of words for 1949\n",
      "2775 is the number of words for 1953\n",
      "1917 is the number of words for 1957\n",
      "1546 is the number of words for 1961\n",
      "1715 is the number of words for 1965\n",
      "2425 is the number of words for 1969\n",
      "2028 is the number of words for 1973\n",
      "1380 is the number of words for 1977\n",
      "2801 is the number of words for 1981\n",
      "2946 is the number of words for 1985\n",
      "2713 is the number of words for 1989\n",
      "1855 is the number of words for 1993\n",
      "2462 is the number of words for 1997\n",
      "1825 is the number of words for 2001\n",
      "2376 is the number of words for 2005\n",
      "2726 is the number of words for 2009\n",
      "2369 is the number of words for 2013\n",
      "1693 is the number of words for 2017\n",
      "3104 is the number of words for 2021\n"
     ]
    }
   ],
   "source": [
    "for i in listIDs:\n",
    "    print(str(len(inaugural.words(i)))+\" is the number of words for \"+str(i[:4]))"
   ],
   "metadata": {
    "collapsed": false,
    "ExecuteTime": {
     "end_time": "2024-03-29T22:35:04.762751Z",
     "start_time": "2024-03-29T22:35:04.449568Z"
    }
   }
  },
  {
   "cell_type": "code",
   "execution_count": 19,
   "outputs": [],
   "source": [
    "num_words_address=[len(inaugural.words(i)) for i in listIDs]"
   ],
   "metadata": {
    "collapsed": false,
    "ExecuteTime": {
     "end_time": "2024-03-29T22:35:04.968952Z",
     "start_time": "2024-03-29T22:35:04.720820Z"
    }
   }
  },
  {
   "cell_type": "code",
   "execution_count": 20,
   "outputs": [
    {
     "data": {
      "text/plain": "<matplotlib.collections.PathCollection at 0x7fba77889af0>"
     },
     "execution_count": 20,
     "metadata": {},
     "output_type": "execute_result"
    },
    {
     "data": {
      "text/plain": "<Figure size 640x480 with 1 Axes>",
      "image/png": "[encoded data removed]"
     },
     "metadata": {},
     "output_type": "display_data"
    }
   ],
   "source": [
    "import matplotlib.pyplot as plt\n",
    "plt.scatter(inaug_year,num_words_address)"
   ],
   "metadata": {
    "collapsed": false,
    "ExecuteTime": {
     "end_time": "2024-03-29T22:35:08.968220Z",
     "start_time": "2024-03-29T22:35:04.971378Z"
    }
   }
  },
  {
   "cell_type": "code",
   "execution_count": 21,
   "outputs": [],
   "source": [
    "import pandas as pd"
   ],
   "metadata": {
    "collapsed": false,
    "ExecuteTime": {
     "end_time": "2024-03-29T22:35:14.531450Z",
     "start_time": "2024-03-29T22:35:08.969119Z"
    }
   }
  },
  {
   "cell_type": "code",
   "execution_count": 22,
   "outputs": [],
   "source": [
    "df_words_address= pd.DataFrame(num_words_address)"
   ],
   "metadata": {
    "collapsed": false,
    "ExecuteTime": {
     "end_time": "2024-03-29T22:35:14.541168Z",
     "start_time": "2024-03-29T22:35:14.534023Z"
    }
   }
  },
  {
   "cell_type": "code",
   "execution_count": 23,
   "outputs": [],
   "source": [
    "df_words_address['year']=inaug_year"
   ],
   "metadata": {
    "collapsed": false,
    "ExecuteTime": {
     "end_time": "2024-03-29T22:35:14.563693Z",
     "start_time": "2024-03-29T22:35:14.546018Z"
    }
   }
  },
  {
   "cell_type": "code",
   "execution_count": 24,
   "outputs": [],
   "source": [
    "df=df_words_address.copy()"
   ],
   "metadata": {
    "collapsed": false,
    "ExecuteTime": {
     "end_time": "2024-03-29T22:35:14.565146Z",
     "start_time": "2024-03-29T22:35:14.555767Z"
    }
   }
  },
  {
   "cell_type": "code",
   "execution_count": 25,
   "outputs": [
    {
     "data": {
      "text/plain": "Index([0, 'year'], dtype='object')"
     },
     "execution_count": 25,
     "metadata": {},
     "output_type": "execute_result"
    }
   ],
   "source": [
    "df.columns"
   ],
   "metadata": {
    "collapsed": false,
    "ExecuteTime": {
     "end_time": "2024-03-29T22:35:14.594402Z",
     "start_time": "2024-03-29T22:35:14.567498Z"
    }
   }
  },
  {
   "cell_type": "code",
   "execution_count": 26,
   "outputs": [],
   "source": [
    "df.rename(columns= {0:'num_words'}, inplace=True)"
   ],
   "metadata": {
    "collapsed": false,
    "ExecuteTime": {
     "end_time": "2024-03-29T22:35:14.625303Z",
     "start_time": "2024-03-29T22:35:14.582053Z"
    }
   }
  },
  {
   "cell_type": "code",
   "execution_count": 27,
   "outputs": [],
   "source": [
    "year=df.pop('year')"
   ],
   "metadata": {
    "collapsed": false,
    "ExecuteTime": {
     "end_time": "2024-03-29T22:35:14.638490Z",
     "start_time": "2024-03-29T22:35:14.595139Z"
    }
   }
  },
  {
   "cell_type": "code",
   "execution_count": 28,
   "outputs": [],
   "source": [
    "df.insert(0,'year',year)"
   ],
   "metadata": {
    "collapsed": false,
    "ExecuteTime": {
     "end_time": "2024-03-29T22:35:14.667727Z",
     "start_time": "2024-03-29T22:35:14.608675Z"
    }
   }
  },
  {
   "cell_type": "code",
   "execution_count": 29,
   "outputs": [
    {
     "data": {
      "text/plain": "    year  num_words\n0   1789       1538\n1   1793        147\n2   1797       2585\n3   1801       1935\n4   1805       2384\n5   1809       1265\n6   1813       1304\n7   1817       3693\n8   1821       4909\n9   1825       3150\n10  1829       1208\n11  1833       1267\n12  1837       4171\n13  1841       9165\n14  1845       5196\n15  1849       1182\n16  1853       3657\n17  1857       3098\n18  1861       4005\n19  1865        785\n20  1869       1239\n21  1873       1478\n22  1877       2724\n23  1881       3239\n24  1885       1828\n25  1889       4750\n26  1893       2153\n27  1897       4371\n28  1901       2450\n29  1905       1091\n30  1909       5846\n31  1913       1905\n32  1917       1656\n33  1921       3756\n34  1925       4442\n35  1929       3890\n36  1933       2063\n37  1937       2019\n38  1941       1536\n39  1945        637\n40  1949       2528\n41  1953       2775\n42  1957       1917\n43  1961       1546\n44  1965       1715\n45  1969       2425\n46  1973       2028\n47  1977       1380\n48  1981       2801\n49  1985       2946\n50  1989       2713\n51  1993       1855\n52  1997       2462\n53  2001       1825\n54  2005       2376\n55  2009       2726\n56  2013       2369\n57  2017       1693\n58  2021       3104",
      "text/html": "<div>\n<style scoped>\n    .dataframe tbody tr th:only-of-type {\n        vertical-align: middle;\n    }\n\n    .dataframe tbody tr th {\n        vertical-align: top;\n    }\n\n    .dataframe thead th {\n        text-align: right;\n    }\n</style>\n<table border=\"1\" class=\"dataframe\">\n  <thead>\n    <tr style=\"text-align: right;\">\n      <th></th>\n      <th>year</th>\n      <th>num_words</th>\n    </tr>\n  </thead>\n  <tbody>\n    <tr>\n      <th>0</th>\n      <td>1789</td>\n      <td>1538</td>\n    </tr>\n    <tr>\n      <th>1</th>\n      <td>1793</td>\n      <td>147</td>\n    </tr>\n    <tr>\n      <th>2</th>\n      <td>1797</td>\n      <td>2585</td>\n    </tr>\n    <tr>\n      <th>3</th>\n      <td>1801</td>\n      <td>1935</td>\n    </tr>\n    <tr>\n      <th>4</th>\n      <td>1805</td>\n      <td>2384</td>\n    </tr>\n    <tr>\n      <th>5</th>\n      <td>1809</td>\n      <td>1265</td>\n    </tr>\n    <tr>\n      <th>6</th>\n      <td>1813</td>\n      <td>1304</td>\n    </tr>\n    <tr>\n      <th>7</th>\n      <td>1817</td>\n      <td>3693</td>\n    </tr>\n    <tr>\n      <th>8</th>\n      <td>1821</td>\n      <td>4909</td>\n    </tr>\n    <tr>\n      <th>9</th>\n      <td>1825</td>\n      <td>3150</td>\n    </tr>\n    <tr>\n      <th>10</th>\n      <td>1829</td>\n      <td>1208</td>\n    </tr>\n    <tr>\n      <th>11</th>\n      <td>1833</td>\n      <td>1267</td>\n    </tr>\n    <tr>\n      <th>12</th>\n      <td>1837</td>\n      <td>4171</td>\n    </tr>\n    <tr>\n      <th>13</th>\n      <td>1841</td>\n      <td>9165</td>\n    </tr>\n    <tr>\n      <th>14</th>\n      <td>1845</td>\n      <td>5196</td>\n    </tr>\n    <tr>\n      <th>15</th>\n      <td>1849</td>\n      <td>1182</td>\n    </tr>\n    <tr>\n      <th>16</th>\n      <td>1853</td>\n      <td>3657</td>\n    </tr>\n    <tr>\n      <th>17</th>\n      <td>1857</td>\n      <td>3098</td>\n    </tr>\n    <tr>\n      <th>18</th>\n      <td>1861</td>\n      <td>4005</td>\n    </tr>\n    <tr>\n      <th>19</th>\n      <td>1865</td>\n      <td>785</td>\n    </tr>\n    <tr>\n      <th>20</th>\n      <td>1869</td>\n      <td>1239</td>\n    </tr>\n    <tr>\n      <th>21</th>\n      <td>1873</td>\n      <td>1478</td>\n    </tr>\n    <tr>\n      <th>22</th>\n      <td>1877</td>\n      <td>2724</td>\n    </tr>\n    <tr>\n      <th>23</th>\n      <td>1881</td>\n      <td>3239</td>\n    </tr>\n    <tr>\n      <th>24</th>\n      <td>1885</td>\n      <td>1828</td>\n    </tr>\n    <tr>\n      <th>25</th>\n      <td>1889</td>\n      <td>4750</td>\n    </tr>\n    <tr>\n      <th>26</th>\n      <td>1893</td>\n      <td>2153</td>\n    </tr>\n    <tr>\n      <th>27</th>\n      <td>1897</td>\n      <td>4371</td>\n    </tr>\n    <tr>\n      <th>28</th>\n      <td>1901</td>\n      <td>2450</td>\n    </tr>\n    <tr>\n      <th>29</th>\n      <td>1905</td>\n      <td>1091</td>\n    </tr>\n    <tr>\n      <th>30</th>\n      <td>1909</td>\n      <td>5846</td>\n    </tr>\n    <tr>\n      <th>31</th>\n      <td>1913</td>\n      <td>1905</td>\n    </tr>\n    <tr>\n      <th>32</th>\n      <td>1917</td>\n      <td>1656</td>\n    </tr>\n    <tr>\n      <th>33</th>\n      <td>1921</td>\n      <td>3756</td>\n    </tr>\n    <tr>\n      <th>34</th>\n      <td>1925</td>\n      <td>4442</td>\n    </tr>\n    <tr>\n      <th>35</th>\n      <td>1929</td>\n      <td>3890</td>\n    </tr>\n    <tr>\n      <th>36</th>\n      <td>1933</td>\n      <td>2063</td>\n    </tr>\n    <tr>\n      <th>37</th>\n      <td>1937</td>\n      <td>2019</td>\n    </tr>\n    <tr>\n      <th>38</th>\n      <td>1941</td>\n      <td>1536</td>\n    </tr>\n    <tr>\n      <th>39</th>\n      <td>1945</td>\n      <td>637</td>\n    </tr>\n    <tr>\n      <th>40</th>\n      <td>1949</td>\n      <td>2528</td>\n    </tr>\n    <tr>\n      <th>41</th>\n      <td>1953</td>\n      <td>2775</td>\n    </tr>\n    <tr>\n      <th>42</th>\n      <td>1957</td>\n      <td>1917</td>\n    </tr>\n    <tr>\n      <th>43</th>\n      <td>1961</td>\n      <td>1546</td>\n    </tr>\n    <tr>\n      <th>44</th>\n      <td>1965</td>\n      <td>1715</td>\n    </tr>\n    <tr>\n      <th>45</th>\n      <td>1969</td>\n      <td>2425</td>\n    </tr>\n    <tr>\n      <th>46</th>\n      <td>1973</td>\n      <td>2028</td>\n    </tr>\n    <tr>\n      <th>47</th>\n      <td>1977</td>\n      <td>1380</td>\n    </tr>\n    <tr>\n      <th>48</th>\n      <td>1981</td>\n      <td>2801</td>\n    </tr>\n    <tr>\n      <th>49</th>\n      <td>1985</td>\n      <td>2946</td>\n    </tr>\n    <tr>\n      <th>50</th>\n      <td>1989</td>\n      <td>2713</td>\n    </tr>\n    <tr>\n      <th>51</th>\n      <td>1993</td>\n      <td>1855</td>\n    </tr>\n    <tr>\n      <th>52</th>\n      <td>1997</td>\n      <td>2462</td>\n    </tr>\n    <tr>\n      <th>53</th>\n      <td>2001</td>\n      <td>1825</td>\n    </tr>\n    <tr>\n      <th>54</th>\n      <td>2005</td>\n      <td>2376</td>\n    </tr>\n    <tr>\n      <th>55</th>\n      <td>2009</td>\n      <td>2726</td>\n    </tr>\n    <tr>\n      <th>56</th>\n      <td>2013</td>\n      <td>2369</td>\n    </tr>\n    <tr>\n      <th>57</th>\n      <td>2017</td>\n      <td>1693</td>\n    </tr>\n    <tr>\n      <th>58</th>\n      <td>2021</td>\n      <td>3104</td>\n    </tr>\n  </tbody>\n</table>\n</div>"
     },
     "execution_count": 29,
     "metadata": {},
     "output_type": "execute_result"
    }
   ],
   "source": [
    "df"
   ],
   "metadata": {
    "collapsed": false,
    "ExecuteTime": {
     "end_time": "2024-03-29T22:35:14.672257Z",
     "start_time": "2024-03-29T22:35:14.619963Z"
    }
   }
  },
  {
   "cell_type": "code",
   "execution_count": 30,
   "outputs": [
    {
     "data": {
      "text/plain": "<Axes: xlabel='year'>"
     },
     "execution_count": 30,
     "metadata": {},
     "output_type": "execute_result"
    },
    {
     "data": {
      "text/plain": "<Figure size 640x480 with 1 Axes>",
      "image/png": "[encoded data removed]"
     },
     "metadata": {},
     "output_type": "display_data"
    }
   ],
   "source": [
    "df.plot(x='year',y='num_words',kind='line')"
   ],
   "metadata": {
    "collapsed": false,
    "ExecuteTime": {
     "end_time": "2024-03-29T22:35:15.549756Z",
     "start_time": "2024-03-29T22:35:14.655336Z"
    }
   }
  },
  {
   "cell_type": "code",
   "execution_count": 31,
   "outputs": [
    {
     "data": {
      "text/plain": "count      59.000000\nmean     2591.542373\nstd      1483.685222\nmin       147.000000\n25%      1601.000000\n50%      2376.000000\n75%      3127.000000\nmax      9165.000000\nName: num_words, dtype: float64"
     },
     "execution_count": 31,
     "metadata": {},
     "output_type": "execute_result"
    }
   ],
   "source": [
    "df.num_words.describe()"
   ],
   "metadata": {
    "collapsed": false,
    "ExecuteTime": {
     "end_time": "2024-03-29T22:35:15.553211Z",
     "start_time": "2024-03-29T22:35:15.432763Z"
    }
   }
  },
  {
   "cell_type": "code",
   "execution_count": 32,
   "outputs": [],
   "source": [
    "# prezList= [listIDs[i][5:-4] for i in listIDs"
   ],
   "metadata": {
    "collapsed": false,
    "ExecuteTime": {
     "end_time": "2024-03-29T22:35:15.613059Z",
     "start_time": "2024-03-29T22:35:15.481466Z"
    }
   }
  },
  {
   "cell_type": "code",
   "execution_count": 33,
   "outputs": [
    {
     "data": {
      "text/plain": "['Washington',\n 'Washington',\n 'Adams',\n 'Jefferson',\n 'Jefferson',\n 'Madison',\n 'Madison',\n 'Monroe',\n 'Monroe',\n 'Adams',\n 'Jackson',\n 'Jackson',\n 'VanBuren',\n 'Harrison',\n 'Polk',\n 'Taylor',\n 'Pierce',\n 'Buchanan',\n 'Lincoln',\n 'Lincoln',\n 'Grant',\n 'Grant',\n 'Hayes',\n 'Garfield',\n 'Cleveland',\n 'Harrison',\n 'Cleveland',\n 'McKinley',\n 'McKinley',\n 'Roosevelt',\n 'Taft',\n 'Wilson',\n 'Wilson',\n 'Harding',\n 'Coolidge',\n 'Hoover',\n 'Roosevelt',\n 'Roosevelt',\n 'Roosevelt',\n 'Roosevelt',\n 'Truman',\n 'Eisenhower',\n 'Eisenhower',\n 'Kennedy',\n 'Johnson',\n 'Nixon',\n 'Nixon',\n 'Carter',\n 'Reagan',\n 'Reagan',\n 'Bush',\n 'Clinton',\n 'Clinton',\n 'Bush',\n 'Bush',\n 'Obama',\n 'Obama',\n 'Trump',\n 'Biden']"
     },
     "execution_count": 33,
     "metadata": {},
     "output_type": "execute_result"
    }
   ],
   "source": [
    "prezList= []\n",
    "for i in range(len(listIDs)):\n",
    "    prezList.append(listIDs[i][5:-4])\n",
    "prezList"
   ],
   "metadata": {
    "collapsed": false,
    "ExecuteTime": {
     "end_time": "2024-03-29T22:35:15.678282Z",
     "start_time": "2024-03-29T22:35:15.496351Z"
    }
   }
  },
  {
   "cell_type": "code",
   "execution_count": 34,
   "outputs": [],
   "source": [
    "df['president']= prezList"
   ],
   "metadata": {
    "collapsed": false,
    "ExecuteTime": {
     "end_time": "2024-03-29T22:35:15.678601Z",
     "start_time": "2024-03-29T22:35:15.528820Z"
    }
   }
  },
  {
   "cell_type": "code",
   "execution_count": 35,
   "outputs": [],
   "source": [
    "df.to_pickle('inaug_list.pickle')"
   ],
   "metadata": {
    "collapsed": false,
    "ExecuteTime": {
     "end_time": "2024-03-29T22:35:15.807852Z",
     "start_time": "2024-03-29T22:35:15.592535Z"
    }
   }
  }
 ],
 "metadata": {
  "kernelspec": {
   "display_name": "Python 3",
   "language": "python",
   "name": "python3"
  },
  "language_info": {
   "codemirror_mode": {
    "name": "ipython",
    "version": 2
   },
   "file_extension": ".py",
   "mimetype": "text/x-python",
   "name": "python",
   "nbconvert_exporter": "python",
   "pygments_lexer": "ipython2",
   "version": "2.7.6"
  }
 },
 "nbformat": 4,
 "nbformat_minor": 0
}
