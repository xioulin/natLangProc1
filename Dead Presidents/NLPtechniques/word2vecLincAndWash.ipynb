{
 "cells": [
  {
   "cell_type": "markdown",
   "source": [
    "    short project comparing the cosine similarity between slave and free for lincoln's first and second address, also perhaps comparing freedom between lincoln adn washingont"
   ],
   "metadata": {
    "collapsed": false
   }
  },
  {
   "cell_type": "code",
   "execution_count": 1,
   "outputs": [],
   "source": [
    "import ssl\n",
    "try:\n",
    "    _create_unverified_https_context = ssl._create_unverified_context\n",
    "except AttributeError:\n",
    "    pass\n",
    "else:\n",
    "    ssl._create_default_https_context = _create_unverified_https_context"
   ],
   "metadata": {
    "collapsed": false,
    "ExecuteTime": {
     "end_time": "2024-02-19T00:20:59.355722Z",
     "start_time": "2024-02-19T00:20:59.308236Z"
    }
   }
  },
  {
   "cell_type": "code",
   "execution_count": 6,
   "outputs": [
    {
     "name": "stderr",
     "output_type": "stream",
     "text": [
      "[nltk_data] Downloading package inaugural to /Users/pkc/nltk_data...\n",
      "[nltk_data]   Package inaugural is already up-to-date!\n",
      "[nltk_data] Downloading package inaugural to /Users/pkc/nltk_data...\n",
      "[nltk_data]   Package inaugural is already up-to-date!\n"
     ]
    }
   ],
   "source": [
    "import nltk\n",
    "from nltk import word_tokenize,sent_tokenize\n",
    "nltk.download('inaugural')\n",
    "from nltk.corpus import inaugural"
   ],
   "metadata": {
    "collapsed": false
   }
  },
  {
   "cell_type": "code",
   "execution_count": 7,
   "outputs": [
    {
     "data": {
      "text/plain": "['1789-Washington.txt',\n '1793-Washington.txt',\n '1797-Adams.txt',\n '1801-Jefferson.txt',\n '1805-Jefferson.txt',\n '1809-Madison.txt',\n '1813-Madison.txt',\n '1817-Monroe.txt',\n '1821-Monroe.txt',\n '1825-Adams.txt',\n '1829-Jackson.txt',\n '1833-Jackson.txt',\n '1837-VanBuren.txt',\n '1841-Harrison.txt',\n '1845-Polk.txt',\n '1849-Taylor.txt',\n '1853-Pierce.txt',\n '1857-Buchanan.txt',\n '1861-Lincoln.txt',\n '1865-Lincoln.txt',\n '1869-Grant.txt',\n '1873-Grant.txt',\n '1877-Hayes.txt',\n '1881-Garfield.txt',\n '1885-Cleveland.txt',\n '1889-Harrison.txt',\n '1893-Cleveland.txt',\n '1897-McKinley.txt',\n '1901-McKinley.txt',\n '1905-Roosevelt.txt',\n '1909-Taft.txt',\n '1913-Wilson.txt',\n '1917-Wilson.txt',\n '1921-Harding.txt',\n '1925-Coolidge.txt',\n '1929-Hoover.txt',\n '1933-Roosevelt.txt',\n '1937-Roosevelt.txt',\n '1941-Roosevelt.txt',\n '1945-Roosevelt.txt',\n '1949-Truman.txt',\n '1953-Eisenhower.txt',\n '1957-Eisenhower.txt',\n '1961-Kennedy.txt',\n '1965-Johnson.txt',\n '1969-Nixon.txt',\n '1973-Nixon.txt',\n '1977-Carter.txt',\n '1981-Reagan.txt',\n '1985-Reagan.txt',\n '1989-Bush.txt',\n '1993-Clinton.txt',\n '1997-Clinton.txt',\n '2001-Bush.txt',\n '2005-Bush.txt',\n '2009-Obama.txt',\n '2013-Obama.txt',\n '2017-Trump.txt',\n '2021-Biden.txt']"
     },
     "execution_count": 4,
     "metadata": {},
     "output_type": "execute_result"
    },
    {
     "data": {
      "text/plain": "['1789-Washington.txt',\n '1793-Washington.txt',\n '1797-Adams.txt',\n '1801-Jefferson.txt',\n '1805-Jefferson.txt',\n '1809-Madison.txt',\n '1813-Madison.txt',\n '1817-Monroe.txt',\n '1821-Monroe.txt',\n '1825-Adams.txt',\n '1829-Jackson.txt',\n '1833-Jackson.txt',\n '1837-VanBuren.txt',\n '1841-Harrison.txt',\n '1845-Polk.txt',\n '1849-Taylor.txt',\n '1853-Pierce.txt',\n '1857-Buchanan.txt',\n '1861-Lincoln.txt',\n '1865-Lincoln.txt',\n '1869-Grant.txt',\n '1873-Grant.txt',\n '1877-Hayes.txt',\n '1881-Garfield.txt',\n '1885-Cleveland.txt',\n '1889-Harrison.txt',\n '1893-Cleveland.txt',\n '1897-McKinley.txt',\n '1901-McKinley.txt',\n '1905-Roosevelt.txt',\n '1909-Taft.txt',\n '1913-Wilson.txt',\n '1917-Wilson.txt',\n '1921-Harding.txt',\n '1925-Coolidge.txt',\n '1929-Hoover.txt',\n '1933-Roosevelt.txt',\n '1937-Roosevelt.txt',\n '1941-Roosevelt.txt',\n '1945-Roosevelt.txt',\n '1949-Truman.txt',\n '1953-Eisenhower.txt',\n '1957-Eisenhower.txt',\n '1961-Kennedy.txt',\n '1965-Johnson.txt',\n '1969-Nixon.txt',\n '1973-Nixon.txt',\n '1977-Carter.txt',\n '1981-Reagan.txt',\n '1985-Reagan.txt',\n '1989-Bush.txt',\n '1993-Clinton.txt',\n '1997-Clinton.txt',\n '2001-Bush.txt',\n '2005-Bush.txt',\n '2009-Obama.txt',\n '2013-Obama.txt',\n '2017-Trump.txt',\n '2021-Biden.txt']"
     },
     "execution_count": 7,
     "metadata": {},
     "output_type": "execute_result"
    }
   ],
   "source": [
    "inaugural.fileids()"
   ],
   "metadata": {
    "collapsed": false,
    "ExecuteTime": {
     "end_time": "2024-02-13T22:57:49.991414Z",
     "start_time": "2024-02-13T22:57:49.817996Z"
    }
   }
  },
  {
   "cell_type": "code",
   "execution_count": 8,
   "outputs": [],
   "source": [
    "IDs=inaugural.fileids()"
   ],
   "metadata": {
    "collapsed": false,
    "ExecuteTime": {
     "end_time": "2024-02-13T22:58:10.207477Z",
     "start_time": "2024-02-13T22:58:10.189851Z"
    }
   }
  },
  {
   "cell_type": "code",
   "execution_count": 9,
   "outputs": [],
   "source": [
    "wash_first_id= IDs[0]\n",
    "wash_sec_id= IDs[1]"
   ],
   "metadata": {
    "collapsed": false,
    "ExecuteTime": {
     "end_time": "2024-02-13T22:58:35.020640Z",
     "start_time": "2024-02-13T22:58:34.605476Z"
    }
   }
  },
  {
   "cell_type": "code",
   "execution_count": 10,
   "outputs": [],
   "source": [
    "linc_first_id=IDs[18]\n",
    "linc_sec_id= IDs[19]"
   ],
   "metadata": {
    "collapsed": false,
    "ExecuteTime": {
     "end_time": "2024-02-13T22:58:41.909360Z",
     "start_time": "2024-02-13T22:58:41.874140Z"
    }
   }
  },
  {
   "cell_type": "code",
   "execution_count": 11,
   "outputs": [
    {
     "data": {
      "text/plain": "'Fellow-Citizens of the Senate and of the House of Representatives:\\n\\nAmong the vicissitudes incident to life no event could have filled me with greater anxieties than that of which the notification was transmitted by your order, and received on the 14th day of the present month. On the one hand, I was summoned by my Country, whose voice I can never hear but with veneration and love, from a retreat which I had chosen with the fondest predilection, and, in my flattering hopes, with an immutable decision, as the asylum of my declining years -- a retreat which was rendered every day more necessary as well as more dear to me by the addition of habit to inclination, and of frequent interruptions in my health to the gradual waste committed on it by time. On the other hand, the magnitude and difficulty of the trust to which the voice of my country called me, being sufficient to awaken in the wisest and most experienced of her citizens a distrustful scrutiny into his qualifications, could not but overwhelm with despondence one who (inheriting inferior endowments from nature and unpracticed in the duties of civil administration) ought to be peculiarly conscious of his own deficiencies. In this conflict of emotions all I dare aver is that it has been my faithful study to collect my duty from a just appreciation of every circumstance by which it might be affected. All I dare hope is that if, in executing this task, I have been too much swayed by a grateful remembrance of former instances, or by an affectionate sensibility to this transcendent proof of the confidence of my fellow citizens, and have thence too little consulted my incapacity as well as disinclination for the weighty and untried cares before me, my error will be palliated by the motives which mislead me, and its consequences be judged by my country with some share of the partiality in which they originated.\\n\\nSuch being the impressions under which I have, in obedience to the public summons, repaired to the present station, it would be peculiarly improper to omit in this first official act my fervent supplications to that Almighty Being who rules over the universe, who presides in the councils of nations, and whose providential aids can supply every human defect, that His benediction may consecrate to the liberties and happiness of the people of the United States a Government instituted by themselves for these essential purposes, and may enable every instrument employed in its administration to execute with success the functions allotted to his charge. In tendering this homage to the Great Author of every public and private good, I assure myself that it expresses your sentiments not less than my own, nor those of my fellow citizens at large less than either. No people can be bound to acknowledge and adore the Invisible Hand which conducts the affairs of men more than those of the United States. Every step by which they have advanced to the character of an independent nation seems to have been distinguished by some token of providential agency; and in the important revolution just accomplished in the system of their united government the tranquil deliberations and voluntary consent of so many distinct communities from which the event has resulted can not be compared with the means by which most governments have been established without some return of pious gratitude, along with an humble anticipation of the future blessings which the past seem to presage. These reflections, arising out of the present crisis, have forced themselves too strongly on my mind to be suppressed. You will join with me, I trust, in thinking that there are none under the influence of which the proceedings of a new and free government can more auspiciously commence.\\n\\nBy the article establishing the executive department it is made the duty of the President \"to recommend to your consideration such measures as he shall judge necessary and expedient.\" The circumstances under which I now meet you will acquit me from entering into that subject further than to refer to the great constitutional charter under which you are assembled, and which, in defining your powers, designates the objects to which your attention is to be given. It will be more consistent with those circumstances, and far more congenial with the feelings which actuate me, to substitute, in place of a recommendation of particular measures, the tribute that is due to the talents, the rectitude, and the patriotism which adorn the characters selected to devise and adopt them. In these honorable qualifications I behold the surest pledges that as on one side no local prejudices or attachments, no separate views nor party animosities, will misdirect the comprehensive and equal eye which ought to watch over this great assemblage of communities and interests, so, on another, that the foundation of our national policy will be laid in the pure and immutable principles of private morality, and the preeminence of free government be exemplified by all the attributes which can win the affections of its citizens and command the respect of the world. I dwell on this prospect with every satisfaction which an ardent love for my country can inspire, since there is no truth more thoroughly established than that there exists in the economy and course of nature an indissoluble union between virtue and happiness; between duty and advantage; between the genuine maxims of an honest and magnanimous policy and the solid rewards of public prosperity and felicity; since we ought to be no less persuaded that the propitious smiles of Heaven can never be expected on a nation that disregards the eternal rules of order and right which Heaven itself has ordained; and since the preservation of the sacred fire of liberty and the destiny of the republican model of government are justly considered, perhaps, as deeply, as finally, staked on the experiment entrusted to the hands of the American people.\\n\\nBesides the ordinary objects submitted to your care, it will remain with your judgment to decide how far an exercise of the occasional power delegated by the fifth article of the Constitution is rendered expedient at the present juncture by the nature of objections which have been urged against the system, or by the degree of inquietude which has given birth to them. Instead of undertaking particular recommendations on this subject, in which I could be guided by no lights derived from official opportunities, I shall again give way to my entire confidence in your discernment and pursuit of the public good; for I assure myself that whilst you carefully avoid every alteration which might endanger the benefits of an united and effective government, or which ought to await the future lessons of experience, a reverence for the characteristic rights of freemen and a regard for the public harmony will sufficiently influence your deliberations on the question how far the former can be impregnably fortified or the latter be safely and advantageously promoted.\\n\\nTo the foregoing observations I have one to add, which will be most properly addressed to the House of Representatives. It concerns myself, and will therefore be as brief as possible. When I was first honored with a call into the service of my country, then on the eve of an arduous struggle for its liberties, the light in which I contemplated my duty required that I should renounce every pecuniary compensation. From this resolution I have in no instance departed; and being still under the impressions which produced it, I must decline as inapplicable to myself any share in the personal emoluments which may be indispensably included in a permanent provision for the executive department, and must accordingly pray that the pecuniary estimates for the station in which I am placed may during my continuance in it be limited to such actual expenditures as the public good may be thought to require.\\n\\nHaving thus imparted to you my sentiments as they have been awakened by the occasion which brings us together, I shall take my present leave; but not without resorting once more to the benign Parent of the Human Race in humble supplication that, since He has been pleased to favor the American people with opportunities for deliberating in perfect tranquillity, and dispositions for deciding with unparalleled unanimity on a form of government for the security of their union and the advancement of their happiness, so His divine blessing may be equally conspicuous in the enlarged views, the temperate consultations, and the wise measures on which the success of this Government must depend. \\n'"
     },
     "execution_count": 11,
     "metadata": {},
     "output_type": "execute_result"
    }
   ],
   "source": [
    "inaugural.raw(wash_first_id)"
   ],
   "metadata": {
    "collapsed": false,
    "ExecuteTime": {
     "end_time": "2024-02-13T22:59:06.612799Z",
     "start_time": "2024-02-13T22:59:06.438964Z"
    }
   }
  },
  {
   "cell_type": "code",
   "execution_count": 12,
   "outputs": [],
   "source": [
    "wash_1st= inaugural.raw(wash_first_id).replace('\\n','')\n",
    "wash_2nd= inaugural.raw(wash_sec_id).replace('\\n','')\n",
    "linc_1st= inaugural.raw(linc_first_id).replace('\\n','')\n",
    "linc_2nd= inaugural.raw(linc_sec_id).replace('\\n','')"
   ],
   "metadata": {
    "collapsed": false,
    "ExecuteTime": {
     "end_time": "2024-02-13T22:59:34.452923Z",
     "start_time": "2024-02-13T22:59:34.398480Z"
    }
   }
  },
  {
   "cell_type": "code",
   "execution_count": 15,
   "outputs": [
    {
     "data": {
      "text/plain": "'Fellow-Citizens of the Senate and of the House of Representatives:Among the vicissitudes incident to life no event could have filled me with greater anxieties than that of which the notification was transmitted by your order, and received on the 14th day of the present month. On the one hand, I was summoned by my Country, whose voice I can never hear but with veneration and love, from a retreat which I had chosen with the fondest predilection, and, in my flattering hopes, with an immutable decision, as the asylum of my declining years -- a retreat which was rendered every day more necessary as well as more dear to me by the addition of habit to inclination, and of frequent interruptions in my health to the gradual waste committed on it by time. On the other hand, the magnitude and difficulty of the trust to which the voice of my country called me, being sufficient to awaken in the wisest and most experienced of her citizens a distrustful scrutiny into his qualifications, could not but overwhelm with despondence one who (inheriting inferior endowments from nature and unpracticed in the duties of civil administration) ought to be peculiarly conscious of his own deficiencies. In this conflict of emotions all I dare aver is that it has been my faithful study to collect my duty from a just appreciation of every circumstance by which it might be affected. All I dare hope is that if, in executing this task, I have been too much swayed by a grateful remembrance of former instances, or by an affectionate sensibility to this transcendent proof of the confidence of my fellow citizens, and have thence too little consulted my incapacity as well as disinclination for the weighty and untried cares before me, my error will be palliated by the motives which mislead me, and its consequences be judged by my country with some share of the partiality in which they originated.Such being the impressions under which I have, in obedience to the public summons, repaired to the present station, it would be peculiarly improper to omit in this first official act my fervent supplications to that Almighty Being who rules over the universe, who presides in the councils of nations, and whose providential aids can supply every human defect, that His benediction may consecrate to the liberties and happiness of the people of the United States a Government instituted by themselves for these essential purposes, and may enable every instrument employed in its administration to execute with success the functions allotted to his charge. In tendering this homage to the Great Author of every public and private good, I assure myself that it expresses your sentiments not less than my own, nor those of my fellow citizens at large less than either. No people can be bound to acknowledge and adore the Invisible Hand which conducts the affairs of men more than those of the United States. Every step by which they have advanced to the character of an independent nation seems to have been distinguished by some token of providential agency; and in the important revolution just accomplished in the system of their united government the tranquil deliberations and voluntary consent of so many distinct communities from which the event has resulted can not be compared with the means by which most governments have been established without some return of pious gratitude, along with an humble anticipation of the future blessings which the past seem to presage. These reflections, arising out of the present crisis, have forced themselves too strongly on my mind to be suppressed. You will join with me, I trust, in thinking that there are none under the influence of which the proceedings of a new and free government can more auspiciously commence.By the article establishing the executive department it is made the duty of the President \"to recommend to your consideration such measures as he shall judge necessary and expedient.\" The circumstances under which I now meet you will acquit me from entering into that subject further than to refer to the great constitutional charter under which you are assembled, and which, in defining your powers, designates the objects to which your attention is to be given. It will be more consistent with those circumstances, and far more congenial with the feelings which actuate me, to substitute, in place of a recommendation of particular measures, the tribute that is due to the talents, the rectitude, and the patriotism which adorn the characters selected to devise and adopt them. In these honorable qualifications I behold the surest pledges that as on one side no local prejudices or attachments, no separate views nor party animosities, will misdirect the comprehensive and equal eye which ought to watch over this great assemblage of communities and interests, so, on another, that the foundation of our national policy will be laid in the pure and immutable principles of private morality, and the preeminence of free government be exemplified by all the attributes which can win the affections of its citizens and command the respect of the world. I dwell on this prospect with every satisfaction which an ardent love for my country can inspire, since there is no truth more thoroughly established than that there exists in the economy and course of nature an indissoluble union between virtue and happiness; between duty and advantage; between the genuine maxims of an honest and magnanimous policy and the solid rewards of public prosperity and felicity; since we ought to be no less persuaded that the propitious smiles of Heaven can never be expected on a nation that disregards the eternal rules of order and right which Heaven itself has ordained; and since the preservation of the sacred fire of liberty and the destiny of the republican model of government are justly considered, perhaps, as deeply, as finally, staked on the experiment entrusted to the hands of the American people.Besides the ordinary objects submitted to your care, it will remain with your judgment to decide how far an exercise of the occasional power delegated by the fifth article of the Constitution is rendered expedient at the present juncture by the nature of objections which have been urged against the system, or by the degree of inquietude which has given birth to them. Instead of undertaking particular recommendations on this subject, in which I could be guided by no lights derived from official opportunities, I shall again give way to my entire confidence in your discernment and pursuit of the public good; for I assure myself that whilst you carefully avoid every alteration which might endanger the benefits of an united and effective government, or which ought to await the future lessons of experience, a reverence for the characteristic rights of freemen and a regard for the public harmony will sufficiently influence your deliberations on the question how far the former can be impregnably fortified or the latter be safely and advantageously promoted.To the foregoing observations I have one to add, which will be most properly addressed to the House of Representatives. It concerns myself, and will therefore be as brief as possible. When I was first honored with a call into the service of my country, then on the eve of an arduous struggle for its liberties, the light in which I contemplated my duty required that I should renounce every pecuniary compensation. From this resolution I have in no instance departed; and being still under the impressions which produced it, I must decline as inapplicable to myself any share in the personal emoluments which may be indispensably included in a permanent provision for the executive department, and must accordingly pray that the pecuniary estimates for the station in which I am placed may during my continuance in it be limited to such actual expenditures as the public good may be thought to require.Having thus imparted to you my sentiments as they have been awakened by the occasion which brings us together, I shall take my present leave; but not without resorting once more to the benign Parent of the Human Race in humble supplication that, since He has been pleased to favor the American people with opportunities for deliberating in perfect tranquillity, and dispositions for deciding with unparalleled unanimity on a form of government for the security of their union and the advancement of their happiness, so His divine blessing may be equally conspicuous in the enlarged views, the temperate consultations, and the wise measures on which the success of this Government must depend. '"
     },
     "execution_count": 15,
     "metadata": {},
     "output_type": "execute_result"
    }
   ],
   "source": [
    "wash_1st"
   ],
   "metadata": {
    "collapsed": false,
    "ExecuteTime": {
     "end_time": "2024-02-13T23:00:35.381228Z",
     "start_time": "2024-02-13T23:00:35.260848Z"
    }
   }
  },
  {
   "cell_type": "markdown",
   "source": [
    "each address is saved as a string"
   ],
   "metadata": {
    "collapsed": false
   }
  },
  {
   "cell_type": "code",
   "execution_count": 13,
   "outputs": [],
   "source": [
    "from useful_NLP_functions import cleanWordTokedSentences\n",
    "import gensim\n",
    "from gensim.models import Word2Vec"
   ],
   "metadata": {
    "collapsed": false,
    "ExecuteTime": {
     "end_time": "2024-02-13T22:59:45.426718Z",
     "start_time": "2024-02-13T22:59:41.491147Z"
    }
   }
  },
  {
   "cell_type": "code",
   "execution_count": 14,
   "outputs": [],
   "source": [
    "data=[]\n",
    "for i in sent_tokenize(wash_1st):\n",
    "    temp=[]\n",
    "    for j in word_tokenize(i):\n",
    "        temp.append(j.lower())\n",
    "    data.append(temp)"
   ],
   "metadata": {
    "collapsed": false,
    "ExecuteTime": {
     "end_time": "2024-02-13T22:59:53.420297Z",
     "start_time": "2024-02-13T22:59:53.182697Z"
    }
   }
  },
  {
   "cell_type": "code",
   "execution_count": 66,
   "outputs": [
    {
     "data": {
      "text/plain": "[['fellow-citizens',\n  'of',\n  'the',\n  'senate',\n  'and',\n  'of',\n  'the',\n  'house',\n  'of',\n  'representatives',\n  ':',\n  'among',\n  'the',\n  'vicissitudes',\n  'incident',\n  'to',\n  'life',\n  'no',\n  'event',\n  'could',\n  'have',\n  'filled',\n  'me',\n  'with',\n  'greater',\n  'anxieties',\n  'than',\n  'that',\n  'of',\n  'which',\n  'the',\n  'notification',\n  'was',\n  'transmitted',\n  'by',\n  'your',\n  'order',\n  ',',\n  'and',\n  'received',\n  'on',\n  'the',\n  '14th',\n  'day',\n  'of',\n  'the',\n  'present',\n  'month',\n  '.'],\n ['on',\n  'the',\n  'one',\n  'hand',\n  ',',\n  'i',\n  'was',\n  'summoned',\n  'by',\n  'my',\n  'country',\n  ',',\n  'whose',\n  'voice',\n  'i',\n  'can',\n  'never',\n  'hear',\n  'but',\n  'with',\n  'veneration',\n  'and',\n  'love',\n  ',',\n  'from',\n  'a',\n  'retreat',\n  'which',\n  'i',\n  'had',\n  'chosen',\n  'with',\n  'the',\n  'fondest',\n  'predilection',\n  ',',\n  'and',\n  ',',\n  'in',\n  'my',\n  'flattering',\n  'hopes',\n  ',',\n  'with',\n  'an',\n  'immutable',\n  'decision',\n  ',',\n  'as',\n  'the',\n  'asylum',\n  'of',\n  'my',\n  'declining',\n  'years',\n  '--',\n  'a',\n  'retreat',\n  'which',\n  'was',\n  'rendered',\n  'every',\n  'day',\n  'more',\n  'necessary',\n  'as',\n  'well',\n  'as',\n  'more',\n  'dear',\n  'to',\n  'me',\n  'by',\n  'the',\n  'addition',\n  'of',\n  'habit',\n  'to',\n  'inclination',\n  ',',\n  'and',\n  'of',\n  'frequent',\n  'interruptions',\n  'in',\n  'my',\n  'health',\n  'to',\n  'the',\n  'gradual',\n  'waste',\n  'committed',\n  'on',\n  'it',\n  'by',\n  'time',\n  '.'],\n ['on',\n  'the',\n  'other',\n  'hand',\n  ',',\n  'the',\n  'magnitude',\n  'and',\n  'difficulty',\n  'of',\n  'the',\n  'trust',\n  'to',\n  'which',\n  'the',\n  'voice',\n  'of',\n  'my',\n  'country',\n  'called',\n  'me',\n  ',',\n  'being',\n  'sufficient',\n  'to',\n  'awaken',\n  'in',\n  'the',\n  'wisest',\n  'and',\n  'most',\n  'experienced',\n  'of',\n  'her',\n  'citizens',\n  'a',\n  'distrustful',\n  'scrutiny',\n  'into',\n  'his',\n  'qualifications',\n  ',',\n  'could',\n  'not',\n  'but',\n  'overwhelm',\n  'with',\n  'despondence',\n  'one',\n  'who',\n  '(',\n  'inheriting',\n  'inferior',\n  'endowments',\n  'from',\n  'nature',\n  'and',\n  'unpracticed',\n  'in',\n  'the',\n  'duties',\n  'of',\n  'civil',\n  'administration',\n  ')',\n  'ought',\n  'to',\n  'be',\n  'peculiarly',\n  'conscious',\n  'of',\n  'his',\n  'own',\n  'deficiencies',\n  '.'],\n ['in',\n  'this',\n  'conflict',\n  'of',\n  'emotions',\n  'all',\n  'i',\n  'dare',\n  'aver',\n  'is',\n  'that',\n  'it',\n  'has',\n  'been',\n  'my',\n  'faithful',\n  'study',\n  'to',\n  'collect',\n  'my',\n  'duty',\n  'from',\n  'a',\n  'just',\n  'appreciation',\n  'of',\n  'every',\n  'circumstance',\n  'by',\n  'which',\n  'it',\n  'might',\n  'be',\n  'affected',\n  '.'],\n ['all',\n  'i',\n  'dare',\n  'hope',\n  'is',\n  'that',\n  'if',\n  ',',\n  'in',\n  'executing',\n  'this',\n  'task',\n  ',',\n  'i',\n  'have',\n  'been',\n  'too',\n  'much',\n  'swayed',\n  'by',\n  'a',\n  'grateful',\n  'remembrance',\n  'of',\n  'former',\n  'instances',\n  ',',\n  'or',\n  'by',\n  'an',\n  'affectionate',\n  'sensibility',\n  'to',\n  'this',\n  'transcendent',\n  'proof',\n  'of',\n  'the',\n  'confidence',\n  'of',\n  'my',\n  'fellow',\n  'citizens',\n  ',',\n  'and',\n  'have',\n  'thence',\n  'too',\n  'little',\n  'consulted',\n  'my',\n  'incapacity',\n  'as',\n  'well',\n  'as',\n  'disinclination',\n  'for',\n  'the',\n  'weighty',\n  'and',\n  'untried',\n  'cares',\n  'before',\n  'me',\n  ',',\n  'my',\n  'error',\n  'will',\n  'be',\n  'palliated',\n  'by',\n  'the',\n  'motives',\n  'which',\n  'mislead',\n  'me',\n  ',',\n  'and',\n  'its',\n  'consequences',\n  'be',\n  'judged',\n  'by',\n  'my',\n  'country',\n  'with',\n  'some',\n  'share',\n  'of',\n  'the',\n  'partiality',\n  'in',\n  'which',\n  'they',\n  'originated.such',\n  'being',\n  'the',\n  'impressions',\n  'under',\n  'which',\n  'i',\n  'have',\n  ',',\n  'in',\n  'obedience',\n  'to',\n  'the',\n  'public',\n  'summons',\n  ',',\n  'repaired',\n  'to',\n  'the',\n  'present',\n  'station',\n  ',',\n  'it',\n  'would',\n  'be',\n  'peculiarly',\n  'improper',\n  'to',\n  'omit',\n  'in',\n  'this',\n  'first',\n  'official',\n  'act',\n  'my',\n  'fervent',\n  'supplications',\n  'to',\n  'that',\n  'almighty',\n  'being',\n  'who',\n  'rules',\n  'over',\n  'the',\n  'universe',\n  ',',\n  'who',\n  'presides',\n  'in',\n  'the',\n  'councils',\n  'of',\n  'nations',\n  ',',\n  'and',\n  'whose',\n  'providential',\n  'aids',\n  'can',\n  'supply',\n  'every',\n  'human',\n  'defect',\n  ',',\n  'that',\n  'his',\n  'benediction',\n  'may',\n  'consecrate',\n  'to',\n  'the',\n  'liberties',\n  'and',\n  'happiness',\n  'of',\n  'the',\n  'people',\n  'of',\n  'the',\n  'united',\n  'states',\n  'a',\n  'government',\n  'instituted',\n  'by',\n  'themselves',\n  'for',\n  'these',\n  'essential',\n  'purposes',\n  ',',\n  'and',\n  'may',\n  'enable',\n  'every',\n  'instrument',\n  'employed',\n  'in',\n  'its',\n  'administration',\n  'to',\n  'execute',\n  'with',\n  'success',\n  'the',\n  'functions',\n  'allotted',\n  'to',\n  'his',\n  'charge',\n  '.'],\n ['in',\n  'tendering',\n  'this',\n  'homage',\n  'to',\n  'the',\n  'great',\n  'author',\n  'of',\n  'every',\n  'public',\n  'and',\n  'private',\n  'good',\n  ',',\n  'i',\n  'assure',\n  'myself',\n  'that',\n  'it',\n  'expresses',\n  'your',\n  'sentiments',\n  'not',\n  'less',\n  'than',\n  'my',\n  'own',\n  ',',\n  'nor',\n  'those',\n  'of',\n  'my',\n  'fellow',\n  'citizens',\n  'at',\n  'large',\n  'less',\n  'than',\n  'either',\n  '.'],\n ['no',\n  'people',\n  'can',\n  'be',\n  'bound',\n  'to',\n  'acknowledge',\n  'and',\n  'adore',\n  'the',\n  'invisible',\n  'hand',\n  'which',\n  'conducts',\n  'the',\n  'affairs',\n  'of',\n  'men',\n  'more',\n  'than',\n  'those',\n  'of',\n  'the',\n  'united',\n  'states',\n  '.'],\n ['every',\n  'step',\n  'by',\n  'which',\n  'they',\n  'have',\n  'advanced',\n  'to',\n  'the',\n  'character',\n  'of',\n  'an',\n  'independent',\n  'nation',\n  'seems',\n  'to',\n  'have',\n  'been',\n  'distinguished',\n  'by',\n  'some',\n  'token',\n  'of',\n  'providential',\n  'agency',\n  ';',\n  'and',\n  'in',\n  'the',\n  'important',\n  'revolution',\n  'just',\n  'accomplished',\n  'in',\n  'the',\n  'system',\n  'of',\n  'their',\n  'united',\n  'government',\n  'the',\n  'tranquil',\n  'deliberations',\n  'and',\n  'voluntary',\n  'consent',\n  'of',\n  'so',\n  'many',\n  'distinct',\n  'communities',\n  'from',\n  'which',\n  'the',\n  'event',\n  'has',\n  'resulted',\n  'can',\n  'not',\n  'be',\n  'compared',\n  'with',\n  'the',\n  'means',\n  'by',\n  'which',\n  'most',\n  'governments',\n  'have',\n  'been',\n  'established',\n  'without',\n  'some',\n  'return',\n  'of',\n  'pious',\n  'gratitude',\n  ',',\n  'along',\n  'with',\n  'an',\n  'humble',\n  'anticipation',\n  'of',\n  'the',\n  'future',\n  'blessings',\n  'which',\n  'the',\n  'past',\n  'seem',\n  'to',\n  'presage',\n  '.'],\n ['these',\n  'reflections',\n  ',',\n  'arising',\n  'out',\n  'of',\n  'the',\n  'present',\n  'crisis',\n  ',',\n  'have',\n  'forced',\n  'themselves',\n  'too',\n  'strongly',\n  'on',\n  'my',\n  'mind',\n  'to',\n  'be',\n  'suppressed',\n  '.'],\n ['you',\n  'will',\n  'join',\n  'with',\n  'me',\n  ',',\n  'i',\n  'trust',\n  ',',\n  'in',\n  'thinking',\n  'that',\n  'there',\n  'are',\n  'none',\n  'under',\n  'the',\n  'influence',\n  'of',\n  'which',\n  'the',\n  'proceedings',\n  'of',\n  'a',\n  'new',\n  'and',\n  'free',\n  'government',\n  'can',\n  'more',\n  'auspiciously',\n  'commence.by',\n  'the',\n  'article',\n  'establishing',\n  'the',\n  'executive',\n  'department',\n  'it',\n  'is',\n  'made',\n  'the',\n  'duty',\n  'of',\n  'the',\n  'president',\n  '``',\n  'to',\n  'recommend',\n  'to',\n  'your',\n  'consideration',\n  'such',\n  'measures',\n  'as',\n  'he',\n  'shall',\n  'judge',\n  'necessary',\n  'and',\n  'expedient',\n  '.',\n  \"''\"],\n ['the',\n  'circumstances',\n  'under',\n  'which',\n  'i',\n  'now',\n  'meet',\n  'you',\n  'will',\n  'acquit',\n  'me',\n  'from',\n  'entering',\n  'into',\n  'that',\n  'subject',\n  'further',\n  'than',\n  'to',\n  'refer',\n  'to',\n  'the',\n  'great',\n  'constitutional',\n  'charter',\n  'under',\n  'which',\n  'you',\n  'are',\n  'assembled',\n  ',',\n  'and',\n  'which',\n  ',',\n  'in',\n  'defining',\n  'your',\n  'powers',\n  ',',\n  'designates',\n  'the',\n  'objects',\n  'to',\n  'which',\n  'your',\n  'attention',\n  'is',\n  'to',\n  'be',\n  'given',\n  '.'],\n ['it',\n  'will',\n  'be',\n  'more',\n  'consistent',\n  'with',\n  'those',\n  'circumstances',\n  ',',\n  'and',\n  'far',\n  'more',\n  'congenial',\n  'with',\n  'the',\n  'feelings',\n  'which',\n  'actuate',\n  'me',\n  ',',\n  'to',\n  'substitute',\n  ',',\n  'in',\n  'place',\n  'of',\n  'a',\n  'recommendation',\n  'of',\n  'particular',\n  'measures',\n  ',',\n  'the',\n  'tribute',\n  'that',\n  'is',\n  'due',\n  'to',\n  'the',\n  'talents',\n  ',',\n  'the',\n  'rectitude',\n  ',',\n  'and',\n  'the',\n  'patriotism',\n  'which',\n  'adorn',\n  'the',\n  'characters',\n  'selected',\n  'to',\n  'devise',\n  'and',\n  'adopt',\n  'them',\n  '.'],\n ['in',\n  'these',\n  'honorable',\n  'qualifications',\n  'i',\n  'behold',\n  'the',\n  'surest',\n  'pledges',\n  'that',\n  'as',\n  'on',\n  'one',\n  'side',\n  'no',\n  'local',\n  'prejudices',\n  'or',\n  'attachments',\n  ',',\n  'no',\n  'separate',\n  'views',\n  'nor',\n  'party',\n  'animosities',\n  ',',\n  'will',\n  'misdirect',\n  'the',\n  'comprehensive',\n  'and',\n  'equal',\n  'eye',\n  'which',\n  'ought',\n  'to',\n  'watch',\n  'over',\n  'this',\n  'great',\n  'assemblage',\n  'of',\n  'communities',\n  'and',\n  'interests',\n  ',',\n  'so',\n  ',',\n  'on',\n  'another',\n  ',',\n  'that',\n  'the',\n  'foundation',\n  'of',\n  'our',\n  'national',\n  'policy',\n  'will',\n  'be',\n  'laid',\n  'in',\n  'the',\n  'pure',\n  'and',\n  'immutable',\n  'principles',\n  'of',\n  'private',\n  'morality',\n  ',',\n  'and',\n  'the',\n  'preeminence',\n  'of',\n  'free',\n  'government',\n  'be',\n  'exemplified',\n  'by',\n  'all',\n  'the',\n  'attributes',\n  'which',\n  'can',\n  'win',\n  'the',\n  'affections',\n  'of',\n  'its',\n  'citizens',\n  'and',\n  'command',\n  'the',\n  'respect',\n  'of',\n  'the',\n  'world',\n  '.'],\n ['i',\n  'dwell',\n  'on',\n  'this',\n  'prospect',\n  'with',\n  'every',\n  'satisfaction',\n  'which',\n  'an',\n  'ardent',\n  'love',\n  'for',\n  'my',\n  'country',\n  'can',\n  'inspire',\n  ',',\n  'since',\n  'there',\n  'is',\n  'no',\n  'truth',\n  'more',\n  'thoroughly',\n  'established',\n  'than',\n  'that',\n  'there',\n  'exists',\n  'in',\n  'the',\n  'economy',\n  'and',\n  'course',\n  'of',\n  'nature',\n  'an',\n  'indissoluble',\n  'union',\n  'between',\n  'virtue',\n  'and',\n  'happiness',\n  ';',\n  'between',\n  'duty',\n  'and',\n  'advantage',\n  ';',\n  'between',\n  'the',\n  'genuine',\n  'maxims',\n  'of',\n  'an',\n  'honest',\n  'and',\n  'magnanimous',\n  'policy',\n  'and',\n  'the',\n  'solid',\n  'rewards',\n  'of',\n  'public',\n  'prosperity',\n  'and',\n  'felicity',\n  ';',\n  'since',\n  'we',\n  'ought',\n  'to',\n  'be',\n  'no',\n  'less',\n  'persuaded',\n  'that',\n  'the',\n  'propitious',\n  'smiles',\n  'of',\n  'heaven',\n  'can',\n  'never',\n  'be',\n  'expected',\n  'on',\n  'a',\n  'nation',\n  'that',\n  'disregards',\n  'the',\n  'eternal',\n  'rules',\n  'of',\n  'order',\n  'and',\n  'right',\n  'which',\n  'heaven',\n  'itself',\n  'has',\n  'ordained',\n  ';',\n  'and',\n  'since',\n  'the',\n  'preservation',\n  'of',\n  'the',\n  'sacred',\n  'fire',\n  'of',\n  'liberty',\n  'and',\n  'the',\n  'destiny',\n  'of',\n  'the',\n  'republican',\n  'model',\n  'of',\n  'government',\n  'are',\n  'justly',\n  'considered',\n  ',',\n  'perhaps',\n  ',',\n  'as',\n  'deeply',\n  ',',\n  'as',\n  'finally',\n  ',',\n  'staked',\n  'on',\n  'the',\n  'experiment',\n  'entrusted',\n  'to',\n  'the',\n  'hands',\n  'of',\n  'the',\n  'american',\n  'people.besides',\n  'the',\n  'ordinary',\n  'objects',\n  'submitted',\n  'to',\n  'your',\n  'care',\n  ',',\n  'it',\n  'will',\n  'remain',\n  'with',\n  'your',\n  'judgment',\n  'to',\n  'decide',\n  'how',\n  'far',\n  'an',\n  'exercise',\n  'of',\n  'the',\n  'occasional',\n  'power',\n  'delegated',\n  'by',\n  'the',\n  'fifth',\n  'article',\n  'of',\n  'the',\n  'constitution',\n  'is',\n  'rendered',\n  'expedient',\n  'at',\n  'the',\n  'present',\n  'juncture',\n  'by',\n  'the',\n  'nature',\n  'of',\n  'objections',\n  'which',\n  'have',\n  'been',\n  'urged',\n  'against',\n  'the',\n  'system',\n  ',',\n  'or',\n  'by',\n  'the',\n  'degree',\n  'of',\n  'inquietude',\n  'which',\n  'has',\n  'given',\n  'birth',\n  'to',\n  'them',\n  '.'],\n ['instead',\n  'of',\n  'undertaking',\n  'particular',\n  'recommendations',\n  'on',\n  'this',\n  'subject',\n  ',',\n  'in',\n  'which',\n  'i',\n  'could',\n  'be',\n  'guided',\n  'by',\n  'no',\n  'lights',\n  'derived',\n  'from',\n  'official',\n  'opportunities',\n  ',',\n  'i',\n  'shall',\n  'again',\n  'give',\n  'way',\n  'to',\n  'my',\n  'entire',\n  'confidence',\n  'in',\n  'your',\n  'discernment',\n  'and',\n  'pursuit',\n  'of',\n  'the',\n  'public',\n  'good',\n  ';',\n  'for',\n  'i',\n  'assure',\n  'myself',\n  'that',\n  'whilst',\n  'you',\n  'carefully',\n  'avoid',\n  'every',\n  'alteration',\n  'which',\n  'might',\n  'endanger',\n  'the',\n  'benefits',\n  'of',\n  'an',\n  'united',\n  'and',\n  'effective',\n  'government',\n  ',',\n  'or',\n  'which',\n  'ought',\n  'to',\n  'await',\n  'the',\n  'future',\n  'lessons',\n  'of',\n  'experience',\n  ',',\n  'a',\n  'reverence',\n  'for',\n  'the',\n  'characteristic',\n  'rights',\n  'of',\n  'freemen',\n  'and',\n  'a',\n  'regard',\n  'for',\n  'the',\n  'public',\n  'harmony',\n  'will',\n  'sufficiently',\n  'influence',\n  'your',\n  'deliberations',\n  'on',\n  'the',\n  'question',\n  'how',\n  'far',\n  'the',\n  'former',\n  'can',\n  'be',\n  'impregnably',\n  'fortified',\n  'or',\n  'the',\n  'latter',\n  'be',\n  'safely',\n  'and',\n  'advantageously',\n  'promoted.to',\n  'the',\n  'foregoing',\n  'observations',\n  'i',\n  'have',\n  'one',\n  'to',\n  'add',\n  ',',\n  'which',\n  'will',\n  'be',\n  'most',\n  'properly',\n  'addressed',\n  'to',\n  'the',\n  'house',\n  'of',\n  'representatives',\n  '.'],\n ['it',\n  'concerns',\n  'myself',\n  ',',\n  'and',\n  'will',\n  'therefore',\n  'be',\n  'as',\n  'brief',\n  'as',\n  'possible',\n  '.'],\n ['when',\n  'i',\n  'was',\n  'first',\n  'honored',\n  'with',\n  'a',\n  'call',\n  'into',\n  'the',\n  'service',\n  'of',\n  'my',\n  'country',\n  ',',\n  'then',\n  'on',\n  'the',\n  'eve',\n  'of',\n  'an',\n  'arduous',\n  'struggle',\n  'for',\n  'its',\n  'liberties',\n  ',',\n  'the',\n  'light',\n  'in',\n  'which',\n  'i',\n  'contemplated',\n  'my',\n  'duty',\n  'required',\n  'that',\n  'i',\n  'should',\n  'renounce',\n  'every',\n  'pecuniary',\n  'compensation',\n  '.'],\n ['from',\n  'this',\n  'resolution',\n  'i',\n  'have',\n  'in',\n  'no',\n  'instance',\n  'departed',\n  ';',\n  'and',\n  'being',\n  'still',\n  'under',\n  'the',\n  'impressions',\n  'which',\n  'produced',\n  'it',\n  ',',\n  'i',\n  'must',\n  'decline',\n  'as',\n  'inapplicable',\n  'to',\n  'myself',\n  'any',\n  'share',\n  'in',\n  'the',\n  'personal',\n  'emoluments',\n  'which',\n  'may',\n  'be',\n  'indispensably',\n  'included',\n  'in',\n  'a',\n  'permanent',\n  'provision',\n  'for',\n  'the',\n  'executive',\n  'department',\n  ',',\n  'and',\n  'must',\n  'accordingly',\n  'pray',\n  'that',\n  'the',\n  'pecuniary',\n  'estimates',\n  'for',\n  'the',\n  'station',\n  'in',\n  'which',\n  'i',\n  'am',\n  'placed',\n  'may',\n  'during',\n  'my',\n  'continuance',\n  'in',\n  'it',\n  'be',\n  'limited',\n  'to',\n  'such',\n  'actual',\n  'expenditures',\n  'as',\n  'the',\n  'public',\n  'good',\n  'may',\n  'be',\n  'thought',\n  'to',\n  'require.having',\n  'thus',\n  'imparted',\n  'to',\n  'you',\n  'my',\n  'sentiments',\n  'as',\n  'they',\n  'have',\n  'been',\n  'awakened',\n  'by',\n  'the',\n  'occasion',\n  'which',\n  'brings',\n  'us',\n  'together',\n  ',',\n  'i',\n  'shall',\n  'take',\n  'my',\n  'present',\n  'leave',\n  ';',\n  'but',\n  'not',\n  'without',\n  'resorting',\n  'once',\n  'more',\n  'to',\n  'the',\n  'benign',\n  'parent',\n  'of',\n  'the',\n  'human',\n  'race',\n  'in',\n  'humble',\n  'supplication',\n  'that',\n  ',',\n  'since',\n  'he',\n  'has',\n  'been',\n  'pleased',\n  'to',\n  'favor',\n  'the',\n  'american',\n  'people',\n  'with',\n  'opportunities',\n  'for',\n  'deliberating',\n  'in',\n  'perfect',\n  'tranquillity',\n  ',',\n  'and',\n  'dispositions',\n  'for',\n  'deciding',\n  'with',\n  'unparalleled',\n  'unanimity',\n  'on',\n  'a',\n  'form',\n  'of',\n  'government',\n  'for',\n  'the',\n  'security',\n  'of',\n  'their',\n  'union',\n  'and',\n  'the',\n  'advancement',\n  'of',\n  'their',\n  'happiness',\n  ',',\n  'so',\n  'his',\n  'divine',\n  'blessing',\n  'may',\n  'be',\n  'equally',\n  'conspicuous',\n  'in',\n  'the',\n  'enlarged',\n  'views',\n  ',',\n  'the',\n  'temperate',\n  'consultations',\n  ',',\n  'and',\n  'the',\n  'wise',\n  'measures',\n  'on',\n  'which',\n  'the',\n  'success',\n  'of',\n  'this',\n  'government',\n  'must',\n  'depend',\n  '.']]"
     },
     "execution_count": 66,
     "metadata": {},
     "output_type": "execute_result"
    }
   ],
   "source": [
    "data"
   ],
   "metadata": {
    "collapsed": false,
    "ExecuteTime": {
     "end_time": "2024-02-13T00:00:42.781899Z",
     "start_time": "2024-02-13T00:00:42.704783Z"
    }
   }
  },
  {
   "cell_type": "code",
   "execution_count": 16,
   "outputs": [],
   "source": [
    "model1 = gensim.models.Word2Vec(data, min_count=1,\n",
    "                                vector_size=100, window=5)"
   ],
   "metadata": {
    "collapsed": false,
    "ExecuteTime": {
     "end_time": "2024-02-13T23:01:09.115598Z",
     "start_time": "2024-02-13T23:01:08.868466Z"
    }
   }
  },
  {
   "cell_type": "code",
   "execution_count": 17,
   "outputs": [
    {
     "data": {
      "text/plain": "0.050158806"
     },
     "execution_count": 17,
     "metadata": {},
     "output_type": "execute_result"
    }
   ],
   "source": [
    "model1.wv.similarity('wise','government')"
   ],
   "metadata": {
    "collapsed": false,
    "ExecuteTime": {
     "end_time": "2024-02-13T23:01:13.599539Z",
     "start_time": "2024-02-13T23:01:13.541614Z"
    }
   }
  },
  {
   "cell_type": "code",
   "execution_count": 68,
   "outputs": [],
   "source": [
    "model2= gensim.models.Word2Vec(data, min_count=1, vector_size=100, window=5,sg=1)"
   ],
   "metadata": {
    "collapsed": false,
    "ExecuteTime": {
     "end_time": "2024-02-13T00:05:01.414976Z",
     "start_time": "2024-02-13T00:05:01.215426Z"
    }
   }
  },
  {
   "cell_type": "code",
   "execution_count": 69,
   "outputs": [
    {
     "data": {
      "text/plain": "0.44384158"
     },
     "execution_count": 69,
     "metadata": {},
     "output_type": "execute_result"
    }
   ],
   "source": [
    "model2.wv.similarity('wise','government')"
   ],
   "metadata": {
    "collapsed": false,
    "ExecuteTime": {
     "end_time": "2024-02-13T00:05:26.940329Z",
     "start_time": "2024-02-13T00:05:26.921495Z"
    }
   }
  }
 ],
 "metadata": {
  "kernelspec": {
   "display_name": "Python 3",
   "language": "python",
   "name": "python3"
  },
  "language_info": {
   "codemirror_mode": {
    "name": "ipython",
    "version": 2
   },
   "file_extension": ".py",
   "mimetype": "text/x-python",
   "name": "python",
   "nbconvert_exporter": "python",
   "pygments_lexer": "ipython2",
   "version": "2.7.6"
  }
 },
 "nbformat": 4,
 "nbformat_minor": 0
}
